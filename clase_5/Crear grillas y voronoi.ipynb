{
 "cells": [
  {
   "cell_type": "markdown",
   "metadata": {},
   "source": [
    "# Crear unidades espaciales para agregar datos de puntos\n",
    "\n",
    "En este notebook podemos ver como crear unidades espaciales ad-hoc para agregar puntos cuando no contemos con unidades existentes (radios censales, departamentos, barrios, etc). Veremos grillas uniformes que dividen el espacio de analisis en celdas de determinado tamaño y [poligonos voronoi](https://es.wikipedia.org/wiki/Pol%C3%ADgonos_de_Thiessen) que dividen el espacio de acuerdo a la distribución de los datos existentes (en forma de puntos) "
   ]
  },
  {
   "cell_type": "markdown",
   "metadata": {},
   "source": [
    "## Grillas"
   ]
  },
  {
   "cell_type": "code",
   "execution_count": 1,
   "metadata": {},
   "outputs": [],
   "source": [
    "import geopandas as gpd\n",
    "from shapely.geometry import Point,Polygon,LineString\n",
    "import numpy as np\n",
    "import matplotlib.pyplot as plt\n",
    "%matplotlib inline"
   ]
  },
  {
   "cell_type": "code",
   "execution_count": 2,
   "metadata": {},
   "outputs": [
    {
     "data": {
      "text/plain": [
       "<matplotlib.axes._subplots.AxesSubplot at 0x7f5da03ffd30>"
      ]
     },
     "execution_count": 2,
     "metadata": {},
     "output_type": "execute_result"
    },
    {
     "data": {
      "image/png": "[encoded data removed]",
      "text/plain": [
       "<Figure size 432x288 with 1 Axes>"
      ]
     },
     "metadata": {
      "needs_background": "light"
     },
     "output_type": "display_data"
    }
   ],
   "source": [
    "#creamos los puntos\n",
    "puntos = gpd.GeoDataFrame(geometry = [Point(4.5,4.5),Point(4.3,4.4),Point(0.5,0.5),Point(2,3),\n",
    "                                     Point(3,3)],crs = {'init':'epsg:3857'})\n",
    "puntos.plot()"
   ]
  },
  {
   "cell_type": "code",
   "execution_count": 3,
   "metadata": {},
   "outputs": [],
   "source": [
    "#creamos un espacio de analisis apartir del rango del espacio donde se encuentran nuestros puntos\n",
    "xmin,ymin,xmax,ymax = puntos.total_bounds"
   ]
  },
  {
   "cell_type": "code",
   "execution_count": 4,
   "metadata": {},
   "outputs": [
    {
     "data": {
      "text/plain": [
       "4"
      ]
     },
     "execution_count": 4,
     "metadata": {},
     "output_type": "execute_result"
    }
   ],
   "source": [
    "#establecemos un ancho y un alto de nuestras celdas y en base a eso construimos \n",
    "#la cantidad de filas y columnas que vamos a tener en nuestro espacio de analisis\n",
    "\n",
    "ancho_celda = 1\n",
    "alto_celda = 1\n",
    "filas = int(np.ceil((ymax-ymin) /  alto_celda))\n",
    "columnas = int(np.ceil((xmax-xmin) / ancho_celda))\n",
    "filas"
   ]
  },
  {
   "cell_type": "code",
   "execution_count": 5,
   "metadata": {},
   "outputs": [
    {
     "name": "stdout",
     "output_type": "stream",
     "text": [
      "Xleftorigin 0.5\n",
      "Xrightorigin 1.5\n",
      "YtopOrigin 4.5\n",
      "YbottomOrigin 3.5\n"
     ]
    }
   ],
   "source": [
    "#iniciamos las coordenadas de los vertices (puntos) de la primer celda \n",
    "#(que va a esatr ubicada arriba a la izquierda del espacio de analisis)\n",
    "XleftOrigin = xmin\n",
    "XrightOrigin = xmin + ancho_celda\n",
    "YtopOrigin = ymax\n",
    "YbottomOrigin = ymax - alto_celda\n",
    "print('Xleftorigin',XleftOrigin)\n",
    "print('Xrightorigin',XrightOrigin)\n",
    "print('YtopOrigin',YtopOrigin)\n",
    "print('YbottomOrigin',YbottomOrigin)"
   ]
  },
  {
   "cell_type": "code",
   "execution_count": 18,
   "metadata": {},
   "outputs": [],
   "source": [
    "#creamos una lista vacia donde vamos a ir agregando los poligonos creados\n",
    "polygons = []\n",
    "#primero recorremos todas las columnas\n",
    "for i in range(columnas):\n",
    "    Ytop = YtopOrigin\n",
    "    Ybottom =YbottomOrigin\n",
    "    #dentro de cada columna recorremos cada fila\n",
    "    for j in range(filas):\n",
    "        #greamos un poligono a partir de las coordenadas de puntos de los vertices\n",
    "        polygons.append(Polygon([(XleftOrigin, Ytop), (XrightOrigin, Ytop), (XrightOrigin, Ybottom), (XleftOrigin, Ybottom)])) \n",
    "        #actualizamos las coordenadas de puntos\n",
    "        Ytop = Ytop - alto_celda\n",
    "        Ybottom = Ybottom - alto_celda\n",
    "    XleftOrigin = XleftOrigin + ancho_celda\n",
    "    XrightOrigin = XrightOrigin + ancho_celda\n",
    "\n",
    "#creamos un geodataframe con los poligonos\n",
    "grilla = gpd.GeoDataFrame({'geometry':polygons},crs = {'init':'epsg:3857'})\n",
    "#guaardamos la grilla\n",
    "grilla.to_file(\"../carto/grid.shp\")"
   ]
  },
  {
   "cell_type": "code",
   "execution_count": 7,
   "metadata": {},
   "outputs": [
    {
     "data": {
      "image/png": "[encoded data removed]",
      "text/plain": [
       "<Figure size 576x576 with 1 Axes>"
      ]
     },
     "metadata": {
      "needs_background": "light"
     },
     "output_type": "display_data"
    }
   ],
   "source": [
    "f,ax=plt.subplots(1,figsize=(8,8))\n",
    "grilla.plot(ax=ax,facecolor='whitesmoke',edgecolor = 'black',linewidth = 4)\n",
    "puntos.plot(ax=ax)\n",
    "for i,geom in enumerate(grilla.geometry):\n",
    "    ax.annotate(grilla.index[i],xy=(geom.centroid.x,geom.centroid.y))"
   ]
  },
  {
   "cell_type": "code",
   "execution_count": 8,
   "metadata": {},
   "outputs": [
    {
     "data": {
      "text/html": [
       "<div>\n",
       "<style scoped>\n",
       "    .dataframe tbody tr th:only-of-type {\n",
       "        vertical-align: middle;\n",
       "    }\n",
       "\n",
       "    .dataframe tbody tr th {\n",
       "        vertical-align: top;\n",
       "    }\n",
       "\n",
       "    .dataframe thead th {\n",
       "        text-align: right;\n",
       "    }\n",
       "</style>\n",
       "<table border=\"1\" class=\"dataframe\">\n",
       "  <thead>\n",
       "    <tr style=\"text-align: right;\">\n",
       "      <th></th>\n",
       "      <th>geometry</th>\n",
       "      <th>index_right</th>\n",
       "    </tr>\n",
       "  </thead>\n",
       "  <tbody>\n",
       "    <tr>\n",
       "      <th>0</th>\n",
       "      <td>POINT (4.50000 4.50000)</td>\n",
       "      <td>12</td>\n",
       "    </tr>\n",
       "    <tr>\n",
       "      <th>1</th>\n",
       "      <td>POINT (4.30000 4.40000)</td>\n",
       "      <td>12</td>\n",
       "    </tr>\n",
       "    <tr>\n",
       "      <th>2</th>\n",
       "      <td>POINT (0.50000 0.50000)</td>\n",
       "      <td>3</td>\n",
       "    </tr>\n",
       "    <tr>\n",
       "      <th>3</th>\n",
       "      <td>POINT (2.00000 3.00000)</td>\n",
       "      <td>5</td>\n",
       "    </tr>\n",
       "    <tr>\n",
       "      <th>4</th>\n",
       "      <td>POINT (3.00000 3.00000)</td>\n",
       "      <td>9</td>\n",
       "    </tr>\n",
       "  </tbody>\n",
       "</table>\n",
       "</div>"
      ],
      "text/plain": [
       "                  geometry  index_right\n",
       "0  POINT (4.50000 4.50000)           12\n",
       "1  POINT (4.30000 4.40000)           12\n",
       "2  POINT (0.50000 0.50000)            3\n",
       "3  POINT (2.00000 3.00000)            5\n",
       "4  POINT (3.00000 3.00000)            9"
      ]
     },
     "execution_count": 8,
     "metadata": {},
     "output_type": "execute_result"
    }
   ],
   "source": [
    "#hacemos un join espacial para chequear que coincidan\n",
    "gpd.sjoin(puntos,grilla)"
   ]
  },
  {
   "cell_type": "markdown",
   "metadata": {},
   "source": [
    "## Poliognos Voronoi"
   ]
  },
  {
   "cell_type": "code",
   "execution_count": 9,
   "metadata": {},
   "outputs": [],
   "source": [
    "#importamos la libreria que nos permite realizar la matematica de Vornoi\n",
    "from scipy.spatial import Voronoi,voronoi_plot_2d"
   ]
  },
  {
   "cell_type": "code",
   "execution_count": 10,
   "metadata": {},
   "outputs": [
    {
     "data": {
      "text/plain": [
       "[[4.5, 4.5], [4.3, 4.4], [0.5, 0.5], [2.0, 3.0], [3.0, 3.0]]"
      ]
     },
     "execution_count": 10,
     "metadata": {},
     "output_type": "execute_result"
    }
   ],
   "source": [
    "#necesitamos crear una lista de listas, donde cada sublista tenga las coordenadas en x y y de cada punto\n",
    "#en este formato necesita los datos la libreria de scipy\n",
    "[[g.x,g.y] for g in puntos.geometry]"
   ]
  },
  {
   "cell_type": "code",
   "execution_count": 11,
   "metadata": {},
   "outputs": [
    {
     "data": {
      "image/png": "[encoded data removed]",
      "text/plain": [
       "<Figure size 432x288 with 1 Axes>"
      ]
     },
     "execution_count": 11,
     "metadata": {},
     "output_type": "execute_result"
    },
    {
     "data": {
      "image/png": "[encoded data removed]",
      "text/plain": [
       "<Figure size 432x288 with 1 Axes>"
      ]
     },
     "metadata": {
      "needs_background": "light"
     },
     "output_type": "display_data"
    }
   ],
   "source": [
    "#creamos el objeto voronoi\n",
    "vor = Voronoi([[g.x,g.y] for g in puntos.geometry])\n",
    "voronoi_plot_2d(vor)"
   ]
  },
  {
   "cell_type": "code",
   "execution_count": 12,
   "metadata": {},
   "outputs": [
    {
     "data": {
      "text/plain": [
       "scipy.spatial.qhull.Voronoi"
      ]
     },
     "execution_count": 12,
     "metadata": {},
     "output_type": "execute_result"
    }
   ],
   "source": [
    "type(vor)"
   ]
  },
  {
   "cell_type": "code",
   "execution_count": 13,
   "metadata": {},
   "outputs": [],
   "source": [
    "#esta funcion toma el objeto voronoi y un radio. Algunas lineas se proyectan hacia el infinito, \n",
    "#el radio las corta en ese radio\n",
    "\n",
    "def voronoi_finite_polygons_2d(vor, radius=None):\n",
    "    \"\"\"\n",
    "    Reconstruct infinite voronoi regions in a 2D diagram to finite\n",
    "    regions.\n",
    "\n",
    "    Parameters\n",
    "    ----------\n",
    "    vor : Voronoi\n",
    "        Input diagram\n",
    "    radius : float, optional\n",
    "        Distance to 'points at infinity'.\n",
    "\n",
    "    Returns\n",
    "    -------\n",
    "    regions : list of tuples\n",
    "        Indices of vertices in each revised Voronoi regions.\n",
    "    vertices : list of tuples\n",
    "        Coordinates for revised Voronoi vertices. Same as coordinates\n",
    "        of input vertices, with 'points at infinity' appended to the\n",
    "        end.\n",
    "\n",
    "    \"\"\"\n",
    "\n",
    "    if vor.points.shape[1] != 2:\n",
    "        raise ValueError(\"Requires 2D input\")\n",
    "\n",
    "    new_regions = []\n",
    "    new_vertices = vor.vertices.tolist()\n",
    "\n",
    "    center = vor.points.mean(axis=0)\n",
    "    if radius is None:\n",
    "        radius = vor.points.ptp().max()\n",
    "\n",
    "    # Construct a map containing all ridges for a given point\n",
    "    all_ridges = {}\n",
    "    for (p1, p2), (v1, v2) in zip(vor.ridge_points, vor.ridge_vertices):\n",
    "        all_ridges.setdefault(p1, []).append((p2, v1, v2))\n",
    "        all_ridges.setdefault(p2, []).append((p1, v1, v2))\n",
    "\n",
    "    # Reconstruct infinite regions\n",
    "    for p1, region in enumerate(vor.point_region):\n",
    "        vertices = vor.regions[region]\n",
    "\n",
    "        if all(v >= 0 for v in vertices):\n",
    "            # finite region\n",
    "            new_regions.append(vertices)\n",
    "            continue\n",
    "\n",
    "        # reconstruct a non-finite region\n",
    "        ridges = all_ridges[p1]\n",
    "        new_region = [v for v in vertices if v >= 0]\n",
    "\n",
    "        for p2, v1, v2 in ridges:\n",
    "            if v2 < 0:\n",
    "                v1, v2 = v2, v1\n",
    "            if v1 >= 0:\n",
    "                # finite ridge: already in the region\n",
    "                continue\n",
    "\n",
    "            # Compute the missing endpoint of an infinite ridge\n",
    "\n",
    "            t = vor.points[p2] - vor.points[p1] # tangent\n",
    "            t /= np.linalg.norm(t)\n",
    "            n = np.array([-t[1], t[0]])  # normal\n",
    "\n",
    "            midpoint = vor.points[[p1, p2]].mean(axis=0)\n",
    "            direction = np.sign(np.dot(midpoint - center, n)) * n\n",
    "            far_point = vor.vertices[v2] + direction * radius\n",
    "\n",
    "            new_region.append(len(new_vertices))\n",
    "            new_vertices.append(far_point.tolist())\n",
    "\n",
    "        # sort region counterclockwise\n",
    "        vs = np.asarray([new_vertices[v] for v in new_region])\n",
    "        c = vs.mean(axis=0)\n",
    "        angles = np.arctan2(vs[:,1] - c[1], vs[:,0] - c[0])\n",
    "        new_region = np.array(new_region)[np.argsort(angles)]\n",
    "\n",
    "        # finish\n",
    "        new_regions.append(new_region.tolist())\n",
    "\n",
    "    return new_regions, np.asarray(new_vertices)"
   ]
  },
  {
   "cell_type": "code",
   "execution_count": 14,
   "metadata": {},
   "outputs": [],
   "source": [
    "#aplicamos esa funcion y nos devuelve regiones y vertices\n",
    "regions, vertices = voronoi_finite_polygons_2d(vor,radius=100)\n",
    "\n",
    "#a partir de esta informacion podemos crear un geodataframe de voronois\n",
    "voro_poligons = gpd.GeoDataFrame({'geometry':[Polygon(vertices[regions[i]]) for i in range(len(regions))]},crs = {'init':'epsg:3857'})\n",
    "voro_poligons['id_voronoi'] = ['A','B','C','D','E']\n"
   ]
  },
  {
   "cell_type": "code",
   "execution_count": 15,
   "metadata": {},
   "outputs": [
    {
     "data": {
      "text/plain": [
       "0      POINT (14.41311 7.99401)\n",
       "1    POINT (-26.06458 57.90203)\n",
       "2     POINT (-2.51287 -5.42037)\n",
       "3    POINT (-42.33126 47.27666)\n",
       "4    POINT (38.71973 -33.20725)\n",
       "dtype: geometry"
      ]
     },
     "execution_count": 15,
     "metadata": {},
     "output_type": "execute_result"
    }
   ],
   "source": [
    "voro_poligons.geometry.centroid"
   ]
  },
  {
   "cell_type": "code",
   "execution_count": 16,
   "metadata": {},
   "outputs": [
    {
     "data": {
      "image/png": "[encoded data removed]",
      "text/plain": [
       "<Figure size 576x576 with 1 Axes>"
      ]
     },
     "metadata": {
      "needs_background": "light"
     },
     "output_type": "display_data"
    }
   ],
   "source": [
    "#ploteamos los datos\n",
    "f,ax=plt.subplots(1,figsize=(8,8))\n",
    "voro_poligons.plot(ax=ax,column='id_voronoi',cmap='Set1')    \n",
    "puntos.plot(ax=ax,color='black')\n",
    "ax.set_xlim(vor.min_bound[0] - 0.1, vor.max_bound[0] + 0.1)\n",
    "ax.set_ylim(vor.min_bound[1] - 0.1, vor.max_bound[1] + 0.1);\n"
   ]
  },
  {
   "cell_type": "code",
   "execution_count": 17,
   "metadata": {},
   "outputs": [
    {
     "data": {
      "text/html": [
       "<div>\n",
       "<style scoped>\n",
       "    .dataframe tbody tr th:only-of-type {\n",
       "        vertical-align: middle;\n",
       "    }\n",
       "\n",
       "    .dataframe tbody tr th {\n",
       "        vertical-align: top;\n",
       "    }\n",
       "\n",
       "    .dataframe thead th {\n",
       "        text-align: right;\n",
       "    }\n",
       "</style>\n",
       "<table border=\"1\" class=\"dataframe\">\n",
       "  <thead>\n",
       "    <tr style=\"text-align: right;\">\n",
       "      <th></th>\n",
       "      <th>geometry</th>\n",
       "      <th>index_right</th>\n",
       "      <th>id_voronoi</th>\n",
       "    </tr>\n",
       "  </thead>\n",
       "  <tbody>\n",
       "    <tr>\n",
       "      <th>0</th>\n",
       "      <td>POINT (4.50000 4.50000)</td>\n",
       "      <td>0</td>\n",
       "      <td>A</td>\n",
       "    </tr>\n",
       "    <tr>\n",
       "      <th>1</th>\n",
       "      <td>POINT (4.30000 4.40000)</td>\n",
       "      <td>1</td>\n",
       "      <td>B</td>\n",
       "    </tr>\n",
       "    <tr>\n",
       "      <th>2</th>\n",
       "      <td>POINT (0.50000 0.50000)</td>\n",
       "      <td>2</td>\n",
       "      <td>C</td>\n",
       "    </tr>\n",
       "    <tr>\n",
       "      <th>3</th>\n",
       "      <td>POINT (2.00000 3.00000)</td>\n",
       "      <td>3</td>\n",
       "      <td>D</td>\n",
       "    </tr>\n",
       "    <tr>\n",
       "      <th>4</th>\n",
       "      <td>POINT (3.00000 3.00000)</td>\n",
       "      <td>4</td>\n",
       "      <td>E</td>\n",
       "    </tr>\n",
       "  </tbody>\n",
       "</table>\n",
       "</div>"
      ],
      "text/plain": [
       "                  geometry  index_right id_voronoi\n",
       "0  POINT (4.50000 4.50000)            0          A\n",
       "1  POINT (4.30000 4.40000)            1          B\n",
       "2  POINT (0.50000 0.50000)            2          C\n",
       "3  POINT (2.00000 3.00000)            3          D\n",
       "4  POINT (3.00000 3.00000)            4          E"
      ]
     },
     "execution_count": 17,
     "metadata": {},
     "output_type": "execute_result"
    }
   ],
   "source": [
    "#noten que cada punto queda asignado a un solo voronoi\n",
    "gpd.sjoin(puntos,voro_poligons)"
   ]
  },
  {
   "cell_type": "code",
   "execution_count": null,
   "metadata": {},
   "outputs": [],
   "source": []
  }
 ],
 "metadata": {
  "kernelspec": {
   "display_name": "Python 3",
   "language": "python",
   "name": "python3"
  },
  "language_info": {
   "codemirror_mode": {
    "name": "ipython",
    "version": 3
   },
   "file_extension": ".py",
   "mimetype": "text/x-python",
   "name": "python",
   "nbconvert_exporter": "python",
   "pygments_lexer": "ipython3",
   "version": "3.6.8"
  }
 },
 "nbformat": 4,
 "nbformat_minor": 2
}
