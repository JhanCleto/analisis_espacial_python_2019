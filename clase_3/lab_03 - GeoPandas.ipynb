{
 "cells": [
  {
   "cell_type": "markdown",
   "metadata": {},
   "source": [
    "# Gráficos y mapas en Python con `geopandas` y `matplotlib` \n",
    "\n",
    "En este práctico, aprenderemos cómo cargar, manipular y visualizar datos espaciales. En algunos sentidos, los datos espaciales se han vuelto tan omnipresentes que hoy en día, por lo general, se incluyen simplemente como \"una columna más\" en una tabla. Sin embargo, el espacio es especial a veces y hay pocos aspectos en los que los datos geográficos difieren de las tablas numéricas estándar. En esta sesión, ampliaremos las habilidades desarrolladas en el anterior sobre datos no espaciales, y los combinaremos. En el proceso, descubriremos que, aunque con algunas particularidades, tratar con datos espaciales en Python se asemeja en gran medida a tratar con datos no espaciales. Por ejemplo, en esta práctica de laboratorio aprenderá a hacer mapas pulidos como este con solo unos pocos comandos:\n",
    "\n",
    "![AYUDA](../img/plot.png)\n",
    "\n",
    "La biblioteca principal empleada para todo esto es `geopandas`, que es una extensión geoespacial de la biblioteca de `pandas`, ya presentada en la clase anterior. `geopandas` admite exactamente la misma funcionalidad que `pandas` (de hecho, ya que está construida encima, por lo que la mayoría de los objetos subyacentes son de `pandas`), más una amplia gama de contrapartes espaciales que hacen manipulación general de datos espaciales tan fácil como tablas no-espaciales. Como las muñecas rusas, `geopandas` es una muñeca rusa que adentro contiene `pandas`.\n",
    "\n",
    "![pandas y geopandas](https://images-na.ssl-images-amazon.com/images/I/71GnlJP8gVL._SX425_.jpg)"
   ]
  },
  {
   "cell_type": "code",
   "execution_count": 1,
   "metadata": {},
   "outputs": [],
   "source": [
    "#importamos las librerías que veníamos trabajando \n",
    "import pandas as pd\n",
    "import numpy as np\n",
    "import seaborn as sns\n",
    "\n",
    "#y sumamos la que va a coronar la triada\n",
    "import geopandas as gpd"
   ]
  },
  {
   "cell_type": "code",
   "execution_count": 2,
   "metadata": {},
   "outputs": [],
   "source": [
    "import shapely"
   ]
  },
  {
   "cell_type": "code",
   "execution_count": 3,
   "metadata": {},
   "outputs": [
    {
     "data": {
      "text/plain": [
       "'1.6.4'"
      ]
     },
     "execution_count": 3,
     "metadata": {},
     "output_type": "execute_result"
    }
   ],
   "source": [
    "shapely.__version__"
   ]
  },
  {
   "cell_type": "markdown",
   "metadata": {},
   "source": [
    "## 1- GeoPandas, DataFrames como los de `Pandas`, pero Geo"
   ]
  },
  {
   "cell_type": "code",
   "execution_count": 4,
   "metadata": {},
   "outputs": [
    {
     "data": {
      "text/html": [
       "<div>\n",
       "<style scoped>\n",
       "    .dataframe tbody tr th:only-of-type {\n",
       "        vertical-align: middle;\n",
       "    }\n",
       "\n",
       "    .dataframe tbody tr th {\n",
       "        vertical-align: top;\n",
       "    }\n",
       "\n",
       "    .dataframe thead th {\n",
       "        text-align: right;\n",
       "    }\n",
       "</style>\n",
       "<table border=\"1\" class=\"dataframe\">\n",
       "  <thead>\n",
       "    <tr style=\"text-align: right;\">\n",
       "      <th></th>\n",
       "      <th>ID</th>\n",
       "      <th>ESTACION</th>\n",
       "      <th>LINEA</th>\n",
       "      <th>geometry</th>\n",
       "    </tr>\n",
       "  </thead>\n",
       "  <tbody>\n",
       "    <tr>\n",
       "      <th>0</th>\n",
       "      <td>1.0</td>\n",
       "      <td>CASEROS</td>\n",
       "      <td>H</td>\n",
       "      <td>POINT (105902.351 99279.282)</td>\n",
       "    </tr>\n",
       "    <tr>\n",
       "      <th>1</th>\n",
       "      <td>2.0</td>\n",
       "      <td>INCLAN</td>\n",
       "      <td>H</td>\n",
       "      <td>POINT (105715.554 99986.549)</td>\n",
       "    </tr>\n",
       "    <tr>\n",
       "      <th>2</th>\n",
       "      <td>3.0</td>\n",
       "      <td>HUMBERTO 1°</td>\n",
       "      <td>H</td>\n",
       "      <td>POINT (105591.888 100683.658)</td>\n",
       "    </tr>\n",
       "    <tr>\n",
       "      <th>3</th>\n",
       "      <td>4.0</td>\n",
       "      <td>VENEZUELA</td>\n",
       "      <td>H</td>\n",
       "      <td>POINT (105371.474 101554.635)</td>\n",
       "    </tr>\n",
       "    <tr>\n",
       "      <th>4</th>\n",
       "      <td>5.0</td>\n",
       "      <td>ONCE - 30 DE DICIEMBRE</td>\n",
       "      <td>H</td>\n",
       "      <td>POINT (105252.211 102254.351)</td>\n",
       "    </tr>\n",
       "  </tbody>\n",
       "</table>\n",
       "</div>"
      ],
      "text/plain": [
       "    ID                ESTACION LINEA                       geometry\n",
       "0  1.0                 CASEROS     H   POINT (105902.351 99279.282)\n",
       "1  2.0                  INCLAN     H   POINT (105715.554 99986.549)\n",
       "2  3.0             HUMBERTO 1°     H  POINT (105591.888 100683.658)\n",
       "3  4.0               VENEZUELA     H  POINT (105371.474 101554.635)\n",
       "4  5.0  ONCE - 30 DE DICIEMBRE     H  POINT (105252.211 102254.351)"
      ]
     },
     "execution_count": 4,
     "metadata": {},
     "output_type": "execute_result"
    }
   ],
   "source": [
    "#abrimos nuestro dataset espacial a partir de un archivo en el formato mas tradicional: ESRI shapefile \n",
    "estaciones = gpd.read_file('../carto/estaciones_de_subte.shp')\n",
    "estaciones.head()"
   ]
  },
  {
   "cell_type": "code",
   "execution_count": 5,
   "metadata": {},
   "outputs": [
    {
     "data": {
      "text/plain": [
       "geopandas.geodataframe.GeoDataFrame"
      ]
     },
     "execution_count": 5,
     "metadata": {},
     "output_type": "execute_result"
    }
   ],
   "source": [
    "#es muy siliar a pandas dataframe. vemos su tipo y vemos que es una especia de data frame\n",
    "type(estaciones)"
   ]
  },
  {
   "cell_type": "code",
   "execution_count": 6,
   "metadata": {},
   "outputs": [
    {
     "data": {
      "text/plain": [
       "(86, 4)"
      ]
     },
     "execution_count": 6,
     "metadata": {},
     "output_type": "execute_result"
    }
   ],
   "source": [
    "#tiene las mismas propiedades\n",
    "estaciones.shape"
   ]
  },
  {
   "cell_type": "code",
   "execution_count": 7,
   "metadata": {},
   "outputs": [
    {
     "name": "stdout",
     "output_type": "stream",
     "text": [
      "<class 'geopandas.geodataframe.GeoDataFrame'>\n",
      "RangeIndex: 86 entries, 0 to 85\n",
      "Data columns (total 4 columns):\n",
      "ID          86 non-null float64\n",
      "ESTACION    86 non-null object\n",
      "LINEA       86 non-null object\n",
      "geometry    86 non-null geometry\n",
      "dtypes: float64(1), geometry(1), object(2)\n",
      "memory usage: 2.8+ KB\n"
     ]
    }
   ],
   "source": [
    "#info\n",
    "estaciones.info()"
   ]
  },
  {
   "cell_type": "code",
   "execution_count": 8,
   "metadata": {},
   "outputs": [
    {
     "data": {
      "text/plain": [
       "RangeIndex(start=0, stop=86, step=1)"
      ]
     },
     "execution_count": 8,
     "metadata": {},
     "output_type": "execute_result"
    }
   ],
   "source": [
    "#se indexa por fila\n",
    "estaciones.index"
   ]
  },
  {
   "cell_type": "code",
   "execution_count": 9,
   "metadata": {},
   "outputs": [
    {
     "data": {
      "text/plain": [
       "Index(['ID', 'ESTACION', 'LINEA', 'geometry'], dtype='object')"
      ]
     },
     "execution_count": 9,
     "metadata": {},
     "output_type": "execute_result"
    }
   ],
   "source": [
    "#tambien por columnas\n",
    "estaciones.columns"
   ]
  },
  {
   "cell_type": "markdown",
   "metadata": {},
   "source": [
    "En las columnas vemos ya el elemento que hace a este *data frame* algo diferente a los de `pandas`: el campo **geometry** "
   ]
  },
  {
   "cell_type": "code",
   "execution_count": 10,
   "metadata": {},
   "outputs": [
    {
     "data": {
      "text/plain": [
       "0     POINT (105902.351 99279.282)\n",
       "1     POINT (105715.554 99986.549)\n",
       "2    POINT (105591.888 100683.658)\n",
       "3    POINT (105371.474 101554.635)\n",
       "4    POINT (105252.211 102254.351)\n",
       "Name: geometry, dtype: geometry"
      ]
     },
     "execution_count": 10,
     "metadata": {},
     "output_type": "execute_result"
    }
   ],
   "source": [
    "estaciones.geometry.head()"
   ]
  },
  {
   "cell_type": "code",
   "execution_count": 11,
   "metadata": {},
   "outputs": [
    {
     "data": {
      "text/plain": [
       "geopandas.geoseries.GeoSeries"
      ]
     },
     "execution_count": 11,
     "metadata": {},
     "output_type": "execute_result"
    }
   ],
   "source": [
    "#Pero a pesar de ser el elemento que diferencia un DataFrame de un GeoDataFrame, guarda similitud con un objeto conocido de Pandas\n",
    "#, geometry es una geoseries, similar a una series de pandas. \n",
    "type(estaciones.geometry)"
   ]
  },
  {
   "cell_type": "code",
   "execution_count": 12,
   "metadata": {},
   "outputs": [
    {
     "data": {
      "image/svg+xml": [
       "<svg xmlns=\"http://www.w3.org/2000/svg\" xmlns:xlink=\"http://www.w3.org/1999/xlink\" width=\"100.0\" height=\"100.0\" viewBox=\"105901.35136369725 99278.28209795424 2.0 2.0\" preserveAspectRatio=\"xMinYMin meet\"><g transform=\"matrix(1,0,0,-1,0,198558.5641959085)\"><circle cx=\"105902.35136369725\" cy=\"99279.28209795424\" r=\"0.06\" stroke=\"#555555\" stroke-width=\"0.02\" fill=\"#66cc99\" opacity=\"0.6\" /></g></svg>"
      ],
      "text/plain": [
       "<shapely.geometry.point.Point at 0x7f60130ac5f8>"
      ]
     },
     "execution_count": 12,
     "metadata": {},
     "output_type": "execute_result"
    }
   ],
   "source": [
    "#es una geoSerie de que? que elementos la componen? que muñeca rusa más pequeña hay dentro?\n",
    "estaciones.geometry.iloc[0]"
   ]
  },
  {
   "cell_type": "code",
   "execution_count": 13,
   "metadata": {},
   "outputs": [
    {
     "name": "stdout",
     "output_type": "stream",
     "text": [
      "POINT (105902.3513636972 99279.28209795424)\n"
     ]
    }
   ],
   "source": [
    "print(estaciones.geometry.iloc[0])"
   ]
  },
  {
   "cell_type": "code",
   "execution_count": 14,
   "metadata": {},
   "outputs": [
    {
     "data": {
      "text/plain": [
       "shapely.geometry.point.Point"
      ]
     },
     "execution_count": 14,
     "metadata": {},
     "output_type": "execute_result"
    }
   ],
   "source": [
    "#es un objeto Shapely. La librería que funciona por debajo de GeoPandas \n",
    "type(estaciones.geometry.iloc[0])"
   ]
  },
  {
   "cell_type": "markdown",
   "metadata": {},
   "source": [
    "### Shapely\n",
    "\n",
    "Las GeoSeries de Geopandas son una Series que adentro contiene objetos que no son ni `string`, ni numeros. Son objetos particulares, como los `datetime`, pero cuyas propiedades específicas son geográficas. En lugar de extraer horas o días de la semana, vamos a poder obtener propiedades geográficas como distancias de un punto a otro. O coordenadas..."
   ]
  },
  {
   "cell_type": "markdown",
   "metadata": {},
   "source": [
    "## 2- Coordenadas\n",
    "\n",
    "En lo fundamental los GeoDatos, no dejan de ser los datos que trabajamos cotidianamente, pero con alguna referencia a su ubicación en el espacio, que creemos relevante por lo cual la introducimos en el análisis. Esa referencia al espacio debe corporizarse en algun tipo de objeto geografico, de los cuales utilizaremos 3 básicos:\n",
    "* Punto\n",
    "* Línea\n",
    "* Polígono\n",
    "\n",
    "En nuestro ejemplo, la estaciones de subte son puntos. El elemento geográfico más sencillo. En la geometría euclidiana, o de dos dimensiones, un punto se define por dos valores:"
   ]
  },
  {
   "cell_type": "code",
   "execution_count": 15,
   "metadata": {},
   "outputs": [
    {
     "data": {
      "text/plain": [
       "105902.35136369725"
      ]
     },
     "execution_count": 15,
     "metadata": {},
     "output_type": "execute_result"
    }
   ],
   "source": [
    "#un punto son dos coordenadas en el espacio\n",
    "estaciones.geometry.iloc[0].x"
   ]
  },
  {
   "cell_type": "code",
   "execution_count": 16,
   "metadata": {},
   "outputs": [
    {
     "data": {
      "text/plain": [
       "99279.28209795424"
      ]
     },
     "execution_count": 16,
     "metadata": {},
     "output_type": "execute_result"
    }
   ],
   "source": [
    "estaciones.geometry.iloc[0].y"
   ]
  },
  {
   "cell_type": "markdown",
   "metadata": {},
   "source": [
    "Tiene x y y, coordenadas en el eje cartesiano. Ojo que lo que siempre en matematica se llama x y y en ese orden, en geografia siempre se llamo latlong, pero x es long y y es lat. El orden cambia!\n",
    "![latlong](../img/xy_latlong.jfif)"
   ]
  },
  {
   "cell_type": "markdown",
   "metadata": {},
   "source": [
    "Pero es algo diferente a lo que siempre conocimos como latlong. En general estamos acostumbrados en mapas de Buenos Aires a ver valores como -34 y -58. La diferencia se explica por la llamada **proyeccion de coordenadas** que da cuenta de la transformación de un objeto en 3 dimensiones (como el planeta Tierra) en un plano de 2 dimensiones (el mapa). Esta proyección también regula las unidades de medidas de los ejes donde proyectamos. Puede estar en grados o en metros.\n",
    "\n",
    "Podemos acceder a la **proyeccion de coordenadas** de un GeoDataFrame de manera sencilla. "
   ]
  },
  {
   "cell_type": "code",
   "execution_count": 17,
   "metadata": {},
   "outputs": [
    {
     "data": {
      "text/plain": [
       "{'proj': 'tmerc',\n",
       " 'lat_0': -34.6297166,\n",
       " 'lon_0': -58.4627,\n",
       " 'k': 0.999998,\n",
       " 'x_0': 100000,\n",
       " 'y_0': 100000,\n",
       " 'ellps': 'intl',\n",
       " 'units': 'm',\n",
       " 'no_defs': True}"
      ]
     },
     "execution_count": 17,
     "metadata": {},
     "output_type": "execute_result"
    }
   ],
   "source": [
    "#con el metodo o funcion crs vemos la proyeccion de nuestro objeto\n",
    "estaciones.crs"
   ]
  },
  {
   "cell_type": "markdown",
   "metadata": {},
   "source": [
    "La proyeccion de este GeoDataFrame está en un formato de coordenadas especifica [SR-ORG:7124: Gauss-Kruger Bs.As.](http://spatialreference.org/ref/sr-org/7124/). Pueden leer más en la [documentación](https://recursos-data.buenosaires.gob.ar/ckan2/proyecciones-gkba.pdf) de GCBA sobre el tema.\n",
    "\n",
    "Queremos reproyectarla en [EPSG 4326](https://epsg.io/4326) cuya unidad de medida es grados. Afortunadamente GeoPandas implementa esto de una manera muy sencilla. La documentación de [GeoPandas](http://geopandas.org/projections.html) tiene más detalles. \n",
    "\n"
   ]
  },
  {
   "cell_type": "code",
   "execution_count": 18,
   "metadata": {},
   "outputs": [
    {
     "data": {
      "text/html": [
       "<div>\n",
       "<style scoped>\n",
       "    .dataframe tbody tr th:only-of-type {\n",
       "        vertical-align: middle;\n",
       "    }\n",
       "\n",
       "    .dataframe tbody tr th {\n",
       "        vertical-align: top;\n",
       "    }\n",
       "\n",
       "    .dataframe thead th {\n",
       "        text-align: right;\n",
       "    }\n",
       "</style>\n",
       "<table border=\"1\" class=\"dataframe\">\n",
       "  <thead>\n",
       "    <tr style=\"text-align: right;\">\n",
       "      <th></th>\n",
       "      <th>ID</th>\n",
       "      <th>ESTACION</th>\n",
       "      <th>LINEA</th>\n",
       "      <th>geometry</th>\n",
       "    </tr>\n",
       "  </thead>\n",
       "  <tbody>\n",
       "    <tr>\n",
       "      <th>0</th>\n",
       "      <td>1.0</td>\n",
       "      <td>CASEROS</td>\n",
       "      <td>H</td>\n",
       "      <td>POINT (-58.39833 -34.63620)</td>\n",
       "    </tr>\n",
       "    <tr>\n",
       "      <th>1</th>\n",
       "      <td>2.0</td>\n",
       "      <td>INCLAN</td>\n",
       "      <td>H</td>\n",
       "      <td>POINT (-58.40037 -34.62982)</td>\n",
       "    </tr>\n",
       "    <tr>\n",
       "      <th>2</th>\n",
       "      <td>3.0</td>\n",
       "      <td>HUMBERTO 1°</td>\n",
       "      <td>H</td>\n",
       "      <td>POINT (-58.40173 -34.62354)</td>\n",
       "    </tr>\n",
       "    <tr>\n",
       "      <th>3</th>\n",
       "      <td>4.0</td>\n",
       "      <td>VENEZUELA</td>\n",
       "      <td>H</td>\n",
       "      <td>POINT (-58.40413 -34.61569)</td>\n",
       "    </tr>\n",
       "    <tr>\n",
       "      <th>4</th>\n",
       "      <td>5.0</td>\n",
       "      <td>ONCE - 30 DE DICIEMBRE</td>\n",
       "      <td>H</td>\n",
       "      <td>POINT (-58.40544 -34.60938)</td>\n",
       "    </tr>\n",
       "  </tbody>\n",
       "</table>\n",
       "</div>"
      ],
      "text/plain": [
       "    ID                ESTACION LINEA                     geometry\n",
       "0  1.0                 CASEROS     H  POINT (-58.39833 -34.63620)\n",
       "1  2.0                  INCLAN     H  POINT (-58.40037 -34.62982)\n",
       "2  3.0             HUMBERTO 1°     H  POINT (-58.40173 -34.62354)\n",
       "3  4.0               VENEZUELA     H  POINT (-58.40413 -34.61569)\n",
       "4  5.0  ONCE - 30 DE DICIEMBRE     H  POINT (-58.40544 -34.60938)"
      ]
     },
     "execution_count": 18,
     "metadata": {},
     "output_type": "execute_result"
    }
   ],
   "source": [
    "#cambiamos al formato tradicional de latlong\n",
    "estaciones = estaciones.to_crs(epsg = 4326)\n",
    "estaciones.head()"
   ]
  },
  {
   "cell_type": "code",
   "execution_count": 19,
   "metadata": {},
   "outputs": [
    {
     "name": "stdout",
     "output_type": "stream",
     "text": [
      "POINT (-58.39833005827354 -34.63619629114226)\n"
     ]
    }
   ],
   "source": [
    "print(estaciones.geometry.iloc[0])"
   ]
  },
  {
   "cell_type": "markdown",
   "metadata": {},
   "source": [
    "Ya podemos ver que las coordenadas de nuestros puntos se asemejan a los valores que intuitivamente conocíamos para Buenos Aires\n",
    "![latlong2](../img/latlong.png)\n",
    "\n",
    "A partir de este momento, intentaremos visualizar todos los procesos que realizamos en un mapa. Para esto necesitamos la librería de Python que administra los gráficos: `matplotlib` "
   ]
  },
  {
   "cell_type": "code",
   "execution_count": 20,
   "metadata": {},
   "outputs": [],
   "source": [
    "#y sumamos la libreria que nos permite visualizar co alias plt\n",
    "import matplotlib.pyplot as plt\n",
    "#esta linea nos permite visualizar los plots y mapas dentro de nuestros notebooks\n",
    "%matplotlib inline"
   ]
  },
  {
   "cell_type": "markdown",
   "metadata": {},
   "source": [
    "En este curso haremos un uso muy utilitario de matplotlib. Es decir, presenaremos sus elementos fundamentales sin profundizar demasiado. Es una herramienta muy versatil y pontente. También mencionaremos las otras mas populares como `seaborn` y `plotly`. \n",
    "\n",
    "`Matplotlib` se construye fundamentalmente a partir de una **figura** que puede tener dentro uno o mas **ejes** (o *axis*)"
   ]
  },
  {
   "cell_type": "code",
   "execution_count": 21,
   "metadata": {},
   "outputs": [
    {
     "data": {
      "image/png": "[encoded data removed]",
      "text/plain": [
       "<Figure size 432x432 with 1 Axes>"
      ]
     },
     "metadata": {
      "needs_background": "light"
     },
     "output_type": "display_data"
    }
   ],
   "source": [
    "fig = plt.figure(figsize=(6,6))\n",
    "ax = fig.add_subplot(1,1,1)"
   ]
  },
  {
   "cell_type": "code",
   "execution_count": 22,
   "metadata": {},
   "outputs": [
    {
     "data": {
      "image/png": "[encoded data removed]",
      "text/plain": [
       "<Figure size 864x432 with 2 Axes>"
      ]
     },
     "metadata": {
      "needs_background": "light"
     },
     "output_type": "display_data"
    }
   ],
   "source": [
    "#agrando el tamaño de la figura\n",
    "fig = plt.figure(figsize=(12,6))\n",
    "#en 1 columna agrego 2 pares de ejes \n",
    "ax1 = fig.add_subplot(1,2,1)\n",
    "ax2 = fig.add_subplot(1,2,2)\n"
   ]
  },
  {
   "cell_type": "code",
   "execution_count": 23,
   "metadata": {},
   "outputs": [
    {
     "data": {
      "text/plain": [
       "<matplotlib.collections.PathCollection at 0x7f5ff0b866a0>"
      ]
     },
     "execution_count": 23,
     "metadata": {},
     "output_type": "execute_result"
    },
    {
     "data": {
      "image/png": "[encoded data removed]",
      "text/plain": [
       "<Figure size 432x432 with 1 Axes>"
      ]
     },
     "metadata": {
      "needs_background": "light"
     },
     "output_type": "display_data"
    }
   ],
   "source": [
    "#puedo agregar contenido a los graficos al graficar algunos datos\n",
    "fig = plt.figure(figsize=(6,6))\n",
    "ax = fig.add_subplot(1,1,1)\n",
    "#un listado de 0 a 19\n",
    "x = range(20)\n",
    "y = range(20)\n",
    "#plotear un scatter plot \n",
    "ax.scatter(x,y)"
   ]
  },
  {
   "cell_type": "code",
   "execution_count": 24,
   "metadata": {},
   "outputs": [
    {
     "data": {
      "text/html": [
       "<div>\n",
       "<style scoped>\n",
       "    .dataframe tbody tr th:only-of-type {\n",
       "        vertical-align: middle;\n",
       "    }\n",
       "\n",
       "    .dataframe tbody tr th {\n",
       "        vertical-align: top;\n",
       "    }\n",
       "\n",
       "    .dataframe thead th {\n",
       "        text-align: right;\n",
       "    }\n",
       "</style>\n",
       "<table border=\"1\" class=\"dataframe\">\n",
       "  <thead>\n",
       "    <tr style=\"text-align: right;\">\n",
       "      <th></th>\n",
       "      <th>ID</th>\n",
       "      <th>ESTACION</th>\n",
       "      <th>LINEA</th>\n",
       "      <th>geometry</th>\n",
       "      <th>x</th>\n",
       "    </tr>\n",
       "  </thead>\n",
       "  <tbody>\n",
       "    <tr>\n",
       "      <th>0</th>\n",
       "      <td>1.0</td>\n",
       "      <td>CASEROS</td>\n",
       "      <td>H</td>\n",
       "      <td>POINT (-58.39833 -34.63620)</td>\n",
       "      <td>-58.398330</td>\n",
       "    </tr>\n",
       "    <tr>\n",
       "      <th>1</th>\n",
       "      <td>2.0</td>\n",
       "      <td>INCLAN</td>\n",
       "      <td>H</td>\n",
       "      <td>POINT (-58.40037 -34.62982)</td>\n",
       "      <td>-58.400372</td>\n",
       "    </tr>\n",
       "    <tr>\n",
       "      <th>2</th>\n",
       "      <td>3.0</td>\n",
       "      <td>HUMBERTO 1°</td>\n",
       "      <td>H</td>\n",
       "      <td>POINT (-58.40173 -34.62354)</td>\n",
       "      <td>-58.401725</td>\n",
       "    </tr>\n",
       "    <tr>\n",
       "      <th>3</th>\n",
       "      <td>4.0</td>\n",
       "      <td>VENEZUELA</td>\n",
       "      <td>H</td>\n",
       "      <td>POINT (-58.40413 -34.61569)</td>\n",
       "      <td>-58.404134</td>\n",
       "    </tr>\n",
       "    <tr>\n",
       "      <th>4</th>\n",
       "      <td>5.0</td>\n",
       "      <td>ONCE - 30 DE DICIEMBRE</td>\n",
       "      <td>H</td>\n",
       "      <td>POINT (-58.40544 -34.60938)</td>\n",
       "      <td>-58.405439</td>\n",
       "    </tr>\n",
       "  </tbody>\n",
       "</table>\n",
       "</div>"
      ],
      "text/plain": [
       "    ID                ESTACION LINEA                     geometry          x\n",
       "0  1.0                 CASEROS     H  POINT (-58.39833 -34.63620) -58.398330\n",
       "1  2.0                  INCLAN     H  POINT (-58.40037 -34.62982) -58.400372\n",
       "2  3.0             HUMBERTO 1°     H  POINT (-58.40173 -34.62354) -58.401725\n",
       "3  4.0               VENEZUELA     H  POINT (-58.40413 -34.61569) -58.404134\n",
       "4  5.0  ONCE - 30 DE DICIEMBRE     H  POINT (-58.40544 -34.60938) -58.405439"
      ]
     },
     "execution_count": 24,
     "metadata": {},
     "output_type": "execute_result"
    }
   ],
   "source": [
    "#utilizando el metodo map, puedo extraer para cada punto sus coordenadas en x\n",
    "estaciones['x'] = estaciones.geometry.map(lambda coord: coord.x)\n",
    "estaciones.head()"
   ]
  },
  {
   "cell_type": "markdown",
   "metadata": {},
   "source": [
    "Afortunadamente, los desarolladors de GeoPandas entendieron que esto es una tarea cotidiana y pusieron como metodo propio de las geoSeries extraer las coordenadas"
   ]
  },
  {
   "cell_type": "code",
   "execution_count": 25,
   "metadata": {},
   "outputs": [
    {
     "data": {
      "text/html": [
       "<div>\n",
       "<style scoped>\n",
       "    .dataframe tbody tr th:only-of-type {\n",
       "        vertical-align: middle;\n",
       "    }\n",
       "\n",
       "    .dataframe tbody tr th {\n",
       "        vertical-align: top;\n",
       "    }\n",
       "\n",
       "    .dataframe thead th {\n",
       "        text-align: right;\n",
       "    }\n",
       "</style>\n",
       "<table border=\"1\" class=\"dataframe\">\n",
       "  <thead>\n",
       "    <tr style=\"text-align: right;\">\n",
       "      <th></th>\n",
       "      <th>ID</th>\n",
       "      <th>ESTACION</th>\n",
       "      <th>LINEA</th>\n",
       "      <th>geometry</th>\n",
       "      <th>x</th>\n",
       "      <th>y</th>\n",
       "    </tr>\n",
       "  </thead>\n",
       "  <tbody>\n",
       "    <tr>\n",
       "      <th>0</th>\n",
       "      <td>1.0</td>\n",
       "      <td>CASEROS</td>\n",
       "      <td>H</td>\n",
       "      <td>POINT (-58.39833 -34.63620)</td>\n",
       "      <td>-58.398330</td>\n",
       "      <td>-34.636196</td>\n",
       "    </tr>\n",
       "    <tr>\n",
       "      <th>1</th>\n",
       "      <td>2.0</td>\n",
       "      <td>INCLAN</td>\n",
       "      <td>H</td>\n",
       "      <td>POINT (-58.40037 -34.62982)</td>\n",
       "      <td>-58.400372</td>\n",
       "      <td>-34.629822</td>\n",
       "    </tr>\n",
       "    <tr>\n",
       "      <th>2</th>\n",
       "      <td>3.0</td>\n",
       "      <td>HUMBERTO 1°</td>\n",
       "      <td>H</td>\n",
       "      <td>POINT (-58.40173 -34.62354)</td>\n",
       "      <td>-58.401725</td>\n",
       "      <td>-34.623539</td>\n",
       "    </tr>\n",
       "    <tr>\n",
       "      <th>3</th>\n",
       "      <td>4.0</td>\n",
       "      <td>VENEZUELA</td>\n",
       "      <td>H</td>\n",
       "      <td>POINT (-58.40413 -34.61569)</td>\n",
       "      <td>-58.404134</td>\n",
       "      <td>-34.615689</td>\n",
       "    </tr>\n",
       "    <tr>\n",
       "      <th>4</th>\n",
       "      <td>5.0</td>\n",
       "      <td>ONCE - 30 DE DICIEMBRE</td>\n",
       "      <td>H</td>\n",
       "      <td>POINT (-58.40544 -34.60938)</td>\n",
       "      <td>-58.405439</td>\n",
       "      <td>-34.609382</td>\n",
       "    </tr>\n",
       "  </tbody>\n",
       "</table>\n",
       "</div>"
      ],
      "text/plain": [
       "    ID                ESTACION LINEA                     geometry          x  \\\n",
       "0  1.0                 CASEROS     H  POINT (-58.39833 -34.63620) -58.398330   \n",
       "1  2.0                  INCLAN     H  POINT (-58.40037 -34.62982) -58.400372   \n",
       "2  3.0             HUMBERTO 1°     H  POINT (-58.40173 -34.62354) -58.401725   \n",
       "3  4.0               VENEZUELA     H  POINT (-58.40413 -34.61569) -58.404134   \n",
       "4  5.0  ONCE - 30 DE DICIEMBRE     H  POINT (-58.40544 -34.60938) -58.405439   \n",
       "\n",
       "           y  \n",
       "0 -34.636196  \n",
       "1 -34.629822  \n",
       "2 -34.623539  \n",
       "3 -34.615689  \n",
       "4 -34.609382  "
      ]
     },
     "execution_count": 25,
     "metadata": {},
     "output_type": "execute_result"
    }
   ],
   "source": [
    "estaciones['y'] = estaciones.geometry.y\n",
    "estaciones.head()"
   ]
  },
  {
   "cell_type": "markdown",
   "metadata": {},
   "source": [
    "Utilizando estas coordenadas podemos visualizar la ubicacion de nuestras estaciones en un mapa, visualizandolas sobre el eje de coordenadas utilizando su posicion en x y en y"
   ]
  },
  {
   "cell_type": "code",
   "execution_count": 26,
   "metadata": {},
   "outputs": [
    {
     "data": {
      "text/plain": [
       "<matplotlib.collections.PathCollection at 0x7f5fee4bb898>"
      ]
     },
     "execution_count": 26,
     "metadata": {},
     "output_type": "execute_result"
    },
    {
     "data": {
      "image/png": "[encoded data removed]",
      "text/plain": [
       "<Figure size 432x432 with 1 Axes>"
      ]
     },
     "metadata": {
      "needs_background": "light"
     },
     "output_type": "display_data"
    }
   ],
   "source": [
    "fig = plt.figure(figsize=(6,6))\n",
    "ax = fig.add_subplot(1,1,1)\n",
    "ax.scatter(estaciones.x,estaciones.y)"
   ]
  },
  {
   "cell_type": "markdown",
   "metadata": {},
   "source": [
    "Afortunadamente los desarrolladores de GeoPandas tambien pensaron que esta tarea debía poder resolverse de manera más sencilla:"
   ]
  },
  {
   "cell_type": "code",
   "execution_count": 27,
   "metadata": {},
   "outputs": [
    {
     "data": {
      "text/plain": [
       "<matplotlib.axes._subplots.AxesSubplot at 0x7f5fee47b6a0>"
      ]
     },
     "execution_count": 27,
     "metadata": {},
     "output_type": "execute_result"
    },
    {
     "data": {
      "image/png": "[encoded data removed]",
      "text/plain": [
       "<Figure size 432x288 with 1 Axes>"
      ]
     },
     "metadata": {
      "needs_background": "light"
     },
     "output_type": "display_data"
    }
   ],
   "source": [
    "#al igual que los DataFrames de Pandas, los GeoDataFrames tienen un método (o función) plot que visualiza los objetos espaciales. \n",
    "estaciones.drop(['x','y'],axis=1).plot()"
   ]
  },
  {
   "cell_type": "markdown",
   "metadata": {},
   "source": [
    "## 3 - Procesos de seleccion en `geopandas`"
   ]
  },
  {
   "cell_type": "code",
   "execution_count": 28,
   "metadata": {},
   "outputs": [
    {
     "data": {
      "text/html": [
       "<div>\n",
       "<style scoped>\n",
       "    .dataframe tbody tr th:only-of-type {\n",
       "        vertical-align: middle;\n",
       "    }\n",
       "\n",
       "    .dataframe tbody tr th {\n",
       "        vertical-align: top;\n",
       "    }\n",
       "\n",
       "    .dataframe thead th {\n",
       "        text-align: right;\n",
       "    }\n",
       "</style>\n",
       "<table border=\"1\" class=\"dataframe\">\n",
       "  <thead>\n",
       "    <tr style=\"text-align: right;\">\n",
       "      <th></th>\n",
       "      <th>ID</th>\n",
       "      <th>ESTACION</th>\n",
       "      <th>LINEA</th>\n",
       "      <th>geometry</th>\n",
       "      <th>x</th>\n",
       "      <th>y</th>\n",
       "    </tr>\n",
       "  </thead>\n",
       "  <tbody>\n",
       "    <tr>\n",
       "      <th>0</th>\n",
       "      <td>1.0</td>\n",
       "      <td>CASEROS</td>\n",
       "      <td>H</td>\n",
       "      <td>POINT (-58.39833 -34.63620)</td>\n",
       "      <td>-58.398330</td>\n",
       "      <td>-34.636196</td>\n",
       "    </tr>\n",
       "    <tr>\n",
       "      <th>1</th>\n",
       "      <td>2.0</td>\n",
       "      <td>INCLAN</td>\n",
       "      <td>H</td>\n",
       "      <td>POINT (-58.40037 -34.62982)</td>\n",
       "      <td>-58.400372</td>\n",
       "      <td>-34.629822</td>\n",
       "    </tr>\n",
       "    <tr>\n",
       "      <th>2</th>\n",
       "      <td>3.0</td>\n",
       "      <td>HUMBERTO 1°</td>\n",
       "      <td>H</td>\n",
       "      <td>POINT (-58.40173 -34.62354)</td>\n",
       "      <td>-58.401725</td>\n",
       "      <td>-34.623539</td>\n",
       "    </tr>\n",
       "    <tr>\n",
       "      <th>3</th>\n",
       "      <td>4.0</td>\n",
       "      <td>VENEZUELA</td>\n",
       "      <td>H</td>\n",
       "      <td>POINT (-58.40413 -34.61569)</td>\n",
       "      <td>-58.404134</td>\n",
       "      <td>-34.615689</td>\n",
       "    </tr>\n",
       "    <tr>\n",
       "      <th>4</th>\n",
       "      <td>5.0</td>\n",
       "      <td>ONCE - 30 DE DICIEMBRE</td>\n",
       "      <td>H</td>\n",
       "      <td>POINT (-58.40544 -34.60938)</td>\n",
       "      <td>-58.405439</td>\n",
       "      <td>-34.609382</td>\n",
       "    </tr>\n",
       "  </tbody>\n",
       "</table>\n",
       "</div>"
      ],
      "text/plain": [
       "    ID                ESTACION LINEA                     geometry          x  \\\n",
       "0  1.0                 CASEROS     H  POINT (-58.39833 -34.63620) -58.398330   \n",
       "1  2.0                  INCLAN     H  POINT (-58.40037 -34.62982) -58.400372   \n",
       "2  3.0             HUMBERTO 1°     H  POINT (-58.40173 -34.62354) -58.401725   \n",
       "3  4.0               VENEZUELA     H  POINT (-58.40413 -34.61569) -58.404134   \n",
       "4  5.0  ONCE - 30 DE DICIEMBRE     H  POINT (-58.40544 -34.60938) -58.405439   \n",
       "\n",
       "           y  \n",
       "0 -34.636196  \n",
       "1 -34.629822  \n",
       "2 -34.623539  \n",
       "3 -34.615689  \n",
       "4 -34.609382  "
      ]
     },
     "execution_count": 28,
     "metadata": {},
     "output_type": "execute_result"
    }
   ],
   "source": [
    "estaciones.head()"
   ]
  },
  {
   "cell_type": "code",
   "execution_count": 29,
   "metadata": {},
   "outputs": [
    {
     "data": {
      "text/plain": [
       "<matplotlib.axes._subplots.AxesSubplot at 0x7f5fee3e0940>"
      ]
     },
     "execution_count": 29,
     "metadata": {},
     "output_type": "execute_result"
    },
    {
     "data": {
      "image/png": "[encoded data removed]",
      "text/plain": [
       "<Figure size 432x288 with 1 Axes>"
      ]
     },
     "metadata": {
      "needs_background": "light"
     },
     "output_type": "display_data"
    }
   ],
   "source": [
    "#podemos seleccionar\n",
    "estaciones.loc[estaciones.LINEA=='H',:].plot()"
   ]
  },
  {
   "cell_type": "code",
   "execution_count": 30,
   "metadata": {},
   "outputs": [
    {
     "data": {
      "text/plain": [
       "<matplotlib.axes._subplots.AxesSubplot at 0x7f5fee3c6e80>"
      ]
     },
     "execution_count": 30,
     "metadata": {},
     "output_type": "execute_result"
    },
    {
     "data": {
      "image/png": "[encoded data removed]",
      "text/plain": [
       "<Figure size 432x432 with 1 Axes>"
      ]
     },
     "metadata": {
      "needs_background": "light"
     },
     "output_type": "display_data"
    }
   ],
   "source": [
    "fig = plt.figure(figsize=(6,6))\n",
    "ax = fig.add_subplot(1,1,1)\n",
    "estaciones.loc[estaciones.LINEA!='H',:].plot(ax=ax,color='grey')\n",
    "estaciones.loc[estaciones.LINEA=='H',:].plot(ax=ax,color='gold')"
   ]
  },
  {
   "cell_type": "code",
   "execution_count": 31,
   "metadata": {},
   "outputs": [
    {
     "data": {
      "text/plain": [
       "(-58.50146424626045,\n",
       " -58.35365442301726,\n",
       " -34.6582595609063,\n",
       " -34.541588867405764)"
      ]
     },
     "execution_count": 31,
     "metadata": {},
     "output_type": "execute_result"
    },
    {
     "data": {
      "image/png": "[encoded data removed]",
      "text/plain": [
       "<Figure size 432x432 with 1 Axes>"
      ]
     },
     "metadata": {
      "needs_background": "light"
     },
     "output_type": "display_data"
    }
   ],
   "source": [
    "fig = plt.figure(figsize=(6,6))\n",
    "ax = fig.add_subplot(1,1,1)\n",
    "estaciones.loc[estaciones.LINEA!='H',:].plot(ax=ax,color='grey')\n",
    "estaciones.loc[estaciones.LINEA=='H',:].plot(ax=ax,color='gold',marker='*', markersize=250)\n",
    "\n",
    "#eliminamos los ejes\n",
    "ax.set_axis_off()\n",
    "# Forzamos un mismo rango de valors a los ejes para una vision mas \"cuadrada\" del mapa\n",
    "plt.axis('equal')"
   ]
  },
  {
   "cell_type": "markdown",
   "metadata": {},
   "source": [
    "## 4- Distancias"
   ]
  },
  {
   "cell_type": "markdown",
   "metadata": {},
   "source": [
    "Pero lo mejor es poder realizar procesos espaciales. Por ejemplo, podemos ver utilizar una harramienta de análisis básica y fundamental del análisis espacial para los objetos de tipo punto: la distancia euclidiana.\n",
    "\n",
    "$$\\sqrt[2]{(x_d - x_o)^{2}+(y_d - y_o)^{2}}$$"
   ]
  },
  {
   "cell_type": "code",
   "execution_count": 32,
   "metadata": {
    "scrolled": true
   },
   "outputs": [
    {
     "data": {
      "text/plain": [
       "0.03717205685901316"
      ]
     },
     "execution_count": 32,
     "metadata": {},
     "output_type": "execute_result"
    }
   ],
   "source": [
    "import math\n",
    "constitucion = estaciones.loc[estaciones.ESTACION == 'CONSTITUCION',:]\n",
    "retiro = estaciones.loc[estaciones.ESTACION == 'RETIRO',:]\n",
    "math.sqrt((retiro.x.iloc[0] - constitucion.x.iloc[0])**2 + (retiro.y.iloc[0] - constitucion.y.iloc[0])**2)"
   ]
  },
  {
   "cell_type": "markdown",
   "metadata": {},
   "source": [
    "Afortunadamente esto no es algo que tenemos que hacer cada vez. `Geopandas` y `Shapely` lo resuelven por nosotros. De hecho, podríamos ir desde al bajo nivel (las muñecas rusas pequeñas, calculando distancias con cada punto) como hicimos con la extracción de las coordenadas x y y, o podemos directamente ver en alto nivel (la muñeca más grande) cómo lo implementa GeoPandas. Veamos primero en alto nivel y luego procedemos por el lento y sinuoso camino del bajo nivel"
   ]
  },
  {
   "cell_type": "code",
   "execution_count": 33,
   "metadata": {},
   "outputs": [],
   "source": [
    "#convertirmos todo nuestro dataset a una proyeccion con unidades en metros. Luego veremos en mas detalle \n",
    "estaciones = estaciones.to_crs(epsg=3857)"
   ]
  },
  {
   "cell_type": "code",
   "execution_count": 34,
   "metadata": {},
   "outputs": [],
   "source": [
    "#necesitamos calcular la distancia de nuestras estaciones con respecto a algo, no existe la distancia a la nada\n",
    "from shapely.geometry import Point #mas adelante veremos esta linea\n",
    "obelisco = Point(-6499048.3,-4110245.4)"
   ]
  },
  {
   "cell_type": "markdown",
   "metadata": {},
   "source": [
    "![obelisco](https://upload.wikimedia.org/wikipedia/commons/thumb/0/0f/ObeliscoBA2017.jpg/245px-ObeliscoBA2017.jpg)"
   ]
  },
  {
   "cell_type": "code",
   "execution_count": 35,
   "metadata": {},
   "outputs": [
    {
     "data": {
      "text/html": [
       "<div>\n",
       "<style scoped>\n",
       "    .dataframe tbody tr th:only-of-type {\n",
       "        vertical-align: middle;\n",
       "    }\n",
       "\n",
       "    .dataframe tbody tr th {\n",
       "        vertical-align: top;\n",
       "    }\n",
       "\n",
       "    .dataframe thead th {\n",
       "        text-align: right;\n",
       "    }\n",
       "</style>\n",
       "<table border=\"1\" class=\"dataframe\">\n",
       "  <thead>\n",
       "    <tr style=\"text-align: right;\">\n",
       "      <th></th>\n",
       "      <th>ID</th>\n",
       "      <th>ESTACION</th>\n",
       "      <th>LINEA</th>\n",
       "      <th>geometry</th>\n",
       "      <th>x</th>\n",
       "      <th>y</th>\n",
       "      <th>distancia</th>\n",
       "    </tr>\n",
       "  </thead>\n",
       "  <tbody>\n",
       "    <tr>\n",
       "      <th>0</th>\n",
       "      <td>1.0</td>\n",
       "      <td>CASEROS</td>\n",
       "      <td>H</td>\n",
       "      <td>POINT (-6500872.365 -4114550.923)</td>\n",
       "      <td>-58.398330</td>\n",
       "      <td>-34.636196</td>\n",
       "      <td>4675.974617</td>\n",
       "    </tr>\n",
       "    <tr>\n",
       "      <th>1</th>\n",
       "      <td>2.0</td>\n",
       "      <td>INCLAN</td>\n",
       "      <td>H</td>\n",
       "      <td>POINT (-6501099.673 -4113688.522)</td>\n",
       "      <td>-58.400372</td>\n",
       "      <td>-34.629822</td>\n",
       "      <td>4007.894552</td>\n",
       "    </tr>\n",
       "    <tr>\n",
       "      <th>2</th>\n",
       "      <td>3.0</td>\n",
       "      <td>HUMBERTO 1°</td>\n",
       "      <td>H</td>\n",
       "      <td>POINT (-6501250.307 -4112838.522)</td>\n",
       "      <td>-58.401725</td>\n",
       "      <td>-34.623539</td>\n",
       "      <td>3401.928261</td>\n",
       "    </tr>\n",
       "    <tr>\n",
       "      <th>3</th>\n",
       "      <td>4.0</td>\n",
       "      <td>VENEZUELA</td>\n",
       "      <td>H</td>\n",
       "      <td>POINT (-6501518.471 -4111776.654)</td>\n",
       "      <td>-58.404134</td>\n",
       "      <td>-34.615689</td>\n",
       "      <td>2906.283270</td>\n",
       "    </tr>\n",
       "    <tr>\n",
       "      <th>4</th>\n",
       "      <td>5.0</td>\n",
       "      <td>ONCE - 30 DE DICIEMBRE</td>\n",
       "      <td>H</td>\n",
       "      <td>POINT (-6501663.705 -4110923.610)</td>\n",
       "      <td>-58.405439</td>\n",
       "      <td>-34.609382</td>\n",
       "      <td>2701.909100</td>\n",
       "    </tr>\n",
       "  </tbody>\n",
       "</table>\n",
       "</div>"
      ],
      "text/plain": [
       "    ID                ESTACION LINEA                           geometry  \\\n",
       "0  1.0                 CASEROS     H  POINT (-6500872.365 -4114550.923)   \n",
       "1  2.0                  INCLAN     H  POINT (-6501099.673 -4113688.522)   \n",
       "2  3.0             HUMBERTO 1°     H  POINT (-6501250.307 -4112838.522)   \n",
       "3  4.0               VENEZUELA     H  POINT (-6501518.471 -4111776.654)   \n",
       "4  5.0  ONCE - 30 DE DICIEMBRE     H  POINT (-6501663.705 -4110923.610)   \n",
       "\n",
       "           x          y    distancia  \n",
       "0 -58.398330 -34.636196  4675.974617  \n",
       "1 -58.400372 -34.629822  4007.894552  \n",
       "2 -58.401725 -34.623539  3401.928261  \n",
       "3 -58.404134 -34.615689  2906.283270  \n",
       "4 -58.405439 -34.609382  2701.909100  "
      ]
     },
     "execution_count": 35,
     "metadata": {},
     "output_type": "execute_result"
    }
   ],
   "source": [
    "#una forma es mapear\n",
    "estaciones['distancia'] = estaciones.geometry.map(lambda x: x.distance(obelisco))\n",
    "estaciones.head()"
   ]
  },
  {
   "cell_type": "code",
   "execution_count": 36,
   "metadata": {},
   "outputs": [
    {
     "data": {
      "text/html": [
       "<div>\n",
       "<style scoped>\n",
       "    .dataframe tbody tr th:only-of-type {\n",
       "        vertical-align: middle;\n",
       "    }\n",
       "\n",
       "    .dataframe tbody tr th {\n",
       "        vertical-align: top;\n",
       "    }\n",
       "\n",
       "    .dataframe thead th {\n",
       "        text-align: right;\n",
       "    }\n",
       "</style>\n",
       "<table border=\"1\" class=\"dataframe\">\n",
       "  <thead>\n",
       "    <tr style=\"text-align: right;\">\n",
       "      <th></th>\n",
       "      <th>ID</th>\n",
       "      <th>ESTACION</th>\n",
       "      <th>LINEA</th>\n",
       "      <th>geometry</th>\n",
       "      <th>x</th>\n",
       "      <th>y</th>\n",
       "      <th>distancia</th>\n",
       "    </tr>\n",
       "  </thead>\n",
       "  <tbody>\n",
       "    <tr>\n",
       "      <th>0</th>\n",
       "      <td>1.0</td>\n",
       "      <td>CASEROS</td>\n",
       "      <td>H</td>\n",
       "      <td>POINT (-6500872.365 -4114550.923)</td>\n",
       "      <td>-58.398330</td>\n",
       "      <td>-34.636196</td>\n",
       "      <td>4675.974617</td>\n",
       "    </tr>\n",
       "    <tr>\n",
       "      <th>1</th>\n",
       "      <td>2.0</td>\n",
       "      <td>INCLAN</td>\n",
       "      <td>H</td>\n",
       "      <td>POINT (-6501099.673 -4113688.522)</td>\n",
       "      <td>-58.400372</td>\n",
       "      <td>-34.629822</td>\n",
       "      <td>4007.894552</td>\n",
       "    </tr>\n",
       "    <tr>\n",
       "      <th>2</th>\n",
       "      <td>3.0</td>\n",
       "      <td>HUMBERTO 1°</td>\n",
       "      <td>H</td>\n",
       "      <td>POINT (-6501250.307 -4112838.522)</td>\n",
       "      <td>-58.401725</td>\n",
       "      <td>-34.623539</td>\n",
       "      <td>3401.928261</td>\n",
       "    </tr>\n",
       "    <tr>\n",
       "      <th>3</th>\n",
       "      <td>4.0</td>\n",
       "      <td>VENEZUELA</td>\n",
       "      <td>H</td>\n",
       "      <td>POINT (-6501518.471 -4111776.654)</td>\n",
       "      <td>-58.404134</td>\n",
       "      <td>-34.615689</td>\n",
       "      <td>2906.283270</td>\n",
       "    </tr>\n",
       "    <tr>\n",
       "      <th>4</th>\n",
       "      <td>5.0</td>\n",
       "      <td>ONCE - 30 DE DICIEMBRE</td>\n",
       "      <td>H</td>\n",
       "      <td>POINT (-6501663.705 -4110923.610)</td>\n",
       "      <td>-58.405439</td>\n",
       "      <td>-34.609382</td>\n",
       "      <td>2701.909100</td>\n",
       "    </tr>\n",
       "  </tbody>\n",
       "</table>\n",
       "</div>"
      ],
      "text/plain": [
       "    ID                ESTACION LINEA                           geometry  \\\n",
       "0  1.0                 CASEROS     H  POINT (-6500872.365 -4114550.923)   \n",
       "1  2.0                  INCLAN     H  POINT (-6501099.673 -4113688.522)   \n",
       "2  3.0             HUMBERTO 1°     H  POINT (-6501250.307 -4112838.522)   \n",
       "3  4.0               VENEZUELA     H  POINT (-6501518.471 -4111776.654)   \n",
       "4  5.0  ONCE - 30 DE DICIEMBRE     H  POINT (-6501663.705 -4110923.610)   \n",
       "\n",
       "           x          y    distancia  \n",
       "0 -58.398330 -34.636196  4675.974617  \n",
       "1 -58.400372 -34.629822  4007.894552  \n",
       "2 -58.401725 -34.623539  3401.928261  \n",
       "3 -58.404134 -34.615689  2906.283270  \n",
       "4 -58.405439 -34.609382  2701.909100  "
      ]
     },
     "execution_count": 36,
     "metadata": {},
     "output_type": "execute_result"
    }
   ],
   "source": [
    "#pero afortunadamente GeoPandas puede aplicar este metodo a toda la Serie\n",
    "estaciones['distancia'] = estaciones.geometry.distance(obelisco)\n",
    "estaciones.head()"
   ]
  },
  {
   "cell_type": "code",
   "execution_count": 37,
   "metadata": {},
   "outputs": [
    {
     "data": {
      "text/plain": [
       "Text(0.5, 1, 'Estaciones de subte y distancia al Obelisco')"
      ]
     },
     "execution_count": 37,
     "metadata": {},
     "output_type": "execute_result"
    },
    {
     "data": {
      "image/png": "[encoded data removed]",
      "text/plain": [
       "<Figure size 432x432 with 1 Axes>"
      ]
     },
     "metadata": {
      "needs_background": "light"
     },
     "output_type": "display_data"
    }
   ],
   "source": [
    "#veamoslo en un mapa\n",
    "fig = plt.figure(figsize=(6,6))\n",
    "ax = fig.add_subplot(1,1,1)\n",
    "estaciones.plot(ax=ax,color='grey',markersize=(estaciones.distancia/10),alpha=0.5) \n",
    "ax.set_axis_off()\n",
    "plt.axis('equal')\n",
    "ax.set_title('Estaciones de subte y distancia al Obelisco')"
   ]
  },
  {
   "cell_type": "markdown",
   "metadata": {},
   "source": [
    "### Digresión por el camino lento y aburrido del bajo nivel"
   ]
  },
  {
   "cell_type": "code",
   "execution_count": 38,
   "metadata": {},
   "outputs": [],
   "source": [
    "#revertimos el proceso para volver a nuestra base a latlong\n",
    "estaciones = estaciones.to_crs(epsg=4326)"
   ]
  },
  {
   "cell_type": "code",
   "execution_count": 39,
   "metadata": {},
   "outputs": [],
   "source": [
    "#primero seleccionemos nuestras dos estaciones\n",
    "constitucion = estaciones.loc[estaciones.ESTACION == 'CONSTITUCION','geometry'].iloc[0]\n",
    "retiro = estaciones.loc[estaciones.ESTACION == 'RETIRO','geometry'].iloc[0]"
   ]
  },
  {
   "cell_type": "code",
   "execution_count": 40,
   "metadata": {},
   "outputs": [
    {
     "data": {
      "text/plain": [
       "0.03717205685901316"
      ]
     },
     "execution_count": 40,
     "metadata": {},
     "output_type": "execute_result"
    }
   ],
   "source": [
    "constitucion.distance(retiro)"
   ]
  },
  {
   "cell_type": "markdown",
   "metadata": {},
   "source": [
    "Veamos algunas cosas que acaban de suceder. En primer lugar que significa 0.03? En que unidades de medidas se encuentra? Esto depende de la proyeccion de coordenadas que utilizamos"
   ]
  },
  {
   "cell_type": "code",
   "execution_count": 41,
   "metadata": {},
   "outputs": [
    {
     "data": {
      "text/plain": [
       "{'init': 'epsg:4326', 'no_defs': True}"
      ]
     },
     "execution_count": 41,
     "metadata": {},
     "output_type": "execute_result"
    }
   ],
   "source": [
    "estaciones.crs"
   ]
  },
  {
   "cell_type": "markdown",
   "metadata": {},
   "source": [
    "La proyeccion de este GeoDataFrame está en [EPSG 4326](https://epsg.io/4326) cuya unidad de medida es grados. Hay muchas proyecciones que utilizan metros. Como la proyeción óptima depende de la ubicación en el planeta donde hagamos nuestro análisis, podemos utilizar una sencilla de alcance global como la [EPSG 3857](https://epsg.io/3857).\n",
    "\n",
    "Pero tenemos que saber qué tipo de objetos nos dejan cambiar las proyecciones. Porque no es lo mismo un **GeoDataFrame**, una **GeoSeries** o un objeto **Shapely**."
   ]
  },
  {
   "cell_type": "code",
   "execution_count": 42,
   "metadata": {},
   "outputs": [
    {
     "data": {
      "text/plain": [
       "4995.298837542108"
      ]
     },
     "execution_count": 42,
     "metadata": {},
     "output_type": "execute_result"
    }
   ],
   "source": [
    "#repitamos el mismo proceso convirtiendo a metros\n",
    "constitucion = estaciones.loc[estaciones.ESTACION == 'CONSTITUCION','geometry'].to_crs(epsg=3857).iloc[0]\n",
    "retiro = estaciones.loc[estaciones.ESTACION == 'RETIRO','geometry'].to_crs(epsg=3857).iloc[0]\n",
    "constitucion.distance(retiro)"
   ]
  },
  {
   "cell_type": "markdown",
   "metadata": {},
   "source": [
    "Reconstruyamos paso a paso lo que hicimos previamente, y veamos con que tipo de objetos tratamos. Primero buscamos nuestra estación con `.loc` tal cual lo veníamos haciendo"
   ]
  },
  {
   "cell_type": "code",
   "execution_count": 43,
   "metadata": {},
   "outputs": [
    {
     "data": {
      "text/plain": [
       "18    POINT (-58.38084 -34.62807)\n",
       "Name: geometry, dtype: geometry"
      ]
     },
     "execution_count": 43,
     "metadata": {},
     "output_type": "execute_result"
    }
   ],
   "source": [
    "#a priori observamos que hay un numero al lado, lo que indica que tiene un indice y por ende sea probablementa Serie\n",
    "constitucion = estaciones.loc[estaciones.ESTACION == 'CONSTITUCION','geometry']\n",
    "constitucion"
   ]
  },
  {
   "cell_type": "code",
   "execution_count": 44,
   "metadata": {},
   "outputs": [
    {
     "data": {
      "text/plain": [
       "geopandas.geoseries.GeoSeries"
      ]
     },
     "execution_count": 44,
     "metadata": {},
     "output_type": "execute_result"
    }
   ],
   "source": [
    "type(constitucion)"
   ]
  },
  {
   "cell_type": "markdown",
   "metadata": {},
   "source": [
    "El problema con calcular distancias, es que siempre una distancia es de un punto a otro. Si utilizamos una serie, la misma puede tener 2, 3 o *n* elementos. Por eso tenemos que partir siempre de un punto y no de una serie. Eso hace el `iloc[0]`, toma el primer (y único) elemento de la serie. "
   ]
  },
  {
   "cell_type": "code",
   "execution_count": 45,
   "metadata": {},
   "outputs": [
    {
     "data": {
      "text/plain": [
       "shapely.geometry.point.Point"
      ]
     },
     "execution_count": 45,
     "metadata": {},
     "output_type": "execute_result"
    }
   ],
   "source": [
    "constitucion = estaciones.loc[estaciones.ESTACION == 'CONSTITUCION','geometry'].iloc[0]\n",
    "type(constitucion)"
   ]
  },
  {
   "cell_type": "markdown",
   "metadata": {},
   "source": [
    "Ahora podemos ver que el tipo es un `Shapely` **Point**. Hemos llegado a la muñeca rusa más pequeña (al menos la más pequeña que veremos en este taller, donde no llegamos al transistor, el bit y los 1 y 0)."
   ]
  },
  {
   "cell_type": "code",
   "execution_count": 46,
   "metadata": {},
   "outputs": [
    {
     "data": {
      "image/svg+xml": [
       "<svg xmlns=\"http://www.w3.org/2000/svg\" xmlns:xlink=\"http://www.w3.org/1999/xlink\" width=\"100.0\" height=\"100.0\" viewBox=\"-59.38083760902074 -35.628065663639 2.0 2.0\" preserveAspectRatio=\"xMinYMin meet\"><g transform=\"matrix(1,0,0,-1,0,-69.256131327278)\"><circle cx=\"-58.38083760902074\" cy=\"-34.628065663639\" r=\"0.06\" stroke=\"#555555\" stroke-width=\"0.02\" fill=\"#66cc99\" opacity=\"0.6\" /></g></svg>"
      ],
      "text/plain": [
       "<shapely.geometry.point.Point at 0x7f5fe7c854a8>"
      ]
     },
     "execution_count": 46,
     "metadata": {},
     "output_type": "execute_result"
    }
   ],
   "source": [
    "constitucion"
   ]
  },
  {
   "cell_type": "markdown",
   "metadata": {},
   "source": [
    "De hecho, veamos que la función `disatnce()` pertenece al objeto **Point**, no a Python básico, Pandas o Geopandas. Es propia de **Point**"
   ]
  },
  {
   "cell_type": "code",
   "execution_count": 47,
   "metadata": {},
   "outputs": [
    {
     "name": "stdout",
     "output_type": "stream",
     "text": [
      "Help on function distance in module shapely.geometry.base:\n",
      "\n",
      "distance(self, other)\n",
      "    Unitless distance to other geometry (float)\n",
      "\n"
     ]
    }
   ],
   "source": [
    "#importamos el objeto Point desde la libreria shapely\n",
    "from shapely.geometry import Point\n",
    "help(Point.distance)"
   ]
  },
  {
   "cell_type": "markdown",
   "metadata": {},
   "source": [
    "Pero ademas noten que al elegir solo la columna **geometry**, no usamos []. Si lo hubiesemos hecho, hubiesemos obtenido una Serie y deberiamos haberlo repetido dos veces "
   ]
  },
  {
   "cell_type": "code",
   "execution_count": 48,
   "metadata": {},
   "outputs": [
    {
     "data": {
      "text/html": [
       "<div>\n",
       "<style scoped>\n",
       "    .dataframe tbody tr th:only-of-type {\n",
       "        vertical-align: middle;\n",
       "    }\n",
       "\n",
       "    .dataframe tbody tr th {\n",
       "        vertical-align: top;\n",
       "    }\n",
       "\n",
       "    .dataframe thead th {\n",
       "        text-align: right;\n",
       "    }\n",
       "</style>\n",
       "<table border=\"1\" class=\"dataframe\">\n",
       "  <thead>\n",
       "    <tr style=\"text-align: right;\">\n",
       "      <th></th>\n",
       "      <th>ID</th>\n",
       "    </tr>\n",
       "  </thead>\n",
       "  <tbody>\n",
       "    <tr>\n",
       "      <th>0</th>\n",
       "      <td>1.0</td>\n",
       "    </tr>\n",
       "  </tbody>\n",
       "</table>\n",
       "</div>"
      ],
      "text/plain": [
       "    ID\n",
       "0  1.0"
      ]
     },
     "execution_count": 48,
     "metadata": {},
     "output_type": "execute_result"
    }
   ],
   "source": [
    "#esto devuelve un data frame\n",
    "estaciones.iloc[[0],[0]]"
   ]
  },
  {
   "cell_type": "code",
   "execution_count": 49,
   "metadata": {},
   "outputs": [
    {
     "data": {
      "text/plain": [
       "ID    1\n",
       "Name: 0, dtype: object"
      ]
     },
     "execution_count": 49,
     "metadata": {},
     "output_type": "execute_result"
    }
   ],
   "source": [
    "#esto una Series\n",
    "estaciones.iloc[0,[0]]"
   ]
  },
  {
   "cell_type": "code",
   "execution_count": 50,
   "metadata": {},
   "outputs": [
    {
     "data": {
      "text/plain": [
       "1.0"
      ]
     },
     "execution_count": 50,
     "metadata": {},
     "output_type": "execute_result"
    }
   ],
   "source": [
    "#esto un numero, el contenido dentro de la celda\n",
    "estaciones.iloc[0,0]"
   ]
  },
  {
   "cell_type": "code",
   "execution_count": 51,
   "metadata": {},
   "outputs": [
    {
     "data": {
      "text/plain": [
       "geopandas.geoseries.GeoSeries"
      ]
     },
     "execution_count": 51,
     "metadata": {},
     "output_type": "execute_result"
    }
   ],
   "source": [
    "#al usar un filtro que devuelve una lista de True y False, devuelve una lista\n",
    "constitucion = estaciones.loc[estaciones.ESTACION == 'CONSTITUCION','geometry']\n",
    "type(constitucion)\n"
   ]
  },
  {
   "cell_type": "code",
   "execution_count": 52,
   "metadata": {},
   "outputs": [
    {
     "data": {
      "text/plain": [
       "pandas.core.series.Series"
      ]
     },
     "execution_count": 52,
     "metadata": {},
     "output_type": "execute_result"
    }
   ],
   "source": [
    "#noten que al filtrar las filas, usamos una serie\n",
    "type(estaciones.ESTACION == 'CONSTITUCION')"
   ]
  },
  {
   "cell_type": "code",
   "execution_count": 53,
   "metadata": {},
   "outputs": [
    {
     "data": {
      "text/plain": [
       "shapely.geometry.point.Point"
      ]
     },
     "execution_count": 53,
     "metadata": {},
     "output_type": "execute_result"
    }
   ],
   "source": [
    "#con iloc[0] extraemos el elemento dentro de la Series\n",
    "constitucion = estaciones.loc[estaciones.ESTACION == 'CONSTITUCION','geometry'].iloc[0]\n",
    "\n",
    "type(constitucion)\n"
   ]
  },
  {
   "cell_type": "markdown",
   "metadata": {},
   "source": [
    "Ahora si ya comprendemos que tenemos que calcular la distancia entre dos puntos, y para eso debemos urgar dentro de la muñeca de `GeoPandas` **DataFrame**, dentro de la **GeoSeries** geometry hasta el **Punto** de `Shapely`."
   ]
  },
  {
   "cell_type": "code",
   "execution_count": 54,
   "metadata": {},
   "outputs": [
    {
     "data": {
      "text/plain": [
       "4995.298837542108"
      ]
     },
     "execution_count": 54,
     "metadata": {},
     "output_type": "execute_result"
    }
   ],
   "source": [
    "constitucion = estaciones.loc[estaciones.ESTACION == 'CONSTITUCION','geometry'].to_crs(epsg=3857).iloc[0]\n",
    "retiro = estaciones.loc[estaciones.ESTACION == 'RETIRO','geometry'].to_crs(epsg=3857).iloc[0]\n",
    "constitucion.distance(retiro)"
   ]
  },
  {
   "cell_type": "markdown",
   "metadata": {},
   "source": [
    "Sin embargo, recordemos que el concepto de proyección de coordenadas es propio de `GeoPandas`, no de `Shapely`. Podemos convertir todo un **GeoDataFrame** o una **Series**, pero no un **Punto**"
   ]
  },
  {
   "cell_type": "code",
   "execution_count": 55,
   "metadata": {},
   "outputs": [
    {
     "data": {
      "text/html": [
       "<div>\n",
       "<style scoped>\n",
       "    .dataframe tbody tr th:only-of-type {\n",
       "        vertical-align: middle;\n",
       "    }\n",
       "\n",
       "    .dataframe tbody tr th {\n",
       "        vertical-align: top;\n",
       "    }\n",
       "\n",
       "    .dataframe thead th {\n",
       "        text-align: right;\n",
       "    }\n",
       "</style>\n",
       "<table border=\"1\" class=\"dataframe\">\n",
       "  <thead>\n",
       "    <tr style=\"text-align: right;\">\n",
       "      <th></th>\n",
       "      <th>ID</th>\n",
       "      <th>ESTACION</th>\n",
       "      <th>LINEA</th>\n",
       "      <th>geometry</th>\n",
       "      <th>x</th>\n",
       "      <th>y</th>\n",
       "      <th>distancia</th>\n",
       "    </tr>\n",
       "  </thead>\n",
       "  <tbody>\n",
       "    <tr>\n",
       "      <th>0</th>\n",
       "      <td>1.0</td>\n",
       "      <td>CASEROS</td>\n",
       "      <td>H</td>\n",
       "      <td>POINT (-6500872.365 -4114550.923)</td>\n",
       "      <td>-58.398330</td>\n",
       "      <td>-34.636196</td>\n",
       "      <td>4675.974617</td>\n",
       "    </tr>\n",
       "    <tr>\n",
       "      <th>1</th>\n",
       "      <td>2.0</td>\n",
       "      <td>INCLAN</td>\n",
       "      <td>H</td>\n",
       "      <td>POINT (-6501099.673 -4113688.522)</td>\n",
       "      <td>-58.400372</td>\n",
       "      <td>-34.629822</td>\n",
       "      <td>4007.894552</td>\n",
       "    </tr>\n",
       "    <tr>\n",
       "      <th>2</th>\n",
       "      <td>3.0</td>\n",
       "      <td>HUMBERTO 1°</td>\n",
       "      <td>H</td>\n",
       "      <td>POINT (-6501250.307 -4112838.522)</td>\n",
       "      <td>-58.401725</td>\n",
       "      <td>-34.623539</td>\n",
       "      <td>3401.928261</td>\n",
       "    </tr>\n",
       "    <tr>\n",
       "      <th>3</th>\n",
       "      <td>4.0</td>\n",
       "      <td>VENEZUELA</td>\n",
       "      <td>H</td>\n",
       "      <td>POINT (-6501518.471 -4111776.654)</td>\n",
       "      <td>-58.404134</td>\n",
       "      <td>-34.615689</td>\n",
       "      <td>2906.283270</td>\n",
       "    </tr>\n",
       "    <tr>\n",
       "      <th>4</th>\n",
       "      <td>5.0</td>\n",
       "      <td>ONCE - 30 DE DICIEMBRE</td>\n",
       "      <td>H</td>\n",
       "      <td>POINT (-6501663.705 -4110923.610)</td>\n",
       "      <td>-58.405439</td>\n",
       "      <td>-34.609382</td>\n",
       "      <td>2701.909100</td>\n",
       "    </tr>\n",
       "  </tbody>\n",
       "</table>\n",
       "</div>"
      ],
      "text/plain": [
       "    ID                ESTACION LINEA                           geometry  \\\n",
       "0  1.0                 CASEROS     H  POINT (-6500872.365 -4114550.923)   \n",
       "1  2.0                  INCLAN     H  POINT (-6501099.673 -4113688.522)   \n",
       "2  3.0             HUMBERTO 1°     H  POINT (-6501250.307 -4112838.522)   \n",
       "3  4.0               VENEZUELA     H  POINT (-6501518.471 -4111776.654)   \n",
       "4  5.0  ONCE - 30 DE DICIEMBRE     H  POINT (-6501663.705 -4110923.610)   \n",
       "\n",
       "           x          y    distancia  \n",
       "0 -58.398330 -34.636196  4675.974617  \n",
       "1 -58.400372 -34.629822  4007.894552  \n",
       "2 -58.401725 -34.623539  3401.928261  \n",
       "3 -58.404134 -34.615689  2906.283270  \n",
       "4 -58.405439 -34.609382  2701.909100  "
      ]
     },
     "execution_count": 55,
     "metadata": {},
     "output_type": "execute_result"
    }
   ],
   "source": [
    "estaciones.to_crs(epsg=3857).head()"
   ]
  },
  {
   "cell_type": "code",
   "execution_count": 56,
   "metadata": {},
   "outputs": [
    {
     "data": {
      "text/plain": [
       "0    POINT (-6500872.365 -4114550.923)\n",
       "1    POINT (-6501099.673 -4113688.522)\n",
       "2    POINT (-6501250.307 -4112838.522)\n",
       "3    POINT (-6501518.471 -4111776.654)\n",
       "4    POINT (-6501663.705 -4110923.610)\n",
       "Name: geometry, dtype: geometry"
      ]
     },
     "execution_count": 56,
     "metadata": {},
     "output_type": "execute_result"
    }
   ],
   "source": [
    "estaciones.geometry.to_crs(epsg=3857).head()"
   ]
  },
  {
   "cell_type": "code",
   "execution_count": 57,
   "metadata": {},
   "outputs": [],
   "source": [
    "#estaciones.geometry.iloc[0].to_crs(epsg=3857)"
   ]
  },
  {
   "cell_type": "markdown",
   "metadata": {},
   "source": [
    "Por eso siempre que utilicemos procesos espaciales, debemos comprender conceptualmente si ese método se aplica a un punto, a un conjunto de puntos, etc. Una distancia es siempre de punto a punto. Pero podríamos querer obtener una distancia de todas las estaciones a un punto, por ejemplo el Obelisco."
   ]
  },
  {
   "cell_type": "markdown",
   "metadata": {},
   "source": [
    "### Fin de la digresión por el camino lento y aburrido del bajo nivel"
   ]
  },
  {
   "cell_type": "markdown",
   "metadata": {},
   "source": [
    "## 5- Lineas"
   ]
  },
  {
   "cell_type": "markdown",
   "metadata": {},
   "source": [
    "Ahora podemos tratar con el siguiente objeto geografico en terminos de complejidad. La linea "
   ]
  },
  {
   "cell_type": "code",
   "execution_count": 58,
   "metadata": {},
   "outputs": [
    {
     "data": {
      "text/html": [
       "<div>\n",
       "<style scoped>\n",
       "    .dataframe tbody tr th:only-of-type {\n",
       "        vertical-align: middle;\n",
       "    }\n",
       "\n",
       "    .dataframe tbody tr th {\n",
       "        vertical-align: top;\n",
       "    }\n",
       "\n",
       "    .dataframe thead th {\n",
       "        text-align: right;\n",
       "    }\n",
       "</style>\n",
       "<table border=\"1\" class=\"dataframe\">\n",
       "  <thead>\n",
       "    <tr style=\"text-align: right;\">\n",
       "      <th></th>\n",
       "      <th>id</th>\n",
       "      <th>Linea</th>\n",
       "      <th>geometry</th>\n",
       "    </tr>\n",
       "  </thead>\n",
       "  <tbody>\n",
       "    <tr>\n",
       "      <th>0</th>\n",
       "      <td>1</td>\n",
       "      <td>A</td>\n",
       "      <td>LINESTRING (-58.46976 -34.63058, -58.46356 -34...</td>\n",
       "    </tr>\n",
       "    <tr>\n",
       "      <th>1</th>\n",
       "      <td>2</td>\n",
       "      <td>B</td>\n",
       "      <td>LINESTRING (-58.48656 -34.57423, -58.46657 -34...</td>\n",
       "    </tr>\n",
       "    <tr>\n",
       "      <th>2</th>\n",
       "      <td>3</td>\n",
       "      <td>C</td>\n",
       "      <td>LINESTRING (-58.38141 -34.62733, -58.37965 -34...</td>\n",
       "    </tr>\n",
       "    <tr>\n",
       "      <th>3</th>\n",
       "      <td>4</td>\n",
       "      <td>D</td>\n",
       "      <td>LINESTRING (-58.46197 -34.55594, -58.44392 -34...</td>\n",
       "    </tr>\n",
       "    <tr>\n",
       "      <th>4</th>\n",
       "      <td>5</td>\n",
       "      <td>E</td>\n",
       "      <td>LINESTRING (-58.46197 -34.64346, -58.44178 -34...</td>\n",
       "    </tr>\n",
       "    <tr>\n",
       "      <th>5</th>\n",
       "      <td>6</td>\n",
       "      <td>H</td>\n",
       "      <td>LINESTRING (-58.41256 -34.64110, -58.39911 -34...</td>\n",
       "    </tr>\n",
       "  </tbody>\n",
       "</table>\n",
       "</div>"
      ],
      "text/plain": [
       "   id Linea                                           geometry\n",
       "0   1     A  LINESTRING (-58.46976 -34.63058, -58.46356 -34...\n",
       "1   2     B  LINESTRING (-58.48656 -34.57423, -58.46657 -34...\n",
       "2   3     C  LINESTRING (-58.38141 -34.62733, -58.37965 -34...\n",
       "3   4     D  LINESTRING (-58.46197 -34.55594, -58.44392 -34...\n",
       "4   5     E  LINESTRING (-58.46197 -34.64346, -58.44178 -34...\n",
       "5   6     H  LINESTRING (-58.41256 -34.64110, -58.39911 -34..."
      ]
     },
     "execution_count": 58,
     "metadata": {},
     "output_type": "execute_result"
    }
   ],
   "source": [
    "lineas = gpd.read_file('../carto/lineas_de_subte.shp')\n",
    "lineas"
   ]
  },
  {
   "cell_type": "markdown",
   "metadata": {},
   "source": [
    "Como comentamos en otras clases, tener indices reales, que den cuenta de los datos puede ser muy util. Hagamos eso\n"
   ]
  },
  {
   "cell_type": "code",
   "execution_count": 59,
   "metadata": {},
   "outputs": [
    {
     "data": {
      "image/svg+xml": [
       "<svg xmlns=\"http://www.w3.org/2000/svg\" xmlns:xlink=\"http://www.w3.org/1999/xlink\" width=\"100.0\" height=\"100.0\" viewBox=\"-58.47374365545048 -34.63456238111849 0.10762855545162608 0.029667094504858937\" preserveAspectRatio=\"xMinYMin meet\"><g transform=\"matrix(1,0,0,-1,0,-69.23945766773213)\"><polyline fill=\"none\" stroke=\"#66cc99\" stroke-width=\"0.0021525711090325216\" points=\"-58.46975741265597,-34.63057613832399 -58.463560584841396,-34.62925919932813 -58.45665587405691,-34.62647842251712 -58.44886648653291,-34.623404458390084 -58.44125462841491,-34.620622724980535 -58.43541338246241,-34.618279971870194 -58.42939585338169,-34.61491244555441 -58.42196257647138,-34.61183685485863 -58.41505969422278,-34.61080990934698 -58.406741019864604,-34.60963558266745 -58.39806777721138,-34.60948494699535 -58.370101342793355,-34.60888152940814\" opacity=\"0.8\" /></g></svg>"
      ],
      "text/plain": [
       "<shapely.geometry.linestring.LineString at 0x7f5fe7bd5898>"
      ]
     },
     "execution_count": 59,
     "metadata": {},
     "output_type": "execute_result"
    }
   ],
   "source": [
    "#si quiero seleccionar la A seria algo más complejo como\n",
    "lineas.loc[lineas.Linea == 'A','geometry'].iloc[0]"
   ]
  },
  {
   "cell_type": "code",
   "execution_count": 60,
   "metadata": {},
   "outputs": [
    {
     "data": {
      "text/html": [
       "<div>\n",
       "<style scoped>\n",
       "    .dataframe tbody tr th:only-of-type {\n",
       "        vertical-align: middle;\n",
       "    }\n",
       "\n",
       "    .dataframe tbody tr th {\n",
       "        vertical-align: top;\n",
       "    }\n",
       "\n",
       "    .dataframe thead th {\n",
       "        text-align: right;\n",
       "    }\n",
       "</style>\n",
       "<table border=\"1\" class=\"dataframe\">\n",
       "  <thead>\n",
       "    <tr style=\"text-align: right;\">\n",
       "      <th></th>\n",
       "      <th>geometry</th>\n",
       "    </tr>\n",
       "    <tr>\n",
       "      <th>Linea</th>\n",
       "      <th></th>\n",
       "    </tr>\n",
       "  </thead>\n",
       "  <tbody>\n",
       "    <tr>\n",
       "      <th>A</th>\n",
       "      <td>LINESTRING (-6508823.622 -4113790.557, -650813...</td>\n",
       "    </tr>\n",
       "    <tr>\n",
       "      <th>B</th>\n",
       "      <td>LINESTRING (-6510694.213 -4106170.108, -650846...</td>\n",
       "    </tr>\n",
       "    <tr>\n",
       "      <th>C</th>\n",
       "      <td>LINESTRING (-6498989.025 -4113351.345, -649879...</td>\n",
       "    </tr>\n",
       "    <tr>\n",
       "      <th>D</th>\n",
       "      <td>LINESTRING (-6507956.485 -4103697.440, -650594...</td>\n",
       "    </tr>\n",
       "    <tr>\n",
       "      <th>E</th>\n",
       "      <td>LINESTRING (-6507956.399 -4115533.052, -650570...</td>\n",
       "    </tr>\n",
       "    <tr>\n",
       "      <th>H</th>\n",
       "      <td>LINESTRING (-6502456.807 -4115214.826, -650095...</td>\n",
       "    </tr>\n",
       "  </tbody>\n",
       "</table>\n",
       "</div>"
      ],
      "text/plain": [
       "                                                geometry\n",
       "Linea                                                   \n",
       "A      LINESTRING (-6508823.622 -4113790.557, -650813...\n",
       "B      LINESTRING (-6510694.213 -4106170.108, -650846...\n",
       "C      LINESTRING (-6498989.025 -4113351.345, -649879...\n",
       "D      LINESTRING (-6507956.485 -4103697.440, -650594...\n",
       "E      LINESTRING (-6507956.399 -4115533.052, -650570...\n",
       "H      LINESTRING (-6502456.807 -4115214.826, -650095..."
      ]
     },
     "execution_count": 60,
     "metadata": {},
     "output_type": "execute_result"
    }
   ],
   "source": [
    "#le cambiamos los indices a la linea\n",
    "lineas.index = lineas.Linea\n",
    "#eliminamos variables que no nos sirven\n",
    "lineas = lineas.drop(['id','Linea'],axis=1)\n",
    "#la convertimos en metros\n",
    "lineas = lineas.to_crs(epsg=3857)\n",
    "lineas"
   ]
  },
  {
   "cell_type": "code",
   "execution_count": 61,
   "metadata": {},
   "outputs": [
    {
     "data": {
      "image/svg+xml": [
       "<svg xmlns=\"http://www.w3.org/2000/svg\" xmlns:xlink=\"http://www.w3.org/1999/xlink\" width=\"300\" height=\"300\" viewBox=\"-6509267.368501158 -4114234.303881748 11981.155987691134 3822.130458565429\" preserveAspectRatio=\"xMinYMin meet\"><g transform=\"matrix(1,0,0,-1,0,-8224646.477304931)\"><polyline fill=\"none\" stroke=\"#66cc99\" stroke-width=\"79.87437325127422\" points=\"-6508823.621983096,-4113790.5573636857 -6508133.794266243,-4113612.392686506 -6507365.16537764,-4113236.1991272965 -6506498.054724876,-4112820.35679758 -6505650.70655519,-4112444.0603800993 -6505000.462030159,-4112127.156401327 -6504330.59375706,-4111671.647123175 -6503503.125156479,-4111255.642734163 -6502734.699819559,-4111116.7415192914 -6501808.669225932,-4110957.9081263323 -6500843.168270248,-4110937.5340818665 -6497729.95903153,-4110855.919941245\" opacity=\"0.8\" /></g></svg>"
      ],
      "text/plain": [
       "<shapely.geometry.linestring.LineString at 0x7f5fe7bda9b0>"
      ]
     },
     "execution_count": 61,
     "metadata": {},
     "output_type": "execute_result"
    }
   ],
   "source": [
    "#ahora veamos que es más sencillo de trabajar, sin iloc ni listas de Trues y False\n",
    "lineas.loc['A','geometry']"
   ]
  },
  {
   "cell_type": "code",
   "execution_count": 62,
   "metadata": {},
   "outputs": [
    {
     "data": {
      "text/plain": [
       "shapely.geometry.linestring.LineString"
      ]
     },
     "execution_count": 62,
     "metadata": {},
     "output_type": "execute_result"
    }
   ],
   "source": [
    "#vemos que el tipo para linea de shapely es LineString\n",
    "H = lineas.loc['H','geometry']\n",
    "type(H)"
   ]
  },
  {
   "cell_type": "code",
   "execution_count": 63,
   "metadata": {},
   "outputs": [
    {
     "data": {
      "text/plain": [
       "8468.993329264278"
      ]
     },
     "execution_count": 63,
     "metadata": {},
     "output_type": "execute_result"
    }
   ],
   "source": [
    "#tiene sus propios metodos especificos a la linea\n",
    "H.length"
   ]
  },
  {
   "cell_type": "code",
   "execution_count": 64,
   "metadata": {},
   "outputs": [
    {
     "data": {
      "text/plain": [
       "4"
      ]
     },
     "execution_count": 64,
     "metadata": {},
     "output_type": "execute_result"
    }
   ],
   "source": [
    "#y tiene varios pares de coordenadas\n",
    "len(H.coords)"
   ]
  },
  {
   "cell_type": "code",
   "execution_count": 65,
   "metadata": {},
   "outputs": [
    {
     "data": {
      "text/plain": [
       "[(-6502456.806748704, -4115214.8261582623),\n",
       " (-6500959.194922461, -4114441.7362974873),\n",
       " (-6501710.225146143, -4110819.2934147594),\n",
       " (-6500746.616416475, -4107889.559358372)]"
      ]
     },
     "execution_count": 65,
     "metadata": {},
     "output_type": "execute_result"
    }
   ],
   "source": [
    "list(H.coords)"
   ]
  },
  {
   "cell_type": "code",
   "execution_count": 66,
   "metadata": {},
   "outputs": [
    {
     "data": {
      "text/plain": [
       "((-6502456.806748704, -4115214.8261582623),\n",
       " (-6500959.194922461, -4114441.7362974873))"
      ]
     },
     "execution_count": 66,
     "metadata": {},
     "output_type": "execute_result"
    }
   ],
   "source": [
    "#una linea no es más que una secuencia de puntos\n",
    "H.coords[0],H.coords[1]"
   ]
  },
  {
   "cell_type": "code",
   "execution_count": 67,
   "metadata": {},
   "outputs": [],
   "source": [
    "#podemos obtener el centroide \n",
    "#shapely se rompe para este proceso si no es 1.6.4\n",
    "#print(H.centroid)"
   ]
  },
  {
   "cell_type": "code",
   "execution_count": 68,
   "metadata": {},
   "outputs": [],
   "source": [
    "#convertimos todo a 3857\n",
    "estaciones = estaciones.to_crs(epsg=3857)"
   ]
  },
  {
   "cell_type": "code",
   "execution_count": 69,
   "metadata": {},
   "outputs": [
    {
     "data": {
      "text/html": [
       "<div>\n",
       "<style scoped>\n",
       "    .dataframe tbody tr th:only-of-type {\n",
       "        vertical-align: middle;\n",
       "    }\n",
       "\n",
       "    .dataframe tbody tr th {\n",
       "        vertical-align: top;\n",
       "    }\n",
       "\n",
       "    .dataframe thead th {\n",
       "        text-align: right;\n",
       "    }\n",
       "</style>\n",
       "<table border=\"1\" class=\"dataframe\">\n",
       "  <thead>\n",
       "    <tr style=\"text-align: right;\">\n",
       "      <th></th>\n",
       "      <th>ESTACION</th>\n",
       "      <th>geometry</th>\n",
       "    </tr>\n",
       "  </thead>\n",
       "  <tbody>\n",
       "    <tr>\n",
       "      <th>0</th>\n",
       "      <td>CASEROS</td>\n",
       "      <td>POINT (-6500872.365 -4114550.923)</td>\n",
       "    </tr>\n",
       "    <tr>\n",
       "      <th>1</th>\n",
       "      <td>INCLAN</td>\n",
       "      <td>POINT (-6501099.673 -4113688.522)</td>\n",
       "    </tr>\n",
       "    <tr>\n",
       "      <th>2</th>\n",
       "      <td>HUMBERTO 1°</td>\n",
       "      <td>POINT (-6501250.307 -4112838.522)</td>\n",
       "    </tr>\n",
       "    <tr>\n",
       "      <th>3</th>\n",
       "      <td>VENEZUELA</td>\n",
       "      <td>POINT (-6501518.471 -4111776.654)</td>\n",
       "    </tr>\n",
       "    <tr>\n",
       "      <th>4</th>\n",
       "      <td>ONCE - 30 DE DICIEMBRE</td>\n",
       "      <td>POINT (-6501663.705 -4110923.610)</td>\n",
       "    </tr>\n",
       "    <tr>\n",
       "      <th>76</th>\n",
       "      <td>CORRIENTES</td>\n",
       "      <td>POINT (-6501598.472 -4110322.433)</td>\n",
       "    </tr>\n",
       "    <tr>\n",
       "      <th>77</th>\n",
       "      <td>PARQUE PATRICIOS</td>\n",
       "      <td>POINT (-6501636.793 -4114910.248)</td>\n",
       "    </tr>\n",
       "    <tr>\n",
       "      <th>78</th>\n",
       "      <td>HOSPITALES</td>\n",
       "      <td>POINT (-6502370.395 -4115297.612)</td>\n",
       "    </tr>\n",
       "    <tr>\n",
       "      <th>83</th>\n",
       "      <td>CÓRDOBA</td>\n",
       "      <td>POINT (-6501406.031 -4109506.256)</td>\n",
       "    </tr>\n",
       "    <tr>\n",
       "      <th>84</th>\n",
       "      <td>LAS HERAS</td>\n",
       "      <td>POINT (-6500681.831 -4108019.654)</td>\n",
       "    </tr>\n",
       "    <tr>\n",
       "      <th>85</th>\n",
       "      <td>SANTA FE - CARLOS JAUREGUI</td>\n",
       "      <td>POINT (-6501256.279 -4108974.840)</td>\n",
       "    </tr>\n",
       "  </tbody>\n",
       "</table>\n",
       "</div>"
      ],
      "text/plain": [
       "                      ESTACION                           geometry\n",
       "0                      CASEROS  POINT (-6500872.365 -4114550.923)\n",
       "1                       INCLAN  POINT (-6501099.673 -4113688.522)\n",
       "2                  HUMBERTO 1°  POINT (-6501250.307 -4112838.522)\n",
       "3                    VENEZUELA  POINT (-6501518.471 -4111776.654)\n",
       "4       ONCE - 30 DE DICIEMBRE  POINT (-6501663.705 -4110923.610)\n",
       "76                  CORRIENTES  POINT (-6501598.472 -4110322.433)\n",
       "77            PARQUE PATRICIOS  POINT (-6501636.793 -4114910.248)\n",
       "78                  HOSPITALES  POINT (-6502370.395 -4115297.612)\n",
       "83                     CÓRDOBA  POINT (-6501406.031 -4109506.256)\n",
       "84                   LAS HERAS  POINT (-6500681.831 -4108019.654)\n",
       "85  SANTA FE - CARLOS JAUREGUI  POINT (-6501256.279 -4108974.840)"
      ]
     },
     "execution_count": 69,
     "metadata": {},
     "output_type": "execute_result"
    }
   ],
   "source": [
    "estaciones_H = estaciones.loc[estaciones.LINEA == 'H',['ESTACION','geometry']]\n",
    "estaciones_H"
   ]
  },
  {
   "cell_type": "markdown",
   "metadata": {},
   "source": [
    "## 6 - LRS Lineal Referencing System\n",
    "\n",
    "Este proceso es uno de los más utilizados en análisis espacial. Fundamentalmente proyecta un punto sobre una línea siguiendo la distancia más corta, y nos indica a que distancia lineal sobre esa línea se encuentra. \n",
    "\n",
    "![lrs](data:image/png;base64,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)"
   ]
  },
  {
   "cell_type": "code",
   "execution_count": 70,
   "metadata": {},
   "outputs": [],
   "source": [
    "#importamos el objeto LineString\n",
    "from shapely.geometry import LineString"
   ]
  },
  {
   "cell_type": "code",
   "execution_count": 71,
   "metadata": {},
   "outputs": [
    {
     "data": {
      "image/svg+xml": [
       "<svg xmlns=\"http://www.w3.org/2000/svg\" xmlns:xlink=\"http://www.w3.org/1999/xlink\" width=\"100.0\" height=\"100.0\" viewBox=\"-0.04 -0.04 1.08 1.08\" preserveAspectRatio=\"xMinYMin meet\"><g transform=\"matrix(1,0,0,-1,0,1.0)\"><polyline fill=\"none\" stroke=\"#66cc99\" stroke-width=\"0.0216\" points=\"0.0,0.0 1.0,1.0\" opacity=\"0.8\" /></g></svg>"
      ],
      "text/plain": [
       "<shapely.geometry.linestring.LineString at 0x7f5fe7c300f0>"
      ]
     },
     "execution_count": 71,
     "metadata": {},
     "output_type": "execute_result"
    }
   ],
   "source": [
    "#creamos una linea apartir de dos puntos\n",
    "l = LineString([Point(0,0),Point(1,1)])\n",
    "l"
   ]
  },
  {
   "cell_type": "code",
   "execution_count": 72,
   "metadata": {},
   "outputs": [
    {
     "data": {
      "text/plain": [
       "0.7071067811865476"
      ]
     },
     "execution_count": 72,
     "metadata": {},
     "output_type": "execute_result"
    }
   ],
   "source": [
    "#proyectamos el punto con coordenadas 0.5,0.5\n",
    "l.project(Point(0.5,0.5))"
   ]
  },
  {
   "cell_type": "code",
   "execution_count": 73,
   "metadata": {},
   "outputs": [
    {
     "data": {
      "text/plain": [
       "0.5"
      ]
     },
     "execution_count": 73,
     "metadata": {},
     "output_type": "execute_result"
    }
   ],
   "source": [
    "#shapely se rompe para este proceso si no es 1.6.4\n",
    "l.project(Point(0.5,0.5),normalized=True)"
   ]
  },
  {
   "cell_type": "code",
   "execution_count": 74,
   "metadata": {},
   "outputs": [],
   "source": [
    "l.project?"
   ]
  },
  {
   "cell_type": "code",
   "execution_count": 75,
   "metadata": {},
   "outputs": [
    {
     "name": "stdout",
     "output_type": "stream",
     "text": [
      "POINT (0.499924494298889 0.499924494298889)\n"
     ]
    }
   ],
   "source": [
    "#interpolamos esa distancia para ver las coordenadas del punto\n",
    "print(l.interpolate(0.707))"
   ]
  },
  {
   "cell_type": "markdown",
   "metadata": {},
   "source": [
    "## Las estaciones de subte están más cerca en el centro?\n",
    "\n",
    "El análisis que queremos realizar es veríficar si las estaciones de subte se encuentran más separadas entre sí en la periféria de la red que en el centro. También queremos poder ordenar nuestras estaciones en un gráfico de barras de acuerdo al orden que siguen en la línea. Para eso nos sirve el LRS\n",
    "\n",
    "Necesitamos calcular la distancia de cada estácion con la siguiente. Por eso necesitamos sabe el orden de esas estaciones."
   ]
  },
  {
   "cell_type": "code",
   "execution_count": 76,
   "metadata": {},
   "outputs": [
    {
     "data": {
      "text/html": [
       "<div>\n",
       "<style scoped>\n",
       "    .dataframe tbody tr th:only-of-type {\n",
       "        vertical-align: middle;\n",
       "    }\n",
       "\n",
       "    .dataframe tbody tr th {\n",
       "        vertical-align: top;\n",
       "    }\n",
       "\n",
       "    .dataframe thead th {\n",
       "        text-align: right;\n",
       "    }\n",
       "</style>\n",
       "<table border=\"1\" class=\"dataframe\">\n",
       "  <thead>\n",
       "    <tr style=\"text-align: right;\">\n",
       "      <th></th>\n",
       "      <th>ESTACION</th>\n",
       "      <th>geometry</th>\n",
       "      <th>orden</th>\n",
       "    </tr>\n",
       "  </thead>\n",
       "  <tbody>\n",
       "    <tr>\n",
       "      <th>0</th>\n",
       "      <td>HOSPITALES</td>\n",
       "      <td>POINT (-6502370.395 -4115297.612)</td>\n",
       "      <td>38.810154</td>\n",
       "    </tr>\n",
       "    <tr>\n",
       "      <th>1</th>\n",
       "      <td>PARQUE PATRICIOS</td>\n",
       "      <td>POINT (-6501636.793 -4114910.248)</td>\n",
       "      <td>868.366830</td>\n",
       "    </tr>\n",
       "    <tr>\n",
       "      <th>2</th>\n",
       "      <td>CASEROS</td>\n",
       "      <td>POINT (-6500872.365 -4114550.923)</td>\n",
       "      <td>1685.381000</td>\n",
       "    </tr>\n",
       "    <tr>\n",
       "      <th>3</th>\n",
       "      <td>INCLAN</td>\n",
       "      <td>POINT (-6501099.673 -4113688.522)</td>\n",
       "      <td>2451.429636</td>\n",
       "    </tr>\n",
       "    <tr>\n",
       "      <th>4</th>\n",
       "      <td>HUMBERTO 1°</td>\n",
       "      <td>POINT (-6501250.307 -4112838.522)</td>\n",
       "      <td>3314.310107</td>\n",
       "    </tr>\n",
       "    <tr>\n",
       "      <th>5</th>\n",
       "      <td>VENEZUELA</td>\n",
       "      <td>POINT (-6501518.471 -4111776.654)</td>\n",
       "      <td>4408.505986</td>\n",
       "    </tr>\n",
       "    <tr>\n",
       "      <th>6</th>\n",
       "      <td>ONCE - 30 DE DICIEMBRE</td>\n",
       "      <td>POINT (-6501663.705 -4110923.610)</td>\n",
       "      <td>5273.270494</td>\n",
       "    </tr>\n",
       "    <tr>\n",
       "      <th>7</th>\n",
       "      <td>CORRIENTES</td>\n",
       "      <td>POINT (-6501598.472 -4110322.433)</td>\n",
       "      <td>5891.762080</td>\n",
       "    </tr>\n",
       "    <tr>\n",
       "      <th>8</th>\n",
       "      <td>CÓRDOBA</td>\n",
       "      <td>POINT (-6501406.031 -4109506.256)</td>\n",
       "      <td>6727.204518</td>\n",
       "    </tr>\n",
       "    <tr>\n",
       "      <th>9</th>\n",
       "      <td>SANTA FE - CARLOS JAUREGUI</td>\n",
       "      <td>POINT (-6501256.279 -4108974.840)</td>\n",
       "      <td>7278.805759</td>\n",
       "    </tr>\n",
       "    <tr>\n",
       "      <th>10</th>\n",
       "      <td>LAS HERAS</td>\n",
       "      <td>POINT (-6500681.831 -4108019.654)</td>\n",
       "      <td>8365.653212</td>\n",
       "    </tr>\n",
       "  </tbody>\n",
       "</table>\n",
       "</div>"
      ],
      "text/plain": [
       "                      ESTACION                           geometry        orden\n",
       "0                   HOSPITALES  POINT (-6502370.395 -4115297.612)    38.810154\n",
       "1             PARQUE PATRICIOS  POINT (-6501636.793 -4114910.248)   868.366830\n",
       "2                      CASEROS  POINT (-6500872.365 -4114550.923)  1685.381000\n",
       "3                       INCLAN  POINT (-6501099.673 -4113688.522)  2451.429636\n",
       "4                  HUMBERTO 1°  POINT (-6501250.307 -4112838.522)  3314.310107\n",
       "5                    VENEZUELA  POINT (-6501518.471 -4111776.654)  4408.505986\n",
       "6       ONCE - 30 DE DICIEMBRE  POINT (-6501663.705 -4110923.610)  5273.270494\n",
       "7                   CORRIENTES  POINT (-6501598.472 -4110322.433)  5891.762080\n",
       "8                      CÓRDOBA  POINT (-6501406.031 -4109506.256)  6727.204518\n",
       "9   SANTA FE - CARLOS JAUREGUI  POINT (-6501256.279 -4108974.840)  7278.805759\n",
       "10                   LAS HERAS  POINT (-6500681.831 -4108019.654)  8365.653212"
      ]
     },
     "execution_count": 76,
     "metadata": {},
     "output_type": "execute_result"
    }
   ],
   "source": [
    "#utilizamos map \n",
    "estaciones_H['orden'] = estaciones_H.geometry.map(H.project)\n",
    "#ordenamos por el orden y hacemos un reset del index\n",
    "estaciones_H = estaciones_H.sort_values(by='orden')\n",
    "estaciones_H = estaciones_H.reset_index(drop=True)\n",
    "estaciones_H"
   ]
  },
  {
   "cell_type": "markdown",
   "metadata": {},
   "source": [
    "##### VERSION LIGERAMENTE MÁS COMPLEJA\n",
    "\n",
    "`project` permite que nos de la distancia sobre la línea en unidades de medida o en procentaje: el punto está a la mitad de la linea (50%) o al final (100%). Para eso toma un parámetro adicional como `normalized`. \n",
    "\n",
    "Combinar `lambda` con `map` nos permite combinar un elemento variable sobre el cual vamos iterando nuestra función, con parámetros fijos.\n"
   ]
  },
  {
   "cell_type": "code",
   "execution_count": 77,
   "metadata": {},
   "outputs": [
    {
     "data": {
      "text/html": [
       "<div>\n",
       "<style scoped>\n",
       "    .dataframe tbody tr th:only-of-type {\n",
       "        vertical-align: middle;\n",
       "    }\n",
       "\n",
       "    .dataframe tbody tr th {\n",
       "        vertical-align: top;\n",
       "    }\n",
       "\n",
       "    .dataframe thead th {\n",
       "        text-align: right;\n",
       "    }\n",
       "</style>\n",
       "<table border=\"1\" class=\"dataframe\">\n",
       "  <thead>\n",
       "    <tr style=\"text-align: right;\">\n",
       "      <th></th>\n",
       "      <th>ESTACION</th>\n",
       "      <th>geometry</th>\n",
       "      <th>orden</th>\n",
       "    </tr>\n",
       "  </thead>\n",
       "  <tbody>\n",
       "    <tr>\n",
       "      <th>0</th>\n",
       "      <td>HOSPITALES</td>\n",
       "      <td>POINT (-6502370.395 -4115297.612)</td>\n",
       "      <td>38.810154</td>\n",
       "    </tr>\n",
       "    <tr>\n",
       "      <th>1</th>\n",
       "      <td>PARQUE PATRICIOS</td>\n",
       "      <td>POINT (-6501636.793 -4114910.248)</td>\n",
       "      <td>868.366830</td>\n",
       "    </tr>\n",
       "    <tr>\n",
       "      <th>2</th>\n",
       "      <td>CASEROS</td>\n",
       "      <td>POINT (-6500872.365 -4114550.923)</td>\n",
       "      <td>1685.381000</td>\n",
       "    </tr>\n",
       "    <tr>\n",
       "      <th>3</th>\n",
       "      <td>INCLAN</td>\n",
       "      <td>POINT (-6501099.673 -4113688.522)</td>\n",
       "      <td>2451.429636</td>\n",
       "    </tr>\n",
       "    <tr>\n",
       "      <th>4</th>\n",
       "      <td>HUMBERTO 1°</td>\n",
       "      <td>POINT (-6501250.307 -4112838.522)</td>\n",
       "      <td>3314.310107</td>\n",
       "    </tr>\n",
       "    <tr>\n",
       "      <th>5</th>\n",
       "      <td>VENEZUELA</td>\n",
       "      <td>POINT (-6501518.471 -4111776.654)</td>\n",
       "      <td>4408.505986</td>\n",
       "    </tr>\n",
       "    <tr>\n",
       "      <th>6</th>\n",
       "      <td>ONCE - 30 DE DICIEMBRE</td>\n",
       "      <td>POINT (-6501663.705 -4110923.610)</td>\n",
       "      <td>5273.270494</td>\n",
       "    </tr>\n",
       "    <tr>\n",
       "      <th>7</th>\n",
       "      <td>CORRIENTES</td>\n",
       "      <td>POINT (-6501598.472 -4110322.433)</td>\n",
       "      <td>5891.762080</td>\n",
       "    </tr>\n",
       "    <tr>\n",
       "      <th>8</th>\n",
       "      <td>CÓRDOBA</td>\n",
       "      <td>POINT (-6501406.031 -4109506.256)</td>\n",
       "      <td>6727.204518</td>\n",
       "    </tr>\n",
       "    <tr>\n",
       "      <th>9</th>\n",
       "      <td>SANTA FE - CARLOS JAUREGUI</td>\n",
       "      <td>POINT (-6501256.279 -4108974.840)</td>\n",
       "      <td>7278.805759</td>\n",
       "    </tr>\n",
       "    <tr>\n",
       "      <th>10</th>\n",
       "      <td>LAS HERAS</td>\n",
       "      <td>POINT (-6500681.831 -4108019.654)</td>\n",
       "      <td>8365.653212</td>\n",
       "    </tr>\n",
       "  </tbody>\n",
       "</table>\n",
       "</div>"
      ],
      "text/plain": [
       "                      ESTACION                           geometry        orden\n",
       "0                   HOSPITALES  POINT (-6502370.395 -4115297.612)    38.810154\n",
       "1             PARQUE PATRICIOS  POINT (-6501636.793 -4114910.248)   868.366830\n",
       "2                      CASEROS  POINT (-6500872.365 -4114550.923)  1685.381000\n",
       "3                       INCLAN  POINT (-6501099.673 -4113688.522)  2451.429636\n",
       "4                  HUMBERTO 1°  POINT (-6501250.307 -4112838.522)  3314.310107\n",
       "5                    VENEZUELA  POINT (-6501518.471 -4111776.654)  4408.505986\n",
       "6       ONCE - 30 DE DICIEMBRE  POINT (-6501663.705 -4110923.610)  5273.270494\n",
       "7                   CORRIENTES  POINT (-6501598.472 -4110322.433)  5891.762080\n",
       "8                      CÓRDOBA  POINT (-6501406.031 -4109506.256)  6727.204518\n",
       "9   SANTA FE - CARLOS JAUREGUI  POINT (-6501256.279 -4108974.840)  7278.805759\n",
       "10                   LAS HERAS  POINT (-6500681.831 -4108019.654)  8365.653212"
      ]
     },
     "execution_count": 77,
     "metadata": {},
     "output_type": "execute_result"
    }
   ],
   "source": [
    "#esto nos permite utilizar \"estacion\" como un elemento variable y el parametro fijo normalized\n",
    "estaciones_H['orden'] = estaciones_H.geometry.map(lambda estacion: H.project(estacion,normalized = False))\n",
    "estaciones_H = estaciones_H.sort_values(by='orden')\n",
    "estaciones_H = estaciones_H.reset_index(drop=True)\n",
    "estaciones_H"
   ]
  },
  {
   "cell_type": "code",
   "execution_count": 78,
   "metadata": {},
   "outputs": [
    {
     "data": {
      "text/plain": [
       "0               PARQUE PATRICIOS\n",
       "1                        CASEROS\n",
       "2                         INCLAN\n",
       "3                    HUMBERTO 1°\n",
       "4                      VENEZUELA\n",
       "5         ONCE - 30 DE DICIEMBRE\n",
       "6                     CORRIENTES\n",
       "7                        CÓRDOBA\n",
       "8     SANTA FE - CARLOS JAUREGUI\n",
       "9                      LAS HERAS\n",
       "10                           NaN\n",
       "Name: ESTACION, dtype: object"
      ]
     },
     "execution_count": 78,
     "metadata": {},
     "output_type": "execute_result"
    }
   ],
   "source": [
    "#Ahora que estan ordenadas, cuál es la siguiente estacion?\n",
    "estaciones_H.ESTACION.shift(-1)"
   ]
  },
  {
   "cell_type": "code",
   "execution_count": 79,
   "metadata": {},
   "outputs": [],
   "source": [
    "#no siempre tenemos que guardar todo en el data frame, en especial variables que van a ser insumo\n",
    "estacion_siguiente = estaciones_H.geometry.shift(-1)"
   ]
  },
  {
   "cell_type": "code",
   "execution_count": 80,
   "metadata": {},
   "outputs": [
    {
     "data": {
      "text/plain": [
       "[0, 1, 2, 3, 4, 5, 6, 7, 8, 9]"
      ]
     },
     "execution_count": 80,
     "metadata": {},
     "output_type": "execute_result"
    }
   ],
   "source": [
    "#calculamos la distancia de cada estacion con respecto a su siguiente\n",
    "#sabemos que tenemos que repetir esto por cada estacion menos 1 (la ultima tiene distancia a la nada)\n",
    "list(range(len(estaciones_H)-1))"
   ]
  },
  {
   "cell_type": "code",
   "execution_count": 81,
   "metadata": {},
   "outputs": [
    {
     "name": "stdout",
     "output_type": "stream",
     "text": [
      "HOSPITALES\n",
      "PARQUE PATRICIOS\n",
      "CASEROS\n",
      "INCLAN\n",
      "HUMBERTO 1°\n",
      "VENEZUELA\n",
      "ONCE - 30 DE DICIEMBRE\n",
      "CORRIENTES\n",
      "CÓRDOBA\n",
      "SANTA FE - CARLOS JAUREGUI\n"
     ]
    }
   ],
   "source": [
    "#podemos ver las estaciones recorriendo este rango\n",
    "for i in range(len(estaciones_H)-1):\n",
    "    print(estaciones_H.ESTACION.iloc[i])\n",
    "    #noten como Las Heras no aparece\n",
    "    "
   ]
  },
  {
   "cell_type": "code",
   "execution_count": 82,
   "metadata": {},
   "outputs": [],
   "source": [
    "#hacemos esto con un list compehension\n",
    "distancias = [estaciones_H.geometry.iloc[i].distance(estacion_siguiente.iloc[i]) for i in range(len(estaciones_H)-1)]"
   ]
  },
  {
   "cell_type": "code",
   "execution_count": 83,
   "metadata": {},
   "outputs": [],
   "source": [
    "#tomamos la decisión de darle una distancia 0 a la ultima\n",
    "estaciones_H['distancias_siguiente'] = distancias + [0]"
   ]
  },
  {
   "cell_type": "code",
   "execution_count": 84,
   "metadata": {},
   "outputs": [
    {
     "data": {
      "text/html": [
       "<div>\n",
       "<style scoped>\n",
       "    .dataframe tbody tr th:only-of-type {\n",
       "        vertical-align: middle;\n",
       "    }\n",
       "\n",
       "    .dataframe tbody tr th {\n",
       "        vertical-align: top;\n",
       "    }\n",
       "\n",
       "    .dataframe thead th {\n",
       "        text-align: right;\n",
       "    }\n",
       "</style>\n",
       "<table border=\"1\" class=\"dataframe\">\n",
       "  <thead>\n",
       "    <tr style=\"text-align: right;\">\n",
       "      <th></th>\n",
       "      <th>ESTACION</th>\n",
       "      <th>geometry</th>\n",
       "      <th>orden</th>\n",
       "      <th>distancias_siguiente</th>\n",
       "    </tr>\n",
       "  </thead>\n",
       "  <tbody>\n",
       "    <tr>\n",
       "      <th>0</th>\n",
       "      <td>HOSPITALES</td>\n",
       "      <td>POINT (-6502370.395 -4115297.612)</td>\n",
       "      <td>38.810154</td>\n",
       "      <td>829.592431</td>\n",
       "    </tr>\n",
       "    <tr>\n",
       "      <th>1</th>\n",
       "      <td>PARQUE PATRICIOS</td>\n",
       "      <td>POINT (-6501636.793 -4114910.248)</td>\n",
       "      <td>868.366830</td>\n",
       "      <td>844.668065</td>\n",
       "    </tr>\n",
       "    <tr>\n",
       "      <th>2</th>\n",
       "      <td>CASEROS</td>\n",
       "      <td>POINT (-6500872.365 -4114550.923)</td>\n",
       "      <td>1685.381000</td>\n",
       "      <td>891.854305</td>\n",
       "    </tr>\n",
       "    <tr>\n",
       "      <th>3</th>\n",
       "      <td>INCLAN</td>\n",
       "      <td>POINT (-6501099.673 -4113688.522)</td>\n",
       "      <td>2451.429636</td>\n",
       "      <td>863.244319</td>\n",
       "    </tr>\n",
       "    <tr>\n",
       "      <th>4</th>\n",
       "      <td>HUMBERTO 1°</td>\n",
       "      <td>POINT (-6501250.307 -4112838.522)</td>\n",
       "      <td>3314.310107</td>\n",
       "      <td>1095.205258</td>\n",
       "    </tr>\n",
       "    <tr>\n",
       "      <th>5</th>\n",
       "      <td>VENEZUELA</td>\n",
       "      <td>POINT (-6501518.471 -4111776.654)</td>\n",
       "      <td>4408.505986</td>\n",
       "      <td>865.318762</td>\n",
       "    </tr>\n",
       "    <tr>\n",
       "      <th>6</th>\n",
       "      <td>ONCE - 30 DE DICIEMBRE</td>\n",
       "      <td>POINT (-6501663.705 -4110923.610)</td>\n",
       "      <td>5273.270494</td>\n",
       "      <td>604.706555</td>\n",
       "    </tr>\n",
       "    <tr>\n",
       "      <th>7</th>\n",
       "      <td>CORRIENTES</td>\n",
       "      <td>POINT (-6501598.472 -4110322.433)</td>\n",
       "      <td>5891.762080</td>\n",
       "      <td>838.556430</td>\n",
       "    </tr>\n",
       "    <tr>\n",
       "      <th>8</th>\n",
       "      <td>CÓRDOBA</td>\n",
       "      <td>POINT (-6501406.031 -4109506.256)</td>\n",
       "      <td>6727.204518</td>\n",
       "      <td>552.113648</td>\n",
       "    </tr>\n",
       "    <tr>\n",
       "      <th>9</th>\n",
       "      <td>SANTA FE - CARLOS JAUREGUI</td>\n",
       "      <td>POINT (-6501256.279 -4108974.840)</td>\n",
       "      <td>7278.805759</td>\n",
       "      <td>1114.616813</td>\n",
       "    </tr>\n",
       "    <tr>\n",
       "      <th>10</th>\n",
       "      <td>LAS HERAS</td>\n",
       "      <td>POINT (-6500681.831 -4108019.654)</td>\n",
       "      <td>8365.653212</td>\n",
       "      <td>0.000000</td>\n",
       "    </tr>\n",
       "  </tbody>\n",
       "</table>\n",
       "</div>"
      ],
      "text/plain": [
       "                      ESTACION                           geometry  \\\n",
       "0                   HOSPITALES  POINT (-6502370.395 -4115297.612)   \n",
       "1             PARQUE PATRICIOS  POINT (-6501636.793 -4114910.248)   \n",
       "2                      CASEROS  POINT (-6500872.365 -4114550.923)   \n",
       "3                       INCLAN  POINT (-6501099.673 -4113688.522)   \n",
       "4                  HUMBERTO 1°  POINT (-6501250.307 -4112838.522)   \n",
       "5                    VENEZUELA  POINT (-6501518.471 -4111776.654)   \n",
       "6       ONCE - 30 DE DICIEMBRE  POINT (-6501663.705 -4110923.610)   \n",
       "7                   CORRIENTES  POINT (-6501598.472 -4110322.433)   \n",
       "8                      CÓRDOBA  POINT (-6501406.031 -4109506.256)   \n",
       "9   SANTA FE - CARLOS JAUREGUI  POINT (-6501256.279 -4108974.840)   \n",
       "10                   LAS HERAS  POINT (-6500681.831 -4108019.654)   \n",
       "\n",
       "          orden  distancias_siguiente  \n",
       "0     38.810154            829.592431  \n",
       "1    868.366830            844.668065  \n",
       "2   1685.381000            891.854305  \n",
       "3   2451.429636            863.244319  \n",
       "4   3314.310107           1095.205258  \n",
       "5   4408.505986            865.318762  \n",
       "6   5273.270494            604.706555  \n",
       "7   5891.762080            838.556430  \n",
       "8   6727.204518            552.113648  \n",
       "9   7278.805759           1114.616813  \n",
       "10  8365.653212              0.000000  "
      ]
     },
     "execution_count": 84,
     "metadata": {},
     "output_type": "execute_result"
    }
   ],
   "source": [
    "estaciones_H"
   ]
  },
  {
   "cell_type": "code",
   "execution_count": 85,
   "metadata": {},
   "outputs": [
    {
     "data": {
      "text/plain": [
       "[<shapely.geometry.linestring.LineString at 0x7f5fe7bf89b0>,\n",
       " <shapely.geometry.linestring.LineString at 0x7f5fe7bf80b8>,\n",
       " <shapely.geometry.linestring.LineString at 0x7f5fe7be3f60>,\n",
       " <shapely.geometry.linestring.LineString at 0x7f5fe7bf8898>,\n",
       " <shapely.geometry.linestring.LineString at 0x7f5fe7bf8a58>,\n",
       " <shapely.geometry.linestring.LineString at 0x7f5fe7bf8a90>,\n",
       " <shapely.geometry.linestring.LineString at 0x7f5fe7bf8ac8>,\n",
       " <shapely.geometry.linestring.LineString at 0x7f5fe7bf8b00>,\n",
       " <shapely.geometry.linestring.LineString at 0x7f5fe7bf8b38>,\n",
       " <shapely.geometry.linestring.LineString at 0x7f5fe7bf8b70>]"
      ]
     },
     "execution_count": 85,
     "metadata": {},
     "output_type": "execute_result"
    }
   ],
   "source": [
    "#siguiendo el mismo procedimiento, podemos construir una linea a partir de cada estacion con la siguiente\n",
    "lineas_nuevas = [LineString([estaciones_H.geometry.loc[i],estacion_siguiente.loc[i]]) for i in estaciones_H.index[:-1]]\n",
    "lineas_nuevas"
   ]
  },
  {
   "cell_type": "code",
   "execution_count": 86,
   "metadata": {},
   "outputs": [
    {
     "data": {
      "text/plain": [
       "pandas.core.frame.DataFrame"
      ]
     },
     "execution_count": 86,
     "metadata": {},
     "output_type": "execute_result"
    }
   ],
   "source": [
    "#creamos un data frame con lineas y la distancia\n",
    "nuevaH = pd.DataFrame({'lineas':lineas_nuevas,\n",
    "             'distancia':distancias})\n",
    "type(nuevaH)"
   ]
  },
  {
   "cell_type": "code",
   "execution_count": 87,
   "metadata": {},
   "outputs": [
    {
     "data": {
      "text/html": [
       "<div>\n",
       "<style scoped>\n",
       "    .dataframe tbody tr th:only-of-type {\n",
       "        vertical-align: middle;\n",
       "    }\n",
       "\n",
       "    .dataframe tbody tr th {\n",
       "        vertical-align: top;\n",
       "    }\n",
       "\n",
       "    .dataframe thead th {\n",
       "        text-align: right;\n",
       "    }\n",
       "</style>\n",
       "<table border=\"1\" class=\"dataframe\">\n",
       "  <thead>\n",
       "    <tr style=\"text-align: right;\">\n",
       "      <th></th>\n",
       "      <th>lineas</th>\n",
       "      <th>distancia</th>\n",
       "    </tr>\n",
       "  </thead>\n",
       "  <tbody>\n",
       "    <tr>\n",
       "      <th>0</th>\n",
       "      <td>LINESTRING (-6502370.395089393 -4115297.612428...</td>\n",
       "      <td>829.592431</td>\n",
       "    </tr>\n",
       "    <tr>\n",
       "      <th>1</th>\n",
       "      <td>LINESTRING (-6501636.792732302 -4114910.248023...</td>\n",
       "      <td>844.668065</td>\n",
       "    </tr>\n",
       "    <tr>\n",
       "      <th>2</th>\n",
       "      <td>LINESTRING (-6500872.365264533 -4114550.922561...</td>\n",
       "      <td>891.854305</td>\n",
       "    </tr>\n",
       "    <tr>\n",
       "      <th>3</th>\n",
       "      <td>LINESTRING (-6501099.673119548 -4113688.521703...</td>\n",
       "      <td>863.244319</td>\n",
       "    </tr>\n",
       "    <tr>\n",
       "      <th>4</th>\n",
       "      <td>LINESTRING (-6501250.307275811 -4112838.521641...</td>\n",
       "      <td>1095.205258</td>\n",
       "    </tr>\n",
       "  </tbody>\n",
       "</table>\n",
       "</div>"
      ],
      "text/plain": [
       "                                              lineas    distancia\n",
       "0  LINESTRING (-6502370.395089393 -4115297.612428...   829.592431\n",
       "1  LINESTRING (-6501636.792732302 -4114910.248023...   844.668065\n",
       "2  LINESTRING (-6500872.365264533 -4114550.922561...   891.854305\n",
       "3  LINESTRING (-6501099.673119548 -4113688.521703...   863.244319\n",
       "4  LINESTRING (-6501250.307275811 -4112838.521641...  1095.205258"
      ]
     },
     "execution_count": 87,
     "metadata": {},
     "output_type": "execute_result"
    }
   ],
   "source": [
    "nuevaH.head()"
   ]
  },
  {
   "cell_type": "code",
   "execution_count": 88,
   "metadata": {},
   "outputs": [],
   "source": [
    "#la convertirmos en GeoDataFrame\n",
    "nuevaH = gpd.GeoDataFrame(nuevaH, geometry='lineas',crs={'init' :'epsg:3857'})"
   ]
  },
  {
   "cell_type": "code",
   "execution_count": 89,
   "metadata": {},
   "outputs": [
    {
     "data": {
      "text/plain": [
       "geopandas.geodataframe.GeoDataFrame"
      ]
     },
     "execution_count": 89,
     "metadata": {},
     "output_type": "execute_result"
    }
   ],
   "source": [
    "type(nuevaH)"
   ]
  },
  {
   "cell_type": "code",
   "execution_count": 90,
   "metadata": {},
   "outputs": [
    {
     "data": {
      "text/plain": [
       "<matplotlib.axes._subplots.AxesSubplot at 0x7f5fe7be6470>"
      ]
     },
     "execution_count": 90,
     "metadata": {},
     "output_type": "execute_result"
    },
    {
     "data": {
      "image/png": "[encoded data removed]",
      "text/plain": [
       "<Figure size 432x288 with 1 Axes>"
      ]
     },
     "metadata": {
      "needs_background": "light"
     },
     "output_type": "display_data"
    }
   ],
   "source": [
    "#ploteamos el resultado\n",
    "nuevaH.plot(linewidth = nuevaH.distancia/80,alpha = 0.5)"
   ]
  },
  {
   "cell_type": "markdown",
   "metadata": {},
   "source": [
    "## 7- Group by- Apply\n",
    "\n",
    "Ya resolvimos el problema para la **línea H**. Ahora solamente tenemos que aplicar el mismo método y resolverlo para todas las líneas. Podríamos hacer un `for loop` iterando a lo largo de todas las líneas, y poner todo el proceso en un loop, e ir guardando los resultados. \n",
    "\n",
    "Pero para esta situación donde tenemos registros en una tabla identificados por un valor en común, y queremos realizar el mismo proceso para cada grupo, existe `Group By`. Ya lo utilizamos para obtener un promedio. Le aplicamos la función promedio a cada grupo. Ahora, podemos aplicarle una función algo más compleja a cada grupo.\n",
    "\n",
    "Comencemos on un ejemplo sencillo. Vamos a crear una funcion que hace dos cosas: elimina algunas columnas y se queda con el primer registro"
   ]
  },
  {
   "cell_type": "code",
   "execution_count": 91,
   "metadata": {},
   "outputs": [],
   "source": [
    "def funcion(dt):\n",
    "    dt = dt.reindex(columns = ['ESTACION','LINEA','geometry'])\n",
    "    dt = dt.iloc[0]\n",
    "    return dt"
   ]
  },
  {
   "cell_type": "code",
   "execution_count": 92,
   "metadata": {},
   "outputs": [
    {
     "data": {
      "text/html": [
       "<div>\n",
       "<style scoped>\n",
       "    .dataframe tbody tr th:only-of-type {\n",
       "        vertical-align: middle;\n",
       "    }\n",
       "\n",
       "    .dataframe tbody tr th {\n",
       "        vertical-align: top;\n",
       "    }\n",
       "\n",
       "    .dataframe thead th {\n",
       "        text-align: right;\n",
       "    }\n",
       "</style>\n",
       "<table border=\"1\" class=\"dataframe\">\n",
       "  <thead>\n",
       "    <tr style=\"text-align: right;\">\n",
       "      <th></th>\n",
       "      <th>ESTACION</th>\n",
       "      <th>LINEA</th>\n",
       "      <th>geometry</th>\n",
       "    </tr>\n",
       "  </thead>\n",
       "  <tbody>\n",
       "    <tr>\n",
       "      <th>0</th>\n",
       "      <td>PERU</td>\n",
       "      <td>A</td>\n",
       "      <td>POINT (-6498127.365036696 -4110872.712542143)</td>\n",
       "    </tr>\n",
       "    <tr>\n",
       "      <th>1</th>\n",
       "      <td>FLORIDA</td>\n",
       "      <td>B</td>\n",
       "      <td>POINT (-6498216.84362934 -4110161.07989342)</td>\n",
       "    </tr>\n",
       "    <tr>\n",
       "      <th>2</th>\n",
       "      <td>RETIRO</td>\n",
       "      <td>C</td>\n",
       "      <td>POINT (-6498099.604554965 -4108524.309490479)</td>\n",
       "    </tr>\n",
       "    <tr>\n",
       "      <th>3</th>\n",
       "      <td>9 DE JULIO</td>\n",
       "      <td>D</td>\n",
       "      <td>POINT (-6498829.391967968 -4110289.281761676)</td>\n",
       "    </tr>\n",
       "    <tr>\n",
       "      <th>4</th>\n",
       "      <td>BOLIVAR</td>\n",
       "      <td>E</td>\n",
       "      <td>POINT (-6498062.411708559 -4110965.136153669)</td>\n",
       "    </tr>\n",
       "    <tr>\n",
       "      <th>5</th>\n",
       "      <td>CASEROS</td>\n",
       "      <td>H</td>\n",
       "      <td>POINT (-6500872.365264533 -4114550.922561814)</td>\n",
       "    </tr>\n",
       "  </tbody>\n",
       "</table>\n",
       "</div>"
      ],
      "text/plain": [
       "     ESTACION LINEA                                       geometry\n",
       "0        PERU     A  POINT (-6498127.365036696 -4110872.712542143)\n",
       "1     FLORIDA     B    POINT (-6498216.84362934 -4110161.07989342)\n",
       "2      RETIRO     C  POINT (-6498099.604554965 -4108524.309490479)\n",
       "3  9 DE JULIO     D  POINT (-6498829.391967968 -4110289.281761676)\n",
       "4     BOLIVAR     E  POINT (-6498062.411708559 -4110965.136153669)\n",
       "5     CASEROS     H  POINT (-6500872.365264533 -4114550.922561814)"
      ]
     },
     "execution_count": 92,
     "metadata": {},
     "output_type": "execute_result"
    }
   ],
   "source": [
    "#luego aplicamos esta funcion con un apply a todo el dataset\n",
    "estaciones.groupby('LINEA').apply(funcion).reset_index(drop=True)"
   ]
  },
  {
   "cell_type": "code",
   "execution_count": 93,
   "metadata": {},
   "outputs": [
    {
     "data": {
      "image/svg+xml": [
       "<svg xmlns=\"http://www.w3.org/2000/svg\" xmlns:xlink=\"http://www.w3.org/1999/xlink\" width=\"300\" height=\"300\" viewBox=\"-6509267.368501158 -4114234.303881748 11981.155987691134 3822.130458565429\" preserveAspectRatio=\"xMinYMin meet\"><g transform=\"matrix(1,0,0,-1,0,-8224646.477304931)\"><polyline fill=\"none\" stroke=\"#66cc99\" stroke-width=\"79.87437325127422\" points=\"-6508823.621983096,-4113790.5573636857 -6508133.794266243,-4113612.392686506 -6507365.16537764,-4113236.1991272965 -6506498.054724876,-4112820.35679758 -6505650.70655519,-4112444.0603800993 -6505000.462030159,-4112127.156401327 -6504330.59375706,-4111671.647123175 -6503503.125156479,-4111255.642734163 -6502734.699819559,-4111116.7415192914 -6501808.669225932,-4110957.9081263323 -6500843.168270248,-4110937.5340818665 -6497729.95903153,-4110855.919941245\" opacity=\"0.8\" /></g></svg>"
      ],
      "text/plain": [
       "<shapely.geometry.linestring.LineString at 0x7f5fe7bda9b0>"
      ]
     },
     "execution_count": 93,
     "metadata": {},
     "output_type": "execute_result"
    }
   ],
   "source": [
    "dt = estaciones.loc[estaciones.LINEA =='A',:]\n",
    "linea = lineas.loc['A','geometry']\n",
    "linea"
   ]
  },
  {
   "cell_type": "code",
   "execution_count": 94,
   "metadata": {},
   "outputs": [
    {
     "data": {
      "text/plain": [
       "0.9660571569938252"
      ]
     },
     "execution_count": 94,
     "metadata": {},
     "output_type": "execute_result"
    }
   ],
   "source": [
    "linea.project(dt.geometry.iloc[0],normalized = True)"
   ]
  },
  {
   "cell_type": "code",
   "execution_count": 95,
   "metadata": {},
   "outputs": [
    {
     "name": "stderr",
     "output_type": "stream",
     "text": [
      "/home/pipe/Documents/untref/analisis_espacial_python_2019/vevn/lib/python3.6/site-packages/ipykernel_launcher.py:1: SettingWithCopyWarning: \n",
      "A value is trying to be set on a copy of a slice from a DataFrame.\n",
      "Try using .loc[row_indexer,col_indexer] = value instead\n",
      "\n",
      "See the caveats in the documentation: http://pandas.pydata.org/pandas-docs/stable/user_guide/indexing.html#returning-a-view-versus-a-copy\n",
      "  \"\"\"Entry point for launching an IPython kernel.\n"
     ]
    }
   ],
   "source": [
    "dt['orden'] = dt.geometry.map(lambda estacion: linea.project(estacion,normalized = False))\n"
   ]
  },
  {
   "cell_type": "code",
   "execution_count": 96,
   "metadata": {},
   "outputs": [],
   "source": [
    "def distancia_entre_estaciones(dt,lineas):\n",
    "    \"\"\"\n",
    "    Esta funcion produce un geoDataFrame con lineas entre estaciones\n",
    "    de subte con la distancia en metros entre ellas\n",
    "    ...\n",
    "    \n",
    "    Argumentos\n",
    "    ---------\n",
    "    dt     : geopandas.GeoDataFrame\n",
    "            GeoDataFrame que contiene las estaciones de subte   \n",
    "    lineas : geopandas.GeoDataFrame\n",
    "            GeoDataFrame que contiene las lineas de subte\n",
    "            \n",
    "    Devuelve\n",
    "    -------\n",
    "    nuevo_dt: GeoDataFrame\n",
    "            GeoDataFrame que contiene las lineas entre estaciones\n",
    "            con la distancia entre ellas en metros\n",
    "    \"\"\"\n",
    "    #Creo un diccionario con colores\n",
    "    colores = {\n",
    "        'A':'lightblue',\n",
    "        'B':'red',\n",
    "        'C':'blue',\n",
    "        'D':'green',\n",
    "        'E':'purple',\n",
    "        'H':'gold'\n",
    "    }\n",
    "    #tomo la linea del subset de datos como el valor unico que hay en el campo LINEA\n",
    "    linea_letra = dt.LINEA.unique()[0]\n",
    "    #tomo el color para graficar en base a esa linea\n",
    "    color = colores[linea_letra]\n",
    "    \n",
    "    #tomo la linea de subte en su geometria para el LRS\n",
    "    linea = lineas.loc[linea_letra,'geometry']\n",
    "    #limpio el subset de datos quedandome con pocas columnas\n",
    "    dt = dt.reindex(columns = ['ESTACION','LINEA','geometry'])\n",
    "    #proyecto cada estacion en la linea  lo guardo en orden\n",
    "    dt['orden'] = dt.geometry.map(lambda estacion: linea.project(estacion,normalized = False))\n",
    "    \n",
    "    #ordeno por ese orden y reinicio el index\n",
    "    dt = dt.sort_values(by='orden')\n",
    "    dt = dt.reset_index(drop=True)\n",
    "    \n",
    "    #obtengo la estacion siguiente con un shift\n",
    "    estacion_siguiente = dt.geometry.shift(-1)\n",
    "    #calculo las distancias a la estacion siguiente\n",
    "    distancias = [dt.geometry.loc[i].distance(estacion_siguiente.loc[i]) for i in dt.index[:-1]]\n",
    "    \n",
    "    #construyo una linea entre cada estacion y la siguiente\n",
    "    lineas_nuevas = [LineString([dt.geometry.loc[i],estacion_siguiente.loc[i]]) for i in dt.index[:-1]]\n",
    "    \n",
    "    #creo el geodataframe final\n",
    "    nuevo_dt = pd.DataFrame({'lineas':lineas_nuevas,\n",
    "             'distancia':distancias})\n",
    "    nuevo_dt = gpd.GeoDataFrame(nuevo_dt, geometry='lineas',crs={'init' :'epsg:3857'})\n",
    "    #le doy el color\n",
    "    nuevo_dt['color'] = color\n",
    "    return nuevo_dt"
   ]
  },
  {
   "cell_type": "code",
   "execution_count": 97,
   "metadata": {},
   "outputs": [
    {
     "data": {
      "text/html": [
       "<div>\n",
       "<style scoped>\n",
       "    .dataframe tbody tr th:only-of-type {\n",
       "        vertical-align: middle;\n",
       "    }\n",
       "\n",
       "    .dataframe tbody tr th {\n",
       "        vertical-align: top;\n",
       "    }\n",
       "\n",
       "    .dataframe thead th {\n",
       "        text-align: right;\n",
       "    }\n",
       "</style>\n",
       "<table border=\"1\" class=\"dataframe\">\n",
       "  <thead>\n",
       "    <tr style=\"text-align: right;\">\n",
       "      <th></th>\n",
       "      <th>lineas</th>\n",
       "      <th>distancia</th>\n",
       "      <th>color</th>\n",
       "    </tr>\n",
       "    <tr>\n",
       "      <th>LINEA</th>\n",
       "      <th></th>\n",
       "      <th></th>\n",
       "      <th></th>\n",
       "    </tr>\n",
       "  </thead>\n",
       "  <tbody>\n",
       "    <tr>\n",
       "      <th>A</th>\n",
       "      <td>LINESTRING (-6508743.708 -4113868.689, -650806...</td>\n",
       "      <td>713.416779</td>\n",
       "      <td>lightblue</td>\n",
       "    </tr>\n",
       "    <tr>\n",
       "      <th>A</th>\n",
       "      <td>LINESTRING (-6508064.784 -4113649.543, -650730...</td>\n",
       "      <td>827.881000</td>\n",
       "      <td>lightblue</td>\n",
       "    </tr>\n",
       "    <tr>\n",
       "      <th>A</th>\n",
       "      <td>LINESTRING (-6507304.422 -4113322.072, -650640...</td>\n",
       "      <td>992.752439</td>\n",
       "      <td>lightblue</td>\n",
       "    </tr>\n",
       "    <tr>\n",
       "      <th>A</th>\n",
       "      <td>LINESTRING (-6506406.984 -4112897.617, -650557...</td>\n",
       "      <td>932.733759</td>\n",
       "      <td>lightblue</td>\n",
       "    </tr>\n",
       "    <tr>\n",
       "      <th>A</th>\n",
       "      <td>LINESTRING (-6505575.457 -4112475.059, -650504...</td>\n",
       "      <td>601.756498</td>\n",
       "      <td>lightblue</td>\n",
       "    </tr>\n",
       "  </tbody>\n",
       "</table>\n",
       "</div>"
      ],
      "text/plain": [
       "                                                  lineas   distancia  \\\n",
       "LINEA                                                                  \n",
       "A      LINESTRING (-6508743.708 -4113868.689, -650806...  713.416779   \n",
       "A      LINESTRING (-6508064.784 -4113649.543, -650730...  827.881000   \n",
       "A      LINESTRING (-6507304.422 -4113322.072, -650640...  992.752439   \n",
       "A      LINESTRING (-6506406.984 -4112897.617, -650557...  932.733759   \n",
       "A      LINESTRING (-6505575.457 -4112475.059, -650504...  601.756498   \n",
       "\n",
       "           color  \n",
       "LINEA             \n",
       "A      lightblue  \n",
       "A      lightblue  \n",
       "A      lightblue  \n",
       "A      lightblue  \n",
       "A      lightblue  "
      ]
     },
     "execution_count": 97,
     "metadata": {},
     "output_type": "execute_result"
    }
   ],
   "source": [
    "lineas_subte = estaciones.groupby('LINEA').apply(lambda x: distancia_entre_estaciones(x,lineas))\n",
    "#eliminino el nivel del index que no me intersa\n",
    "lineas_subte.index = lineas_subte.index.droplevel(1)\n",
    "lineas_subte.head()"
   ]
  },
  {
   "cell_type": "code",
   "execution_count": 98,
   "metadata": {},
   "outputs": [
    {
     "data": {
      "text/plain": [
       "<matplotlib.axes._subplots.AxesSubplot at 0x7f5fe7bf8c50>"
      ]
     },
     "execution_count": 98,
     "metadata": {},
     "output_type": "execute_result"
    },
    {
     "data": {
      "image/png": "[encoded data removed]",
      "text/plain": [
       "<Figure size 432x288 with 1 Axes>"
      ]
     },
     "metadata": {
      "needs_background": "light"
     },
     "output_type": "display_data"
    }
   ],
   "source": [
    "lineas_subte.plot()"
   ]
  },
  {
   "cell_type": "code",
   "execution_count": 99,
   "metadata": {},
   "outputs": [
    {
     "data": {
      "image/png": "[encoded data removed]",
      "text/plain": [
       "<Figure size 432x432 with 1 Axes>"
      ]
     },
     "metadata": {
      "needs_background": "light"
     },
     "output_type": "display_data"
    }
   ],
   "source": [
    "#veamoslo en un mapa\n",
    "fig = plt.figure(figsize=(6,6))\n",
    "ax = fig.add_subplot(1,1,1)\n",
    "\n",
    "lineas_subte.plot(color = lineas_subte.color,\n",
    "                  linewidth = lineas_subte.distancia/80,\n",
    "                  alpha = 0.5,ax=ax)\n",
    "ax.set_axis_off()\n",
    "plt.axis('equal')\n",
    "ax.set_title('Distancia entre estaciones de Subte')\n",
    "fig.savefig('plot_distancia_lineas.png')"
   ]
  },
  {
   "cell_type": "code",
   "execution_count": 100,
   "metadata": {},
   "outputs": [
    {
     "data": {
      "image/svg+xml": [
       "<svg xmlns=\"http://www.w3.org/2000/svg\" xmlns:xlink=\"http://www.w3.org/1999/xlink\" width=\"100.0\" height=\"100.0\" viewBox=\"0.0 0.0 2.0 2.0\" preserveAspectRatio=\"xMinYMin meet\"><g transform=\"matrix(1,0,0,-1,0,2.0)\"><circle cx=\"1.0\" cy=\"1.0\" r=\"0.06\" stroke=\"#555555\" stroke-width=\"0.02\" fill=\"#66cc99\" opacity=\"0.6\" /></g></svg>"
      ],
      "text/plain": [
       "<shapely.geometry.point.Point at 0x7f5fe54b8908>"
      ]
     },
     "execution_count": 100,
     "metadata": {},
     "output_type": "execute_result"
    }
   ],
   "source": [
    "#En lugar de distancias podemos hacer un buffer, el caballo de batalla del análisis espacial más sencillo\n",
    "#el buffer puede hacerse sobre un punto\n",
    "from shapely.geometry import Point, LineString\n",
    "punto = Point([1,1])\n",
    "punto"
   ]
  },
  {
   "cell_type": "code",
   "execution_count": 101,
   "metadata": {},
   "outputs": [
    {
     "data": {
      "image/svg+xml": [
       "<svg xmlns=\"http://www.w3.org/2000/svg\" xmlns:xlink=\"http://www.w3.org/1999/xlink\" width=\"100.0\" height=\"100.0\" viewBox=\"0.46 0.46 1.08 1.08\" preserveAspectRatio=\"xMinYMin meet\"><g transform=\"matrix(1,0,0,-1,0,2.0)\"><path fill-rule=\"evenodd\" fill=\"#66cc99\" stroke=\"#555555\" stroke-width=\"0.0216\" opacity=\"0.6\" d=\"M 1.5,1.0 L 1.4975923633360986,0.9509914298352198 L 1.4903926402016152,0.902454838991936 L 1.4784701678661045,0.854857661372769 L 1.4619397662556435,0.8086582838174553 L 1.4409606321741777,0.7643016315870014 L 1.415734806151273,0.7222148834901991 L 1.3865052266813687,0.6828033579181776 L 1.353553390593274,0.6464466094067265 L 1.317196642081823,0.6134947733186318 L 1.2777851165098015,0.5842651938487277 L 1.2356983684129994,0.5590393678258228 L 1.1913417161825455,0.5380602337443569 L 1.145142338627232,0.5215298321338957 L 1.0975451610080649,0.5096073597983849 L 1.049008570164781,0.5024076366639016 L 1.0000000000000009,0.5 L 0.9509914298352206,0.5024076366639014 L 0.9024548389919368,0.5096073597983846 L 0.8548576613727698,0.5215298321338953 L 0.8086582838174561,0.5380602337443563 L 0.7643016315870022,0.559039367825822 L 0.7222148834901998,0.5842651938487269 L 0.682803357918178,0.6134947733186309 L 0.6464466094067269,0.6464466094067256 L 0.613494773318632,0.6828033579181766 L 0.5842651938487278,0.7222148834901982 L 0.5590393678258229,0.7643016315870005 L 0.538060233744357,0.8086582838174544 L 0.5215298321338957,0.8548576613727682 L 0.5096073597983849,0.9024548389919352 L 0.5024076366639016,0.9509914298352191 L 0.5,0.9999999999999994 L 0.5024076366639015,1.0490085701647798 L 0.5096073597983847,1.0975451610080638 L 0.5215298321338955,1.1451423386272308 L 0.5380602337443565,1.1913417161825446 L 0.5590393678258223,1.2356983684129985 L 0.5842651938487273,1.277785116509801 L 0.6134947733186314,1.3171966420818226 L 0.6464466094067262,1.3535533905932737 L 0.682803357918177,1.3865052266813684 L 0.7222148834901985,1.4157348061512725 L 0.7643016315870006,1.4409606321741772 L 0.8086582838174544,1.461939766255643 L 0.854857661372768,1.4784701678661043 L 0.9024548389919348,1.490392640201615 L 0.9509914298352184,1.4975923633360984 L 0.9999999999999986,1.5 L 1.0490085701647787,1.4975923633360986 L 1.0975451610080624,1.4903926402016157 L 1.1451423386272293,1.478470167866105 L 1.191341716182543,1.4619397662556441 L 1.2356983684129967,1.4409606321741786 L 1.277785116509799,1.415734806151274 L 1.3171966420818206,1.3865052266813702 L 1.3535533905932717,1.3535533905932757 L 1.3865052266813667,1.317196642081825 L 1.415734806151271,1.2777851165098038 L 1.440960632174176,1.2356983684130016 L 1.4619397662556421,1.1913417161825481 L 1.4784701678661034,1.1451423386272346 L 1.4903926402016145,1.0975451610080678 L 1.4975923633360981,1.0490085701647842 L 1.5,1.0000000000000042 L 1.5,1.0 z\" /></g></svg>"
      ],
      "text/plain": [
       "<shapely.geometry.polygon.Polygon at 0x7f5fe54b8320>"
      ]
     },
     "execution_count": 101,
     "metadata": {},
     "output_type": "execute_result"
    }
   ],
   "source": [
    "punto.buffer(0.5)"
   ]
  },
  {
   "cell_type": "code",
   "execution_count": 102,
   "metadata": {},
   "outputs": [
    {
     "data": {
      "text/plain": [
       "shapely.geometry.polygon.Polygon"
      ]
     },
     "execution_count": 102,
     "metadata": {},
     "output_type": "execute_result"
    }
   ],
   "source": [
    "type(punto.buffer(0.5))"
   ]
  },
  {
   "cell_type": "code",
   "execution_count": 103,
   "metadata": {},
   "outputs": [
    {
     "data": {
      "image/svg+xml": [
       "<svg xmlns=\"http://www.w3.org/2000/svg\" xmlns:xlink=\"http://www.w3.org/1999/xlink\" width=\"100.0\" height=\"100.0\" viewBox=\"0.96 0.96 1.08 1.08\" preserveAspectRatio=\"xMinYMin meet\"><g transform=\"matrix(1,0,0,-1,0,3.0)\"><polyline fill=\"none\" stroke=\"#66cc99\" stroke-width=\"0.0216\" points=\"1.0,1.0 2.0,2.0\" opacity=\"0.8\" /></g></svg>"
      ],
      "text/plain": [
       "<shapely.geometry.linestring.LineString at 0x7f5fe54be400>"
      ]
     },
     "execution_count": 103,
     "metadata": {},
     "output_type": "execute_result"
    }
   ],
   "source": [
    "#sobre una linea\n",
    "linea = LineString([punto,Point(2,2)])\n",
    "linea"
   ]
  },
  {
   "cell_type": "code",
   "execution_count": 104,
   "metadata": {},
   "outputs": [
    {
     "data": {
      "image/svg+xml": [
       "<svg xmlns=\"http://www.w3.org/2000/svg\" xmlns:xlink=\"http://www.w3.org/1999/xlink\" width=\"100.0\" height=\"100.0\" viewBox=\"0.42 0.42 2.16 2.16\" preserveAspectRatio=\"xMinYMin meet\"><g transform=\"matrix(1,0,0,-1,0,3.0)\"><path fill-rule=\"evenodd\" fill=\"#66cc99\" stroke=\"#555555\" stroke-width=\"0.0432\" opacity=\"0.6\" d=\"M 1.6464466094067263,2.353553390593274 L 1.6828033579181778,2.386505226681369 L 1.7222148834901996,2.415734806151273 L 1.764301631587002,2.440960632174178 L 1.8086582838174559,2.4619397662556435 L 1.8548576613727694,2.4784701678661047 L 1.9024548389919365,2.490392640201615 L 1.9509914298352202,2.4975923633360986 L 2.0000000000000004,2.5 L 2.049008570164781,2.4975923633360986 L 2.0975451610080644,2.490392640201615 L 2.1451423386272315,2.4784701678661043 L 2.1913417161825453,2.461939766255643 L 2.235698368412999,2.4409606321741775 L 2.277785116509801,2.4157348061512725 L 2.317196642081823,2.3865052266813684 L 2.353553390593274,2.353553390593274 L 2.3865052266813684,2.317196642081823 L 2.4157348061512725,2.277785116509801 L 2.4409606321741775,2.235698368412999 L 2.4619397662556435,2.1913417161825453 L 2.4784701678661043,2.1451423386272315 L 2.490392640201615,2.097545161008065 L 2.497592363336098,2.049008570164781 L 2.5,2.000000000000001 L 2.4975923633360986,1.9509914298352207 L 2.490392640201615,1.9024548389919371 L 2.4784701678661047,1.85485766137277 L 2.461939766255644,1.8086582838174565 L 2.4409606321741784,1.7643016315870028 L 2.415734806151274,1.7222148834902005 L 2.3865052266813698,1.682803357918179 L 2.3535533905932753,1.6464466094067278 L 1.3535533905932737,0.6464466094067263 L 1.3171966420818222,0.6134947733186311 L 1.2777851165098006,0.5842651938487271 L 1.2356983684129983,0.5590393678258222 L 1.1913417161825444,0.5380602337443564 L 1.1451423386272308,0.5215298321338955 L 1.0975451610080638,0.5096073597983847 L 1.04900857016478,0.5024076366639015 L 0.9999999999999997,0.5 L 0.9509914298352194,0.5024076366639016 L 0.9024548389919357,0.5096073597983848 L 0.8548576613727688,0.5215298321338956 L 0.8086582838174551,0.5380602337443566 L 0.7643016315870012,0.5590393678258225 L 0.722214883490199,0.5842651938487273 L 0.6828033579181774,0.6134947733186314 L 0.6464466094067263,0.6464466094067263 L 0.6134947733186317,0.6828033579181771 L 0.5842651938487275,0.7222148834901986 L 0.5590393678258226,0.7643016315870008 L 0.5380602337443567,0.8086582838174549 L 0.5215298321338957,0.8548576613727684 L 0.5096073597983849,0.9024548389919352 L 0.5024076366639016,0.9509914298352189 L 0.5,0.999999999999999 L 0.5024076366639014,1.049008570164779 L 0.5096073597983846,1.0975451610080629 L 0.5215298321338951,1.1451423386272297 L 0.5380602337443561,1.1913417161825435 L 0.5590393678258216,1.2356983684129972 L 0.5842651938487262,1.2777851165097995 L 0.6134947733186302,1.317196642081821 L 0.6464466094067246,1.3535533905932722 L 1.6464466094067263,2.353553390593274 z\" /></g></svg>"
      ],
      "text/plain": [
       "<shapely.geometry.polygon.Polygon at 0x7f5fe54be160>"
      ]
     },
     "execution_count": 104,
     "metadata": {},
     "output_type": "execute_result"
    }
   ],
   "source": [
    "linea.buffer(0.5)"
   ]
  },
  {
   "cell_type": "code",
   "execution_count": 105,
   "metadata": {},
   "outputs": [],
   "source": [
    "#y no siempre tiene que ser constante, podemos hacer distancias variables\n",
    "#y aplicarlo de modo vectorial\n",
    "lineas_subte['lineas'] = lineas_subte.apply(lambda x: x.lineas.buffer(x.distancia/10), axis=1)"
   ]
  },
  {
   "cell_type": "code",
   "execution_count": 106,
   "metadata": {},
   "outputs": [
    {
     "data": {
      "image/png": "[encoded data removed]",
      "text/plain": [
       "<Figure size 432x432 with 1 Axes>"
      ]
     },
     "metadata": {
      "needs_background": "light"
     },
     "output_type": "display_data"
    }
   ],
   "source": [
    "#veamoslo en un mapa\n",
    "fig = plt.figure(figsize=(6,6))\n",
    "ax = fig.add_subplot(1,1,1)\n",
    "\n",
    "lineas_subte.plot(color = lineas_subte.color,\n",
    "                  #linewidth = lineas_subte.distancia/80,\n",
    "                  alpha = 0.5,ax=ax)\n",
    "ax.set_axis_off()\n",
    "plt.axis('equal')\n",
    "ax.set_title('Distancia entre estaciones de Subte')\n",
    "fig.savefig('plot_distancia_buffer.png')"
   ]
  },
  {
   "cell_type": "markdown",
   "metadata": {},
   "source": [
    "## Crear un GeoDataFrame desde texto"
   ]
  },
  {
   "cell_type": "code",
   "execution_count": 107,
   "metadata": {},
   "outputs": [
    {
     "data": {
      "text/html": [
       "<div>\n",
       "<style scoped>\n",
       "    .dataframe tbody tr th:only-of-type {\n",
       "        vertical-align: middle;\n",
       "    }\n",
       "\n",
       "    .dataframe tbody tr th {\n",
       "        vertical-align: top;\n",
       "    }\n",
       "\n",
       "    .dataframe thead th {\n",
       "        text-align: right;\n",
       "    }\n",
       "</style>\n",
       "<table border=\"1\" class=\"dataframe\">\n",
       "  <thead>\n",
       "    <tr style=\"text-align: right;\">\n",
       "      <th></th>\n",
       "      <th>WKT</th>\n",
       "      <th>id</th>\n",
       "      <th>lineasub</th>\n",
       "    </tr>\n",
       "  </thead>\n",
       "  <tbody>\n",
       "    <tr>\n",
       "      <th>0</th>\n",
       "      <td>LINESTRING (-58.45213 -34.56622, -58.45163 -34...</td>\n",
       "      <td>1</td>\n",
       "      <td>LINEA D</td>\n",
       "    </tr>\n",
       "    <tr>\n",
       "      <th>1</th>\n",
       "      <td>LINESTRING (-58.45649 -34.56231, -58.45528 -34...</td>\n",
       "      <td>2</td>\n",
       "      <td>LINEA D</td>\n",
       "    </tr>\n",
       "    <tr>\n",
       "      <th>2</th>\n",
       "      <td>LINESTRING (-58.44467 -34.57001, -58.44252 -34...</td>\n",
       "      <td>3</td>\n",
       "      <td>LINEA D</td>\n",
       "    </tr>\n",
       "    <tr>\n",
       "      <th>3</th>\n",
       "      <td>LINESTRING (-58.43501 -34.57518, -58.43423 -34...</td>\n",
       "      <td>4</td>\n",
       "      <td>LINEA D</td>\n",
       "    </tr>\n",
       "    <tr>\n",
       "      <th>4</th>\n",
       "      <td>LINESTRING (-58.42571 -34.57842, -58.42539 -34...</td>\n",
       "      <td>5</td>\n",
       "      <td>LINEA D</td>\n",
       "    </tr>\n",
       "  </tbody>\n",
       "</table>\n",
       "</div>"
      ],
      "text/plain": [
       "                                                 WKT  id lineasub\n",
       "0  LINESTRING (-58.45213 -34.56622, -58.45163 -34...   1  LINEA D\n",
       "1  LINESTRING (-58.45649 -34.56231, -58.45528 -34...   2  LINEA D\n",
       "2  LINESTRING (-58.44467 -34.57001, -58.44252 -34...   3  LINEA D\n",
       "3  LINESTRING (-58.43501 -34.57518, -58.43423 -34...   4  LINEA D\n",
       "4  LINESTRING (-58.42571 -34.57842, -58.42539 -34...   5  LINEA D"
      ]
     },
     "execution_count": 107,
     "metadata": {},
     "output_type": "execute_result"
    }
   ],
   "source": [
    "#COMO CREAMOS UN GEODATAFRAME desde un csv?\n",
    "from shapely import wkt\n",
    "lineas2 = pd.read_csv('../carto/lineas-de-subte.csv')\n",
    "lineas2.WKT = lineas2.WKT.apply(wkt.loads)\n",
    "crs = {'init' :'epsg:4326'}\n",
    "gdf = gpd.GeoDataFrame(lineas2, geometry='WKT',crs={'init' :'epsg:4326'})\n",
    "gdf.head()\n"
   ]
  },
  {
   "cell_type": "code",
   "execution_count": 108,
   "metadata": {},
   "outputs": [
    {
     "data": {
      "text/html": [
       "<div>\n",
       "<style scoped>\n",
       "    .dataframe tbody tr th:only-of-type {\n",
       "        vertical-align: middle;\n",
       "    }\n",
       "\n",
       "    .dataframe tbody tr th {\n",
       "        vertical-align: top;\n",
       "    }\n",
       "\n",
       "    .dataframe thead th {\n",
       "        text-align: right;\n",
       "    }\n",
       "</style>\n",
       "<table border=\"1\" class=\"dataframe\">\n",
       "  <thead>\n",
       "    <tr style=\"text-align: right;\">\n",
       "      <th></th>\n",
       "      <th>geometry</th>\n",
       "      <th>ID_LINEA</th>\n",
       "      <th>lineasub</th>\n",
       "    </tr>\n",
       "  </thead>\n",
       "  <tbody>\n",
       "    <tr>\n",
       "      <th>0</th>\n",
       "      <td>LINESTRING (-58.45213 -34.56622, -58.45163 -34...</td>\n",
       "      <td>1</td>\n",
       "      <td>LINEA D</td>\n",
       "    </tr>\n",
       "    <tr>\n",
       "      <th>1</th>\n",
       "      <td>LINESTRING (-58.45649 -34.56231, -58.45528 -34...</td>\n",
       "      <td>2</td>\n",
       "      <td>LINEA D</td>\n",
       "    </tr>\n",
       "    <tr>\n",
       "      <th>2</th>\n",
       "      <td>LINESTRING (-58.44467 -34.57001, -58.44252 -34...</td>\n",
       "      <td>3</td>\n",
       "      <td>LINEA D</td>\n",
       "    </tr>\n",
       "    <tr>\n",
       "      <th>3</th>\n",
       "      <td>LINESTRING (-58.43501 -34.57518, -58.43423 -34...</td>\n",
       "      <td>4</td>\n",
       "      <td>LINEA D</td>\n",
       "    </tr>\n",
       "    <tr>\n",
       "      <th>4</th>\n",
       "      <td>LINESTRING (-58.42571 -34.57842, -58.42539 -34...</td>\n",
       "      <td>5</td>\n",
       "      <td>LINEA D</td>\n",
       "    </tr>\n",
       "  </tbody>\n",
       "</table>\n",
       "</div>"
      ],
      "text/plain": [
       "                                            geometry  ID_LINEA lineasub\n",
       "0  LINESTRING (-58.45213 -34.56622, -58.45163 -34...         1  LINEA D\n",
       "1  LINESTRING (-58.45649 -34.56231, -58.45528 -34...         2  LINEA D\n",
       "2  LINESTRING (-58.44467 -34.57001, -58.44252 -34...         3  LINEA D\n",
       "3  LINESTRING (-58.43501 -34.57518, -58.43423 -34...         4  LINEA D\n",
       "4  LINESTRING (-58.42571 -34.57842, -58.42539 -34...         5  LINEA D"
      ]
     },
     "execution_count": 108,
     "metadata": {},
     "output_type": "execute_result"
    }
   ],
   "source": [
    "#siempre conviene mantener la columnas de geometrias con el nombre geometry\n",
    "gdf.columns = ['geometry','ID_LINEA','lineasub']\n",
    "gdf.head()"
   ]
  },
  {
   "cell_type": "markdown",
   "metadata": {},
   "source": [
    "## 8 Como se comporta la demanda en las estaciones de subte según la hora y el tipo de día?"
   ]
  },
  {
   "cell_type": "code",
   "execution_count": 109,
   "metadata": {},
   "outputs": [],
   "source": [
    "#vamos a crear una funcion para leer nuestros datos de acuerdo a si queremos un sabado o que hora\n",
    "def leerData(tipo_de_dia,hora):\n",
    "    db = pd.read_csv('../data/dataInsumo.csv')\n",
    "    db = db.loc[db.hora == hora,:]\n",
    "    if tipo_de_dia == 'fin de semana':\n",
    "        return db.loc[db.fin_de_semana,['ID','promedio']]\n",
    "    elif tipo_de_dia == 'dia de semana':\n",
    "        return db.loc[~(db.fin_de_semana),['ID','promedio']]\n",
    "    else:\n",
    "        print('ERROR')"
   ]
  },
  {
   "cell_type": "code",
   "execution_count": 110,
   "metadata": {},
   "outputs": [
    {
     "data": {
      "text/html": [
       "<div>\n",
       "<style scoped>\n",
       "    .dataframe tbody tr th:only-of-type {\n",
       "        vertical-align: middle;\n",
       "    }\n",
       "\n",
       "    .dataframe tbody tr th {\n",
       "        vertical-align: top;\n",
       "    }\n",
       "\n",
       "    .dataframe thead th {\n",
       "        text-align: right;\n",
       "    }\n",
       "</style>\n",
       "<table border=\"1\" class=\"dataframe\">\n",
       "  <thead>\n",
       "    <tr style=\"text-align: right;\">\n",
       "      <th></th>\n",
       "      <th>ID</th>\n",
       "      <th>promedio</th>\n",
       "    </tr>\n",
       "  </thead>\n",
       "  <tbody>\n",
       "    <tr>\n",
       "      <th>172</th>\n",
       "      <td>31</td>\n",
       "      <td>2.789474</td>\n",
       "    </tr>\n",
       "    <tr>\n",
       "      <th>173</th>\n",
       "      <td>32</td>\n",
       "      <td>3.586957</td>\n",
       "    </tr>\n",
       "    <tr>\n",
       "      <th>174</th>\n",
       "      <td>33</td>\n",
       "      <td>4.985816</td>\n",
       "    </tr>\n",
       "    <tr>\n",
       "      <th>175</th>\n",
       "      <td>34</td>\n",
       "      <td>5.587302</td>\n",
       "    </tr>\n",
       "    <tr>\n",
       "      <th>176</th>\n",
       "      <td>35</td>\n",
       "      <td>7.417722</td>\n",
       "    </tr>\n",
       "  </tbody>\n",
       "</table>\n",
       "</div>"
      ],
      "text/plain": [
       "     ID  promedio\n",
       "172  31  2.789474\n",
       "173  32  3.586957\n",
       "174  33  4.985816\n",
       "175  34  5.587302\n",
       "176  35  7.417722"
      ]
     },
     "execution_count": 110,
     "metadata": {},
     "output_type": "execute_result"
    }
   ],
   "source": [
    "#corremos la funcion para testear que funcione\n",
    "dt = leerData(tipo_de_dia = 'dia de semana', hora = 8)\n",
    "dt.head()"
   ]
  },
  {
   "cell_type": "code",
   "execution_count": 111,
   "metadata": {},
   "outputs": [
    {
     "data": {
      "text/html": [
       "<div>\n",
       "<style scoped>\n",
       "    .dataframe tbody tr th:only-of-type {\n",
       "        vertical-align: middle;\n",
       "    }\n",
       "\n",
       "    .dataframe tbody tr th {\n",
       "        vertical-align: top;\n",
       "    }\n",
       "\n",
       "    .dataframe thead th {\n",
       "        text-align: right;\n",
       "    }\n",
       "</style>\n",
       "<table border=\"1\" class=\"dataframe\">\n",
       "  <thead>\n",
       "    <tr style=\"text-align: right;\">\n",
       "      <th></th>\n",
       "      <th>ID</th>\n",
       "      <th>ESTACION</th>\n",
       "      <th>LINEA</th>\n",
       "      <th>geometry</th>\n",
       "      <th>x</th>\n",
       "      <th>y</th>\n",
       "      <th>distancia</th>\n",
       "    </tr>\n",
       "  </thead>\n",
       "  <tbody>\n",
       "    <tr>\n",
       "      <th>0</th>\n",
       "      <td>1</td>\n",
       "      <td>CASEROS</td>\n",
       "      <td>H</td>\n",
       "      <td>POINT (-6500872.365 -4114550.923)</td>\n",
       "      <td>-58.398330</td>\n",
       "      <td>-34.636196</td>\n",
       "      <td>4675.974617</td>\n",
       "    </tr>\n",
       "    <tr>\n",
       "      <th>1</th>\n",
       "      <td>2</td>\n",
       "      <td>INCLAN</td>\n",
       "      <td>H</td>\n",
       "      <td>POINT (-6501099.673 -4113688.522)</td>\n",
       "      <td>-58.400372</td>\n",
       "      <td>-34.629822</td>\n",
       "      <td>4007.894552</td>\n",
       "    </tr>\n",
       "    <tr>\n",
       "      <th>2</th>\n",
       "      <td>3</td>\n",
       "      <td>HUMBERTO 1°</td>\n",
       "      <td>H</td>\n",
       "      <td>POINT (-6501250.307 -4112838.522)</td>\n",
       "      <td>-58.401725</td>\n",
       "      <td>-34.623539</td>\n",
       "      <td>3401.928261</td>\n",
       "    </tr>\n",
       "    <tr>\n",
       "      <th>3</th>\n",
       "      <td>4</td>\n",
       "      <td>VENEZUELA</td>\n",
       "      <td>H</td>\n",
       "      <td>POINT (-6501518.471 -4111776.654)</td>\n",
       "      <td>-58.404134</td>\n",
       "      <td>-34.615689</td>\n",
       "      <td>2906.283270</td>\n",
       "    </tr>\n",
       "    <tr>\n",
       "      <th>4</th>\n",
       "      <td>5</td>\n",
       "      <td>ONCE - 30 DE DICIEMBRE</td>\n",
       "      <td>H</td>\n",
       "      <td>POINT (-6501663.705 -4110923.610)</td>\n",
       "      <td>-58.405439</td>\n",
       "      <td>-34.609382</td>\n",
       "      <td>2701.909100</td>\n",
       "    </tr>\n",
       "  </tbody>\n",
       "</table>\n",
       "</div>"
      ],
      "text/plain": [
       "   ID                ESTACION LINEA                           geometry  \\\n",
       "0   1                 CASEROS     H  POINT (-6500872.365 -4114550.923)   \n",
       "1   2                  INCLAN     H  POINT (-6501099.673 -4113688.522)   \n",
       "2   3             HUMBERTO 1°     H  POINT (-6501250.307 -4112838.522)   \n",
       "3   4               VENEZUELA     H  POINT (-6501518.471 -4111776.654)   \n",
       "4   5  ONCE - 30 DE DICIEMBRE     H  POINT (-6501663.705 -4110923.610)   \n",
       "\n",
       "           x          y    distancia  \n",
       "0 -58.398330 -34.636196  4675.974617  \n",
       "1 -58.400372 -34.629822  4007.894552  \n",
       "2 -58.401725 -34.623539  3401.928261  \n",
       "3 -58.404134 -34.615689  2906.283270  \n",
       "4 -58.405439 -34.609382  2701.909100  "
      ]
     },
     "execution_count": 111,
     "metadata": {},
     "output_type": "execute_result"
    }
   ],
   "source": [
    "#convertirmos la columna ID en texto\n",
    "estaciones.ID = estaciones.ID.map(int)\n",
    "estaciones.head()"
   ]
  },
  {
   "cell_type": "code",
   "execution_count": 112,
   "metadata": {},
   "outputs": [
    {
     "data": {
      "text/html": [
       "<div>\n",
       "<style scoped>\n",
       "    .dataframe tbody tr th:only-of-type {\n",
       "        vertical-align: middle;\n",
       "    }\n",
       "\n",
       "    .dataframe tbody tr th {\n",
       "        vertical-align: top;\n",
       "    }\n",
       "\n",
       "    .dataframe thead th {\n",
       "        text-align: right;\n",
       "    }\n",
       "</style>\n",
       "<table border=\"1\" class=\"dataframe\">\n",
       "  <thead>\n",
       "    <tr style=\"text-align: right;\">\n",
       "      <th></th>\n",
       "      <th>ID</th>\n",
       "      <th>ESTACION</th>\n",
       "      <th>LINEA</th>\n",
       "      <th>geometry</th>\n",
       "      <th>x</th>\n",
       "      <th>y</th>\n",
       "      <th>distancia</th>\n",
       "      <th>promedio</th>\n",
       "    </tr>\n",
       "  </thead>\n",
       "  <tbody>\n",
       "    <tr>\n",
       "      <th>0</th>\n",
       "      <td>1</td>\n",
       "      <td>CASEROS</td>\n",
       "      <td>H</td>\n",
       "      <td>POINT (-6500872.365 -4114550.923)</td>\n",
       "      <td>-58.398330</td>\n",
       "      <td>-34.636196</td>\n",
       "      <td>4675.974617</td>\n",
       "      <td>8.053097</td>\n",
       "    </tr>\n",
       "    <tr>\n",
       "      <th>1</th>\n",
       "      <td>2</td>\n",
       "      <td>INCLAN</td>\n",
       "      <td>H</td>\n",
       "      <td>POINT (-6501099.673 -4113688.522)</td>\n",
       "      <td>-58.400372</td>\n",
       "      <td>-34.629822</td>\n",
       "      <td>4007.894552</td>\n",
       "      <td>13.174603</td>\n",
       "    </tr>\n",
       "    <tr>\n",
       "      <th>2</th>\n",
       "      <td>3</td>\n",
       "      <td>HUMBERTO 1°</td>\n",
       "      <td>H</td>\n",
       "      <td>POINT (-6501250.307 -4112838.522)</td>\n",
       "      <td>-58.401725</td>\n",
       "      <td>-34.623539</td>\n",
       "      <td>3401.928261</td>\n",
       "      <td>12.447761</td>\n",
       "    </tr>\n",
       "    <tr>\n",
       "      <th>3</th>\n",
       "      <td>4</td>\n",
       "      <td>VENEZUELA</td>\n",
       "      <td>H</td>\n",
       "      <td>POINT (-6501518.471 -4111776.654)</td>\n",
       "      <td>-58.404134</td>\n",
       "      <td>-34.615689</td>\n",
       "      <td>2906.283270</td>\n",
       "      <td>11.669811</td>\n",
       "    </tr>\n",
       "    <tr>\n",
       "      <th>4</th>\n",
       "      <td>5</td>\n",
       "      <td>ONCE - 30 DE DICIEMBRE</td>\n",
       "      <td>H</td>\n",
       "      <td>POINT (-6501663.705 -4110923.610)</td>\n",
       "      <td>-58.405439</td>\n",
       "      <td>-34.609382</td>\n",
       "      <td>2701.909100</td>\n",
       "      <td>8.196347</td>\n",
       "    </tr>\n",
       "  </tbody>\n",
       "</table>\n",
       "</div>"
      ],
      "text/plain": [
       "   ID                ESTACION LINEA                           geometry  \\\n",
       "0   1                 CASEROS     H  POINT (-6500872.365 -4114550.923)   \n",
       "1   2                  INCLAN     H  POINT (-6501099.673 -4113688.522)   \n",
       "2   3             HUMBERTO 1°     H  POINT (-6501250.307 -4112838.522)   \n",
       "3   4               VENEZUELA     H  POINT (-6501518.471 -4111776.654)   \n",
       "4   5  ONCE - 30 DE DICIEMBRE     H  POINT (-6501663.705 -4110923.610)   \n",
       "\n",
       "           x          y    distancia   promedio  \n",
       "0 -58.398330 -34.636196  4675.974617   8.053097  \n",
       "1 -58.400372 -34.629822  4007.894552  13.174603  \n",
       "2 -58.401725 -34.623539  3401.928261  12.447761  \n",
       "3 -58.404134 -34.615689  2906.283270  11.669811  \n",
       "4 -58.405439 -34.609382  2701.909100   8.196347  "
      ]
     },
     "execution_count": 112,
     "metadata": {},
     "output_type": "execute_result"
    }
   ],
   "source": [
    "#hacemos un merge, manteniendo toda la informacion de las esatciones \"left join\"\n",
    "estaciones = estaciones.merge(dt,on='ID',how='left')\n",
    "estaciones.head()"
   ]
  },
  {
   "cell_type": "code",
   "execution_count": 113,
   "metadata": {},
   "outputs": [
    {
     "data": {
      "text/plain": [
       "<matplotlib.axes._subplots.AxesSubplot at 0x7f5fe53b5be0>"
      ]
     },
     "execution_count": 113,
     "metadata": {},
     "output_type": "execute_result"
    },
    {
     "data": {
      "image/png": "[encoded data removed]",
      "text/plain": [
       "<Figure size 432x288 with 1 Axes>"
      ]
     },
     "metadata": {
      "needs_background": "light"
     },
     "output_type": "display_data"
    }
   ],
   "source": [
    "estaciones.plot(marker='.', color='red', markersize = estaciones['promedio']*10)"
   ]
  },
  {
   "cell_type": "code",
   "execution_count": 114,
   "metadata": {},
   "outputs": [],
   "source": [
    "#hacemos una funcion para que haga todo lo que hicimos recien, de modo automatico\n",
    "\n",
    "def verSubte(tipo_de_dia,hora):\n",
    "    #esta es la misma funcion que hicimos\n",
    "    dt = leerData(tipo_de_dia, hora)\n",
    "    #leemos las estaciones\n",
    "    estaciones = gpd.read_file('../carto/estaciones_de_subte.shp')\n",
    "    #modificamos el ID como numero\n",
    "    estaciones.ID = estaciones.ID.map(int)\n",
    "    #realizamos el merge\n",
    "    estaciones = estaciones.merge(dt,on='ID',how='left')\n",
    "    #realizamos el plot\n",
    "    estaciones.plot(marker='.', color='red', markersize = estaciones['promedio']*10)"
   ]
  },
  {
   "cell_type": "code",
   "execution_count": 115,
   "metadata": {},
   "outputs": [
    {
     "data": {
      "image/png": "[encoded data removed]",
      "text/plain": [
       "<Figure size 432x288 with 1 Axes>"
      ]
     },
     "metadata": {
      "needs_background": "light"
     },
     "output_type": "display_data"
    }
   ],
   "source": [
    "verSubte(hora = 21,tipo_de_dia = 'fin de semana')"
   ]
  },
  {
   "cell_type": "code",
   "execution_count": 116,
   "metadata": {},
   "outputs": [],
   "source": [
    "def verSubteLindo(hora,tipo_de_dia,linea):\n",
    "    #leo los datos de los molinetes\n",
    "    dt = leerData(tipo_de_dia, hora)\n",
    "    #lo la cartografia de las estaciones\n",
    "    estaciones = gpd.read_file('../carto/estaciones_de_subte.shp')\n",
    "    #estaciones = estaciones.to_crs(epsg=4326)\n",
    "    #uno la cartografia con los datos\n",
    "    estaciones.ID = estaciones.ID.map(int)\n",
    "    estaciones = estaciones.merge(dt,on='ID',how='left')\n",
    "    #leo una cartografia de fondo\n",
    "    comunas = gpd.read_file('../carto/comunas.shp')\n",
    "    #comunas = comunas.to_crs(epsg=4326)\n",
    "    \n",
    "    lineas = gpd.read_file('../carto/lineas_de_subte.shp')\n",
    "    lineas = lineas.loc[lineas.Linea == linea,:]\n",
    "    lineas = lineas.to_crs(estaciones.crs)\n",
    "\n",
    "    estaciones['orden'] = estaciones.geometry.map(lambda estacion: lineas.project(estacion,normalized = False).iloc[0])\n",
    "    \n",
    "    #genero los ejes\n",
    "    fig = plt.figure(figsize=(18,6))\n",
    "    ax1 = fig.add_subplot(1,2,1)\n",
    "    ax2 = fig.add_subplot(1,2,2)\n",
    "    \n",
    "    #la paleta de color\n",
    "    colores = {\n",
    "        'A':'lightblue',\n",
    "        'B':'red',\n",
    "        'C':'blue',\n",
    "        'D':'green',\n",
    "        'E':'purple',\n",
    "        'H':'gold'\n",
    "    }\n",
    "    \n",
    "    #ordeno las estaciones\n",
    "    subdata = estaciones.loc[estaciones.LINEA==linea,:].sort_values(by='orden')\n",
    "    \n",
    "    #ploteo el mapa base\n",
    "    comunas.plot(ax=ax1,alpha=0.5,color='grey')\n",
    "    #ploteo estaciones de la linea seleccionada y las otras\n",
    "    estaciones.plot(ax = ax1, marker='.', color='black', markersize = estaciones['promedio']*10,alpha=0.4)\n",
    "    subdata.plot(ax = ax1, marker='.', color=colores[linea], markersize = subdata['promedio']*10,alpha=0.8)\n",
    "    \n",
    "    #elimino los ejes\n",
    "    ax1.set_axis_off()\n",
    "    \n",
    "    #creo el bar plot\n",
    "    sns.barplot(x=\"ESTACION\", y=\"promedio\", data=subdata,ax=ax2,color=colores[linea])\n",
    "    \n",
    "    #agrego etiquetas para eje x\n",
    "    for tick in ax2.get_xticklabels():\n",
    "        tick.set_rotation(70)\n",
    "    \n",
    "    #equiparo la proporcion\n",
    "    ax1.axis('equal')\n",
    "\n",
    "    fig.suptitle('Linea ' + linea + '- '+ str(hora) + ' hs ' + tipo_de_dia, fontsize=16)\n",
    "\n"
   ]
  },
  {
   "cell_type": "code",
   "execution_count": 117,
   "metadata": {},
   "outputs": [
    {
     "data": {
      "image/png": "[encoded data removed]",
      "text/plain": [
       "<Figure size 1296x432 with 2 Axes>"
      ]
     },
     "metadata": {
      "needs_background": "light"
     },
     "output_type": "display_data"
    }
   ],
   "source": [
    "verSubteLindo(hora = 9,tipo_de_dia = 'dia de semana',linea = 'C')"
   ]
  },
  {
   "cell_type": "markdown",
   "metadata": {
    "collapsed": true
   },
   "source": [
    "# Tarea para el hogar\n",
    "\n",
    "Pueden realizar dos tareas como práctica:\n",
    "\n",
    "* Ubiquen el centro de coordenadas de Gaus - Krugger para Buenos Aires que vimos en la proyeccion usada por GCBA. Calculen la distancia a ese punto de sitios de interes (Obelisco, el Km O en el congreso, La Casa Rosada)\n",
    "\n",
    "* Construyan un gráfico de dispersión, o scatter plot, donde evalúen si la distancia al obelisco de las estaciones se correlaciona (al menos en una inspección visual) con su distancia entre si. Pueden hacerlo para una linea o para todas."
   ]
  },
  {
   "cell_type": "code",
   "execution_count": null,
   "metadata": {},
   "outputs": [],
   "source": []
  },
  {
   "cell_type": "code",
   "execution_count": null,
   "metadata": {},
   "outputs": [],
   "source": []
  },
  {
   "cell_type": "code",
   "execution_count": null,
   "metadata": {},
   "outputs": [],
   "source": []
  },
  {
   "cell_type": "code",
   "execution_count": null,
   "metadata": {},
   "outputs": [],
   "source": []
  }
 ],
 "metadata": {
  "kernelspec": {
   "display_name": "Python 3",
   "language": "python",
   "name": "python3"
  },
  "language_info": {
   "codemirror_mode": {
    "name": "ipython",
    "version": 3
   },
   "file_extension": ".py",
   "mimetype": "text/x-python",
   "name": "python",
   "nbconvert_exporter": "python",
   "pygments_lexer": "ipython3",
   "version": "3.6.8"
  }
 },
 "nbformat": 4,
 "nbformat_minor": 1
}
