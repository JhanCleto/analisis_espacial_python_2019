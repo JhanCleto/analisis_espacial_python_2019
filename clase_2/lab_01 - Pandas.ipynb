{
 "cells": [
  {
   "cell_type": "markdown",
   "metadata": {},
   "source": [
    "# Práctico 1 \n",
    "Los conjuntos de datos del mundo real son desordenados. No hay forma de evitarlo: los conjuntos de datos tienen datos faltantes, su formato no es el que deseamos (la cantidad de formatos en los que se pueden almacenar datos es infinita) y la mejor estructura para compartir datos no siempre es la óptima para analizarlos, de ahí la necesidad de limpiarlos, ordenarlos, parsearlos, o de acuerdo al término en ingles: [munge](http://dictionary.reference.com/browse/munge). Como se ha señalado correctamente en muchos puntos de venta ([por ej](http://www.nytimes.com/2014/08/18/technology/for-big-data-scientists-hurdle-to-insights-is-janitor-work.html?_r=0)), la mayor parte del tiempo [gastado](https://twitter.com/BigDataBorat/status/306596352991830016) en lo que se llama (Geo) Ciencia de Datos está relacionado no solo con el modelado sofisticado y perspicaz, pero tiene que ver con tareas mucho más básicas y menos exóticas, como obtener datos, procesarlos, convertirlos en una forma que haga posible el análisis y explorarlos para conocer sus propiedades básicas.\n",
    "\n",
    "Por lo intensivo y relevante que es este aspecto, sorprendentemente se ha publicado muy poco sobre patrones, técnicas y mejores prácticas para una limpieza, manipulación y transformación de datos rápida y eficiente. En esta clase, usaremos algunos conjuntos de datos del mundo real y aprenderemos cómo procesarlos en Python para que puedan ser transformados y analizados. Para esto, presentaremos parte de lo fundamental del análisis de datos y la computación científica en Python. Estas son herramientas fundamentales que se utilizan constantemente en casi cualquier tarea relacionada con el análisis de datos.\n",
    "\n",
    "Este *notebook* cubre lo básico y el contenido que se espera que sea aprendido por cada estudiante. Usamos un conjunto de datos preparado que nos ahorra gran parte del procesamiento más complejo que va más allá del nivel introductorio al que se dirige la clase. \n",
    "\n",
    "En este cuaderno, discutimos varios patrones para limpiar y estructurar los datos de manera adecuada, que incluyen ordenar, subconjuntos y agregar; y terminamos con una visualización básica. \n",
    "\n",
    "Antes de tener nuestras manos sucias de datos, permítanos importar todas las librerias adicionales que vamos a necesitar."
   ]
  },
  {
   "cell_type": "code",
   "execution_count": null,
   "metadata": {},
   "outputs": [],
   "source": [
    "#sumar grupy by lmabda primer elmento"
   ]
  },
  {
   "cell_type": "code",
   "execution_count": 1,
   "metadata": {},
   "outputs": [],
   "source": [
    "import pandas as pd    # Pandas es la libreria de manipulacion de datos tabulares por excelencia\n",
    "import IPython.display as display\n",
    "import numpy as np"
   ]
  },
  {
   "cell_type": "markdown",
   "metadata": {},
   "source": [
    "La libreria principal para trabajar tablas de datos como las que estamos acostumbrados/as se llama **Pandas**. "
   ]
  },
  {
   "cell_type": "markdown",
   "metadata": {},
   "source": [
    "# Dataframes de Pandas\n",
    "\n",
    "\n",
    "Vamos a usar la data de molinetes del subte. Se puede descargar del [portal de datos abiertos del Gobierno de la Ciudad](https://data.buenosaires.gob.ar/dataset/subte-viajes-molinetes)\n"
   ]
  },
  {
   "cell_type": "code",
   "execution_count": 2,
   "metadata": {},
   "outputs": [
    {
     "data": {
      "text/html": [
       "<div>\n",
       "<style scoped>\n",
       "    .dataframe tbody tr th:only-of-type {\n",
       "        vertical-align: middle;\n",
       "    }\n",
       "\n",
       "    .dataframe tbody tr th {\n",
       "        vertical-align: top;\n",
       "    }\n",
       "\n",
       "    .dataframe thead th {\n",
       "        text-align: right;\n",
       "    }\n",
       "</style>\n",
       "<table border=\"1\" class=\"dataframe\">\n",
       "  <thead>\n",
       "    <tr style=\"text-align: right;\">\n",
       "      <th></th>\n",
       "      <th>PERIODO</th>\n",
       "      <th>FECHA</th>\n",
       "      <th>DESDE</th>\n",
       "      <th>HASTA</th>\n",
       "      <th>LINEA</th>\n",
       "      <th>MOLINETE</th>\n",
       "      <th>ESTACION</th>\n",
       "      <th>PAX_PAGOS</th>\n",
       "      <th>PAX_PASES_PAGOS</th>\n",
       "      <th>PAX_FRANQ</th>\n",
       "      <th>TOTAL</th>\n",
       "      <th>ID</th>\n",
       "    </tr>\n",
       "  </thead>\n",
       "  <tbody>\n",
       "    <tr>\n",
       "      <td>0</td>\n",
       "      <td>201801</td>\n",
       "      <td>01/01/2018</td>\n",
       "      <td>08:00:00</td>\n",
       "      <td>08:15:00</td>\n",
       "      <td>LINEA_A</td>\n",
       "      <td>LINEA_A_CBARROS_S_TURN01</td>\n",
       "      <td>CASTRO BARROS</td>\n",
       "      <td>1</td>\n",
       "      <td>0</td>\n",
       "      <td>0</td>\n",
       "      <td>1</td>\n",
       "      <td>40</td>\n",
       "    </tr>\n",
       "    <tr>\n",
       "      <td>1</td>\n",
       "      <td>201801</td>\n",
       "      <td>01/01/2018</td>\n",
       "      <td>08:00:00</td>\n",
       "      <td>08:15:00</td>\n",
       "      <td>LINEA_A</td>\n",
       "      <td>LINEA_A_LIMA_S_TURN03</td>\n",
       "      <td>LIMA</td>\n",
       "      <td>4</td>\n",
       "      <td>0</td>\n",
       "      <td>0</td>\n",
       "      <td>4</td>\n",
       "      <td>33</td>\n",
       "    </tr>\n",
       "    <tr>\n",
       "      <td>2</td>\n",
       "      <td>201801</td>\n",
       "      <td>01/01/2018</td>\n",
       "      <td>08:00:00</td>\n",
       "      <td>08:15:00</td>\n",
       "      <td>LINEA_A</td>\n",
       "      <td>LINEA_A_PASCO_TURN01</td>\n",
       "      <td>PASCO</td>\n",
       "      <td>1</td>\n",
       "      <td>0</td>\n",
       "      <td>0</td>\n",
       "      <td>1</td>\n",
       "      <td>36</td>\n",
       "    </tr>\n",
       "    <tr>\n",
       "      <td>3</td>\n",
       "      <td>201801</td>\n",
       "      <td>01/01/2018</td>\n",
       "      <td>08:00:00</td>\n",
       "      <td>08:15:00</td>\n",
       "      <td>LINEA_A</td>\n",
       "      <td>LINEA_A_PERU_S_TURN01</td>\n",
       "      <td>PERU</td>\n",
       "      <td>4</td>\n",
       "      <td>0</td>\n",
       "      <td>0</td>\n",
       "      <td>4</td>\n",
       "      <td>31</td>\n",
       "    </tr>\n",
       "    <tr>\n",
       "      <td>4</td>\n",
       "      <td>201801</td>\n",
       "      <td>01/01/2018</td>\n",
       "      <td>08:00:00</td>\n",
       "      <td>08:15:00</td>\n",
       "      <td>LINEA_A</td>\n",
       "      <td>LINEA_A_PJUNTA_S_TURN02</td>\n",
       "      <td>PRIMERA JUNTA</td>\n",
       "      <td>2</td>\n",
       "      <td>0</td>\n",
       "      <td>0</td>\n",
       "      <td>2</td>\n",
       "      <td>43</td>\n",
       "    </tr>\n",
       "  </tbody>\n",
       "</table>\n",
       "</div>"
      ],
      "text/plain": [
       "   PERIODO       FECHA     DESDE     HASTA    LINEA                  MOLINETE  \\\n",
       "0   201801  01/01/2018  08:00:00  08:15:00  LINEA_A  LINEA_A_CBARROS_S_TURN01   \n",
       "1   201801  01/01/2018  08:00:00  08:15:00  LINEA_A     LINEA_A_LIMA_S_TURN03   \n",
       "2   201801  01/01/2018  08:00:00  08:15:00  LINEA_A      LINEA_A_PASCO_TURN01   \n",
       "3   201801  01/01/2018  08:00:00  08:15:00  LINEA_A     LINEA_A_PERU_S_TURN01   \n",
       "4   201801  01/01/2018  08:00:00  08:15:00  LINEA_A   LINEA_A_PJUNTA_S_TURN02   \n",
       "\n",
       "        ESTACION  PAX_PAGOS  PAX_PASES_PAGOS  PAX_FRANQ  TOTAL  ID  \n",
       "0  CASTRO BARROS          1                0          0      1  40  \n",
       "1           LIMA          4                0          0      4  33  \n",
       "2          PASCO          1                0          0      1  36  \n",
       "3           PERU          4                0          0      4  31  \n",
       "4  PRIMERA JUNTA          2                0          0      2  43  "
      ]
     },
     "execution_count": 2,
     "metadata": {},
     "output_type": "execute_result"
    }
   ],
   "source": [
    "db = pd.read_csv('../data/molinetes_historico_2018.csv',sep=';')\n",
    "db.head()"
   ]
  },
  {
   "cell_type": "code",
   "execution_count": 4,
   "metadata": {},
   "outputs": [],
   "source": [
    "pd.read_csv?"
   ]
  },
  {
   "cell_type": "code",
   "execution_count": 6,
   "metadata": {},
   "outputs": [
    {
     "data": {
      "text/plain": [
       "pandas.core.frame.DataFrame"
      ]
     },
     "execution_count": 6,
     "metadata": {},
     "output_type": "execute_result"
    }
   ],
   "source": [
    "type(db)"
   ]
  },
  {
   "cell_type": "code",
   "execution_count": 5,
   "metadata": {},
   "outputs": [
    {
     "data": {
      "text/plain": [
       "(1947641, 12)"
      ]
     },
     "execution_count": 5,
     "metadata": {},
     "output_type": "execute_result"
    }
   ],
   "source": [
    "db.shape"
   ]
  },
  {
   "cell_type": "markdown",
   "metadata": {},
   "source": [
    "Finalmente luego de tanto encerar y pulir, de listas, strings, etc. podemos dedicarnos a un objeto que nos resulta realmente útil para nuestra práctica cotidiana: una tabla de datos o *data frame*"
   ]
  },
  {
   "cell_type": "code",
   "execution_count": null,
   "metadata": {},
   "outputs": [],
   "source": [
    "display.YouTubeVideo('fULNUr0rvEc')"
   ]
  },
  {
   "cell_type": "markdown",
   "metadata": {},
   "source": [
    "Detengámonos un momento para saber cómo hemos leído el archivo. Estos son los aspectos principales a tener en cuenta:\n",
    "\n",
    "* Estamos utilizando el método `read_csv` de la biblioteca `pandas`, que hemos importado con el alias `pd`.\n",
    "* En esta forma simple, todo lo que se requiere es pasar la ruta al archivo que queremos leer, y en nuestro caso el separador que no es la coma tradicional, sino el punto y coma. Esto se debe a que nuestro separador decimal es la coma, mientras que el separador de miles es el punto. Por eso, en los portales de datos no anglosajones, se tiene a utilizar ese separador. Si no separaría, por ejemplo, el campo latitud con valor -58,89 en dos campos -58 y 89.\n",
    "* Tiene *muchísimos* más parámetros que serán de mucha utilidad más adelante\n",
    "\n",
    "Inspeccionamos el objeto y vemos a qué tipo pertenece"
   ]
  },
  {
   "cell_type": "code",
   "execution_count": 7,
   "metadata": {},
   "outputs": [
    {
     "data": {
      "text/html": [
       "<div>\n",
       "<style scoped>\n",
       "    .dataframe tbody tr th:only-of-type {\n",
       "        vertical-align: middle;\n",
       "    }\n",
       "\n",
       "    .dataframe tbody tr th {\n",
       "        vertical-align: top;\n",
       "    }\n",
       "\n",
       "    .dataframe thead th {\n",
       "        text-align: right;\n",
       "    }\n",
       "</style>\n",
       "<table border=\"1\" class=\"dataframe\">\n",
       "  <thead>\n",
       "    <tr style=\"text-align: right;\">\n",
       "      <th></th>\n",
       "      <th>nombre</th>\n",
       "      <th>edad</th>\n",
       "    </tr>\n",
       "  </thead>\n",
       "  <tbody>\n",
       "    <tr>\n",
       "      <td>0</td>\n",
       "      <td>Felipe</td>\n",
       "      <td>34</td>\n",
       "    </tr>\n",
       "    <tr>\n",
       "      <td>1</td>\n",
       "      <td>Juana</td>\n",
       "      <td>56</td>\n",
       "    </tr>\n",
       "    <tr>\n",
       "      <td>2</td>\n",
       "      <td>Diego</td>\n",
       "      <td>9</td>\n",
       "    </tr>\n",
       "  </tbody>\n",
       "</table>\n",
       "</div>"
      ],
      "text/plain": [
       "   nombre  edad\n",
       "0  Felipe    34\n",
       "1   Juana    56\n",
       "2   Diego     9"
      ]
     },
     "execution_count": 7,
     "metadata": {},
     "output_type": "execute_result"
    }
   ],
   "source": [
    "#tambien se puede crear un data frame desde cero, utilizando diccionarios y listas de Python\n",
    "nueva = pd.DataFrame(\n",
    "    {\n",
    "        'nombre':[\n",
    "            'Felipe','Juana','Diego'\n",
    "        ],\n",
    "        'edad':[\n",
    "            34,56,9\n",
    "        ]\n",
    "}\n",
    ")\n",
    "nueva"
   ]
  },
  {
   "cell_type": "markdown",
   "metadata": {},
   "source": [
    "## 1 Primer resumen de nuestra tabla"
   ]
  },
  {
   "cell_type": "code",
   "execution_count": 8,
   "metadata": {},
   "outputs": [
    {
     "data": {
      "text/plain": [
       "pandas.core.frame.DataFrame"
      ]
     },
     "execution_count": 8,
     "metadata": {},
     "output_type": "execute_result"
    }
   ],
   "source": [
    "#vemos que es un objeto dataframe. Más adelante veremos sus propiedades\n",
    "type(db)"
   ]
  },
  {
   "cell_type": "code",
   "execution_count": 9,
   "metadata": {},
   "outputs": [
    {
     "name": "stdout",
     "output_type": "stream",
     "text": [
      "<class 'pandas.core.frame.DataFrame'>\n",
      "RangeIndex: 1947641 entries, 0 to 1947640\n",
      "Data columns (total 12 columns):\n",
      "PERIODO            int64\n",
      "FECHA              object\n",
      "DESDE              object\n",
      "HASTA              object\n",
      "LINEA              object\n",
      "MOLINETE           object\n",
      "ESTACION           object\n",
      "PAX_PAGOS          int64\n",
      "PAX_PASES_PAGOS    int64\n",
      "PAX_FRANQ          int64\n",
      "TOTAL              int64\n",
      "ID                 int64\n",
      "dtypes: int64(6), object(6)\n",
      "memory usage: 178.3+ MB\n"
     ]
    }
   ],
   "source": [
    "#vemos información básica como las columnas, que tipo de datos almacenan, cuantas filas, cuanta memoria ocupa, etc\n",
    "db.info()"
   ]
  },
  {
   "cell_type": "code",
   "execution_count": 10,
   "metadata": {},
   "outputs": [
    {
     "data": {
      "text/plain": [
       "(1947641, 12)"
      ]
     },
     "execution_count": 10,
     "metadata": {},
     "output_type": "execute_result"
    }
   ],
   "source": [
    "#podemos ver las dimensiones expresadas en (filas,columnas)\n",
    "db.shape"
   ]
  },
  {
   "cell_type": "code",
   "execution_count": 11,
   "metadata": {},
   "outputs": [
    {
     "data": {
      "text/plain": [
       "1947641"
      ]
     },
     "execution_count": 11,
     "metadata": {},
     "output_type": "execute_result"
    }
   ],
   "source": [
    "#podemos obtener la cantidad de registros solamente\n",
    "db.shape[0]"
   ]
  },
  {
   "cell_type": "code",
   "execution_count": 12,
   "metadata": {},
   "outputs": [
    {
     "data": {
      "text/plain": [
       "1947641"
      ]
     },
     "execution_count": 12,
     "metadata": {},
     "output_type": "execute_result"
    }
   ],
   "source": [
    "#o de otro modo\n",
    "len(db)"
   ]
  },
  {
   "cell_type": "markdown",
   "metadata": {},
   "source": [
    "* Resumen de los valores de la tabla"
   ]
  },
  {
   "cell_type": "code",
   "execution_count": 13,
   "metadata": {},
   "outputs": [
    {
     "data": {
      "text/html": [
       "<div>\n",
       "<style scoped>\n",
       "    .dataframe tbody tr th:only-of-type {\n",
       "        vertical-align: middle;\n",
       "    }\n",
       "\n",
       "    .dataframe tbody tr th {\n",
       "        vertical-align: top;\n",
       "    }\n",
       "\n",
       "    .dataframe thead th {\n",
       "        text-align: right;\n",
       "    }\n",
       "</style>\n",
       "<table border=\"1\" class=\"dataframe\">\n",
       "  <thead>\n",
       "    <tr style=\"text-align: right;\">\n",
       "      <th></th>\n",
       "      <th>PERIODO</th>\n",
       "      <th>PAX_PAGOS</th>\n",
       "      <th>PAX_PASES_PAGOS</th>\n",
       "      <th>PAX_FRANQ</th>\n",
       "      <th>TOTAL</th>\n",
       "      <th>ID</th>\n",
       "    </tr>\n",
       "  </thead>\n",
       "  <tbody>\n",
       "    <tr>\n",
       "      <td>count</td>\n",
       "      <td>1.947641e+06</td>\n",
       "      <td>1.947641e+06</td>\n",
       "      <td>1.947641e+06</td>\n",
       "      <td>1.947641e+06</td>\n",
       "      <td>1.947641e+06</td>\n",
       "      <td>1.947641e+06</td>\n",
       "    </tr>\n",
       "    <tr>\n",
       "      <td>mean</td>\n",
       "      <td>2.018015e+05</td>\n",
       "      <td>2.284090e+01</td>\n",
       "      <td>1.503819e-02</td>\n",
       "      <td>6.732031e-01</td>\n",
       "      <td>2.352914e+01</td>\n",
       "      <td>4.439516e+01</td>\n",
       "    </tr>\n",
       "    <tr>\n",
       "      <td>std</td>\n",
       "      <td>4.992969e-01</td>\n",
       "      <td>2.559934e+01</td>\n",
       "      <td>1.253787e-01</td>\n",
       "      <td>1.201028e+00</td>\n",
       "      <td>2.596725e+01</td>\n",
       "      <td>2.546339e+01</td>\n",
       "    </tr>\n",
       "    <tr>\n",
       "      <td>min</td>\n",
       "      <td>2.018010e+05</td>\n",
       "      <td>0.000000e+00</td>\n",
       "      <td>0.000000e+00</td>\n",
       "      <td>0.000000e+00</td>\n",
       "      <td>0.000000e+00</td>\n",
       "      <td>1.000000e+00</td>\n",
       "    </tr>\n",
       "    <tr>\n",
       "      <td>25%</td>\n",
       "      <td>2.018010e+05</td>\n",
       "      <td>5.000000e+00</td>\n",
       "      <td>0.000000e+00</td>\n",
       "      <td>0.000000e+00</td>\n",
       "      <td>6.000000e+00</td>\n",
       "      <td>2.100000e+01</td>\n",
       "    </tr>\n",
       "    <tr>\n",
       "      <td>50%</td>\n",
       "      <td>2.018010e+05</td>\n",
       "      <td>1.500000e+01</td>\n",
       "      <td>0.000000e+00</td>\n",
       "      <td>0.000000e+00</td>\n",
       "      <td>1.500000e+01</td>\n",
       "      <td>4.200000e+01</td>\n",
       "    </tr>\n",
       "    <tr>\n",
       "      <td>75%</td>\n",
       "      <td>2.018020e+05</td>\n",
       "      <td>3.100000e+01</td>\n",
       "      <td>0.000000e+00</td>\n",
       "      <td>1.000000e+00</td>\n",
       "      <td>3.200000e+01</td>\n",
       "      <td>6.900000e+01</td>\n",
       "    </tr>\n",
       "    <tr>\n",
       "      <td>max</td>\n",
       "      <td>2.018020e+05</td>\n",
       "      <td>3.700000e+02</td>\n",
       "      <td>3.000000e+00</td>\n",
       "      <td>3.600000e+01</td>\n",
       "      <td>3.700000e+02</td>\n",
       "      <td>8.600000e+01</td>\n",
       "    </tr>\n",
       "  </tbody>\n",
       "</table>\n",
       "</div>"
      ],
      "text/plain": [
       "            PERIODO     PAX_PAGOS  PAX_PASES_PAGOS     PAX_FRANQ  \\\n",
       "count  1.947641e+06  1.947641e+06     1.947641e+06  1.947641e+06   \n",
       "mean   2.018015e+05  2.284090e+01     1.503819e-02  6.732031e-01   \n",
       "std    4.992969e-01  2.559934e+01     1.253787e-01  1.201028e+00   \n",
       "min    2.018010e+05  0.000000e+00     0.000000e+00  0.000000e+00   \n",
       "25%    2.018010e+05  5.000000e+00     0.000000e+00  0.000000e+00   \n",
       "50%    2.018010e+05  1.500000e+01     0.000000e+00  0.000000e+00   \n",
       "75%    2.018020e+05  3.100000e+01     0.000000e+00  1.000000e+00   \n",
       "max    2.018020e+05  3.700000e+02     3.000000e+00  3.600000e+01   \n",
       "\n",
       "              TOTAL            ID  \n",
       "count  1.947641e+06  1.947641e+06  \n",
       "mean   2.352914e+01  4.439516e+01  \n",
       "std    2.596725e+01  2.546339e+01  \n",
       "min    0.000000e+00  1.000000e+00  \n",
       "25%    6.000000e+00  2.100000e+01  \n",
       "50%    1.500000e+01  4.200000e+01  \n",
       "75%    3.200000e+01  6.900000e+01  \n",
       "max    3.700000e+02  8.600000e+01  "
      ]
     },
     "execution_count": 13,
     "metadata": {},
     "output_type": "execute_result"
    }
   ],
   "source": [
    "db.describe()"
   ]
  },
  {
   "cell_type": "markdown",
   "metadata": {},
   "source": [
    "Tenga en cuenta que el resultado también es un objeto `DataFrame`, por lo que puede hacer con él las mismas cosas que haría con la tabla original (por ejemplo, escribirla en un archivo).\n",
    "\n",
    "En este caso, el resumen podría presentarse mejor si la tabla es \"transpuesta\":"
   ]
  },
  {
   "cell_type": "code",
   "execution_count": 14,
   "metadata": {},
   "outputs": [
    {
     "data": {
      "text/html": [
       "<div>\n",
       "<style scoped>\n",
       "    .dataframe tbody tr th:only-of-type {\n",
       "        vertical-align: middle;\n",
       "    }\n",
       "\n",
       "    .dataframe tbody tr th {\n",
       "        vertical-align: top;\n",
       "    }\n",
       "\n",
       "    .dataframe thead th {\n",
       "        text-align: right;\n",
       "    }\n",
       "</style>\n",
       "<table border=\"1\" class=\"dataframe\">\n",
       "  <thead>\n",
       "    <tr style=\"text-align: right;\">\n",
       "      <th></th>\n",
       "      <th>count</th>\n",
       "      <th>mean</th>\n",
       "      <th>std</th>\n",
       "      <th>min</th>\n",
       "      <th>25%</th>\n",
       "      <th>50%</th>\n",
       "      <th>75%</th>\n",
       "      <th>max</th>\n",
       "    </tr>\n",
       "  </thead>\n",
       "  <tbody>\n",
       "    <tr>\n",
       "      <td>PERIODO</td>\n",
       "      <td>1947641.0</td>\n",
       "      <td>201801.473491</td>\n",
       "      <td>0.499297</td>\n",
       "      <td>201801.0</td>\n",
       "      <td>201801.0</td>\n",
       "      <td>201801.0</td>\n",
       "      <td>201802.0</td>\n",
       "      <td>201802.0</td>\n",
       "    </tr>\n",
       "    <tr>\n",
       "      <td>PAX_PAGOS</td>\n",
       "      <td>1947641.0</td>\n",
       "      <td>22.840898</td>\n",
       "      <td>25.599343</td>\n",
       "      <td>0.0</td>\n",
       "      <td>5.0</td>\n",
       "      <td>15.0</td>\n",
       "      <td>31.0</td>\n",
       "      <td>370.0</td>\n",
       "    </tr>\n",
       "    <tr>\n",
       "      <td>PAX_PASES_PAGOS</td>\n",
       "      <td>1947641.0</td>\n",
       "      <td>0.015038</td>\n",
       "      <td>0.125379</td>\n",
       "      <td>0.0</td>\n",
       "      <td>0.0</td>\n",
       "      <td>0.0</td>\n",
       "      <td>0.0</td>\n",
       "      <td>3.0</td>\n",
       "    </tr>\n",
       "    <tr>\n",
       "      <td>PAX_FRANQ</td>\n",
       "      <td>1947641.0</td>\n",
       "      <td>0.673203</td>\n",
       "      <td>1.201028</td>\n",
       "      <td>0.0</td>\n",
       "      <td>0.0</td>\n",
       "      <td>0.0</td>\n",
       "      <td>1.0</td>\n",
       "      <td>36.0</td>\n",
       "    </tr>\n",
       "    <tr>\n",
       "      <td>TOTAL</td>\n",
       "      <td>1947641.0</td>\n",
       "      <td>23.529140</td>\n",
       "      <td>25.967254</td>\n",
       "      <td>0.0</td>\n",
       "      <td>6.0</td>\n",
       "      <td>15.0</td>\n",
       "      <td>32.0</td>\n",
       "      <td>370.0</td>\n",
       "    </tr>\n",
       "    <tr>\n",
       "      <td>ID</td>\n",
       "      <td>1947641.0</td>\n",
       "      <td>44.395155</td>\n",
       "      <td>25.463393</td>\n",
       "      <td>1.0</td>\n",
       "      <td>21.0</td>\n",
       "      <td>42.0</td>\n",
       "      <td>69.0</td>\n",
       "      <td>86.0</td>\n",
       "    </tr>\n",
       "  </tbody>\n",
       "</table>\n",
       "</div>"
      ],
      "text/plain": [
       "                     count           mean        std       min       25%  \\\n",
       "PERIODO          1947641.0  201801.473491   0.499297  201801.0  201801.0   \n",
       "PAX_PAGOS        1947641.0      22.840898  25.599343       0.0       5.0   \n",
       "PAX_PASES_PAGOS  1947641.0       0.015038   0.125379       0.0       0.0   \n",
       "PAX_FRANQ        1947641.0       0.673203   1.201028       0.0       0.0   \n",
       "TOTAL            1947641.0      23.529140  25.967254       0.0       6.0   \n",
       "ID               1947641.0      44.395155  25.463393       1.0      21.0   \n",
       "\n",
       "                      50%       75%       max  \n",
       "PERIODO          201801.0  201802.0  201802.0  \n",
       "PAX_PAGOS            15.0      31.0     370.0  \n",
       "PAX_PASES_PAGOS       0.0       0.0       3.0  \n",
       "PAX_FRANQ             0.0       1.0      36.0  \n",
       "TOTAL                15.0      32.0     370.0  \n",
       "ID                   42.0      69.0      86.0  "
      ]
     },
     "execution_count": 14,
     "metadata": {},
     "output_type": "execute_result"
    }
   ],
   "source": [
    "db.describe().T"
   ]
  },
  {
   "cell_type": "markdown",
   "metadata": {},
   "source": [
    "## 2 Seleccionar y filtrar datos\n",
    "\n",
    "¡Ahora estamos listos para comenzar a jugar e interrogar al conjunto de datos! Lo que tenemos a nuestro alcance es una tabla que  muestra la cantidad de transacciones por molinete de las lineas de subte de Buenos Aires cada 15 minutos. Veremos como seleccionar variables y casos, recortarla horizontal o verticalmente.\n",
    "\n",
    "* Inspeccionando cómo se ve. Podemos verificar las líneas X (superiores) de la tabla pasando X al método `head` (` tail`). Por ejemplo, para las cinco líneas superiores e inferiores:"
   ]
  },
  {
   "cell_type": "code",
   "execution_count": 15,
   "metadata": {},
   "outputs": [
    {
     "data": {
      "text/html": [
       "<div>\n",
       "<style scoped>\n",
       "    .dataframe tbody tr th:only-of-type {\n",
       "        vertical-align: middle;\n",
       "    }\n",
       "\n",
       "    .dataframe tbody tr th {\n",
       "        vertical-align: top;\n",
       "    }\n",
       "\n",
       "    .dataframe thead th {\n",
       "        text-align: right;\n",
       "    }\n",
       "</style>\n",
       "<table border=\"1\" class=\"dataframe\">\n",
       "  <thead>\n",
       "    <tr style=\"text-align: right;\">\n",
       "      <th></th>\n",
       "      <th>PERIODO</th>\n",
       "      <th>FECHA</th>\n",
       "      <th>DESDE</th>\n",
       "      <th>HASTA</th>\n",
       "      <th>LINEA</th>\n",
       "      <th>MOLINETE</th>\n",
       "      <th>ESTACION</th>\n",
       "      <th>PAX_PAGOS</th>\n",
       "      <th>PAX_PASES_PAGOS</th>\n",
       "      <th>PAX_FRANQ</th>\n",
       "      <th>TOTAL</th>\n",
       "      <th>ID</th>\n",
       "    </tr>\n",
       "  </thead>\n",
       "  <tbody>\n",
       "    <tr>\n",
       "      <td>0</td>\n",
       "      <td>201801</td>\n",
       "      <td>01/01/2018</td>\n",
       "      <td>08:00:00</td>\n",
       "      <td>08:15:00</td>\n",
       "      <td>LINEA_A</td>\n",
       "      <td>LINEA_A_CBARROS_S_TURN01</td>\n",
       "      <td>CASTRO BARROS</td>\n",
       "      <td>1</td>\n",
       "      <td>0</td>\n",
       "      <td>0</td>\n",
       "      <td>1</td>\n",
       "      <td>40</td>\n",
       "    </tr>\n",
       "    <tr>\n",
       "      <td>1</td>\n",
       "      <td>201801</td>\n",
       "      <td>01/01/2018</td>\n",
       "      <td>08:00:00</td>\n",
       "      <td>08:15:00</td>\n",
       "      <td>LINEA_A</td>\n",
       "      <td>LINEA_A_LIMA_S_TURN03</td>\n",
       "      <td>LIMA</td>\n",
       "      <td>4</td>\n",
       "      <td>0</td>\n",
       "      <td>0</td>\n",
       "      <td>4</td>\n",
       "      <td>33</td>\n",
       "    </tr>\n",
       "    <tr>\n",
       "      <td>2</td>\n",
       "      <td>201801</td>\n",
       "      <td>01/01/2018</td>\n",
       "      <td>08:00:00</td>\n",
       "      <td>08:15:00</td>\n",
       "      <td>LINEA_A</td>\n",
       "      <td>LINEA_A_PASCO_TURN01</td>\n",
       "      <td>PASCO</td>\n",
       "      <td>1</td>\n",
       "      <td>0</td>\n",
       "      <td>0</td>\n",
       "      <td>1</td>\n",
       "      <td>36</td>\n",
       "    </tr>\n",
       "    <tr>\n",
       "      <td>3</td>\n",
       "      <td>201801</td>\n",
       "      <td>01/01/2018</td>\n",
       "      <td>08:00:00</td>\n",
       "      <td>08:15:00</td>\n",
       "      <td>LINEA_A</td>\n",
       "      <td>LINEA_A_PERU_S_TURN01</td>\n",
       "      <td>PERU</td>\n",
       "      <td>4</td>\n",
       "      <td>0</td>\n",
       "      <td>0</td>\n",
       "      <td>4</td>\n",
       "      <td>31</td>\n",
       "    </tr>\n",
       "    <tr>\n",
       "      <td>4</td>\n",
       "      <td>201801</td>\n",
       "      <td>01/01/2018</td>\n",
       "      <td>08:00:00</td>\n",
       "      <td>08:15:00</td>\n",
       "      <td>LINEA_A</td>\n",
       "      <td>LINEA_A_PJUNTA_S_TURN02</td>\n",
       "      <td>PRIMERA JUNTA</td>\n",
       "      <td>2</td>\n",
       "      <td>0</td>\n",
       "      <td>0</td>\n",
       "      <td>2</td>\n",
       "      <td>43</td>\n",
       "    </tr>\n",
       "  </tbody>\n",
       "</table>\n",
       "</div>"
      ],
      "text/plain": [
       "   PERIODO       FECHA     DESDE     HASTA    LINEA                  MOLINETE  \\\n",
       "0   201801  01/01/2018  08:00:00  08:15:00  LINEA_A  LINEA_A_CBARROS_S_TURN01   \n",
       "1   201801  01/01/2018  08:00:00  08:15:00  LINEA_A     LINEA_A_LIMA_S_TURN03   \n",
       "2   201801  01/01/2018  08:00:00  08:15:00  LINEA_A      LINEA_A_PASCO_TURN01   \n",
       "3   201801  01/01/2018  08:00:00  08:15:00  LINEA_A     LINEA_A_PERU_S_TURN01   \n",
       "4   201801  01/01/2018  08:00:00  08:15:00  LINEA_A   LINEA_A_PJUNTA_S_TURN02   \n",
       "\n",
       "        ESTACION  PAX_PAGOS  PAX_PASES_PAGOS  PAX_FRANQ  TOTAL  ID  \n",
       "0  CASTRO BARROS          1                0          0      1  40  \n",
       "1           LIMA          4                0          0      4  33  \n",
       "2          PASCO          1                0          0      1  36  \n",
       "3           PERU          4                0          0      4  31  \n",
       "4  PRIMERA JUNTA          2                0          0      2  43  "
      ]
     },
     "execution_count": 15,
     "metadata": {},
     "output_type": "execute_result"
    }
   ],
   "source": [
    "db.head(5)"
   ]
  },
  {
   "cell_type": "code",
   "execution_count": 16,
   "metadata": {},
   "outputs": [
    {
     "data": {
      "text/html": [
       "<div>\n",
       "<style scoped>\n",
       "    .dataframe tbody tr th:only-of-type {\n",
       "        vertical-align: middle;\n",
       "    }\n",
       "\n",
       "    .dataframe tbody tr th {\n",
       "        vertical-align: top;\n",
       "    }\n",
       "\n",
       "    .dataframe thead th {\n",
       "        text-align: right;\n",
       "    }\n",
       "</style>\n",
       "<table border=\"1\" class=\"dataframe\">\n",
       "  <thead>\n",
       "    <tr style=\"text-align: right;\">\n",
       "      <th></th>\n",
       "      <th>PERIODO</th>\n",
       "      <th>FECHA</th>\n",
       "      <th>DESDE</th>\n",
       "      <th>HASTA</th>\n",
       "      <th>LINEA</th>\n",
       "      <th>MOLINETE</th>\n",
       "      <th>ESTACION</th>\n",
       "      <th>PAX_PAGOS</th>\n",
       "      <th>PAX_PASES_PAGOS</th>\n",
       "      <th>PAX_FRANQ</th>\n",
       "      <th>TOTAL</th>\n",
       "      <th>ID</th>\n",
       "    </tr>\n",
       "  </thead>\n",
       "  <tbody>\n",
       "    <tr>\n",
       "      <td>1947639</td>\n",
       "      <td>201802</td>\n",
       "      <td>28/02/2018</td>\n",
       "      <td>23:30:00</td>\n",
       "      <td>23:45:00</td>\n",
       "      <td>LINEA_E</td>\n",
       "      <td>LINEA_E_EMITRE_TURN02</td>\n",
       "      <td>EMILIO MITRE</td>\n",
       "      <td>0</td>\n",
       "      <td>0</td>\n",
       "      <td>0</td>\n",
       "      <td>0</td>\n",
       "      <td>53</td>\n",
       "    </tr>\n",
       "    <tr>\n",
       "      <td>1947640</td>\n",
       "      <td>201802</td>\n",
       "      <td>28/02/2018</td>\n",
       "      <td>23:30:00</td>\n",
       "      <td>23:45:00</td>\n",
       "      <td>LINEA_H</td>\n",
       "      <td>LINEA_H_VENEZUELA_NORTE_TURN01</td>\n",
       "      <td>VENEZUELA</td>\n",
       "      <td>1</td>\n",
       "      <td>0</td>\n",
       "      <td>0</td>\n",
       "      <td>1</td>\n",
       "      <td>4</td>\n",
       "    </tr>\n",
       "  </tbody>\n",
       "</table>\n",
       "</div>"
      ],
      "text/plain": [
       "         PERIODO       FECHA     DESDE     HASTA    LINEA  \\\n",
       "1947639   201802  28/02/2018  23:30:00  23:45:00  LINEA_E   \n",
       "1947640   201802  28/02/2018  23:30:00  23:45:00  LINEA_H   \n",
       "\n",
       "                               MOLINETE      ESTACION  PAX_PAGOS  \\\n",
       "1947639           LINEA_E_EMITRE_TURN02  EMILIO MITRE          0   \n",
       "1947640  LINEA_H_VENEZUELA_NORTE_TURN01     VENEZUELA          1   \n",
       "\n",
       "         PAX_PASES_PAGOS  PAX_FRANQ  TOTAL  ID  \n",
       "1947639                0          0      0  53  \n",
       "1947640                0          0      1   4  "
      ]
     },
     "execution_count": 16,
     "metadata": {},
     "output_type": "execute_result"
    }
   ],
   "source": [
    "db.tail(2)"
   ]
  },
  {
   "cell_type": "code",
   "execution_count": 17,
   "metadata": {},
   "outputs": [
    {
     "data": {
      "text/plain": [
       "array([201801, 201802])"
      ]
     },
     "execution_count": 17,
     "metadata": {},
     "output_type": "execute_result"
    }
   ],
   "source": [
    "# que periodos tenemos?\n",
    "db.PERIODO.unique()"
   ]
  },
  {
   "cell_type": "code",
   "execution_count": 18,
   "metadata": {},
   "outputs": [
    {
     "data": {
      "text/plain": [
       "201801    1025451\n",
       "201802     922190\n",
       "Name: PERIODO, dtype: int64"
      ]
     },
     "execution_count": 18,
     "metadata": {},
     "output_type": "execute_result"
    }
   ],
   "source": [
    "#cuantos casos en cada uno?\n",
    "db.PERIODO.value_counts()"
   ]
  },
  {
   "cell_type": "code",
   "execution_count": 3,
   "metadata": {},
   "outputs": [
    {
     "data": {
      "text/plain": [
       "201801    52.650925\n",
       "201802    47.349075\n",
       "Name: PERIODO, dtype: float64"
      ]
     },
     "execution_count": 3,
     "metadata": {},
     "output_type": "execute_result"
    }
   ],
   "source": [
    "#podemos verlo como distribucion de frecuencias en porcentajes \n",
    "db.PERIODO.value_counts() / len(db) * 100"
   ]
  },
  {
   "cell_type": "code",
   "execution_count": 4,
   "metadata": {},
   "outputs": [
    {
     "data": {
      "text/plain": [
       "201801    52.65\n",
       "201802    47.35\n",
       "Name: PERIODO, dtype: float64"
      ]
     },
     "execution_count": 4,
     "metadata": {},
     "output_type": "execute_result"
    }
   ],
   "source": [
    "#redondeamos el resultado\n",
    "round(db.PERIODO.value_counts() / len(db) * 100,2)"
   ]
  },
  {
   "cell_type": "code",
   "execution_count": 5,
   "metadata": {},
   "outputs": [
    {
     "data": {
      "text/html": [
       "<div>\n",
       "<style scoped>\n",
       "    .dataframe tbody tr th:only-of-type {\n",
       "        vertical-align: middle;\n",
       "    }\n",
       "\n",
       "    .dataframe tbody tr th {\n",
       "        vertical-align: top;\n",
       "    }\n",
       "\n",
       "    .dataframe thead th {\n",
       "        text-align: right;\n",
       "    }\n",
       "</style>\n",
       "<table border=\"1\" class=\"dataframe\">\n",
       "  <thead>\n",
       "    <tr style=\"text-align: right;\">\n",
       "      <th></th>\n",
       "      <th>PERIODO</th>\n",
       "      <th>FECHA</th>\n",
       "      <th>DESDE</th>\n",
       "      <th>HASTA</th>\n",
       "      <th>LINEA</th>\n",
       "      <th>MOLINETE</th>\n",
       "      <th>ESTACION</th>\n",
       "      <th>PAX_PAGOS</th>\n",
       "      <th>PAX_PASES_PAGOS</th>\n",
       "      <th>PAX_FRANQ</th>\n",
       "      <th>TOTAL</th>\n",
       "      <th>ID</th>\n",
       "    </tr>\n",
       "  </thead>\n",
       "  <tbody>\n",
       "    <tr>\n",
       "      <td>0</td>\n",
       "      <td>201801</td>\n",
       "      <td>01/01/2018</td>\n",
       "      <td>08:00:00</td>\n",
       "      <td>08:15:00</td>\n",
       "      <td>LINEA_A</td>\n",
       "      <td>LINEA_A_CBARROS_S_TURN01</td>\n",
       "      <td>CASTRO BARROS</td>\n",
       "      <td>1</td>\n",
       "      <td>0</td>\n",
       "      <td>0</td>\n",
       "      <td>1</td>\n",
       "      <td>40</td>\n",
       "    </tr>\n",
       "    <tr>\n",
       "      <td>1</td>\n",
       "      <td>201801</td>\n",
       "      <td>01/01/2018</td>\n",
       "      <td>08:00:00</td>\n",
       "      <td>08:15:00</td>\n",
       "      <td>LINEA_A</td>\n",
       "      <td>LINEA_A_LIMA_S_TURN03</td>\n",
       "      <td>LIMA</td>\n",
       "      <td>4</td>\n",
       "      <td>0</td>\n",
       "      <td>0</td>\n",
       "      <td>4</td>\n",
       "      <td>33</td>\n",
       "    </tr>\n",
       "    <tr>\n",
       "      <td>2</td>\n",
       "      <td>201801</td>\n",
       "      <td>01/01/2018</td>\n",
       "      <td>08:00:00</td>\n",
       "      <td>08:15:00</td>\n",
       "      <td>LINEA_A</td>\n",
       "      <td>LINEA_A_PASCO_TURN01</td>\n",
       "      <td>PASCO</td>\n",
       "      <td>1</td>\n",
       "      <td>0</td>\n",
       "      <td>0</td>\n",
       "      <td>1</td>\n",
       "      <td>36</td>\n",
       "    </tr>\n",
       "    <tr>\n",
       "      <td>3</td>\n",
       "      <td>201801</td>\n",
       "      <td>01/01/2018</td>\n",
       "      <td>08:00:00</td>\n",
       "      <td>08:15:00</td>\n",
       "      <td>LINEA_A</td>\n",
       "      <td>LINEA_A_PERU_S_TURN01</td>\n",
       "      <td>PERU</td>\n",
       "      <td>4</td>\n",
       "      <td>0</td>\n",
       "      <td>0</td>\n",
       "      <td>4</td>\n",
       "      <td>31</td>\n",
       "    </tr>\n",
       "    <tr>\n",
       "      <td>4</td>\n",
       "      <td>201801</td>\n",
       "      <td>01/01/2018</td>\n",
       "      <td>08:00:00</td>\n",
       "      <td>08:15:00</td>\n",
       "      <td>LINEA_A</td>\n",
       "      <td>LINEA_A_PJUNTA_S_TURN02</td>\n",
       "      <td>PRIMERA JUNTA</td>\n",
       "      <td>2</td>\n",
       "      <td>0</td>\n",
       "      <td>0</td>\n",
       "      <td>2</td>\n",
       "      <td>43</td>\n",
       "    </tr>\n",
       "    <tr>\n",
       "      <td>...</td>\n",
       "      <td>...</td>\n",
       "      <td>...</td>\n",
       "      <td>...</td>\n",
       "      <td>...</td>\n",
       "      <td>...</td>\n",
       "      <td>...</td>\n",
       "      <td>...</td>\n",
       "      <td>...</td>\n",
       "      <td>...</td>\n",
       "      <td>...</td>\n",
       "      <td>...</td>\n",
       "      <td>...</td>\n",
       "    </tr>\n",
       "    <tr>\n",
       "      <td>1947636</td>\n",
       "      <td>201802</td>\n",
       "      <td>28/02/2018</td>\n",
       "      <td>23:30:00</td>\n",
       "      <td>23:45:00</td>\n",
       "      <td>LINEA_H</td>\n",
       "      <td>LINEAH_SANTAFE_SUR_TURN01</td>\n",
       "      <td>SANTA FE</td>\n",
       "      <td>1</td>\n",
       "      <td>0</td>\n",
       "      <td>0</td>\n",
       "      <td>1</td>\n",
       "      <td>86</td>\n",
       "    </tr>\n",
       "    <tr>\n",
       "      <td>1947637</td>\n",
       "      <td>201802</td>\n",
       "      <td>28/02/2018</td>\n",
       "      <td>23:30:00</td>\n",
       "      <td>23:45:00</td>\n",
       "      <td>LINEA_A</td>\n",
       "      <td>LINEA_A_CONGRESO_S_TURN03</td>\n",
       "      <td>CONGRESO</td>\n",
       "      <td>1</td>\n",
       "      <td>0</td>\n",
       "      <td>0</td>\n",
       "      <td>1</td>\n",
       "      <td>35</td>\n",
       "    </tr>\n",
       "    <tr>\n",
       "      <td>1947638</td>\n",
       "      <td>201802</td>\n",
       "      <td>28/02/2018</td>\n",
       "      <td>23:30:00</td>\n",
       "      <td>23:45:00</td>\n",
       "      <td>LINEA_B</td>\n",
       "      <td>LINEA_B_GALLARDO_S_TURN01</td>\n",
       "      <td>ANGEL GALLARDO</td>\n",
       "      <td>1</td>\n",
       "      <td>0</td>\n",
       "      <td>0</td>\n",
       "      <td>1</td>\n",
       "      <td>28</td>\n",
       "    </tr>\n",
       "    <tr>\n",
       "      <td>1947639</td>\n",
       "      <td>201802</td>\n",
       "      <td>28/02/2018</td>\n",
       "      <td>23:30:00</td>\n",
       "      <td>23:45:00</td>\n",
       "      <td>LINEA_E</td>\n",
       "      <td>LINEA_E_EMITRE_TURN02</td>\n",
       "      <td>EMILIO MITRE</td>\n",
       "      <td>0</td>\n",
       "      <td>0</td>\n",
       "      <td>0</td>\n",
       "      <td>0</td>\n",
       "      <td>53</td>\n",
       "    </tr>\n",
       "    <tr>\n",
       "      <td>1947640</td>\n",
       "      <td>201802</td>\n",
       "      <td>28/02/2018</td>\n",
       "      <td>23:30:00</td>\n",
       "      <td>23:45:00</td>\n",
       "      <td>LINEA_H</td>\n",
       "      <td>LINEA_H_VENEZUELA_NORTE_TURN01</td>\n",
       "      <td>VENEZUELA</td>\n",
       "      <td>1</td>\n",
       "      <td>0</td>\n",
       "      <td>0</td>\n",
       "      <td>1</td>\n",
       "      <td>4</td>\n",
       "    </tr>\n",
       "  </tbody>\n",
       "</table>\n",
       "<p>1947641 rows × 12 columns</p>\n",
       "</div>"
      ],
      "text/plain": [
       "         PERIODO       FECHA     DESDE     HASTA    LINEA  \\\n",
       "0         201801  01/01/2018  08:00:00  08:15:00  LINEA_A   \n",
       "1         201801  01/01/2018  08:00:00  08:15:00  LINEA_A   \n",
       "2         201801  01/01/2018  08:00:00  08:15:00  LINEA_A   \n",
       "3         201801  01/01/2018  08:00:00  08:15:00  LINEA_A   \n",
       "4         201801  01/01/2018  08:00:00  08:15:00  LINEA_A   \n",
       "...          ...         ...       ...       ...      ...   \n",
       "1947636   201802  28/02/2018  23:30:00  23:45:00  LINEA_H   \n",
       "1947637   201802  28/02/2018  23:30:00  23:45:00  LINEA_A   \n",
       "1947638   201802  28/02/2018  23:30:00  23:45:00  LINEA_B   \n",
       "1947639   201802  28/02/2018  23:30:00  23:45:00  LINEA_E   \n",
       "1947640   201802  28/02/2018  23:30:00  23:45:00  LINEA_H   \n",
       "\n",
       "                               MOLINETE        ESTACION  PAX_PAGOS  \\\n",
       "0              LINEA_A_CBARROS_S_TURN01   CASTRO BARROS          1   \n",
       "1                 LINEA_A_LIMA_S_TURN03            LIMA          4   \n",
       "2                  LINEA_A_PASCO_TURN01           PASCO          1   \n",
       "3                 LINEA_A_PERU_S_TURN01            PERU          4   \n",
       "4               LINEA_A_PJUNTA_S_TURN02   PRIMERA JUNTA          2   \n",
       "...                                 ...             ...        ...   \n",
       "1947636       LINEAH_SANTAFE_SUR_TURN01        SANTA FE          1   \n",
       "1947637       LINEA_A_CONGRESO_S_TURN03        CONGRESO          1   \n",
       "1947638       LINEA_B_GALLARDO_S_TURN01  ANGEL GALLARDO          1   \n",
       "1947639           LINEA_E_EMITRE_TURN02    EMILIO MITRE          0   \n",
       "1947640  LINEA_H_VENEZUELA_NORTE_TURN01       VENEZUELA          1   \n",
       "\n",
       "         PAX_PASES_PAGOS  PAX_FRANQ  TOTAL  ID  \n",
       "0                      0          0      1  40  \n",
       "1                      0          0      4  33  \n",
       "2                      0          0      1  36  \n",
       "3                      0          0      4  31  \n",
       "4                      0          0      2  43  \n",
       "...                  ...        ...    ...  ..  \n",
       "1947636                0          0      1  86  \n",
       "1947637                0          0      1  35  \n",
       "1947638                0          0      1  28  \n",
       "1947639                0          0      0  53  \n",
       "1947640                0          0      1   4  \n",
       "\n",
       "[1947641 rows x 12 columns]"
      ]
     },
     "execution_count": 5,
     "metadata": {},
     "output_type": "execute_result"
    }
   ],
   "source": [
    "db.loc[:,:]"
   ]
  },
  {
   "cell_type": "code",
   "execution_count": 6,
   "metadata": {},
   "outputs": [
    {
     "ename": "ValueError",
     "evalue": "operands could not be broadcast together with shapes (1947641,) (0,) ",
     "output_type": "error",
     "traceback": [
      "\u001b[0;31m---------------------------------------------------------------------------\u001b[0m",
      "\u001b[0;31mValueError\u001b[0m                                Traceback (most recent call last)",
      "\u001b[0;32m<ipython-input-6-925199da7eaf>\u001b[0m in \u001b[0;36m<module>\u001b[0;34m\u001b[0m\n\u001b[1;32m      1\u001b[0m \u001b[0;31m#nos quedamos con la data mas reciente con el metodo LOC para seleccionar subset de datos\u001b[0m\u001b[0;34m\u001b[0m\u001b[0;34m\u001b[0m\u001b[0;34m\u001b[0m\u001b[0m\n\u001b[0;32m----> 2\u001b[0;31m \u001b[0mdb\u001b[0m \u001b[0;34m=\u001b[0m \u001b[0mdb\u001b[0m\u001b[0;34m.\u001b[0m\u001b[0mloc\u001b[0m\u001b[0;34m[\u001b[0m\u001b[0;34m(\u001b[0m\u001b[0mdb\u001b[0m\u001b[0;34m.\u001b[0m\u001b[0mPERIODO\u001b[0m \u001b[0;34m==\u001b[0m \u001b[0;36m201802\u001b[0m\u001b[0;34m)\u001b[0m \u001b[0;34m&\u001b[0m \u001b[0;34m(\u001b[0m\u001b[0;34m)\u001b[0m\u001b[0;34m,\u001b[0m\u001b[0;34m:\u001b[0m\u001b[0;34m]\u001b[0m\u001b[0;34m\u001b[0m\u001b[0;34m\u001b[0m\u001b[0m\n\u001b[0m\u001b[1;32m      3\u001b[0m \u001b[0mdb\u001b[0m\u001b[0;34m.\u001b[0m\u001b[0mPERIODO\u001b[0m\u001b[0;34m.\u001b[0m\u001b[0mvalue_counts\u001b[0m\u001b[0;34m(\u001b[0m\u001b[0;34m)\u001b[0m\u001b[0;34m\u001b[0m\u001b[0;34m\u001b[0m\u001b[0m\n",
      "\u001b[0;32m~/anaconda3/lib/python3.7/site-packages/pandas/core/ops/__init__.py\u001b[0m in \u001b[0;36mwrapper\u001b[0;34m(self, other)\u001b[0m\n\u001b[1;32m   1319\u001b[0m         \u001b[0;31m#   integer dtypes.  Otherwise these are boolean ops\u001b[0m\u001b[0;34m\u001b[0m\u001b[0;34m\u001b[0m\u001b[0;34m\u001b[0m\u001b[0m\n\u001b[1;32m   1320\u001b[0m         \u001b[0mfiller\u001b[0m \u001b[0;34m=\u001b[0m \u001b[0mfill_int\u001b[0m \u001b[0;32mif\u001b[0m \u001b[0mis_self_int_dtype\u001b[0m \u001b[0;32mand\u001b[0m \u001b[0mis_other_int_dtype\u001b[0m \u001b[0;32melse\u001b[0m \u001b[0mfill_bool\u001b[0m\u001b[0;34m\u001b[0m\u001b[0;34m\u001b[0m\u001b[0m\n\u001b[0;32m-> 1321\u001b[0;31m         \u001b[0mres_values\u001b[0m \u001b[0;34m=\u001b[0m \u001b[0mna_op\u001b[0m\u001b[0;34m(\u001b[0m\u001b[0mself\u001b[0m\u001b[0;34m.\u001b[0m\u001b[0mvalues\u001b[0m\u001b[0;34m,\u001b[0m \u001b[0movalues\u001b[0m\u001b[0;34m)\u001b[0m\u001b[0;34m\u001b[0m\u001b[0;34m\u001b[0m\u001b[0m\n\u001b[0m\u001b[1;32m   1322\u001b[0m         \u001b[0munfilled\u001b[0m \u001b[0;34m=\u001b[0m \u001b[0mself\u001b[0m\u001b[0;34m.\u001b[0m\u001b[0m_constructor\u001b[0m\u001b[0;34m(\u001b[0m\u001b[0mres_values\u001b[0m\u001b[0;34m,\u001b[0m \u001b[0mindex\u001b[0m\u001b[0;34m=\u001b[0m\u001b[0mself\u001b[0m\u001b[0;34m.\u001b[0m\u001b[0mindex\u001b[0m\u001b[0;34m,\u001b[0m \u001b[0mname\u001b[0m\u001b[0;34m=\u001b[0m\u001b[0mres_name\u001b[0m\u001b[0;34m)\u001b[0m\u001b[0;34m\u001b[0m\u001b[0;34m\u001b[0m\u001b[0m\n\u001b[1;32m   1323\u001b[0m         \u001b[0mfilled\u001b[0m \u001b[0;34m=\u001b[0m \u001b[0mfiller\u001b[0m\u001b[0;34m(\u001b[0m\u001b[0munfilled\u001b[0m\u001b[0;34m)\u001b[0m\u001b[0;34m\u001b[0m\u001b[0;34m\u001b[0m\u001b[0m\n",
      "\u001b[0;32m~/anaconda3/lib/python3.7/site-packages/pandas/core/ops/__init__.py\u001b[0m in \u001b[0;36mna_op\u001b[0;34m(x, y)\u001b[0m\n\u001b[1;32m   1252\u001b[0m     \u001b[0;32mdef\u001b[0m \u001b[0mna_op\u001b[0m\u001b[0;34m(\u001b[0m\u001b[0mx\u001b[0m\u001b[0;34m,\u001b[0m \u001b[0my\u001b[0m\u001b[0;34m)\u001b[0m\u001b[0;34m:\u001b[0m\u001b[0;34m\u001b[0m\u001b[0;34m\u001b[0m\u001b[0m\n\u001b[1;32m   1253\u001b[0m         \u001b[0;32mtry\u001b[0m\u001b[0;34m:\u001b[0m\u001b[0;34m\u001b[0m\u001b[0;34m\u001b[0m\u001b[0m\n\u001b[0;32m-> 1254\u001b[0;31m             \u001b[0mresult\u001b[0m \u001b[0;34m=\u001b[0m \u001b[0mop\u001b[0m\u001b[0;34m(\u001b[0m\u001b[0mx\u001b[0m\u001b[0;34m,\u001b[0m \u001b[0my\u001b[0m\u001b[0;34m)\u001b[0m\u001b[0;34m\u001b[0m\u001b[0;34m\u001b[0m\u001b[0m\n\u001b[0m\u001b[1;32m   1255\u001b[0m         \u001b[0;32mexcept\u001b[0m \u001b[0mTypeError\u001b[0m\u001b[0;34m:\u001b[0m\u001b[0;34m\u001b[0m\u001b[0;34m\u001b[0m\u001b[0m\n\u001b[1;32m   1256\u001b[0m             \u001b[0;32massert\u001b[0m \u001b[0;32mnot\u001b[0m \u001b[0misinstance\u001b[0m\u001b[0;34m(\u001b[0m\u001b[0my\u001b[0m\u001b[0;34m,\u001b[0m \u001b[0;34m(\u001b[0m\u001b[0mlist\u001b[0m\u001b[0;34m,\u001b[0m \u001b[0mABCSeries\u001b[0m\u001b[0;34m,\u001b[0m \u001b[0mABCIndexClass\u001b[0m\u001b[0;34m)\u001b[0m\u001b[0;34m)\u001b[0m\u001b[0;34m\u001b[0m\u001b[0;34m\u001b[0m\u001b[0m\n",
      "\u001b[0;31mValueError\u001b[0m: operands could not be broadcast together with shapes (1947641,) (0,) "
     ]
    }
   ],
   "source": [
    "#nos quedamos con la data mas reciente con el metodo LOC para seleccionar subset de datos\n",
    "db = db.loc[(db.PERIODO == 201802) & (),:] \n",
    "db.PERIODO.value_counts()"
   ]
  },
  {
   "cell_type": "code",
   "execution_count": 7,
   "metadata": {},
   "outputs": [
    {
     "data": {
      "text/plain": [
       "0    False\n",
       "1    False\n",
       "2    False\n",
       "3    False\n",
       "4    False\n",
       "Name: PERIODO, dtype: bool"
      ]
     },
     "execution_count": 7,
     "metadata": {},
     "output_type": "execute_result"
    }
   ],
   "source": [
    "#Si uno descompone lo que hicimos recien en las muñecas rusas que lo componen:\n",
    "\n",
    "#primero esta el filtro que quisimos crear\n",
    "filtro = db.PERIODO == 201802\n",
    "filtro[:5]"
   ]
  },
  {
   "cell_type": "markdown",
   "metadata": {},
   "source": [
    "`loc` nos permite filtrar filas utilizando una lista de Verdaderos y Falsos (True,False). También podemos filtrar columnas por el nombre. `loc` para filtrar utiliza listas `True` o `False` o los `indices` que veremos más adelante. Por lo pronto, veamos que podemos filtrar por las columnas utilizando sus nombres. "
   ]
  },
  {
   "cell_type": "code",
   "execution_count": 8,
   "metadata": {},
   "outputs": [
    {
     "data": {
      "text/plain": [
       "Index(['PERIODO', 'FECHA', 'DESDE', 'HASTA', 'LINEA', 'MOLINETE', 'ESTACION',\n",
       "       'PAX_PAGOS', 'PAX_PASES_PAGOS', 'PAX_FRANQ', 'TOTAL', 'ID'],\n",
       "      dtype='object')"
      ]
     },
     "execution_count": 8,
     "metadata": {},
     "output_type": "execute_result"
    }
   ],
   "source": [
    "db.columns"
   ]
  },
  {
   "cell_type": "code",
   "execution_count": 9,
   "metadata": {},
   "outputs": [
    {
     "data": {
      "text/html": [
       "<div>\n",
       "<style scoped>\n",
       "    .dataframe tbody tr th:only-of-type {\n",
       "        vertical-align: middle;\n",
       "    }\n",
       "\n",
       "    .dataframe tbody tr th {\n",
       "        vertical-align: top;\n",
       "    }\n",
       "\n",
       "    .dataframe thead th {\n",
       "        text-align: right;\n",
       "    }\n",
       "</style>\n",
       "<table border=\"1\" class=\"dataframe\">\n",
       "  <thead>\n",
       "    <tr style=\"text-align: right;\">\n",
       "      <th></th>\n",
       "      <th>FECHA</th>\n",
       "      <th>DESDE</th>\n",
       "      <th>HASTA</th>\n",
       "      <th>LINEA</th>\n",
       "      <th>MOLINETE</th>\n",
       "      <th>ESTACION</th>\n",
       "      <th>PAX_PAGOS</th>\n",
       "      <th>PAX_PASES_PAGOS</th>\n",
       "      <th>PAX_FRANQ</th>\n",
       "      <th>TOTAL</th>\n",
       "      <th>ID</th>\n",
       "    </tr>\n",
       "  </thead>\n",
       "  <tbody>\n",
       "    <tr>\n",
       "      <td>0</td>\n",
       "      <td>01/01/2018</td>\n",
       "      <td>08:00:00</td>\n",
       "      <td>08:15:00</td>\n",
       "      <td>LINEA_A</td>\n",
       "      <td>LINEA_A_CBARROS_S_TURN01</td>\n",
       "      <td>CASTRO BARROS</td>\n",
       "      <td>1</td>\n",
       "      <td>0</td>\n",
       "      <td>0</td>\n",
       "      <td>1</td>\n",
       "      <td>40</td>\n",
       "    </tr>\n",
       "    <tr>\n",
       "      <td>1</td>\n",
       "      <td>01/01/2018</td>\n",
       "      <td>08:00:00</td>\n",
       "      <td>08:15:00</td>\n",
       "      <td>LINEA_A</td>\n",
       "      <td>LINEA_A_LIMA_S_TURN03</td>\n",
       "      <td>LIMA</td>\n",
       "      <td>4</td>\n",
       "      <td>0</td>\n",
       "      <td>0</td>\n",
       "      <td>4</td>\n",
       "      <td>33</td>\n",
       "    </tr>\n",
       "    <tr>\n",
       "      <td>2</td>\n",
       "      <td>01/01/2018</td>\n",
       "      <td>08:00:00</td>\n",
       "      <td>08:15:00</td>\n",
       "      <td>LINEA_A</td>\n",
       "      <td>LINEA_A_PASCO_TURN01</td>\n",
       "      <td>PASCO</td>\n",
       "      <td>1</td>\n",
       "      <td>0</td>\n",
       "      <td>0</td>\n",
       "      <td>1</td>\n",
       "      <td>36</td>\n",
       "    </tr>\n",
       "    <tr>\n",
       "      <td>3</td>\n",
       "      <td>01/01/2018</td>\n",
       "      <td>08:00:00</td>\n",
       "      <td>08:15:00</td>\n",
       "      <td>LINEA_A</td>\n",
       "      <td>LINEA_A_PERU_S_TURN01</td>\n",
       "      <td>PERU</td>\n",
       "      <td>4</td>\n",
       "      <td>0</td>\n",
       "      <td>0</td>\n",
       "      <td>4</td>\n",
       "      <td>31</td>\n",
       "    </tr>\n",
       "    <tr>\n",
       "      <td>4</td>\n",
       "      <td>01/01/2018</td>\n",
       "      <td>08:00:00</td>\n",
       "      <td>08:15:00</td>\n",
       "      <td>LINEA_A</td>\n",
       "      <td>LINEA_A_PJUNTA_S_TURN02</td>\n",
       "      <td>PRIMERA JUNTA</td>\n",
       "      <td>2</td>\n",
       "      <td>0</td>\n",
       "      <td>0</td>\n",
       "      <td>2</td>\n",
       "      <td>43</td>\n",
       "    </tr>\n",
       "  </tbody>\n",
       "</table>\n",
       "</div>"
      ],
      "text/plain": [
       "        FECHA     DESDE     HASTA    LINEA                  MOLINETE  \\\n",
       "0  01/01/2018  08:00:00  08:15:00  LINEA_A  LINEA_A_CBARROS_S_TURN01   \n",
       "1  01/01/2018  08:00:00  08:15:00  LINEA_A     LINEA_A_LIMA_S_TURN03   \n",
       "2  01/01/2018  08:00:00  08:15:00  LINEA_A      LINEA_A_PASCO_TURN01   \n",
       "3  01/01/2018  08:00:00  08:15:00  LINEA_A     LINEA_A_PERU_S_TURN01   \n",
       "4  01/01/2018  08:00:00  08:15:00  LINEA_A   LINEA_A_PJUNTA_S_TURN02   \n",
       "\n",
       "        ESTACION  PAX_PAGOS  PAX_PASES_PAGOS  PAX_FRANQ  TOTAL  ID  \n",
       "0  CASTRO BARROS          1                0          0      1  40  \n",
       "1           LIMA          4                0          0      4  33  \n",
       "2          PASCO          1                0          0      1  36  \n",
       "3           PERU          4                0          0      4  31  \n",
       "4  PRIMERA JUNTA          2                0          0      2  43  "
      ]
     },
     "execution_count": 9,
     "metadata": {},
     "output_type": "execute_result"
    }
   ],
   "source": [
    "#elimino periodo porque ya se que es todo febrero\n",
    "db = db.loc[:,['FECHA', 'DESDE', 'HASTA', 'LINEA', 'MOLINETE', 'ESTACION',\n",
    "       'PAX_PAGOS', 'PAX_PASES_PAGOS', 'PAX_FRANQ', 'TOTAL', 'ID']]\n",
    "db.head()"
   ]
  },
  {
   "cell_type": "code",
   "execution_count": 10,
   "metadata": {},
   "outputs": [
    {
     "data": {
      "text/html": [
       "<div>\n",
       "<style scoped>\n",
       "    .dataframe tbody tr th:only-of-type {\n",
       "        vertical-align: middle;\n",
       "    }\n",
       "\n",
       "    .dataframe tbody tr th {\n",
       "        vertical-align: top;\n",
       "    }\n",
       "\n",
       "    .dataframe thead th {\n",
       "        text-align: right;\n",
       "    }\n",
       "</style>\n",
       "<table border=\"1\" class=\"dataframe\">\n",
       "  <thead>\n",
       "    <tr style=\"text-align: right;\">\n",
       "      <th></th>\n",
       "      <th>FECHA</th>\n",
       "      <th>ID</th>\n",
       "    </tr>\n",
       "  </thead>\n",
       "  <tbody>\n",
       "    <tr>\n",
       "      <td>0</td>\n",
       "      <td>01/01/2018</td>\n",
       "      <td>40</td>\n",
       "    </tr>\n",
       "    <tr>\n",
       "      <td>1</td>\n",
       "      <td>01/01/2018</td>\n",
       "      <td>33</td>\n",
       "    </tr>\n",
       "    <tr>\n",
       "      <td>2</td>\n",
       "      <td>01/01/2018</td>\n",
       "      <td>36</td>\n",
       "    </tr>\n",
       "    <tr>\n",
       "      <td>3</td>\n",
       "      <td>01/01/2018</td>\n",
       "      <td>31</td>\n",
       "    </tr>\n",
       "    <tr>\n",
       "      <td>4</td>\n",
       "      <td>01/01/2018</td>\n",
       "      <td>43</td>\n",
       "    </tr>\n",
       "    <tr>\n",
       "      <td>...</td>\n",
       "      <td>...</td>\n",
       "      <td>...</td>\n",
       "    </tr>\n",
       "    <tr>\n",
       "      <td>1025451</td>\n",
       "      <td>01/02/2018</td>\n",
       "      <td>42</td>\n",
       "    </tr>\n",
       "    <tr>\n",
       "      <td>1025452</td>\n",
       "      <td>01/02/2018</td>\n",
       "      <td>37</td>\n",
       "    </tr>\n",
       "    <tr>\n",
       "      <td>1025453</td>\n",
       "      <td>01/02/2018</td>\n",
       "      <td>75</td>\n",
       "    </tr>\n",
       "    <tr>\n",
       "      <td>1025454</td>\n",
       "      <td>01/02/2018</td>\n",
       "      <td>40</td>\n",
       "    </tr>\n",
       "    <tr>\n",
       "      <td>1025455</td>\n",
       "      <td>01/02/2018</td>\n",
       "      <td>82</td>\n",
       "    </tr>\n",
       "  </tbody>\n",
       "</table>\n",
       "<p>1025456 rows × 2 columns</p>\n",
       "</div>"
      ],
      "text/plain": [
       "              FECHA  ID\n",
       "0        01/01/2018  40\n",
       "1        01/01/2018  33\n",
       "2        01/01/2018  36\n",
       "3        01/01/2018  31\n",
       "4        01/01/2018  43\n",
       "...             ...  ..\n",
       "1025451  01/02/2018  42\n",
       "1025452  01/02/2018  37\n",
       "1025453  01/02/2018  75\n",
       "1025454  01/02/2018  40\n",
       "1025455  01/02/2018  82\n",
       "\n",
       "[1025456 rows x 2 columns]"
      ]
     },
     "execution_count": 10,
     "metadata": {},
     "output_type": "execute_result"
    }
   ],
   "source": [
    "#usamos true y false en columnas\n",
    "db.loc[:1025455,[True, False,False, False, False, False, False,\n",
    "       False, False, False, True]]"
   ]
  },
  {
   "cell_type": "code",
   "execution_count": 11,
   "metadata": {},
   "outputs": [
    {
     "data": {
      "text/html": [
       "<div>\n",
       "<style scoped>\n",
       "    .dataframe tbody tr th:only-of-type {\n",
       "        vertical-align: middle;\n",
       "    }\n",
       "\n",
       "    .dataframe tbody tr th {\n",
       "        vertical-align: top;\n",
       "    }\n",
       "\n",
       "    .dataframe thead th {\n",
       "        text-align: right;\n",
       "    }\n",
       "</style>\n",
       "<table border=\"1\" class=\"dataframe\">\n",
       "  <thead>\n",
       "    <tr style=\"text-align: right;\">\n",
       "      <th></th>\n",
       "      <th>FECHA</th>\n",
       "      <th>DESDE</th>\n",
       "      <th>HASTA</th>\n",
       "    </tr>\n",
       "  </thead>\n",
       "  <tbody>\n",
       "    <tr>\n",
       "      <td>0</td>\n",
       "      <td>01/01/2018</td>\n",
       "      <td>08:00:00</td>\n",
       "      <td>08:15:00</td>\n",
       "    </tr>\n",
       "    <tr>\n",
       "      <td>1</td>\n",
       "      <td>01/01/2018</td>\n",
       "      <td>08:00:00</td>\n",
       "      <td>08:15:00</td>\n",
       "    </tr>\n",
       "    <tr>\n",
       "      <td>2</td>\n",
       "      <td>01/01/2018</td>\n",
       "      <td>08:00:00</td>\n",
       "      <td>08:15:00</td>\n",
       "    </tr>\n",
       "    <tr>\n",
       "      <td>3</td>\n",
       "      <td>01/01/2018</td>\n",
       "      <td>08:00:00</td>\n",
       "      <td>08:15:00</td>\n",
       "    </tr>\n",
       "    <tr>\n",
       "      <td>4</td>\n",
       "      <td>01/01/2018</td>\n",
       "      <td>08:00:00</td>\n",
       "      <td>08:15:00</td>\n",
       "    </tr>\n",
       "  </tbody>\n",
       "</table>\n",
       "</div>"
      ],
      "text/plain": [
       "        FECHA     DESDE     HASTA\n",
       "0  01/01/2018  08:00:00  08:15:00\n",
       "1  01/01/2018  08:00:00  08:15:00\n",
       "2  01/01/2018  08:00:00  08:15:00\n",
       "3  01/01/2018  08:00:00  08:15:00\n",
       "4  01/01/2018  08:00:00  08:15:00"
      ]
     },
     "execution_count": 11,
     "metadata": {},
     "output_type": "execute_result"
    }
   ],
   "source": [
    "db.iloc[:5,:3]"
   ]
  },
  {
   "cell_type": "code",
   "execution_count": 12,
   "metadata": {},
   "outputs": [
    {
     "data": {
      "text/html": [
       "<div>\n",
       "<style scoped>\n",
       "    .dataframe tbody tr th:only-of-type {\n",
       "        vertical-align: middle;\n",
       "    }\n",
       "\n",
       "    .dataframe tbody tr th {\n",
       "        vertical-align: top;\n",
       "    }\n",
       "\n",
       "    .dataframe thead th {\n",
       "        text-align: right;\n",
       "    }\n",
       "</style>\n",
       "<table border=\"1\" class=\"dataframe\">\n",
       "  <thead>\n",
       "    <tr style=\"text-align: right;\">\n",
       "      <th></th>\n",
       "      <th>FECHA</th>\n",
       "      <th>DESDE</th>\n",
       "      <th>HASTA</th>\n",
       "      <th>LINEA</th>\n",
       "      <th>ESTACION</th>\n",
       "      <th>TOTAL</th>\n",
       "    </tr>\n",
       "  </thead>\n",
       "  <tbody>\n",
       "    <tr>\n",
       "      <td>0</td>\n",
       "      <td>01/01/2018</td>\n",
       "      <td>08:00:00</td>\n",
       "      <td>08:15:00</td>\n",
       "      <td>LINEA_A</td>\n",
       "      <td>CASTRO BARROS</td>\n",
       "      <td>1</td>\n",
       "    </tr>\n",
       "    <tr>\n",
       "      <td>1</td>\n",
       "      <td>01/01/2018</td>\n",
       "      <td>08:00:00</td>\n",
       "      <td>08:15:00</td>\n",
       "      <td>LINEA_A</td>\n",
       "      <td>LIMA</td>\n",
       "      <td>4</td>\n",
       "    </tr>\n",
       "    <tr>\n",
       "      <td>2</td>\n",
       "      <td>01/01/2018</td>\n",
       "      <td>08:00:00</td>\n",
       "      <td>08:15:00</td>\n",
       "      <td>LINEA_A</td>\n",
       "      <td>PASCO</td>\n",
       "      <td>1</td>\n",
       "    </tr>\n",
       "    <tr>\n",
       "      <td>3</td>\n",
       "      <td>01/01/2018</td>\n",
       "      <td>08:00:00</td>\n",
       "      <td>08:15:00</td>\n",
       "      <td>LINEA_A</td>\n",
       "      <td>PERU</td>\n",
       "      <td>4</td>\n",
       "    </tr>\n",
       "    <tr>\n",
       "      <td>4</td>\n",
       "      <td>01/01/2018</td>\n",
       "      <td>08:00:00</td>\n",
       "      <td>08:15:00</td>\n",
       "      <td>LINEA_A</td>\n",
       "      <td>PRIMERA JUNTA</td>\n",
       "      <td>2</td>\n",
       "    </tr>\n",
       "  </tbody>\n",
       "</table>\n",
       "</div>"
      ],
      "text/plain": [
       "        FECHA     DESDE     HASTA    LINEA       ESTACION  TOTAL\n",
       "0  01/01/2018  08:00:00  08:15:00  LINEA_A  CASTRO BARROS      1\n",
       "1  01/01/2018  08:00:00  08:15:00  LINEA_A           LIMA      4\n",
       "2  01/01/2018  08:00:00  08:15:00  LINEA_A          PASCO      1\n",
       "3  01/01/2018  08:00:00  08:15:00  LINEA_A           PERU      4\n",
       "4  01/01/2018  08:00:00  08:15:00  LINEA_A  PRIMERA JUNTA      2"
      ]
     },
     "execution_count": 12,
     "metadata": {},
     "output_type": "execute_result"
    }
   ],
   "source": [
    "#otro modo de hacer esto mismo (vinculado a la advertencia previa):\n",
    "db.reindex(columns = ['FECHA', 'DESDE', 'HASTA',\n",
    "                      'LINEA', 'ESTACION','TOTAL']).head(5)"
   ]
  },
  {
   "cell_type": "markdown",
   "metadata": {},
   "source": [
    "Noten que el resultado anterior no se guardo en una variable (la misma o una nueva), con lo cual solo me **muestra** una tabla con menos columnas, no cambio la tabla original. Si veo la tabla original veo que sigue con las mismas columnas"
   ]
  },
  {
   "cell_type": "code",
   "execution_count": 13,
   "metadata": {},
   "outputs": [
    {
     "data": {
      "text/html": [
       "<div>\n",
       "<style scoped>\n",
       "    .dataframe tbody tr th:only-of-type {\n",
       "        vertical-align: middle;\n",
       "    }\n",
       "\n",
       "    .dataframe tbody tr th {\n",
       "        vertical-align: top;\n",
       "    }\n",
       "\n",
       "    .dataframe thead th {\n",
       "        text-align: right;\n",
       "    }\n",
       "</style>\n",
       "<table border=\"1\" class=\"dataframe\">\n",
       "  <thead>\n",
       "    <tr style=\"text-align: right;\">\n",
       "      <th></th>\n",
       "      <th>FECHA</th>\n",
       "      <th>DESDE</th>\n",
       "      <th>HASTA</th>\n",
       "      <th>LINEA</th>\n",
       "      <th>MOLINETE</th>\n",
       "      <th>ESTACION</th>\n",
       "      <th>PAX_PAGOS</th>\n",
       "      <th>PAX_PASES_PAGOS</th>\n",
       "      <th>PAX_FRANQ</th>\n",
       "      <th>TOTAL</th>\n",
       "      <th>ID</th>\n",
       "    </tr>\n",
       "  </thead>\n",
       "  <tbody>\n",
       "    <tr>\n",
       "      <td>0</td>\n",
       "      <td>01/01/2018</td>\n",
       "      <td>08:00:00</td>\n",
       "      <td>08:15:00</td>\n",
       "      <td>LINEA_A</td>\n",
       "      <td>LINEA_A_CBARROS_S_TURN01</td>\n",
       "      <td>CASTRO BARROS</td>\n",
       "      <td>1</td>\n",
       "      <td>0</td>\n",
       "      <td>0</td>\n",
       "      <td>1</td>\n",
       "      <td>40</td>\n",
       "    </tr>\n",
       "    <tr>\n",
       "      <td>1</td>\n",
       "      <td>01/01/2018</td>\n",
       "      <td>08:00:00</td>\n",
       "      <td>08:15:00</td>\n",
       "      <td>LINEA_A</td>\n",
       "      <td>LINEA_A_LIMA_S_TURN03</td>\n",
       "      <td>LIMA</td>\n",
       "      <td>4</td>\n",
       "      <td>0</td>\n",
       "      <td>0</td>\n",
       "      <td>4</td>\n",
       "      <td>33</td>\n",
       "    </tr>\n",
       "    <tr>\n",
       "      <td>2</td>\n",
       "      <td>01/01/2018</td>\n",
       "      <td>08:00:00</td>\n",
       "      <td>08:15:00</td>\n",
       "      <td>LINEA_A</td>\n",
       "      <td>LINEA_A_PASCO_TURN01</td>\n",
       "      <td>PASCO</td>\n",
       "      <td>1</td>\n",
       "      <td>0</td>\n",
       "      <td>0</td>\n",
       "      <td>1</td>\n",
       "      <td>36</td>\n",
       "    </tr>\n",
       "    <tr>\n",
       "      <td>3</td>\n",
       "      <td>01/01/2018</td>\n",
       "      <td>08:00:00</td>\n",
       "      <td>08:15:00</td>\n",
       "      <td>LINEA_A</td>\n",
       "      <td>LINEA_A_PERU_S_TURN01</td>\n",
       "      <td>PERU</td>\n",
       "      <td>4</td>\n",
       "      <td>0</td>\n",
       "      <td>0</td>\n",
       "      <td>4</td>\n",
       "      <td>31</td>\n",
       "    </tr>\n",
       "    <tr>\n",
       "      <td>4</td>\n",
       "      <td>01/01/2018</td>\n",
       "      <td>08:00:00</td>\n",
       "      <td>08:15:00</td>\n",
       "      <td>LINEA_A</td>\n",
       "      <td>LINEA_A_PJUNTA_S_TURN02</td>\n",
       "      <td>PRIMERA JUNTA</td>\n",
       "      <td>2</td>\n",
       "      <td>0</td>\n",
       "      <td>0</td>\n",
       "      <td>2</td>\n",
       "      <td>43</td>\n",
       "    </tr>\n",
       "  </tbody>\n",
       "</table>\n",
       "</div>"
      ],
      "text/plain": [
       "        FECHA     DESDE     HASTA    LINEA                  MOLINETE  \\\n",
       "0  01/01/2018  08:00:00  08:15:00  LINEA_A  LINEA_A_CBARROS_S_TURN01   \n",
       "1  01/01/2018  08:00:00  08:15:00  LINEA_A     LINEA_A_LIMA_S_TURN03   \n",
       "2  01/01/2018  08:00:00  08:15:00  LINEA_A      LINEA_A_PASCO_TURN01   \n",
       "3  01/01/2018  08:00:00  08:15:00  LINEA_A     LINEA_A_PERU_S_TURN01   \n",
       "4  01/01/2018  08:00:00  08:15:00  LINEA_A   LINEA_A_PJUNTA_S_TURN02   \n",
       "\n",
       "        ESTACION  PAX_PAGOS  PAX_PASES_PAGOS  PAX_FRANQ  TOTAL  ID  \n",
       "0  CASTRO BARROS          1                0          0      1  40  \n",
       "1           LIMA          4                0          0      4  33  \n",
       "2          PASCO          1                0          0      1  36  \n",
       "3           PERU          4                0          0      4  31  \n",
       "4  PRIMERA JUNTA          2                0          0      2  43  "
      ]
     },
     "execution_count": 13,
     "metadata": {},
     "output_type": "execute_result"
    }
   ],
   "source": [
    "db.head()"
   ]
  },
  {
   "cell_type": "code",
   "execution_count": 14,
   "metadata": {},
   "outputs": [
    {
     "data": {
      "text/html": [
       "<div>\n",
       "<style scoped>\n",
       "    .dataframe tbody tr th:only-of-type {\n",
       "        vertical-align: middle;\n",
       "    }\n",
       "\n",
       "    .dataframe tbody tr th {\n",
       "        vertical-align: top;\n",
       "    }\n",
       "\n",
       "    .dataframe thead th {\n",
       "        text-align: right;\n",
       "    }\n",
       "</style>\n",
       "<table border=\"1\" class=\"dataframe\">\n",
       "  <thead>\n",
       "    <tr style=\"text-align: right;\">\n",
       "      <th></th>\n",
       "      <th>FECHA</th>\n",
       "      <th>DESDE</th>\n",
       "      <th>HASTA</th>\n",
       "      <th>LINEA</th>\n",
       "      <th>ESTACION</th>\n",
       "      <th>PAX_PAGOS</th>\n",
       "      <th>PAX_PASES_PAGOS</th>\n",
       "      <th>PAX_FRANQ</th>\n",
       "      <th>TOTAL</th>\n",
       "      <th>ID</th>\n",
       "    </tr>\n",
       "  </thead>\n",
       "  <tbody>\n",
       "    <tr>\n",
       "      <td>0</td>\n",
       "      <td>01/01/2018</td>\n",
       "      <td>08:00:00</td>\n",
       "      <td>08:15:00</td>\n",
       "      <td>LINEA_A</td>\n",
       "      <td>CASTRO BARROS</td>\n",
       "      <td>1</td>\n",
       "      <td>0</td>\n",
       "      <td>0</td>\n",
       "      <td>1</td>\n",
       "      <td>40</td>\n",
       "    </tr>\n",
       "    <tr>\n",
       "      <td>1</td>\n",
       "      <td>01/01/2018</td>\n",
       "      <td>08:00:00</td>\n",
       "      <td>08:15:00</td>\n",
       "      <td>LINEA_A</td>\n",
       "      <td>LIMA</td>\n",
       "      <td>4</td>\n",
       "      <td>0</td>\n",
       "      <td>0</td>\n",
       "      <td>4</td>\n",
       "      <td>33</td>\n",
       "    </tr>\n",
       "    <tr>\n",
       "      <td>2</td>\n",
       "      <td>01/01/2018</td>\n",
       "      <td>08:00:00</td>\n",
       "      <td>08:15:00</td>\n",
       "      <td>LINEA_A</td>\n",
       "      <td>PASCO</td>\n",
       "      <td>1</td>\n",
       "      <td>0</td>\n",
       "      <td>0</td>\n",
       "      <td>1</td>\n",
       "      <td>36</td>\n",
       "    </tr>\n",
       "    <tr>\n",
       "      <td>3</td>\n",
       "      <td>01/01/2018</td>\n",
       "      <td>08:00:00</td>\n",
       "      <td>08:15:00</td>\n",
       "      <td>LINEA_A</td>\n",
       "      <td>PERU</td>\n",
       "      <td>4</td>\n",
       "      <td>0</td>\n",
       "      <td>0</td>\n",
       "      <td>4</td>\n",
       "      <td>31</td>\n",
       "    </tr>\n",
       "    <tr>\n",
       "      <td>4</td>\n",
       "      <td>01/01/2018</td>\n",
       "      <td>08:00:00</td>\n",
       "      <td>08:15:00</td>\n",
       "      <td>LINEA_A</td>\n",
       "      <td>PRIMERA JUNTA</td>\n",
       "      <td>2</td>\n",
       "      <td>0</td>\n",
       "      <td>0</td>\n",
       "      <td>2</td>\n",
       "      <td>43</td>\n",
       "    </tr>\n",
       "  </tbody>\n",
       "</table>\n",
       "</div>"
      ],
      "text/plain": [
       "        FECHA     DESDE     HASTA    LINEA       ESTACION  PAX_PAGOS  \\\n",
       "0  01/01/2018  08:00:00  08:15:00  LINEA_A  CASTRO BARROS          1   \n",
       "1  01/01/2018  08:00:00  08:15:00  LINEA_A           LIMA          4   \n",
       "2  01/01/2018  08:00:00  08:15:00  LINEA_A          PASCO          1   \n",
       "3  01/01/2018  08:00:00  08:15:00  LINEA_A           PERU          4   \n",
       "4  01/01/2018  08:00:00  08:15:00  LINEA_A  PRIMERA JUNTA          2   \n",
       "\n",
       "   PAX_PASES_PAGOS  PAX_FRANQ  TOTAL  ID  \n",
       "0                0          0      1  40  \n",
       "1                0          0      4  33  \n",
       "2                0          0      1  36  \n",
       "3                0          0      4  31  \n",
       "4                0          0      2  43  "
      ]
     },
     "execution_count": 14,
     "metadata": {},
     "output_type": "execute_result"
    }
   ],
   "source": [
    "#tamiben puedo eliminar la variable molinete porque a lo sumo vamos a trabajar con datos por estacion, no quiero tanta desagregacion\n",
    "db = db.drop(['MOLINETE'],axis=1)\n",
    "db.head()"
   ]
  },
  {
   "cell_type": "markdown",
   "metadata": {},
   "source": [
    "## 3 Cuadros de doble entrada\n",
    "\n",
    "Vimos como obtener una distribución de frecuencias. Ahora podemos ver una tabla de doble entrada."
   ]
  },
  {
   "cell_type": "code",
   "execution_count": 15,
   "metadata": {},
   "outputs": [
    {
     "data": {
      "text/html": [
       "<div>\n",
       "<style scoped>\n",
       "    .dataframe tbody tr th:only-of-type {\n",
       "        vertical-align: middle;\n",
       "    }\n",
       "\n",
       "    .dataframe tbody tr th {\n",
       "        vertical-align: top;\n",
       "    }\n",
       "\n",
       "    .dataframe thead th {\n",
       "        text-align: right;\n",
       "    }\n",
       "</style>\n",
       "<table border=\"1\" class=\"dataframe\">\n",
       "  <thead>\n",
       "    <tr style=\"text-align: right;\">\n",
       "      <th>LINEA</th>\n",
       "      <th>LINEA_A</th>\n",
       "      <th>LINEA_B</th>\n",
       "      <th>LINEA_C</th>\n",
       "      <th>LINEA_D</th>\n",
       "      <th>LINEA_E</th>\n",
       "      <th>LINEA_H</th>\n",
       "    </tr>\n",
       "    <tr>\n",
       "      <th>ESTACION</th>\n",
       "      <th></th>\n",
       "      <th></th>\n",
       "      <th></th>\n",
       "      <th></th>\n",
       "      <th></th>\n",
       "      <th></th>\n",
       "    </tr>\n",
       "  </thead>\n",
       "  <tbody>\n",
       "    <tr>\n",
       "      <td>9 DE JULIO</td>\n",
       "      <td>0</td>\n",
       "      <td>0</td>\n",
       "      <td>0</td>\n",
       "      <td>21714</td>\n",
       "      <td>0</td>\n",
       "      <td>0</td>\n",
       "    </tr>\n",
       "    <tr>\n",
       "      <td>ACOYTE</td>\n",
       "      <td>31337</td>\n",
       "      <td>0</td>\n",
       "      <td>0</td>\n",
       "      <td>0</td>\n",
       "      <td>0</td>\n",
       "      <td>0</td>\n",
       "    </tr>\n",
       "    <tr>\n",
       "      <td>AGUERO</td>\n",
       "      <td>0</td>\n",
       "      <td>0</td>\n",
       "      <td>0</td>\n",
       "      <td>14501</td>\n",
       "      <td>0</td>\n",
       "      <td>0</td>\n",
       "    </tr>\n",
       "    <tr>\n",
       "      <td>ALBERTI</td>\n",
       "      <td>11668</td>\n",
       "      <td>0</td>\n",
       "      <td>0</td>\n",
       "      <td>0</td>\n",
       "      <td>0</td>\n",
       "      <td>0</td>\n",
       "    </tr>\n",
       "    <tr>\n",
       "      <td>ANGEL GALLARDO</td>\n",
       "      <td>0</td>\n",
       "      <td>22147</td>\n",
       "      <td>0</td>\n",
       "      <td>0</td>\n",
       "      <td>0</td>\n",
       "      <td>0</td>\n",
       "    </tr>\n",
       "  </tbody>\n",
       "</table>\n",
       "</div>"
      ],
      "text/plain": [
       "LINEA           LINEA_A  LINEA_B  LINEA_C  LINEA_D  LINEA_E  LINEA_H\n",
       "ESTACION                                                            \n",
       "9 DE JULIO            0        0        0    21714        0        0\n",
       "ACOYTE            31337        0        0        0        0        0\n",
       "AGUERO                0        0        0    14501        0        0\n",
       "ALBERTI           11668        0        0        0        0        0\n",
       "ANGEL GALLARDO        0    22147        0        0        0        0"
      ]
     },
     "execution_count": 15,
     "metadata": {},
     "output_type": "execute_result"
    }
   ],
   "source": [
    "#podemos unservar una tabla de doble entrada, de la vual solo vamos a ver los primer 5 registros \n",
    "pd.crosstab(db.ESTACION,db.LINEA).head()\n"
   ]
  },
  {
   "cell_type": "code",
   "execution_count": 16,
   "metadata": {},
   "outputs": [
    {
     "data": {
      "text/html": [
       "<div>\n",
       "<style scoped>\n",
       "    .dataframe tbody tr th:only-of-type {\n",
       "        vertical-align: middle;\n",
       "    }\n",
       "\n",
       "    .dataframe tbody tr th {\n",
       "        vertical-align: top;\n",
       "    }\n",
       "\n",
       "    .dataframe thead th {\n",
       "        text-align: right;\n",
       "    }\n",
       "</style>\n",
       "<table border=\"1\" class=\"dataframe\">\n",
       "  <thead>\n",
       "    <tr style=\"text-align: right;\">\n",
       "      <th>LINEA</th>\n",
       "      <th>LINEA_A</th>\n",
       "      <th>LINEA_B</th>\n",
       "      <th>LINEA_C</th>\n",
       "      <th>LINEA_D</th>\n",
       "      <th>LINEA_E</th>\n",
       "      <th>LINEA_H</th>\n",
       "      <th>Totales</th>\n",
       "    </tr>\n",
       "    <tr>\n",
       "      <th>ESTACION</th>\n",
       "      <th></th>\n",
       "      <th></th>\n",
       "      <th></th>\n",
       "      <th></th>\n",
       "      <th></th>\n",
       "      <th></th>\n",
       "      <th></th>\n",
       "    </tr>\n",
       "  </thead>\n",
       "  <tbody>\n",
       "    <tr>\n",
       "      <td>9 DE JULIO</td>\n",
       "      <td>0.000000</td>\n",
       "      <td>0.00000</td>\n",
       "      <td>0.0</td>\n",
       "      <td>0.052506</td>\n",
       "      <td>0.0</td>\n",
       "      <td>0.0</td>\n",
       "      <td>0.011149</td>\n",
       "    </tr>\n",
       "    <tr>\n",
       "      <td>ACOYTE</td>\n",
       "      <td>0.074393</td>\n",
       "      <td>0.00000</td>\n",
       "      <td>0.0</td>\n",
       "      <td>0.000000</td>\n",
       "      <td>0.0</td>\n",
       "      <td>0.0</td>\n",
       "      <td>0.016090</td>\n",
       "    </tr>\n",
       "    <tr>\n",
       "      <td>AGUERO</td>\n",
       "      <td>0.000000</td>\n",
       "      <td>0.00000</td>\n",
       "      <td>0.0</td>\n",
       "      <td>0.035065</td>\n",
       "      <td>0.0</td>\n",
       "      <td>0.0</td>\n",
       "      <td>0.007445</td>\n",
       "    </tr>\n",
       "    <tr>\n",
       "      <td>ALBERTI</td>\n",
       "      <td>0.027699</td>\n",
       "      <td>0.00000</td>\n",
       "      <td>0.0</td>\n",
       "      <td>0.000000</td>\n",
       "      <td>0.0</td>\n",
       "      <td>0.0</td>\n",
       "      <td>0.005991</td>\n",
       "    </tr>\n",
       "    <tr>\n",
       "      <td>ANGEL GALLARDO</td>\n",
       "      <td>0.000000</td>\n",
       "      <td>0.04762</td>\n",
       "      <td>0.0</td>\n",
       "      <td>0.000000</td>\n",
       "      <td>0.0</td>\n",
       "      <td>0.0</td>\n",
       "      <td>0.011371</td>\n",
       "    </tr>\n",
       "  </tbody>\n",
       "</table>\n",
       "</div>"
      ],
      "text/plain": [
       "LINEA            LINEA_A  LINEA_B  LINEA_C   LINEA_D  LINEA_E  LINEA_H  \\\n",
       "ESTACION                                                                 \n",
       "9 DE JULIO      0.000000  0.00000      0.0  0.052506      0.0      0.0   \n",
       "ACOYTE          0.074393  0.00000      0.0  0.000000      0.0      0.0   \n",
       "AGUERO          0.000000  0.00000      0.0  0.035065      0.0      0.0   \n",
       "ALBERTI         0.027699  0.00000      0.0  0.000000      0.0      0.0   \n",
       "ANGEL GALLARDO  0.000000  0.04762      0.0  0.000000      0.0      0.0   \n",
       "\n",
       "LINEA            Totales  \n",
       "ESTACION                  \n",
       "9 DE JULIO      0.011149  \n",
       "ACOYTE          0.016090  \n",
       "AGUERO          0.007445  \n",
       "ALBERTI         0.005991  \n",
       "ANGEL GALLARDO  0.011371  "
      ]
     },
     "execution_count": 16,
     "metadata": {},
     "output_type": "execute_result"
    }
   ],
   "source": [
    "#podemos verlo en porcentajes con el parametro 'normalize' que puede ser columns o index\n",
    "tabla = pd.crosstab(db.ESTACION,db.LINEA,\n",
    "                    normalize='columns',\n",
    "                    margins=True,\n",
    "                    margins_name='Totales')\n",
    "tabla.head() "
   ]
  },
  {
   "cell_type": "markdown",
   "metadata": {},
   "source": [
    "## 4 Elementos de un Pandas Dataframe\n",
    "\n",
    "Ya hemos utilizado en alto nivel y de una manera utilitaria un dataframe haciendo algunas operaciones sencillas. Ahora vamos a intentar profundizar en los elementos que conforman un dataframe. Iremos desarmando las muñecas rusas. Volvamos a obtener la información del objeto"
   ]
  },
  {
   "cell_type": "code",
   "execution_count": 17,
   "metadata": {},
   "outputs": [
    {
     "name": "stdout",
     "output_type": "stream",
     "text": [
      "<class 'pandas.core.frame.DataFrame'>\n",
      "RangeIndex: 1947641 entries, 0 to 1947640\n",
      "Data columns (total 10 columns):\n",
      "FECHA              object\n",
      "DESDE              object\n",
      "HASTA              object\n",
      "LINEA              object\n",
      "ESTACION           object\n",
      "PAX_PAGOS          int64\n",
      "PAX_PASES_PAGOS    int64\n",
      "PAX_FRANQ          int64\n",
      "TOTAL              int64\n",
      "ID                 int64\n",
      "dtypes: int64(5), object(5)\n",
      "memory usage: 148.6+ MB\n"
     ]
    }
   ],
   "source": [
    "db.info()"
   ]
  },
  {
   "cell_type": "markdown",
   "metadata": {},
   "source": [
    "Vemos primero el tipo: class pandas.core.frame.DataFrame. Luego podemos ver el primer elemento que lo conforma: un índice"
   ]
  },
  {
   "cell_type": "code",
   "execution_count": 18,
   "metadata": {},
   "outputs": [
    {
     "data": {
      "text/plain": [
       "RangeIndex(start=0, stop=1947641, step=1)"
      ]
     },
     "execution_count": 18,
     "metadata": {},
     "output_type": "execute_result"
    }
   ],
   "source": [
    "db.index"
   ]
  },
  {
   "cell_type": "code",
   "execution_count": 19,
   "metadata": {},
   "outputs": [
    {
     "data": {
      "text/html": [
       "<div>\n",
       "<style scoped>\n",
       "    .dataframe tbody tr th:only-of-type {\n",
       "        vertical-align: middle;\n",
       "    }\n",
       "\n",
       "    .dataframe tbody tr th {\n",
       "        vertical-align: top;\n",
       "    }\n",
       "\n",
       "    .dataframe thead th {\n",
       "        text-align: right;\n",
       "    }\n",
       "</style>\n",
       "<table border=\"1\" class=\"dataframe\">\n",
       "  <thead>\n",
       "    <tr style=\"text-align: right;\">\n",
       "      <th></th>\n",
       "      <th>FECHA</th>\n",
       "      <th>DESDE</th>\n",
       "      <th>HASTA</th>\n",
       "      <th>LINEA</th>\n",
       "      <th>ESTACION</th>\n",
       "      <th>PAX_PAGOS</th>\n",
       "      <th>PAX_PASES_PAGOS</th>\n",
       "      <th>PAX_FRANQ</th>\n",
       "      <th>TOTAL</th>\n",
       "      <th>ID</th>\n",
       "    </tr>\n",
       "  </thead>\n",
       "  <tbody>\n",
       "    <tr>\n",
       "      <td>0</td>\n",
       "      <td>01/01/2018</td>\n",
       "      <td>08:00:00</td>\n",
       "      <td>08:15:00</td>\n",
       "      <td>LINEA_A</td>\n",
       "      <td>CASTRO BARROS</td>\n",
       "      <td>1</td>\n",
       "      <td>0</td>\n",
       "      <td>0</td>\n",
       "      <td>1</td>\n",
       "      <td>40</td>\n",
       "    </tr>\n",
       "    <tr>\n",
       "      <td>1</td>\n",
       "      <td>01/01/2018</td>\n",
       "      <td>08:00:00</td>\n",
       "      <td>08:15:00</td>\n",
       "      <td>LINEA_A</td>\n",
       "      <td>LIMA</td>\n",
       "      <td>4</td>\n",
       "      <td>0</td>\n",
       "      <td>0</td>\n",
       "      <td>4</td>\n",
       "      <td>33</td>\n",
       "    </tr>\n",
       "    <tr>\n",
       "      <td>2</td>\n",
       "      <td>01/01/2018</td>\n",
       "      <td>08:00:00</td>\n",
       "      <td>08:15:00</td>\n",
       "      <td>LINEA_A</td>\n",
       "      <td>PASCO</td>\n",
       "      <td>1</td>\n",
       "      <td>0</td>\n",
       "      <td>0</td>\n",
       "      <td>1</td>\n",
       "      <td>36</td>\n",
       "    </tr>\n",
       "  </tbody>\n",
       "</table>\n",
       "</div>"
      ],
      "text/plain": [
       "        FECHA     DESDE     HASTA    LINEA       ESTACION  PAX_PAGOS  \\\n",
       "0  01/01/2018  08:00:00  08:15:00  LINEA_A  CASTRO BARROS          1   \n",
       "1  01/01/2018  08:00:00  08:15:00  LINEA_A           LIMA          4   \n",
       "2  01/01/2018  08:00:00  08:15:00  LINEA_A          PASCO          1   \n",
       "\n",
       "   PAX_PASES_PAGOS  PAX_FRANQ  TOTAL  ID  \n",
       "0                0          0      1  40  \n",
       "1                0          0      4  33  \n",
       "2                0          0      1  36  "
      ]
     },
     "execution_count": 19,
     "metadata": {},
     "output_type": "execute_result"
    }
   ],
   "source": [
    "db.head(3)"
   ]
  },
  {
   "cell_type": "markdown",
   "metadata": {},
   "source": [
    "El índice lo muestra en el notebook a la izquierda en negrita. Vemos que comienza en 1025451. Si vuelven al comienzo cuando cargamos la tabla por primera vez verán que comenzaba en 0. Recuerden que filtramos los casos de febrero, por eso ya no comienza en 0. En muchas ocasiones, el índice no es más que un número que identifica cada registro, desde 0 hasta la cantidad de registros (menos 1). En otros análisis, se puede indexar por un atributo que tenga significado, como puede ser una serie de tiempo.  \n",
    "\n",
    "El segundo elemento que muestra son las columnas"
   ]
  },
  {
   "cell_type": "code",
   "execution_count": 20,
   "metadata": {},
   "outputs": [
    {
     "data": {
      "text/plain": [
       "Index(['FECHA', 'DESDE', 'HASTA', 'LINEA', 'ESTACION', 'PAX_PAGOS',\n",
       "       'PAX_PASES_PAGOS', 'PAX_FRANQ', 'TOTAL', 'ID'],\n",
       "      dtype='object')"
      ]
     },
     "execution_count": 20,
     "metadata": {},
     "output_type": "execute_result"
    }
   ],
   "source": [
    "db.columns"
   ]
  },
  {
   "cell_type": "code",
   "execution_count": 21,
   "metadata": {},
   "outputs": [],
   "source": [
    "#creamos una copia de la original para mostrar como podemos cambiar los nombres de las columnas\n",
    "db_columnas = db.copy()"
   ]
  },
  {
   "cell_type": "code",
   "execution_count": 22,
   "metadata": {},
   "outputs": [
    {
     "data": {
      "text/html": [
       "<div>\n",
       "<style scoped>\n",
       "    .dataframe tbody tr th:only-of-type {\n",
       "        vertical-align: middle;\n",
       "    }\n",
       "\n",
       "    .dataframe tbody tr th {\n",
       "        vertical-align: top;\n",
       "    }\n",
       "\n",
       "    .dataframe thead th {\n",
       "        text-align: right;\n",
       "    }\n",
       "</style>\n",
       "<table border=\"1\" class=\"dataframe\">\n",
       "  <thead>\n",
       "    <tr style=\"text-align: right;\">\n",
       "      <th></th>\n",
       "      <th>fecha</th>\n",
       "      <th>desde</th>\n",
       "      <th>hasta</th>\n",
       "      <th>linea</th>\n",
       "      <th>estacion</th>\n",
       "      <th>pagos</th>\n",
       "      <th>pases</th>\n",
       "      <th>franquicia</th>\n",
       "      <th>total</th>\n",
       "      <th>id</th>\n",
       "    </tr>\n",
       "  </thead>\n",
       "  <tbody>\n",
       "    <tr>\n",
       "      <td>0</td>\n",
       "      <td>01/01/2018</td>\n",
       "      <td>08:00:00</td>\n",
       "      <td>08:15:00</td>\n",
       "      <td>LINEA_A</td>\n",
       "      <td>CASTRO BARROS</td>\n",
       "      <td>1</td>\n",
       "      <td>0</td>\n",
       "      <td>0</td>\n",
       "      <td>1</td>\n",
       "      <td>40</td>\n",
       "    </tr>\n",
       "    <tr>\n",
       "      <td>1</td>\n",
       "      <td>01/01/2018</td>\n",
       "      <td>08:00:00</td>\n",
       "      <td>08:15:00</td>\n",
       "      <td>LINEA_A</td>\n",
       "      <td>LIMA</td>\n",
       "      <td>4</td>\n",
       "      <td>0</td>\n",
       "      <td>0</td>\n",
       "      <td>4</td>\n",
       "      <td>33</td>\n",
       "    </tr>\n",
       "    <tr>\n",
       "      <td>2</td>\n",
       "      <td>01/01/2018</td>\n",
       "      <td>08:00:00</td>\n",
       "      <td>08:15:00</td>\n",
       "      <td>LINEA_A</td>\n",
       "      <td>PASCO</td>\n",
       "      <td>1</td>\n",
       "      <td>0</td>\n",
       "      <td>0</td>\n",
       "      <td>1</td>\n",
       "      <td>36</td>\n",
       "    </tr>\n",
       "    <tr>\n",
       "      <td>3</td>\n",
       "      <td>01/01/2018</td>\n",
       "      <td>08:00:00</td>\n",
       "      <td>08:15:00</td>\n",
       "      <td>LINEA_A</td>\n",
       "      <td>PERU</td>\n",
       "      <td>4</td>\n",
       "      <td>0</td>\n",
       "      <td>0</td>\n",
       "      <td>4</td>\n",
       "      <td>31</td>\n",
       "    </tr>\n",
       "    <tr>\n",
       "      <td>4</td>\n",
       "      <td>01/01/2018</td>\n",
       "      <td>08:00:00</td>\n",
       "      <td>08:15:00</td>\n",
       "      <td>LINEA_A</td>\n",
       "      <td>PRIMERA JUNTA</td>\n",
       "      <td>2</td>\n",
       "      <td>0</td>\n",
       "      <td>0</td>\n",
       "      <td>2</td>\n",
       "      <td>43</td>\n",
       "    </tr>\n",
       "  </tbody>\n",
       "</table>\n",
       "</div>"
      ],
      "text/plain": [
       "        fecha     desde     hasta    linea       estacion  pagos  pases  \\\n",
       "0  01/01/2018  08:00:00  08:15:00  LINEA_A  CASTRO BARROS      1      0   \n",
       "1  01/01/2018  08:00:00  08:15:00  LINEA_A           LIMA      4      0   \n",
       "2  01/01/2018  08:00:00  08:15:00  LINEA_A          PASCO      1      0   \n",
       "3  01/01/2018  08:00:00  08:15:00  LINEA_A           PERU      4      0   \n",
       "4  01/01/2018  08:00:00  08:15:00  LINEA_A  PRIMERA JUNTA      2      0   \n",
       "\n",
       "   franquicia  total  id  \n",
       "0           0      1  40  \n",
       "1           0      4  33  \n",
       "2           0      1  36  \n",
       "3           0      4  31  \n",
       "4           0      2  43  "
      ]
     },
     "execution_count": 22,
     "metadata": {},
     "output_type": "execute_result"
    }
   ],
   "source": [
    "db_columnas.columns =  ['fecha','desde','hasta','linea','estacion','pagos','pases','franquicia','total','id']\n",
    "db_columnas.head()"
   ]
  },
  {
   "cell_type": "code",
   "execution_count": 23,
   "metadata": {},
   "outputs": [
    {
     "data": {
      "text/html": [
       "<div>\n",
       "<style scoped>\n",
       "    .dataframe tbody tr th:only-of-type {\n",
       "        vertical-align: middle;\n",
       "    }\n",
       "\n",
       "    .dataframe tbody tr th {\n",
       "        vertical-align: top;\n",
       "    }\n",
       "\n",
       "    .dataframe thead th {\n",
       "        text-align: right;\n",
       "    }\n",
       "</style>\n",
       "<table border=\"1\" class=\"dataframe\">\n",
       "  <thead>\n",
       "    <tr style=\"text-align: right;\">\n",
       "      <th></th>\n",
       "      <th>FECHA</th>\n",
       "      <th>DESDE</th>\n",
       "      <th>HASTA</th>\n",
       "      <th>LINEA</th>\n",
       "      <th>ESTACION</th>\n",
       "      <th>PAGOS</th>\n",
       "      <th>PASES</th>\n",
       "      <th>FRANQUICIA</th>\n",
       "      <th>TOTAL</th>\n",
       "      <th>ID</th>\n",
       "    </tr>\n",
       "  </thead>\n",
       "  <tbody>\n",
       "    <tr>\n",
       "      <td>0</td>\n",
       "      <td>01/01/2018</td>\n",
       "      <td>08:00:00</td>\n",
       "      <td>08:15:00</td>\n",
       "      <td>LINEA_A</td>\n",
       "      <td>CASTRO BARROS</td>\n",
       "      <td>1</td>\n",
       "      <td>0</td>\n",
       "      <td>0</td>\n",
       "      <td>1</td>\n",
       "      <td>40</td>\n",
       "    </tr>\n",
       "    <tr>\n",
       "      <td>1</td>\n",
       "      <td>01/01/2018</td>\n",
       "      <td>08:00:00</td>\n",
       "      <td>08:15:00</td>\n",
       "      <td>LINEA_A</td>\n",
       "      <td>LIMA</td>\n",
       "      <td>4</td>\n",
       "      <td>0</td>\n",
       "      <td>0</td>\n",
       "      <td>4</td>\n",
       "      <td>33</td>\n",
       "    </tr>\n",
       "    <tr>\n",
       "      <td>2</td>\n",
       "      <td>01/01/2018</td>\n",
       "      <td>08:00:00</td>\n",
       "      <td>08:15:00</td>\n",
       "      <td>LINEA_A</td>\n",
       "      <td>PASCO</td>\n",
       "      <td>1</td>\n",
       "      <td>0</td>\n",
       "      <td>0</td>\n",
       "      <td>1</td>\n",
       "      <td>36</td>\n",
       "    </tr>\n",
       "    <tr>\n",
       "      <td>3</td>\n",
       "      <td>01/01/2018</td>\n",
       "      <td>08:00:00</td>\n",
       "      <td>08:15:00</td>\n",
       "      <td>LINEA_A</td>\n",
       "      <td>PERU</td>\n",
       "      <td>4</td>\n",
       "      <td>0</td>\n",
       "      <td>0</td>\n",
       "      <td>4</td>\n",
       "      <td>31</td>\n",
       "    </tr>\n",
       "    <tr>\n",
       "      <td>4</td>\n",
       "      <td>01/01/2018</td>\n",
       "      <td>08:00:00</td>\n",
       "      <td>08:15:00</td>\n",
       "      <td>LINEA_A</td>\n",
       "      <td>PRIMERA JUNTA</td>\n",
       "      <td>2</td>\n",
       "      <td>0</td>\n",
       "      <td>0</td>\n",
       "      <td>2</td>\n",
       "      <td>43</td>\n",
       "    </tr>\n",
       "  </tbody>\n",
       "</table>\n",
       "</div>"
      ],
      "text/plain": [
       "        FECHA     DESDE     HASTA    LINEA       ESTACION  PAGOS  PASES  \\\n",
       "0  01/01/2018  08:00:00  08:15:00  LINEA_A  CASTRO BARROS      1      0   \n",
       "1  01/01/2018  08:00:00  08:15:00  LINEA_A           LIMA      4      0   \n",
       "2  01/01/2018  08:00:00  08:15:00  LINEA_A          PASCO      1      0   \n",
       "3  01/01/2018  08:00:00  08:15:00  LINEA_A           PERU      4      0   \n",
       "4  01/01/2018  08:00:00  08:15:00  LINEA_A  PRIMERA JUNTA      2      0   \n",
       "\n",
       "   FRANQUICIA  TOTAL  ID  \n",
       "0           0      1  40  \n",
       "1           0      4  33  \n",
       "2           0      1  36  \n",
       "3           0      4  31  \n",
       "4           0      2  43  "
      ]
     },
     "execution_count": 23,
     "metadata": {},
     "output_type": "execute_result"
    }
   ],
   "source": [
    "#podemos hacer lo mismo que haríamos con cualquier lista\n",
    "db_columnas.columns = db_columnas.columns.map(str.upper)\n",
    "db_columnas.head()"
   ]
  },
  {
   "cell_type": "markdown",
   "metadata": {},
   "source": [
    "Si observamos cada columna, vemos que cada una de ellas es un objeto del tipo **Pandas Series** "
   ]
  },
  {
   "cell_type": "code",
   "execution_count": 24,
   "metadata": {},
   "outputs": [
    {
     "data": {
      "text/plain": [
       "pandas.core.series.Series"
      ]
     },
     "execution_count": 24,
     "metadata": {},
     "output_type": "execute_result"
    }
   ],
   "source": [
    "type(db.FECHA)"
   ]
  },
  {
   "cell_type": "markdown",
   "metadata": {},
   "source": [
    "Vemos tambien que tienen un indice:"
   ]
  },
  {
   "cell_type": "code",
   "execution_count": 25,
   "metadata": {},
   "outputs": [
    {
     "data": {
      "text/plain": [
       "0    01/01/2018\n",
       "1    01/01/2018\n",
       "2    01/01/2018\n",
       "3    01/01/2018\n",
       "4    01/01/2018\n",
       "Name: FECHA, dtype: object"
      ]
     },
     "execution_count": 25,
     "metadata": {},
     "output_type": "execute_result"
    }
   ],
   "source": [
    "db.FECHA.head()"
   ]
  },
  {
   "cell_type": "markdown",
   "metadata": {},
   "source": [
    "Si vemos las otras columnas, todas tienen el mismo indice:"
   ]
  },
  {
   "cell_type": "code",
   "execution_count": 26,
   "metadata": {},
   "outputs": [
    {
     "data": {
      "text/plain": [
       "0    08:00:00\n",
       "1    08:00:00\n",
       "2    08:00:00\n",
       "3    08:00:00\n",
       "4    08:00:00\n",
       "Name: DESDE, dtype: object"
      ]
     },
     "execution_count": 26,
     "metadata": {},
     "output_type": "execute_result"
    }
   ],
   "source": [
    "db.DESDE.head()"
   ]
  },
  {
   "cell_type": "markdown",
   "metadata": {},
   "source": [
    "Por lo tanto podemos pensar en que los **Dataframes** son un conjunto de **Series**, que comparten el mismo índice"
   ]
  },
  {
   "cell_type": "markdown",
   "metadata": {},
   "source": [
    "##### Pequeña disgresión sobre *loc* e *iloc*\n",
    "*iloc* sirve para obtener datos en base a su ubicación en la tabla, que es relativa, ya que uno puede ordenar la tabla de diferentes modos. *loc* selecciona en base a los valores "
   ]
  },
  {
   "cell_type": "code",
   "execution_count": 48,
   "metadata": {},
   "outputs": [
    {
     "ename": "KeyError",
     "evalue": "0",
     "output_type": "error",
     "traceback": [
      "\u001b[0;31m---------------------------------------------------------------------------\u001b[0m",
      "\u001b[0;31mKeyError\u001b[0m                                  Traceback (most recent call last)",
      "\u001b[0;32m~/anaconda3/lib/python3.7/site-packages/pandas/core/indexes/base.py\u001b[0m in \u001b[0;36mget_loc\u001b[0;34m(self, key, method, tolerance)\u001b[0m\n\u001b[1;32m   2896\u001b[0m             \u001b[0;32mtry\u001b[0m\u001b[0;34m:\u001b[0m\u001b[0;34m\u001b[0m\u001b[0;34m\u001b[0m\u001b[0m\n\u001b[0;32m-> 2897\u001b[0;31m                 \u001b[0;32mreturn\u001b[0m \u001b[0mself\u001b[0m\u001b[0;34m.\u001b[0m\u001b[0m_engine\u001b[0m\u001b[0;34m.\u001b[0m\u001b[0mget_loc\u001b[0m\u001b[0;34m(\u001b[0m\u001b[0mkey\u001b[0m\u001b[0;34m)\u001b[0m\u001b[0;34m\u001b[0m\u001b[0;34m\u001b[0m\u001b[0m\n\u001b[0m\u001b[1;32m   2898\u001b[0m             \u001b[0;32mexcept\u001b[0m \u001b[0mKeyError\u001b[0m\u001b[0;34m:\u001b[0m\u001b[0;34m\u001b[0m\u001b[0;34m\u001b[0m\u001b[0m\n",
      "\u001b[0;32mpandas/_libs/index.pyx\u001b[0m in \u001b[0;36mpandas._libs.index.IndexEngine.get_loc\u001b[0;34m()\u001b[0m\n",
      "\u001b[0;32mpandas/_libs/index.pyx\u001b[0m in \u001b[0;36mpandas._libs.index.IndexEngine.get_loc\u001b[0;34m()\u001b[0m\n",
      "\u001b[0;32mpandas/_libs/hashtable_class_helper.pxi\u001b[0m in \u001b[0;36mpandas._libs.hashtable.Int64HashTable.get_item\u001b[0;34m()\u001b[0m\n",
      "\u001b[0;32mpandas/_libs/hashtable_class_helper.pxi\u001b[0m in \u001b[0;36mpandas._libs.hashtable.Int64HashTable.get_item\u001b[0;34m()\u001b[0m\n",
      "\u001b[0;31mKeyError\u001b[0m: 0",
      "\nDuring handling of the above exception, another exception occurred:\n",
      "\u001b[0;31mKeyError\u001b[0m                                  Traceback (most recent call last)",
      "\u001b[0;32m<ipython-input-48-0131a4b680e2>\u001b[0m in \u001b[0;36m<module>\u001b[0;34m\u001b[0m\n\u001b[1;32m      2\u001b[0m \u001b[0;31m#Si leemos el texto del error nos da indicios de esta situación\u001b[0m\u001b[0;34m\u001b[0m\u001b[0;34m\u001b[0m\u001b[0;34m\u001b[0m\u001b[0m\n\u001b[1;32m      3\u001b[0m \u001b[0;34m\u001b[0m\u001b[0m\n\u001b[0;32m----> 4\u001b[0;31m \u001b[0mdb\u001b[0m\u001b[0;34m.\u001b[0m\u001b[0mFECHA\u001b[0m\u001b[0;34m.\u001b[0m\u001b[0mloc\u001b[0m\u001b[0;34m[\u001b[0m\u001b[0;36m0\u001b[0m\u001b[0;34m]\u001b[0m\u001b[0;34m\u001b[0m\u001b[0;34m\u001b[0m\u001b[0m\n\u001b[0m",
      "\u001b[0;32m~/anaconda3/lib/python3.7/site-packages/pandas/core/indexing.py\u001b[0m in \u001b[0;36m__getitem__\u001b[0;34m(self, key)\u001b[0m\n\u001b[1;32m   1422\u001b[0m \u001b[0;34m\u001b[0m\u001b[0m\n\u001b[1;32m   1423\u001b[0m             \u001b[0mmaybe_callable\u001b[0m \u001b[0;34m=\u001b[0m \u001b[0mcom\u001b[0m\u001b[0;34m.\u001b[0m\u001b[0mapply_if_callable\u001b[0m\u001b[0;34m(\u001b[0m\u001b[0mkey\u001b[0m\u001b[0;34m,\u001b[0m \u001b[0mself\u001b[0m\u001b[0;34m.\u001b[0m\u001b[0mobj\u001b[0m\u001b[0;34m)\u001b[0m\u001b[0;34m\u001b[0m\u001b[0;34m\u001b[0m\u001b[0m\n\u001b[0;32m-> 1424\u001b[0;31m             \u001b[0;32mreturn\u001b[0m \u001b[0mself\u001b[0m\u001b[0;34m.\u001b[0m\u001b[0m_getitem_axis\u001b[0m\u001b[0;34m(\u001b[0m\u001b[0mmaybe_callable\u001b[0m\u001b[0;34m,\u001b[0m \u001b[0maxis\u001b[0m\u001b[0;34m=\u001b[0m\u001b[0maxis\u001b[0m\u001b[0;34m)\u001b[0m\u001b[0;34m\u001b[0m\u001b[0;34m\u001b[0m\u001b[0m\n\u001b[0m\u001b[1;32m   1425\u001b[0m \u001b[0;34m\u001b[0m\u001b[0m\n\u001b[1;32m   1426\u001b[0m     \u001b[0;32mdef\u001b[0m \u001b[0m_is_scalar_access\u001b[0m\u001b[0;34m(\u001b[0m\u001b[0mself\u001b[0m\u001b[0;34m,\u001b[0m \u001b[0mkey\u001b[0m\u001b[0;34m:\u001b[0m \u001b[0mTuple\u001b[0m\u001b[0;34m)\u001b[0m\u001b[0;34m:\u001b[0m\u001b[0;34m\u001b[0m\u001b[0;34m\u001b[0m\u001b[0m\n",
      "\u001b[0;32m~/anaconda3/lib/python3.7/site-packages/pandas/core/indexing.py\u001b[0m in \u001b[0;36m_getitem_axis\u001b[0;34m(self, key, axis)\u001b[0m\n\u001b[1;32m   1848\u001b[0m         \u001b[0;31m# fall thru to straight lookup\u001b[0m\u001b[0;34m\u001b[0m\u001b[0;34m\u001b[0m\u001b[0;34m\u001b[0m\u001b[0m\n\u001b[1;32m   1849\u001b[0m         \u001b[0mself\u001b[0m\u001b[0;34m.\u001b[0m\u001b[0m_validate_key\u001b[0m\u001b[0;34m(\u001b[0m\u001b[0mkey\u001b[0m\u001b[0;34m,\u001b[0m \u001b[0maxis\u001b[0m\u001b[0;34m)\u001b[0m\u001b[0;34m\u001b[0m\u001b[0;34m\u001b[0m\u001b[0m\n\u001b[0;32m-> 1850\u001b[0;31m         \u001b[0;32mreturn\u001b[0m \u001b[0mself\u001b[0m\u001b[0;34m.\u001b[0m\u001b[0m_get_label\u001b[0m\u001b[0;34m(\u001b[0m\u001b[0mkey\u001b[0m\u001b[0;34m,\u001b[0m \u001b[0maxis\u001b[0m\u001b[0;34m=\u001b[0m\u001b[0maxis\u001b[0m\u001b[0;34m)\u001b[0m\u001b[0;34m\u001b[0m\u001b[0;34m\u001b[0m\u001b[0m\n\u001b[0m\u001b[1;32m   1851\u001b[0m \u001b[0;34m\u001b[0m\u001b[0m\n\u001b[1;32m   1852\u001b[0m \u001b[0;34m\u001b[0m\u001b[0m\n",
      "\u001b[0;32m~/anaconda3/lib/python3.7/site-packages/pandas/core/indexing.py\u001b[0m in \u001b[0;36m_get_label\u001b[0;34m(self, label, axis)\u001b[0m\n\u001b[1;32m    154\u001b[0m             \u001b[0;31m# but will fail when the index is not present\u001b[0m\u001b[0;34m\u001b[0m\u001b[0;34m\u001b[0m\u001b[0;34m\u001b[0m\u001b[0m\n\u001b[1;32m    155\u001b[0m             \u001b[0;31m# see GH5667\u001b[0m\u001b[0;34m\u001b[0m\u001b[0;34m\u001b[0m\u001b[0;34m\u001b[0m\u001b[0m\n\u001b[0;32m--> 156\u001b[0;31m             \u001b[0;32mreturn\u001b[0m \u001b[0mself\u001b[0m\u001b[0;34m.\u001b[0m\u001b[0mobj\u001b[0m\u001b[0;34m.\u001b[0m\u001b[0m_xs\u001b[0m\u001b[0;34m(\u001b[0m\u001b[0mlabel\u001b[0m\u001b[0;34m,\u001b[0m \u001b[0maxis\u001b[0m\u001b[0;34m=\u001b[0m\u001b[0maxis\u001b[0m\u001b[0;34m)\u001b[0m\u001b[0;34m\u001b[0m\u001b[0;34m\u001b[0m\u001b[0m\n\u001b[0m\u001b[1;32m    157\u001b[0m         \u001b[0;32melif\u001b[0m \u001b[0misinstance\u001b[0m\u001b[0;34m(\u001b[0m\u001b[0mlabel\u001b[0m\u001b[0;34m,\u001b[0m \u001b[0mtuple\u001b[0m\u001b[0;34m)\u001b[0m \u001b[0;32mand\u001b[0m \u001b[0misinstance\u001b[0m\u001b[0;34m(\u001b[0m\u001b[0mlabel\u001b[0m\u001b[0;34m[\u001b[0m\u001b[0maxis\u001b[0m\u001b[0;34m]\u001b[0m\u001b[0;34m,\u001b[0m \u001b[0mslice\u001b[0m\u001b[0;34m)\u001b[0m\u001b[0;34m:\u001b[0m\u001b[0;34m\u001b[0m\u001b[0;34m\u001b[0m\u001b[0m\n\u001b[1;32m    158\u001b[0m             \u001b[0;32mraise\u001b[0m \u001b[0mIndexingError\u001b[0m\u001b[0;34m(\u001b[0m\u001b[0;34m\"no slices here, handle elsewhere\"\u001b[0m\u001b[0;34m)\u001b[0m\u001b[0;34m\u001b[0m\u001b[0;34m\u001b[0m\u001b[0m\n",
      "\u001b[0;32m~/anaconda3/lib/python3.7/site-packages/pandas/core/generic.py\u001b[0m in \u001b[0;36mxs\u001b[0;34m(self, key, axis, level, drop_level)\u001b[0m\n\u001b[1;32m   3735\u001b[0m             \u001b[0mloc\u001b[0m\u001b[0;34m,\u001b[0m \u001b[0mnew_index\u001b[0m \u001b[0;34m=\u001b[0m \u001b[0mself\u001b[0m\u001b[0;34m.\u001b[0m\u001b[0mindex\u001b[0m\u001b[0;34m.\u001b[0m\u001b[0mget_loc_level\u001b[0m\u001b[0;34m(\u001b[0m\u001b[0mkey\u001b[0m\u001b[0;34m,\u001b[0m \u001b[0mdrop_level\u001b[0m\u001b[0;34m=\u001b[0m\u001b[0mdrop_level\u001b[0m\u001b[0;34m)\u001b[0m\u001b[0;34m\u001b[0m\u001b[0;34m\u001b[0m\u001b[0m\n\u001b[1;32m   3736\u001b[0m         \u001b[0;32melse\u001b[0m\u001b[0;34m:\u001b[0m\u001b[0;34m\u001b[0m\u001b[0;34m\u001b[0m\u001b[0m\n\u001b[0;32m-> 3737\u001b[0;31m             \u001b[0mloc\u001b[0m \u001b[0;34m=\u001b[0m \u001b[0mself\u001b[0m\u001b[0;34m.\u001b[0m\u001b[0mindex\u001b[0m\u001b[0;34m.\u001b[0m\u001b[0mget_loc\u001b[0m\u001b[0;34m(\u001b[0m\u001b[0mkey\u001b[0m\u001b[0;34m)\u001b[0m\u001b[0;34m\u001b[0m\u001b[0;34m\u001b[0m\u001b[0m\n\u001b[0m\u001b[1;32m   3738\u001b[0m \u001b[0;34m\u001b[0m\u001b[0m\n\u001b[1;32m   3739\u001b[0m             \u001b[0;32mif\u001b[0m \u001b[0misinstance\u001b[0m\u001b[0;34m(\u001b[0m\u001b[0mloc\u001b[0m\u001b[0;34m,\u001b[0m \u001b[0mnp\u001b[0m\u001b[0;34m.\u001b[0m\u001b[0mndarray\u001b[0m\u001b[0;34m)\u001b[0m\u001b[0;34m:\u001b[0m\u001b[0;34m\u001b[0m\u001b[0;34m\u001b[0m\u001b[0m\n",
      "\u001b[0;32m~/anaconda3/lib/python3.7/site-packages/pandas/core/indexes/base.py\u001b[0m in \u001b[0;36mget_loc\u001b[0;34m(self, key, method, tolerance)\u001b[0m\n\u001b[1;32m   2897\u001b[0m                 \u001b[0;32mreturn\u001b[0m \u001b[0mself\u001b[0m\u001b[0;34m.\u001b[0m\u001b[0m_engine\u001b[0m\u001b[0;34m.\u001b[0m\u001b[0mget_loc\u001b[0m\u001b[0;34m(\u001b[0m\u001b[0mkey\u001b[0m\u001b[0;34m)\u001b[0m\u001b[0;34m\u001b[0m\u001b[0;34m\u001b[0m\u001b[0m\n\u001b[1;32m   2898\u001b[0m             \u001b[0;32mexcept\u001b[0m \u001b[0mKeyError\u001b[0m\u001b[0;34m:\u001b[0m\u001b[0;34m\u001b[0m\u001b[0;34m\u001b[0m\u001b[0m\n\u001b[0;32m-> 2899\u001b[0;31m                 \u001b[0;32mreturn\u001b[0m \u001b[0mself\u001b[0m\u001b[0;34m.\u001b[0m\u001b[0m_engine\u001b[0m\u001b[0;34m.\u001b[0m\u001b[0mget_loc\u001b[0m\u001b[0;34m(\u001b[0m\u001b[0mself\u001b[0m\u001b[0;34m.\u001b[0m\u001b[0m_maybe_cast_indexer\u001b[0m\u001b[0;34m(\u001b[0m\u001b[0mkey\u001b[0m\u001b[0;34m)\u001b[0m\u001b[0;34m)\u001b[0m\u001b[0;34m\u001b[0m\u001b[0;34m\u001b[0m\u001b[0m\n\u001b[0m\u001b[1;32m   2900\u001b[0m         \u001b[0mindexer\u001b[0m \u001b[0;34m=\u001b[0m \u001b[0mself\u001b[0m\u001b[0;34m.\u001b[0m\u001b[0mget_indexer\u001b[0m\u001b[0;34m(\u001b[0m\u001b[0;34m[\u001b[0m\u001b[0mkey\u001b[0m\u001b[0;34m]\u001b[0m\u001b[0;34m,\u001b[0m \u001b[0mmethod\u001b[0m\u001b[0;34m=\u001b[0m\u001b[0mmethod\u001b[0m\u001b[0;34m,\u001b[0m \u001b[0mtolerance\u001b[0m\u001b[0;34m=\u001b[0m\u001b[0mtolerance\u001b[0m\u001b[0;34m)\u001b[0m\u001b[0;34m\u001b[0m\u001b[0;34m\u001b[0m\u001b[0m\n\u001b[1;32m   2901\u001b[0m         \u001b[0;32mif\u001b[0m \u001b[0mindexer\u001b[0m\u001b[0;34m.\u001b[0m\u001b[0mndim\u001b[0m \u001b[0;34m>\u001b[0m \u001b[0;36m1\u001b[0m \u001b[0;32mor\u001b[0m \u001b[0mindexer\u001b[0m\u001b[0;34m.\u001b[0m\u001b[0msize\u001b[0m \u001b[0;34m>\u001b[0m \u001b[0;36m1\u001b[0m\u001b[0;34m:\u001b[0m\u001b[0;34m\u001b[0m\u001b[0;34m\u001b[0m\u001b[0m\n",
      "\u001b[0;32mpandas/_libs/index.pyx\u001b[0m in \u001b[0;36mpandas._libs.index.IndexEngine.get_loc\u001b[0;34m()\u001b[0m\n",
      "\u001b[0;32mpandas/_libs/index.pyx\u001b[0m in \u001b[0;36mpandas._libs.index.IndexEngine.get_loc\u001b[0;34m()\u001b[0m\n",
      "\u001b[0;32mpandas/_libs/hashtable_class_helper.pxi\u001b[0m in \u001b[0;36mpandas._libs.hashtable.Int64HashTable.get_item\u001b[0;34m()\u001b[0m\n",
      "\u001b[0;32mpandas/_libs/hashtable_class_helper.pxi\u001b[0m in \u001b[0;36mpandas._libs.hashtable.Int64HashTable.get_item\u001b[0;34m()\u001b[0m\n",
      "\u001b[0;31mKeyError\u001b[0m: 0"
     ]
    }
   ],
   "source": [
    "#este comando devuelve error porque no existe el indice 0, porque lo filtramos previamente. \n",
    "#Si leemos el texto del error nos da indicios de esta situación\n",
    "\n",
    "db.FECHA.loc[0]"
   ]
  },
  {
   "cell_type": "code",
   "execution_count": 49,
   "metadata": {},
   "outputs": [
    {
     "data": {
      "text/html": [
       "<div>\n",
       "<style scoped>\n",
       "    .dataframe tbody tr th:only-of-type {\n",
       "        vertical-align: middle;\n",
       "    }\n",
       "\n",
       "    .dataframe tbody tr th {\n",
       "        vertical-align: top;\n",
       "    }\n",
       "\n",
       "    .dataframe thead th {\n",
       "        text-align: right;\n",
       "    }\n",
       "</style>\n",
       "<table border=\"1\" class=\"dataframe\">\n",
       "  <thead>\n",
       "    <tr style=\"text-align: right;\">\n",
       "      <th></th>\n",
       "      <th>FECHA</th>\n",
       "      <th>DESDE</th>\n",
       "      <th>HASTA</th>\n",
       "    </tr>\n",
       "  </thead>\n",
       "  <tbody>\n",
       "    <tr>\n",
       "      <td>1025451</td>\n",
       "      <td>01/02/2018</td>\n",
       "      <td>05:30:00</td>\n",
       "      <td>05:45:00</td>\n",
       "    </tr>\n",
       "    <tr>\n",
       "      <td>1025452</td>\n",
       "      <td>01/02/2018</td>\n",
       "      <td>05:30:00</td>\n",
       "      <td>05:45:00</td>\n",
       "    </tr>\n",
       "  </tbody>\n",
       "</table>\n",
       "</div>"
      ],
      "text/plain": [
       "              FECHA     DESDE     HASTA\n",
       "1025451  01/02/2018  05:30:00  05:45:00\n",
       "1025452  01/02/2018  05:30:00  05:45:00"
      ]
     },
     "execution_count": 49,
     "metadata": {},
     "output_type": "execute_result"
    }
   ],
   "source": [
    "#lo mismo vale para seleccionar dataframes\n",
    "db.iloc[:2,:3]"
   ]
  },
  {
   "cell_type": "code",
   "execution_count": null,
   "metadata": {},
   "outputs": [],
   "source": [
    "#esto produce un error\n",
    "#db.loc[:2,:3]"
   ]
  },
  {
   "cell_type": "code",
   "execution_count": null,
   "metadata": {},
   "outputs": [],
   "source": [
    "db.loc[[1025451,1025452],['FECHA','DESDE','HASTA']]"
   ]
  },
  {
   "cell_type": "markdown",
   "metadata": {},
   "source": [
    "##### Fin de la pequeña disgresión sobre *loc* e *iloc*\n"
   ]
  },
  {
   "cell_type": "markdown",
   "metadata": {},
   "source": [
    "## 5 Manipulacion de datos y crear columnas\n",
    "\n",
    "Ahora vamos a ver el sentido de todo ese limar y pulir de la clase anterior. Queremos saber qué día es cada registro. Para eso vamos a tener que hacerle transformaciones a los datos."
   ]
  },
  {
   "cell_type": "code",
   "execution_count": 50,
   "metadata": {},
   "outputs": [
    {
     "data": {
      "text/plain": [
       "'01/02/2018'"
      ]
     },
     "execution_count": 50,
     "metadata": {},
     "output_type": "execute_result"
    }
   ],
   "source": [
    "db.FECHA.iloc[0]"
   ]
  },
  {
   "cell_type": "code",
   "execution_count": 51,
   "metadata": {},
   "outputs": [
    {
     "data": {
      "text/plain": [
       "str"
      ]
     },
     "execution_count": 51,
     "metadata": {},
     "output_type": "execute_result"
    }
   ],
   "source": [
    "type(db.FECHA.iloc[0])"
   ]
  },
  {
   "cell_type": "markdown",
   "metadata": {},
   "source": [
    "Como vemos es un texto simple. Pero hay diversas maneras de obtener el resultado que queremos. Comunmente no existe una única manera de solucionar un problema en Python, en cualquier lenguaje de programación, o en la vida misma. Esto da la sensación de libertad pero a la vez abruma.\n",
    "\n",
    "Comencemos con el más sencillo. Sabemos que el día son los 2 primeros dígitos de la fecha."
   ]
  },
  {
   "cell_type": "code",
   "execution_count": 52,
   "metadata": {},
   "outputs": [
    {
     "data": {
      "text/plain": [
       "'01'"
      ]
     },
     "execution_count": 52,
     "metadata": {},
     "output_type": "execute_result"
    }
   ],
   "source": [
    "db.FECHA.iloc[0][:2]"
   ]
  },
  {
   "cell_type": "markdown",
   "metadata": {},
   "source": [
    "Pero nos gustaria que nos devuelva un número, no un caracter de texto"
   ]
  },
  {
   "cell_type": "code",
   "execution_count": 53,
   "metadata": {},
   "outputs": [
    {
     "data": {
      "text/plain": [
       "1"
      ]
     },
     "execution_count": 53,
     "metadata": {},
     "output_type": "execute_result"
    }
   ],
   "source": [
    "int(db.FECHA.iloc[0][:2])"
   ]
  },
  {
   "cell_type": "markdown",
   "metadata": {},
   "source": [
    "Perfecto, ahora que sabemos lo que tenemos que hacer con un caso típico, podemos hacerlo para todos los casos. ¿Cómo? En la clase anterior vimos 3 modos:\n",
    "\n",
    "* for loop\n",
    "* list comprehension \n",
    "* map\n",
    "\n",
    "Tenemos que repetir una misma tarea rutinaria una y otra vez sobre toda una serie de elementos. Esto es una buena indicación de que deberíamos crear una función."
   ]
  },
  {
   "cell_type": "code",
   "execution_count": 28,
   "metadata": {},
   "outputs": [],
   "source": [
    "def obtener_el_dia(fecha):\n",
    "    '''\n",
    "    Esta función toma una fecha en texto en formato dd/mm/yyyy\n",
    "    y devuelve el día en un numero entero\n",
    "    '''\n",
    "    return int(fecha[:2])"
   ]
  },
  {
   "cell_type": "markdown",
   "metadata": {},
   "source": [
    "Testeemos nuestra función"
   ]
  },
  {
   "cell_type": "code",
   "execution_count": 55,
   "metadata": {},
   "outputs": [
    {
     "data": {
      "text/plain": [
       "1"
      ]
     },
     "execution_count": 55,
     "metadata": {},
     "output_type": "execute_result"
    }
   ],
   "source": [
    "obtener_el_dia(db.FECHA.iloc[0])"
   ]
  },
  {
   "cell_type": "code",
   "execution_count": 56,
   "metadata": {},
   "outputs": [
    {
     "name": "stdout",
     "output_type": "stream",
     "text": [
      "Help on function obtener_el_dia in module __main__:\n",
      "\n",
      "obtener_el_dia(fecha)\n",
      "    Esta función toma una fecha en texto en formato dd/mm/yyyy\n",
      "    y devuelve el día en un numero entero\n",
      "\n"
     ]
    }
   ],
   "source": [
    "help(obtener_el_dia)"
   ]
  },
  {
   "cell_type": "code",
   "execution_count": 30,
   "metadata": {},
   "outputs": [],
   "source": [
    "import time #esto nos va a permitir ver cuanto tarda en correr nuestro codigo y ver la diferencia en los 3 metodos"
   ]
  },
  {
   "cell_type": "code",
   "execution_count": 58,
   "metadata": {},
   "outputs": [
    {
     "name": "stdout",
     "output_type": "stream",
     "text": [
      "tardo en ejecutar 21 segundos\n"
     ]
    }
   ],
   "source": [
    "#aplicamos nuestra funcion a las fechas de los 3 modos\n",
    "#NOTEN COMO PODEMOS UTILIZAR EL INDEX DEL PANDAS DATAFRAME Y COMO USAMOS LOC Y NO ILOC\n",
    "start = time.time()\n",
    "fechas_loop = []\n",
    "for i in db.index:\n",
    "    dia = obtener_el_dia(db.FECHA.loc[i])\n",
    "    fechas_loop.append(dia) \n",
    "    #noten como append modifica la lista fehcas_loop sin tener que guardar el resultado en una nueva variable\n",
    "end = time.time()\n",
    "print('tardo en ejecutar',round(end - start),'segundos')"
   ]
  },
  {
   "cell_type": "code",
   "execution_count": 59,
   "metadata": {},
   "outputs": [
    {
     "name": "stdout",
     "output_type": "stream",
     "text": [
      "tardo en ejecutar 20 segundos\n"
     ]
    }
   ],
   "source": [
    "#list comprehension\n",
    "start = time.time()\n",
    "fechas_list_comp = [obtener_el_dia(db.FECHA.loc[i]) for i in db.index]\n",
    "end = time.time()\n",
    "print('tardo en ejecutar',round(end - start),'segundos')"
   ]
  },
  {
   "cell_type": "code",
   "execution_count": 60,
   "metadata": {},
   "outputs": [
    {
     "data": {
      "text/plain": [
       "True"
      ]
     },
     "execution_count": 60,
     "metadata": {},
     "output_type": "execute_result"
    }
   ],
   "source": [
    "#ambas producen la misma lista?\n",
    "fechas_list_comp == fechas_loop"
   ]
  },
  {
   "cell_type": "code",
   "execution_count": 31,
   "metadata": {},
   "outputs": [
    {
     "name": "stdout",
     "output_type": "stream",
     "text": [
      "tardo en ejecutar 1 segundos\n"
     ]
    }
   ],
   "source": [
    "#map\n",
    "start = time.time()\n",
    "fechas_map = db.FECHA.map(obtener_el_dia)\n",
    "end = time.time()\n",
    "print('tardo en ejecutar',round(end - start),'segundos')\n"
   ]
  },
  {
   "cell_type": "code",
   "execution_count": 32,
   "metadata": {},
   "outputs": [
    {
     "ename": "NameError",
     "evalue": "name 'fechas_list_comp' is not defined",
     "output_type": "error",
     "traceback": [
      "\u001b[0;31m---------------------------------------------------------------------------\u001b[0m",
      "\u001b[0;31mNameError\u001b[0m                                 Traceback (most recent call last)",
      "\u001b[0;32m<ipython-input-32-56cf38e8a918>\u001b[0m in \u001b[0;36m<module>\u001b[0;34m\u001b[0m\n\u001b[0;32m----> 1\u001b[0;31m \u001b[0mtype\u001b[0m\u001b[0;34m(\u001b[0m\u001b[0mfechas_list_comp\u001b[0m\u001b[0;34m)\u001b[0m\u001b[0;34m\u001b[0m\u001b[0;34m\u001b[0m\u001b[0m\n\u001b[0m",
      "\u001b[0;31mNameError\u001b[0m: name 'fechas_list_comp' is not defined"
     ]
    }
   ],
   "source": [
    "type(fechas_list_comp)"
   ]
  },
  {
   "cell_type": "code",
   "execution_count": 33,
   "metadata": {},
   "outputs": [
    {
     "data": {
      "text/plain": [
       "pandas.core.series.Series"
      ]
     },
     "execution_count": 33,
     "metadata": {},
     "output_type": "execute_result"
    }
   ],
   "source": [
    "type(fechas_map)"
   ]
  },
  {
   "cell_type": "code",
   "execution_count": 34,
   "metadata": {},
   "outputs": [
    {
     "ename": "NameError",
     "evalue": "name 'fechas_list_comp' is not defined",
     "output_type": "error",
     "traceback": [
      "\u001b[0;31m---------------------------------------------------------------------------\u001b[0m",
      "\u001b[0;31mNameError\u001b[0m                                 Traceback (most recent call last)",
      "\u001b[0;32m<ipython-input-34-72629c391cf6>\u001b[0m in \u001b[0;36m<module>\u001b[0;34m\u001b[0m\n\u001b[0;32m----> 1\u001b[0;31m \u001b[0mfechas_map\u001b[0m \u001b[0;34m==\u001b[0m \u001b[0mfechas_list_comp\u001b[0m\u001b[0;34m\u001b[0m\u001b[0;34m\u001b[0m\u001b[0m\n\u001b[0m",
      "\u001b[0;31mNameError\u001b[0m: name 'fechas_list_comp' is not defined"
     ]
    }
   ],
   "source": [
    "fechas_map == fechas_list_comp"
   ]
  },
  {
   "cell_type": "code",
   "execution_count": 66,
   "metadata": {},
   "outputs": [
    {
     "data": {
      "text/plain": [
       "922190"
      ]
     },
     "execution_count": 66,
     "metadata": {},
     "output_type": "execute_result"
    }
   ],
   "source": [
    "#produce lo mismo? si y no. El resultado es una serie de pandas, no una lista. \n",
    "#Al evaluarla contra la lista, evalua punto por punto\n",
    "(fechas_map == fechas_list_comp).sum()"
   ]
  },
  {
   "cell_type": "code",
   "execution_count": 67,
   "metadata": {},
   "outputs": [
    {
     "data": {
      "text/plain": [
       "(922190, 10)"
      ]
     },
     "execution_count": 67,
     "metadata": {},
     "output_type": "execute_result"
    }
   ],
   "source": [
    "db.shape"
   ]
  },
  {
   "cell_type": "code",
   "execution_count": 68,
   "metadata": {},
   "outputs": [
    {
     "data": {
      "text/plain": [
       "True"
      ]
     },
     "execution_count": 68,
     "metadata": {},
     "output_type": "execute_result"
    }
   ],
   "source": [
    "#si lo convertimos primero en una lista, ahi si podemos comparar peras con manzamas, lista con lista\n",
    "list(fechas_map) == fechas_list_comp"
   ]
  },
  {
   "cell_type": "code",
   "execution_count": 35,
   "metadata": {},
   "outputs": [],
   "source": [
    "#guardamos nuestros dias en una nueva columna de nuestro dataframe\n",
    "db['dia'] = fechas_map"
   ]
  },
  {
   "cell_type": "code",
   "execution_count": 36,
   "metadata": {},
   "outputs": [],
   "source": [
    "db['dia'] = db.FECHA.map(obtener_el_dia)\n"
   ]
  },
  {
   "cell_type": "code",
   "execution_count": 37,
   "metadata": {},
   "outputs": [],
   "source": [
    "#esta es una forma mas correctares\n",
    "db.loc[:,'dia'] = fechas_map"
   ]
  },
  {
   "cell_type": "code",
   "execution_count": 38,
   "metadata": {},
   "outputs": [
    {
     "data": {
      "text/html": [
       "<div>\n",
       "<style scoped>\n",
       "    .dataframe tbody tr th:only-of-type {\n",
       "        vertical-align: middle;\n",
       "    }\n",
       "\n",
       "    .dataframe tbody tr th {\n",
       "        vertical-align: top;\n",
       "    }\n",
       "\n",
       "    .dataframe thead th {\n",
       "        text-align: right;\n",
       "    }\n",
       "</style>\n",
       "<table border=\"1\" class=\"dataframe\">\n",
       "  <thead>\n",
       "    <tr style=\"text-align: right;\">\n",
       "      <th></th>\n",
       "      <th>FECHA</th>\n",
       "      <th>DESDE</th>\n",
       "      <th>HASTA</th>\n",
       "      <th>LINEA</th>\n",
       "      <th>ESTACION</th>\n",
       "      <th>PAX_PAGOS</th>\n",
       "      <th>PAX_PASES_PAGOS</th>\n",
       "      <th>PAX_FRANQ</th>\n",
       "      <th>TOTAL</th>\n",
       "      <th>ID</th>\n",
       "      <th>dia</th>\n",
       "    </tr>\n",
       "  </thead>\n",
       "  <tbody>\n",
       "    <tr>\n",
       "      <td>0</td>\n",
       "      <td>01/01/2018</td>\n",
       "      <td>08:00:00</td>\n",
       "      <td>08:15:00</td>\n",
       "      <td>LINEA_A</td>\n",
       "      <td>CASTRO BARROS</td>\n",
       "      <td>1</td>\n",
       "      <td>0</td>\n",
       "      <td>0</td>\n",
       "      <td>1</td>\n",
       "      <td>40</td>\n",
       "      <td>1</td>\n",
       "    </tr>\n",
       "    <tr>\n",
       "      <td>1</td>\n",
       "      <td>01/01/2018</td>\n",
       "      <td>08:00:00</td>\n",
       "      <td>08:15:00</td>\n",
       "      <td>LINEA_A</td>\n",
       "      <td>LIMA</td>\n",
       "      <td>4</td>\n",
       "      <td>0</td>\n",
       "      <td>0</td>\n",
       "      <td>4</td>\n",
       "      <td>33</td>\n",
       "      <td>1</td>\n",
       "    </tr>\n",
       "    <tr>\n",
       "      <td>2</td>\n",
       "      <td>01/01/2018</td>\n",
       "      <td>08:00:00</td>\n",
       "      <td>08:15:00</td>\n",
       "      <td>LINEA_A</td>\n",
       "      <td>PASCO</td>\n",
       "      <td>1</td>\n",
       "      <td>0</td>\n",
       "      <td>0</td>\n",
       "      <td>1</td>\n",
       "      <td>36</td>\n",
       "      <td>1</td>\n",
       "    </tr>\n",
       "    <tr>\n",
       "      <td>3</td>\n",
       "      <td>01/01/2018</td>\n",
       "      <td>08:00:00</td>\n",
       "      <td>08:15:00</td>\n",
       "      <td>LINEA_A</td>\n",
       "      <td>PERU</td>\n",
       "      <td>4</td>\n",
       "      <td>0</td>\n",
       "      <td>0</td>\n",
       "      <td>4</td>\n",
       "      <td>31</td>\n",
       "      <td>1</td>\n",
       "    </tr>\n",
       "    <tr>\n",
       "      <td>4</td>\n",
       "      <td>01/01/2018</td>\n",
       "      <td>08:00:00</td>\n",
       "      <td>08:15:00</td>\n",
       "      <td>LINEA_A</td>\n",
       "      <td>PRIMERA JUNTA</td>\n",
       "      <td>2</td>\n",
       "      <td>0</td>\n",
       "      <td>0</td>\n",
       "      <td>2</td>\n",
       "      <td>43</td>\n",
       "      <td>1</td>\n",
       "    </tr>\n",
       "  </tbody>\n",
       "</table>\n",
       "</div>"
      ],
      "text/plain": [
       "        FECHA     DESDE     HASTA    LINEA       ESTACION  PAX_PAGOS  \\\n",
       "0  01/01/2018  08:00:00  08:15:00  LINEA_A  CASTRO BARROS          1   \n",
       "1  01/01/2018  08:00:00  08:15:00  LINEA_A           LIMA          4   \n",
       "2  01/01/2018  08:00:00  08:15:00  LINEA_A          PASCO          1   \n",
       "3  01/01/2018  08:00:00  08:15:00  LINEA_A           PERU          4   \n",
       "4  01/01/2018  08:00:00  08:15:00  LINEA_A  PRIMERA JUNTA          2   \n",
       "\n",
       "   PAX_PASES_PAGOS  PAX_FRANQ  TOTAL  ID  dia  \n",
       "0                0          0      1  40    1  \n",
       "1                0          0      4  33    1  \n",
       "2                0          0      1  36    1  \n",
       "3                0          0      4  31    1  \n",
       "4                0          0      2  43    1  "
      ]
     },
     "execution_count": 38,
     "metadata": {},
     "output_type": "execute_result"
    }
   ],
   "source": [
    "db.head()"
   ]
  },
  {
   "cell_type": "code",
   "execution_count": 39,
   "metadata": {},
   "outputs": [
    {
     "data": {
      "text/plain": [
       "26    72234\n",
       "16    72154\n",
       "22    72113\n",
       "23    72074\n",
       "5     71881\n",
       "19    71682\n",
       "8     71473\n",
       "2     71397\n",
       "9     71350\n",
       "15    70946\n",
       "24    67779\n",
       "20    67712\n",
       "27    67542\n",
       "3     67437\n",
       "10    67225\n",
       "17    67015\n",
       "6     66514\n",
       "21    60733\n",
       "25    60564\n",
       "28    60527\n",
       "7     60452\n",
       "18    60024\n",
       "12    59990\n",
       "4     59206\n",
       "11    59195\n",
       "14    59083\n",
       "1     56788\n",
       "13    55005\n",
       "31    36050\n",
       "30    35887\n",
       "29    35609\n",
       "Name: dia, dtype: int64"
      ]
     },
     "execution_count": 39,
     "metadata": {},
     "output_type": "execute_result"
    }
   ],
   "source": [
    "db.dia.value_counts()"
   ]
  },
  {
   "cell_type": "markdown",
   "metadata": {},
   "source": [
    "Ahora, nosotros podemos saber si el dia fue el 1ero o el 15. Pero al analizar flujo de transporte, es más importante saber si fue lunes o domingo que si fue principio o fin de mes. Entonces queremos saber que dia de la semana fue ese dia"
   ]
  },
  {
   "cell_type": "code",
   "execution_count": 40,
   "metadata": {},
   "outputs": [],
   "source": [
    "from datetime import datetime #esta es una nueva libreria que me deja manipular fechas"
   ]
  },
  {
   "cell_type": "markdown",
   "metadata": {},
   "source": [
    "Esta librería nos va a dejar trabajar con objetos de tipo *datetime* que tienen algunas propiedades que nos van a resultar convenientes"
   ]
  },
  {
   "cell_type": "code",
   "execution_count": 41,
   "metadata": {},
   "outputs": [
    {
     "data": {
      "text/plain": [
       "datetime.datetime(2018, 1, 1, 0, 0)"
      ]
     },
     "execution_count": 41,
     "metadata": {},
     "output_type": "execute_result"
    }
   ],
   "source": [
    "fecha = datetime.strptime(db.FECHA.iloc[0],'%d/%m/%Y')\n",
    "fecha"
   ]
  },
  {
   "cell_type": "code",
   "execution_count": 42,
   "metadata": {},
   "outputs": [],
   "source": [
    "datetime.strptime?"
   ]
  },
  {
   "cell_type": "code",
   "execution_count": 43,
   "metadata": {},
   "outputs": [
    {
     "data": {
      "text/plain": [
       "datetime.datetime"
      ]
     },
     "execution_count": 43,
     "metadata": {},
     "output_type": "execute_result"
    }
   ],
   "source": [
    "type(fecha)"
   ]
  },
  {
   "cell_type": "markdown",
   "metadata": {},
   "source": [
    "Una de esas propiedades es la de obtener el día calendario con el metodo o función *weekday()*"
   ]
  },
  {
   "cell_type": "code",
   "execution_count": 44,
   "metadata": {},
   "outputs": [
    {
     "data": {
      "text/plain": [
       "0"
      ]
     },
     "execution_count": 44,
     "metadata": {},
     "output_type": "execute_result"
    }
   ],
   "source": [
    "datetime.strptime(db.FECHA.iloc[0],'%d/%m/%Y').weekday()"
   ]
  },
  {
   "cell_type": "code",
   "execution_count": 45,
   "metadata": {},
   "outputs": [
    {
     "name": "stdout",
     "output_type": "stream",
     "text": [
      "Help on method_descriptor:\n",
      "\n",
      "weekday(...)\n",
      "    Return the day of the week represented by the date.\n",
      "    Monday == 0 ... Sunday == 6\n",
      "\n"
     ]
    }
   ],
   "source": [
    "help(datetime.weekday)"
   ]
  },
  {
   "cell_type": "code",
   "execution_count": 46,
   "metadata": {},
   "outputs": [],
   "source": [
    "def obtener_dia_semana(fecha):\n",
    "    return datetime.strptime(fecha,'%d/%m/%Y').weekday()"
   ]
  },
  {
   "cell_type": "code",
   "execution_count": 47,
   "metadata": {},
   "outputs": [],
   "source": [
    "db.loc[:,'dia_semana'] = db.FECHA.map(obtener_dia_semana)"
   ]
  },
  {
   "cell_type": "code",
   "execution_count": 48,
   "metadata": {},
   "outputs": [
    {
     "data": {
      "text/plain": [
       "numpy.int64"
      ]
     },
     "execution_count": 48,
     "metadata": {},
     "output_type": "execute_result"
    }
   ],
   "source": [
    "type(db.dia_semana.iloc[0])"
   ]
  },
  {
   "cell_type": "code",
   "execution_count": 49,
   "metadata": {},
   "outputs": [
    {
     "data": {
      "text/plain": [
       "array([0, 1, 2, 3, 4, 5, 6])"
      ]
     },
     "execution_count": 49,
     "metadata": {},
     "output_type": "execute_result"
    }
   ],
   "source": [
    "db.dia_semana.unique()"
   ]
  },
  {
   "cell_type": "code",
   "execution_count": 50,
   "metadata": {},
   "outputs": [
    {
     "data": {
      "text/plain": [
       "2    323695\n",
       "1    309729\n",
       "0    294745\n",
       "4    288548\n",
       "3    285973\n",
       "5    251181\n",
       "6    193770\n",
       "Name: dia_semana, dtype: int64"
      ]
     },
     "execution_count": 50,
     "metadata": {},
     "output_type": "execute_result"
    }
   ],
   "source": [
    "db.dia_semana.value_counts()"
   ]
  },
  {
   "cell_type": "code",
   "execution_count": 51,
   "metadata": {},
   "outputs": [],
   "source": [
    "db.dia_semana = db.dia_semana.replace({0:'lunes',\n",
    "                                      1:'martes',\n",
    "                                      2:'miercoles',\n",
    "                                      3:'jueves',\n",
    "                                      4:'viernes',\n",
    "                                      5:'sabado',\n",
    "                                      6:'domingo'})"
   ]
  },
  {
   "cell_type": "code",
   "execution_count": 52,
   "metadata": {},
   "outputs": [
    {
     "data": {
      "text/plain": [
       "miercoles    323695\n",
       "martes       309729\n",
       "lunes        294745\n",
       "viernes      288548\n",
       "jueves       285973\n",
       "sabado       251181\n",
       "domingo      193770\n",
       "Name: dia_semana, dtype: int64"
      ]
     },
     "execution_count": 52,
     "metadata": {},
     "output_type": "execute_result"
    }
   ],
   "source": [
    "db.dia_semana.value_counts()"
   ]
  },
  {
   "cell_type": "code",
   "execution_count": 53,
   "metadata": {},
   "outputs": [
    {
     "data": {
      "text/html": [
       "<div>\n",
       "<style scoped>\n",
       "    .dataframe tbody tr th:only-of-type {\n",
       "        vertical-align: middle;\n",
       "    }\n",
       "\n",
       "    .dataframe tbody tr th {\n",
       "        vertical-align: top;\n",
       "    }\n",
       "\n",
       "    .dataframe thead th {\n",
       "        text-align: right;\n",
       "    }\n",
       "</style>\n",
       "<table border=\"1\" class=\"dataframe\">\n",
       "  <thead>\n",
       "    <tr style=\"text-align: right;\">\n",
       "      <th></th>\n",
       "      <th>FECHA</th>\n",
       "      <th>DESDE</th>\n",
       "      <th>HASTA</th>\n",
       "      <th>LINEA</th>\n",
       "      <th>ESTACION</th>\n",
       "      <th>PAX_PAGOS</th>\n",
       "      <th>PAX_PASES_PAGOS</th>\n",
       "      <th>PAX_FRANQ</th>\n",
       "      <th>TOTAL</th>\n",
       "      <th>ID</th>\n",
       "      <th>dia</th>\n",
       "      <th>dia_semana</th>\n",
       "    </tr>\n",
       "  </thead>\n",
       "  <tbody>\n",
       "    <tr>\n",
       "      <td>0</td>\n",
       "      <td>01/01/2018</td>\n",
       "      <td>08:00:00</td>\n",
       "      <td>08:15:00</td>\n",
       "      <td>LINEA_A</td>\n",
       "      <td>CASTRO BARROS</td>\n",
       "      <td>1</td>\n",
       "      <td>0</td>\n",
       "      <td>0</td>\n",
       "      <td>1</td>\n",
       "      <td>40</td>\n",
       "      <td>1</td>\n",
       "      <td>lunes</td>\n",
       "    </tr>\n",
       "    <tr>\n",
       "      <td>1</td>\n",
       "      <td>01/01/2018</td>\n",
       "      <td>08:00:00</td>\n",
       "      <td>08:15:00</td>\n",
       "      <td>LINEA_A</td>\n",
       "      <td>LIMA</td>\n",
       "      <td>4</td>\n",
       "      <td>0</td>\n",
       "      <td>0</td>\n",
       "      <td>4</td>\n",
       "      <td>33</td>\n",
       "      <td>1</td>\n",
       "      <td>lunes</td>\n",
       "    </tr>\n",
       "    <tr>\n",
       "      <td>2</td>\n",
       "      <td>01/01/2018</td>\n",
       "      <td>08:00:00</td>\n",
       "      <td>08:15:00</td>\n",
       "      <td>LINEA_A</td>\n",
       "      <td>PASCO</td>\n",
       "      <td>1</td>\n",
       "      <td>0</td>\n",
       "      <td>0</td>\n",
       "      <td>1</td>\n",
       "      <td>36</td>\n",
       "      <td>1</td>\n",
       "      <td>lunes</td>\n",
       "    </tr>\n",
       "    <tr>\n",
       "      <td>3</td>\n",
       "      <td>01/01/2018</td>\n",
       "      <td>08:00:00</td>\n",
       "      <td>08:15:00</td>\n",
       "      <td>LINEA_A</td>\n",
       "      <td>PERU</td>\n",
       "      <td>4</td>\n",
       "      <td>0</td>\n",
       "      <td>0</td>\n",
       "      <td>4</td>\n",
       "      <td>31</td>\n",
       "      <td>1</td>\n",
       "      <td>lunes</td>\n",
       "    </tr>\n",
       "    <tr>\n",
       "      <td>4</td>\n",
       "      <td>01/01/2018</td>\n",
       "      <td>08:00:00</td>\n",
       "      <td>08:15:00</td>\n",
       "      <td>LINEA_A</td>\n",
       "      <td>PRIMERA JUNTA</td>\n",
       "      <td>2</td>\n",
       "      <td>0</td>\n",
       "      <td>0</td>\n",
       "      <td>2</td>\n",
       "      <td>43</td>\n",
       "      <td>1</td>\n",
       "      <td>lunes</td>\n",
       "    </tr>\n",
       "  </tbody>\n",
       "</table>\n",
       "</div>"
      ],
      "text/plain": [
       "        FECHA     DESDE     HASTA    LINEA       ESTACION  PAX_PAGOS  \\\n",
       "0  01/01/2018  08:00:00  08:15:00  LINEA_A  CASTRO BARROS          1   \n",
       "1  01/01/2018  08:00:00  08:15:00  LINEA_A           LIMA          4   \n",
       "2  01/01/2018  08:00:00  08:15:00  LINEA_A          PASCO          1   \n",
       "3  01/01/2018  08:00:00  08:15:00  LINEA_A           PERU          4   \n",
       "4  01/01/2018  08:00:00  08:15:00  LINEA_A  PRIMERA JUNTA          2   \n",
       "\n",
       "   PAX_PASES_PAGOS  PAX_FRANQ  TOTAL  ID  dia dia_semana  \n",
       "0                0          0      1  40    1      lunes  \n",
       "1                0          0      4  33    1      lunes  \n",
       "2                0          0      1  36    1      lunes  \n",
       "3                0          0      4  31    1      lunes  \n",
       "4                0          0      2  43    1      lunes  "
      ]
     },
     "execution_count": 53,
     "metadata": {},
     "output_type": "execute_result"
    }
   ],
   "source": [
    "db.head()"
   ]
  },
  {
   "cell_type": "markdown",
   "metadata": {},
   "source": [
    "## 6 Agrupación, transformación, agregación\n",
    "\n",
    "Una de las ventajas de conjuntos de datos ordenados es que permiten realizar transformaciones avanzadas de una manera más directa. Una de las más comunes es lo que se llama operaciones \"grupales\". Originadas en el mundo de las bases de datos, estas operaciones le permiten agrupar las observaciones en una tabla mediante una de sus etiquetas, índice o categoría, y aplicar operaciones en el grupo de datos por grupo.\n",
    "\n",
    "Por ejemplo, dada nuestra tabla ordenada por linea, estacion, dia, calcular la suma total de transacciones agrupadas por diferentes categorias.\n",
    "\n",
    "Para hacer esto en `pandas`, podemos usar uno de sus caballos de batalla, y también una de las razones por las que la biblioteca se ha vuelto tan popular: el operador` groupby`.\n"
   ]
  },
  {
   "cell_type": "code",
   "execution_count": 54,
   "metadata": {},
   "outputs": [
    {
     "data": {
      "text/html": [
       "<div>\n",
       "<style scoped>\n",
       "    .dataframe tbody tr th:only-of-type {\n",
       "        vertical-align: middle;\n",
       "    }\n",
       "\n",
       "    .dataframe tbody tr th {\n",
       "        vertical-align: top;\n",
       "    }\n",
       "\n",
       "    .dataframe thead th {\n",
       "        text-align: right;\n",
       "    }\n",
       "</style>\n",
       "<table border=\"1\" class=\"dataframe\">\n",
       "  <thead>\n",
       "    <tr style=\"text-align: right;\">\n",
       "      <th></th>\n",
       "      <th>FECHA</th>\n",
       "      <th>DESDE</th>\n",
       "      <th>HASTA</th>\n",
       "      <th>LINEA</th>\n",
       "      <th>ESTACION</th>\n",
       "      <th>PAX_PAGOS</th>\n",
       "      <th>PAX_PASES_PAGOS</th>\n",
       "      <th>PAX_FRANQ</th>\n",
       "      <th>TOTAL</th>\n",
       "      <th>ID</th>\n",
       "      <th>dia</th>\n",
       "      <th>dia_semana</th>\n",
       "    </tr>\n",
       "  </thead>\n",
       "  <tbody>\n",
       "    <tr>\n",
       "      <td>0</td>\n",
       "      <td>01/01/2018</td>\n",
       "      <td>08:00:00</td>\n",
       "      <td>08:15:00</td>\n",
       "      <td>LINEA_A</td>\n",
       "      <td>CASTRO BARROS</td>\n",
       "      <td>1</td>\n",
       "      <td>0</td>\n",
       "      <td>0</td>\n",
       "      <td>1</td>\n",
       "      <td>40</td>\n",
       "      <td>1</td>\n",
       "      <td>lunes</td>\n",
       "    </tr>\n",
       "    <tr>\n",
       "      <td>1</td>\n",
       "      <td>01/01/2018</td>\n",
       "      <td>08:00:00</td>\n",
       "      <td>08:15:00</td>\n",
       "      <td>LINEA_A</td>\n",
       "      <td>LIMA</td>\n",
       "      <td>4</td>\n",
       "      <td>0</td>\n",
       "      <td>0</td>\n",
       "      <td>4</td>\n",
       "      <td>33</td>\n",
       "      <td>1</td>\n",
       "      <td>lunes</td>\n",
       "    </tr>\n",
       "    <tr>\n",
       "      <td>2</td>\n",
       "      <td>01/01/2018</td>\n",
       "      <td>08:00:00</td>\n",
       "      <td>08:15:00</td>\n",
       "      <td>LINEA_A</td>\n",
       "      <td>PASCO</td>\n",
       "      <td>1</td>\n",
       "      <td>0</td>\n",
       "      <td>0</td>\n",
       "      <td>1</td>\n",
       "      <td>36</td>\n",
       "      <td>1</td>\n",
       "      <td>lunes</td>\n",
       "    </tr>\n",
       "    <tr>\n",
       "      <td>3</td>\n",
       "      <td>01/01/2018</td>\n",
       "      <td>08:00:00</td>\n",
       "      <td>08:15:00</td>\n",
       "      <td>LINEA_A</td>\n",
       "      <td>PERU</td>\n",
       "      <td>4</td>\n",
       "      <td>0</td>\n",
       "      <td>0</td>\n",
       "      <td>4</td>\n",
       "      <td>31</td>\n",
       "      <td>1</td>\n",
       "      <td>lunes</td>\n",
       "    </tr>\n",
       "    <tr>\n",
       "      <td>4</td>\n",
       "      <td>01/01/2018</td>\n",
       "      <td>08:00:00</td>\n",
       "      <td>08:15:00</td>\n",
       "      <td>LINEA_A</td>\n",
       "      <td>PRIMERA JUNTA</td>\n",
       "      <td>2</td>\n",
       "      <td>0</td>\n",
       "      <td>0</td>\n",
       "      <td>2</td>\n",
       "      <td>43</td>\n",
       "      <td>1</td>\n",
       "      <td>lunes</td>\n",
       "    </tr>\n",
       "  </tbody>\n",
       "</table>\n",
       "</div>"
      ],
      "text/plain": [
       "        FECHA     DESDE     HASTA    LINEA       ESTACION  PAX_PAGOS  \\\n",
       "0  01/01/2018  08:00:00  08:15:00  LINEA_A  CASTRO BARROS          1   \n",
       "1  01/01/2018  08:00:00  08:15:00  LINEA_A           LIMA          4   \n",
       "2  01/01/2018  08:00:00  08:15:00  LINEA_A          PASCO          1   \n",
       "3  01/01/2018  08:00:00  08:15:00  LINEA_A           PERU          4   \n",
       "4  01/01/2018  08:00:00  08:15:00  LINEA_A  PRIMERA JUNTA          2   \n",
       "\n",
       "   PAX_PASES_PAGOS  PAX_FRANQ  TOTAL  ID  dia dia_semana  \n",
       "0                0          0      1  40    1      lunes  \n",
       "1                0          0      4  33    1      lunes  \n",
       "2                0          0      1  36    1      lunes  \n",
       "3                0          0      4  31    1      lunes  \n",
       "4                0          0      2  43    1      lunes  "
      ]
     },
     "execution_count": 54,
     "metadata": {},
     "output_type": "execute_result"
    }
   ],
   "source": [
    "db.head()"
   ]
  },
  {
   "cell_type": "code",
   "execution_count": 64,
   "metadata": {},
   "outputs": [
    {
     "data": {
      "text/html": [
       "<div>\n",
       "<style scoped>\n",
       "    .dataframe tbody tr th:only-of-type {\n",
       "        vertical-align: middle;\n",
       "    }\n",
       "\n",
       "    .dataframe tbody tr th {\n",
       "        vertical-align: top;\n",
       "    }\n",
       "\n",
       "    .dataframe thead th {\n",
       "        text-align: right;\n",
       "    }\n",
       "</style>\n",
       "<table border=\"1\" class=\"dataframe\">\n",
       "  <thead>\n",
       "    <tr style=\"text-align: right;\">\n",
       "      <th></th>\n",
       "      <th>TOTAL</th>\n",
       "    </tr>\n",
       "    <tr>\n",
       "      <th>dia_semana</th>\n",
       "      <th></th>\n",
       "    </tr>\n",
       "  </thead>\n",
       "  <tbody>\n",
       "    <tr>\n",
       "      <td>domingo</td>\n",
       "      <td>1679466</td>\n",
       "    </tr>\n",
       "    <tr>\n",
       "      <td>jueves</td>\n",
       "      <td>8158303</td>\n",
       "    </tr>\n",
       "    <tr>\n",
       "      <td>lunes</td>\n",
       "      <td>7299023</td>\n",
       "    </tr>\n",
       "    <tr>\n",
       "      <td>martes</td>\n",
       "      <td>8239672</td>\n",
       "    </tr>\n",
       "    <tr>\n",
       "      <td>miercoles</td>\n",
       "      <td>9261202</td>\n",
       "    </tr>\n",
       "    <tr>\n",
       "      <td>sabado</td>\n",
       "      <td>3200674</td>\n",
       "    </tr>\n",
       "    <tr>\n",
       "      <td>viernes</td>\n",
       "      <td>7987977</td>\n",
       "    </tr>\n",
       "  </tbody>\n",
       "</table>\n",
       "</div>"
      ],
      "text/plain": [
       "              TOTAL\n",
       "dia_semana         \n",
       "domingo     1679466\n",
       "jueves      8158303\n",
       "lunes       7299023\n",
       "martes      8239672\n",
       "miercoles   9261202\n",
       "sabado      3200674\n",
       "viernes     7987977"
      ]
     },
     "execution_count": 64,
     "metadata": {},
     "output_type": "execute_result"
    }
   ],
   "source": [
    "trx_por_dia = db.loc[:,['dia_semana','TOTAL']]\n",
    "trx_por_dia = trx_por_dia.groupby('dia_semana').sum()\n",
    "trx_por_dia"
   ]
  },
  {
   "cell_type": "code",
   "execution_count": 66,
   "metadata": {},
   "outputs": [
    {
     "data": {
      "text/html": [
       "<div>\n",
       "<style scoped>\n",
       "    .dataframe tbody tr th:only-of-type {\n",
       "        vertical-align: middle;\n",
       "    }\n",
       "\n",
       "    .dataframe tbody tr th {\n",
       "        vertical-align: top;\n",
       "    }\n",
       "\n",
       "    .dataframe thead th {\n",
       "        text-align: right;\n",
       "    }\n",
       "</style>\n",
       "<table border=\"1\" class=\"dataframe\">\n",
       "  <thead>\n",
       "    <tr style=\"text-align: right;\">\n",
       "      <th></th>\n",
       "      <th>TOTAL</th>\n",
       "    </tr>\n",
       "    <tr>\n",
       "      <th>dia_semana</th>\n",
       "      <th></th>\n",
       "    </tr>\n",
       "  </thead>\n",
       "  <tbody>\n",
       "    <tr>\n",
       "      <td>domingo</td>\n",
       "      <td>1679466</td>\n",
       "    </tr>\n",
       "    <tr>\n",
       "      <td>sabado</td>\n",
       "      <td>3200674</td>\n",
       "    </tr>\n",
       "    <tr>\n",
       "      <td>lunes</td>\n",
       "      <td>7299023</td>\n",
       "    </tr>\n",
       "    <tr>\n",
       "      <td>viernes</td>\n",
       "      <td>7987977</td>\n",
       "    </tr>\n",
       "    <tr>\n",
       "      <td>jueves</td>\n",
       "      <td>8158303</td>\n",
       "    </tr>\n",
       "    <tr>\n",
       "      <td>martes</td>\n",
       "      <td>8239672</td>\n",
       "    </tr>\n",
       "    <tr>\n",
       "      <td>miercoles</td>\n",
       "      <td>9261202</td>\n",
       "    </tr>\n",
       "  </tbody>\n",
       "</table>\n",
       "</div>"
      ],
      "text/plain": [
       "              TOTAL\n",
       "dia_semana         \n",
       "domingo     1679466\n",
       "sabado      3200674\n",
       "lunes       7299023\n",
       "viernes     7987977\n",
       "jueves      8158303\n",
       "martes      8239672\n",
       "miercoles   9261202"
      ]
     },
     "execution_count": 66,
     "metadata": {},
     "output_type": "execute_result"
    }
   ],
   "source": [
    "trx_por_dia = db.loc[:,['dia_semana','TOTAL']].groupby('dia_semana').sum()\n",
    "trx_por_dia.sort_values(by='TOTAL')"
   ]
  },
  {
   "cell_type": "code",
   "execution_count": 67,
   "metadata": {},
   "outputs": [
    {
     "data": {
      "text/html": [
       "<div>\n",
       "<style scoped>\n",
       "    .dataframe tbody tr th:only-of-type {\n",
       "        vertical-align: middle;\n",
       "    }\n",
       "\n",
       "    .dataframe tbody tr th {\n",
       "        vertical-align: top;\n",
       "    }\n",
       "\n",
       "    .dataframe thead tr th {\n",
       "        text-align: left;\n",
       "    }\n",
       "\n",
       "    .dataframe thead tr:last-of-type th {\n",
       "        text-align: right;\n",
       "    }\n",
       "</style>\n",
       "<table border=\"1\" class=\"dataframe\">\n",
       "  <thead>\n",
       "    <tr>\n",
       "      <th></th>\n",
       "      <th colspan=\"8\" halign=\"left\">TOTAL</th>\n",
       "    </tr>\n",
       "    <tr>\n",
       "      <th></th>\n",
       "      <th>count</th>\n",
       "      <th>mean</th>\n",
       "      <th>std</th>\n",
       "      <th>min</th>\n",
       "      <th>25%</th>\n",
       "      <th>50%</th>\n",
       "      <th>75%</th>\n",
       "      <th>max</th>\n",
       "    </tr>\n",
       "    <tr>\n",
       "      <th>LINEA</th>\n",
       "      <th></th>\n",
       "      <th></th>\n",
       "      <th></th>\n",
       "      <th></th>\n",
       "      <th></th>\n",
       "      <th></th>\n",
       "      <th></th>\n",
       "      <th></th>\n",
       "    </tr>\n",
       "  </thead>\n",
       "  <tbody>\n",
       "    <tr>\n",
       "      <td>LINEA_A</td>\n",
       "      <td>421236.0</td>\n",
       "      <td>20.587253</td>\n",
       "      <td>22.728873</td>\n",
       "      <td>0.0</td>\n",
       "      <td>5.0</td>\n",
       "      <td>14.0</td>\n",
       "      <td>27.0</td>\n",
       "      <td>254.0</td>\n",
       "    </tr>\n",
       "    <tr>\n",
       "      <td>LINEA_B</td>\n",
       "      <td>465075.0</td>\n",
       "      <td>26.602531</td>\n",
       "      <td>28.625291</td>\n",
       "      <td>0.0</td>\n",
       "      <td>6.0</td>\n",
       "      <td>17.0</td>\n",
       "      <td>38.0</td>\n",
       "      <td>370.0</td>\n",
       "    </tr>\n",
       "    <tr>\n",
       "      <td>LINEA_C</td>\n",
       "      <td>258814.0</td>\n",
       "      <td>29.633548</td>\n",
       "      <td>34.653312</td>\n",
       "      <td>0.0</td>\n",
       "      <td>6.0</td>\n",
       "      <td>17.0</td>\n",
       "      <td>40.0</td>\n",
       "      <td>257.0</td>\n",
       "    </tr>\n",
       "    <tr>\n",
       "      <td>LINEA_D</td>\n",
       "      <td>413551.0</td>\n",
       "      <td>24.734103</td>\n",
       "      <td>24.087426</td>\n",
       "      <td>0.0</td>\n",
       "      <td>6.0</td>\n",
       "      <td>18.0</td>\n",
       "      <td>37.0</td>\n",
       "      <td>238.0</td>\n",
       "    </tr>\n",
       "    <tr>\n",
       "      <td>LINEA_E</td>\n",
       "      <td>182277.0</td>\n",
       "      <td>15.501089</td>\n",
       "      <td>17.202034</td>\n",
       "      <td>0.0</td>\n",
       "      <td>4.0</td>\n",
       "      <td>10.0</td>\n",
       "      <td>20.0</td>\n",
       "      <td>190.0</td>\n",
       "    </tr>\n",
       "    <tr>\n",
       "      <td>LINEA_H</td>\n",
       "      <td>206688.0</td>\n",
       "      <td>19.634285</td>\n",
       "      <td>19.270188</td>\n",
       "      <td>0.0</td>\n",
       "      <td>5.0</td>\n",
       "      <td>14.0</td>\n",
       "      <td>28.0</td>\n",
       "      <td>209.0</td>\n",
       "    </tr>\n",
       "  </tbody>\n",
       "</table>\n",
       "</div>"
      ],
      "text/plain": [
       "            TOTAL                                                   \n",
       "            count       mean        std  min  25%   50%   75%    max\n",
       "LINEA                                                               \n",
       "LINEA_A  421236.0  20.587253  22.728873  0.0  5.0  14.0  27.0  254.0\n",
       "LINEA_B  465075.0  26.602531  28.625291  0.0  6.0  17.0  38.0  370.0\n",
       "LINEA_C  258814.0  29.633548  34.653312  0.0  6.0  17.0  40.0  257.0\n",
       "LINEA_D  413551.0  24.734103  24.087426  0.0  6.0  18.0  37.0  238.0\n",
       "LINEA_E  182277.0  15.501089  17.202034  0.0  4.0  10.0  20.0  190.0\n",
       "LINEA_H  206688.0  19.634285  19.270188  0.0  5.0  14.0  28.0  209.0"
      ]
     },
     "execution_count": 67,
     "metadata": {},
     "output_type": "execute_result"
    }
   ],
   "source": [
    "#tambien podemos elegir otras funciones\n",
    "db.loc[:,['LINEA','TOTAL']].groupby(['LINEA']).describe()"
   ]
  },
  {
   "cell_type": "code",
   "execution_count": 71,
   "metadata": {},
   "outputs": [
    {
     "data": {
      "text/html": [
       "<div>\n",
       "<style scoped>\n",
       "    .dataframe tbody tr th:only-of-type {\n",
       "        vertical-align: middle;\n",
       "    }\n",
       "\n",
       "    .dataframe tbody tr th {\n",
       "        vertical-align: top;\n",
       "    }\n",
       "\n",
       "    .dataframe thead th {\n",
       "        text-align: right;\n",
       "    }\n",
       "</style>\n",
       "<table border=\"1\" class=\"dataframe\">\n",
       "  <thead>\n",
       "    <tr style=\"text-align: right;\">\n",
       "      <th></th>\n",
       "      <th>TOTAL</th>\n",
       "      <th>PAX_PAGOS</th>\n",
       "    </tr>\n",
       "    <tr>\n",
       "      <th>LINEA</th>\n",
       "      <th></th>\n",
       "      <th></th>\n",
       "    </tr>\n",
       "  </thead>\n",
       "  <tbody>\n",
       "    <tr>\n",
       "      <td>LINEA_A</td>\n",
       "      <td>8672092</td>\n",
       "      <td>254</td>\n",
       "    </tr>\n",
       "    <tr>\n",
       "      <td>LINEA_B</td>\n",
       "      <td>12372172</td>\n",
       "      <td>370</td>\n",
       "    </tr>\n",
       "    <tr>\n",
       "      <td>LINEA_C</td>\n",
       "      <td>7669577</td>\n",
       "      <td>257</td>\n",
       "    </tr>\n",
       "    <tr>\n",
       "      <td>LINEA_D</td>\n",
       "      <td>10228813</td>\n",
       "      <td>234</td>\n",
       "    </tr>\n",
       "    <tr>\n",
       "      <td>LINEA_E</td>\n",
       "      <td>2825492</td>\n",
       "      <td>188</td>\n",
       "    </tr>\n",
       "    <tr>\n",
       "      <td>LINEA_H</td>\n",
       "      <td>4058171</td>\n",
       "      <td>209</td>\n",
       "    </tr>\n",
       "  </tbody>\n",
       "</table>\n",
       "</div>"
      ],
      "text/plain": [
       "            TOTAL  PAX_PAGOS\n",
       "LINEA                       \n",
       "LINEA_A   8672092        254\n",
       "LINEA_B  12372172        370\n",
       "LINEA_C   7669577        257\n",
       "LINEA_D  10228813        234\n",
       "LINEA_E   2825492        188\n",
       "LINEA_H   4058171        209"
      ]
     },
     "execution_count": 71,
     "metadata": {},
     "output_type": "execute_result"
    }
   ],
   "source": [
    "db.reindex(columns = ['LINEA','TOTAL','PAX_PAGOS'])\\\n",
    "        .groupby('LINEA')\\\n",
    "        .agg({'TOTAL':np.sum,\n",
    "             'PAX_PAGOS':np.max})"
   ]
  },
  {
   "cell_type": "code",
   "execution_count": 68,
   "metadata": {},
   "outputs": [
    {
     "data": {
      "text/html": [
       "<div>\n",
       "<style scoped>\n",
       "    .dataframe tbody tr th:only-of-type {\n",
       "        vertical-align: middle;\n",
       "    }\n",
       "\n",
       "    .dataframe tbody tr th {\n",
       "        vertical-align: top;\n",
       "    }\n",
       "\n",
       "    .dataframe thead tr th {\n",
       "        text-align: left;\n",
       "    }\n",
       "\n",
       "    .dataframe thead tr:last-of-type th {\n",
       "        text-align: right;\n",
       "    }\n",
       "</style>\n",
       "<table border=\"1\" class=\"dataframe\">\n",
       "  <thead>\n",
       "    <tr>\n",
       "      <th></th>\n",
       "      <th colspan=\"3\" halign=\"left\">TOTAL</th>\n",
       "    </tr>\n",
       "    <tr>\n",
       "      <th></th>\n",
       "      <th>sum</th>\n",
       "      <th>std</th>\n",
       "      <th>mean</th>\n",
       "    </tr>\n",
       "    <tr>\n",
       "      <th>LINEA</th>\n",
       "      <th></th>\n",
       "      <th></th>\n",
       "      <th></th>\n",
       "    </tr>\n",
       "  </thead>\n",
       "  <tbody>\n",
       "    <tr>\n",
       "      <td>LINEA_A</td>\n",
       "      <td>8672092</td>\n",
       "      <td>22.728873</td>\n",
       "      <td>20.587253</td>\n",
       "    </tr>\n",
       "    <tr>\n",
       "      <td>LINEA_B</td>\n",
       "      <td>12372172</td>\n",
       "      <td>28.625291</td>\n",
       "      <td>26.602531</td>\n",
       "    </tr>\n",
       "    <tr>\n",
       "      <td>LINEA_C</td>\n",
       "      <td>7669577</td>\n",
       "      <td>34.653312</td>\n",
       "      <td>29.633548</td>\n",
       "    </tr>\n",
       "    <tr>\n",
       "      <td>LINEA_D</td>\n",
       "      <td>10228813</td>\n",
       "      <td>24.087426</td>\n",
       "      <td>24.734103</td>\n",
       "    </tr>\n",
       "    <tr>\n",
       "      <td>LINEA_E</td>\n",
       "      <td>2825492</td>\n",
       "      <td>17.202034</td>\n",
       "      <td>15.501089</td>\n",
       "    </tr>\n",
       "    <tr>\n",
       "      <td>LINEA_H</td>\n",
       "      <td>4058171</td>\n",
       "      <td>19.270188</td>\n",
       "      <td>19.634285</td>\n",
       "    </tr>\n",
       "  </tbody>\n",
       "</table>\n",
       "</div>"
      ],
      "text/plain": [
       "            TOTAL                      \n",
       "              sum        std       mean\n",
       "LINEA                                  \n",
       "LINEA_A   8672092  22.728873  20.587253\n",
       "LINEA_B  12372172  28.625291  26.602531\n",
       "LINEA_C   7669577  34.653312  29.633548\n",
       "LINEA_D  10228813  24.087426  24.734103\n",
       "LINEA_E   2825492  17.202034  15.501089\n",
       "LINEA_H   4058171  19.270188  19.634285"
      ]
     },
     "execution_count": 68,
     "metadata": {},
     "output_type": "execute_result"
    }
   ],
   "source": [
    "#incluso podemos introducir diferentes funciones que querramos a eleccion\n",
    "db.loc[:,['LINEA','TOTAL']].groupby(['LINEA']).agg([np.sum,np.std,np.mean])"
   ]
  },
  {
   "cell_type": "code",
   "execution_count": 72,
   "metadata": {},
   "outputs": [
    {
     "data": {
      "text/html": [
       "<div>\n",
       "<style scoped>\n",
       "    .dataframe tbody tr th:only-of-type {\n",
       "        vertical-align: middle;\n",
       "    }\n",
       "\n",
       "    .dataframe tbody tr th {\n",
       "        vertical-align: top;\n",
       "    }\n",
       "\n",
       "    .dataframe thead th {\n",
       "        text-align: right;\n",
       "    }\n",
       "</style>\n",
       "<table border=\"1\" class=\"dataframe\">\n",
       "  <thead>\n",
       "    <tr style=\"text-align: right;\">\n",
       "      <th></th>\n",
       "      <th>TOTAL</th>\n",
       "    </tr>\n",
       "    <tr>\n",
       "      <th>dia_semana</th>\n",
       "      <th></th>\n",
       "    </tr>\n",
       "  </thead>\n",
       "  <tbody>\n",
       "    <tr>\n",
       "      <td>miercoles</td>\n",
       "      <td>9261202</td>\n",
       "    </tr>\n",
       "    <tr>\n",
       "      <td>martes</td>\n",
       "      <td>8239672</td>\n",
       "    </tr>\n",
       "    <tr>\n",
       "      <td>jueves</td>\n",
       "      <td>8158303</td>\n",
       "    </tr>\n",
       "    <tr>\n",
       "      <td>viernes</td>\n",
       "      <td>7987977</td>\n",
       "    </tr>\n",
       "    <tr>\n",
       "      <td>lunes</td>\n",
       "      <td>7299023</td>\n",
       "    </tr>\n",
       "    <tr>\n",
       "      <td>sabado</td>\n",
       "      <td>3200674</td>\n",
       "    </tr>\n",
       "    <tr>\n",
       "      <td>domingo</td>\n",
       "      <td>1679466</td>\n",
       "    </tr>\n",
       "  </tbody>\n",
       "</table>\n",
       "</div>"
      ],
      "text/plain": [
       "              TOTAL\n",
       "dia_semana         \n",
       "miercoles   9261202\n",
       "martes      8239672\n",
       "jueves      8158303\n",
       "viernes     7987977\n",
       "lunes       7299023\n",
       "sabado      3200674\n",
       "domingo     1679466"
      ]
     },
     "execution_count": 72,
     "metadata": {},
     "output_type": "execute_result"
    }
   ],
   "source": [
    "#podemos ordenar los datos\n",
    "trx_por_dia.sort_values(by='TOTAL',ascending = False)"
   ]
  },
  {
   "cell_type": "code",
   "execution_count": 77,
   "metadata": {},
   "outputs": [
    {
     "data": {
      "text/html": [
       "<div>\n",
       "<style scoped>\n",
       "    .dataframe tbody tr th:only-of-type {\n",
       "        vertical-align: middle;\n",
       "    }\n",
       "\n",
       "    .dataframe tbody tr th {\n",
       "        vertical-align: top;\n",
       "    }\n",
       "\n",
       "    .dataframe thead th {\n",
       "        text-align: right;\n",
       "    }\n",
       "</style>\n",
       "<table border=\"1\" class=\"dataframe\">\n",
       "  <thead>\n",
       "    <tr style=\"text-align: right;\">\n",
       "      <th></th>\n",
       "      <th></th>\n",
       "      <th>TOTAL</th>\n",
       "    </tr>\n",
       "    <tr>\n",
       "      <th>LINEA</th>\n",
       "      <th>dia_semana</th>\n",
       "      <th></th>\n",
       "    </tr>\n",
       "  </thead>\n",
       "  <tbody>\n",
       "    <tr>\n",
       "      <td rowspan=\"7\" valign=\"top\">LINEA_H</td>\n",
       "      <td>miercoles</td>\n",
       "      <td>804054</td>\n",
       "    </tr>\n",
       "    <tr>\n",
       "      <td>martes</td>\n",
       "      <td>714534</td>\n",
       "    </tr>\n",
       "    <tr>\n",
       "      <td>jueves</td>\n",
       "      <td>706385</td>\n",
       "    </tr>\n",
       "    <tr>\n",
       "      <td>viernes</td>\n",
       "      <td>693950</td>\n",
       "    </tr>\n",
       "    <tr>\n",
       "      <td>lunes</td>\n",
       "      <td>627894</td>\n",
       "    </tr>\n",
       "    <tr>\n",
       "      <td>sabado</td>\n",
       "      <td>338475</td>\n",
       "    </tr>\n",
       "    <tr>\n",
       "      <td>domingo</td>\n",
       "      <td>172879</td>\n",
       "    </tr>\n",
       "    <tr>\n",
       "      <td rowspan=\"7\" valign=\"top\">LINEA_E</td>\n",
       "      <td>miercoles</td>\n",
       "      <td>580512</td>\n",
       "    </tr>\n",
       "    <tr>\n",
       "      <td>martes</td>\n",
       "      <td>510419</td>\n",
       "    </tr>\n",
       "    <tr>\n",
       "      <td>jueves</td>\n",
       "      <td>503195</td>\n",
       "    </tr>\n",
       "    <tr>\n",
       "      <td>viernes</td>\n",
       "      <td>485898</td>\n",
       "    </tr>\n",
       "    <tr>\n",
       "      <td>lunes</td>\n",
       "      <td>449614</td>\n",
       "    </tr>\n",
       "    <tr>\n",
       "      <td>sabado</td>\n",
       "      <td>186207</td>\n",
       "    </tr>\n",
       "    <tr>\n",
       "      <td>domingo</td>\n",
       "      <td>109647</td>\n",
       "    </tr>\n",
       "    <tr>\n",
       "      <td rowspan=\"7\" valign=\"top\">LINEA_D</td>\n",
       "      <td>miercoles</td>\n",
       "      <td>2096740</td>\n",
       "    </tr>\n",
       "    <tr>\n",
       "      <td>martes</td>\n",
       "      <td>1861194</td>\n",
       "    </tr>\n",
       "    <tr>\n",
       "      <td>jueves</td>\n",
       "      <td>1822829</td>\n",
       "    </tr>\n",
       "    <tr>\n",
       "      <td>viernes</td>\n",
       "      <td>1774740</td>\n",
       "    </tr>\n",
       "    <tr>\n",
       "      <td>lunes</td>\n",
       "      <td>1638640</td>\n",
       "    </tr>\n",
       "    <tr>\n",
       "      <td>sabado</td>\n",
       "      <td>664830</td>\n",
       "    </tr>\n",
       "    <tr>\n",
       "      <td>domingo</td>\n",
       "      <td>369840</td>\n",
       "    </tr>\n",
       "    <tr>\n",
       "      <td rowspan=\"7\" valign=\"top\">LINEA_C</td>\n",
       "      <td>miercoles</td>\n",
       "      <td>1529097</td>\n",
       "    </tr>\n",
       "    <tr>\n",
       "      <td>martes</td>\n",
       "      <td>1370311</td>\n",
       "    </tr>\n",
       "    <tr>\n",
       "      <td>jueves</td>\n",
       "      <td>1344264</td>\n",
       "    </tr>\n",
       "    <tr>\n",
       "      <td>viernes</td>\n",
       "      <td>1331453</td>\n",
       "    </tr>\n",
       "    <tr>\n",
       "      <td>lunes</td>\n",
       "      <td>1233868</td>\n",
       "    </tr>\n",
       "    <tr>\n",
       "      <td>sabado</td>\n",
       "      <td>558893</td>\n",
       "    </tr>\n",
       "    <tr>\n",
       "      <td>domingo</td>\n",
       "      <td>301691</td>\n",
       "    </tr>\n",
       "    <tr>\n",
       "      <td rowspan=\"7\" valign=\"top\">LINEA_B</td>\n",
       "      <td>miercoles</td>\n",
       "      <td>2491461</td>\n",
       "    </tr>\n",
       "    <tr>\n",
       "      <td>jueves</td>\n",
       "      <td>2213694</td>\n",
       "    </tr>\n",
       "    <tr>\n",
       "      <td>martes</td>\n",
       "      <td>2197628</td>\n",
       "    </tr>\n",
       "    <tr>\n",
       "      <td>viernes</td>\n",
       "      <td>2186297</td>\n",
       "    </tr>\n",
       "    <tr>\n",
       "      <td>lunes</td>\n",
       "      <td>1966733</td>\n",
       "    </tr>\n",
       "    <tr>\n",
       "      <td>sabado</td>\n",
       "      <td>872444</td>\n",
       "    </tr>\n",
       "    <tr>\n",
       "      <td>domingo</td>\n",
       "      <td>443915</td>\n",
       "    </tr>\n",
       "    <tr>\n",
       "      <td rowspan=\"7\" valign=\"top\">LINEA_A</td>\n",
       "      <td>miercoles</td>\n",
       "      <td>1759338</td>\n",
       "    </tr>\n",
       "    <tr>\n",
       "      <td>martes</td>\n",
       "      <td>1585586</td>\n",
       "    </tr>\n",
       "    <tr>\n",
       "      <td>jueves</td>\n",
       "      <td>1567936</td>\n",
       "    </tr>\n",
       "    <tr>\n",
       "      <td>viernes</td>\n",
       "      <td>1515639</td>\n",
       "    </tr>\n",
       "    <tr>\n",
       "      <td>lunes</td>\n",
       "      <td>1382274</td>\n",
       "    </tr>\n",
       "    <tr>\n",
       "      <td>sabado</td>\n",
       "      <td>579825</td>\n",
       "    </tr>\n",
       "    <tr>\n",
       "      <td>domingo</td>\n",
       "      <td>281494</td>\n",
       "    </tr>\n",
       "  </tbody>\n",
       "</table>\n",
       "</div>"
      ],
      "text/plain": [
       "                      TOTAL\n",
       "LINEA   dia_semana         \n",
       "LINEA_H miercoles    804054\n",
       "        martes       714534\n",
       "        jueves       706385\n",
       "        viernes      693950\n",
       "        lunes        627894\n",
       "        sabado       338475\n",
       "        domingo      172879\n",
       "LINEA_E miercoles    580512\n",
       "        martes       510419\n",
       "        jueves       503195\n",
       "        viernes      485898\n",
       "        lunes        449614\n",
       "        sabado       186207\n",
       "        domingo      109647\n",
       "LINEA_D miercoles   2096740\n",
       "        martes      1861194\n",
       "        jueves      1822829\n",
       "        viernes     1774740\n",
       "        lunes       1638640\n",
       "        sabado       664830\n",
       "        domingo      369840\n",
       "LINEA_C miercoles   1529097\n",
       "        martes      1370311\n",
       "        jueves      1344264\n",
       "        viernes     1331453\n",
       "        lunes       1233868\n",
       "        sabado       558893\n",
       "        domingo      301691\n",
       "LINEA_B miercoles   2491461\n",
       "        jueves      2213694\n",
       "        martes      2197628\n",
       "        viernes     2186297\n",
       "        lunes       1966733\n",
       "        sabado       872444\n",
       "        domingo      443915\n",
       "LINEA_A miercoles   1759338\n",
       "        martes      1585586\n",
       "        jueves      1567936\n",
       "        viernes     1515639\n",
       "        lunes       1382274\n",
       "        sabado       579825\n",
       "        domingo      281494"
      ]
     },
     "execution_count": 77,
     "metadata": {},
     "output_type": "execute_result"
    }
   ],
   "source": [
    "#podemos agrupar por dos categorias\n",
    "trx_por_dia_linea = db.loc[:,['LINEA','dia_semana','TOTAL']].groupby(['LINEA','dia_semana']).sum()\n",
    "trx_por_dia_linea.sort_values(by=['LINEA','TOTAL'],ascending=False)"
   ]
  },
  {
   "cell_type": "code",
   "execution_count": 78,
   "metadata": {},
   "outputs": [
    {
     "data": {
      "text/html": [
       "<div>\n",
       "<style scoped>\n",
       "    .dataframe tbody tr th:only-of-type {\n",
       "        vertical-align: middle;\n",
       "    }\n",
       "\n",
       "    .dataframe tbody tr th {\n",
       "        vertical-align: top;\n",
       "    }\n",
       "\n",
       "    .dataframe thead th {\n",
       "        text-align: right;\n",
       "    }\n",
       "</style>\n",
       "<table border=\"1\" class=\"dataframe\">\n",
       "  <thead>\n",
       "    <tr style=\"text-align: right;\">\n",
       "      <th></th>\n",
       "      <th></th>\n",
       "      <th>TOTAL</th>\n",
       "    </tr>\n",
       "    <tr>\n",
       "      <th>LINEA</th>\n",
       "      <th>ESTACION</th>\n",
       "      <th></th>\n",
       "    </tr>\n",
       "  </thead>\n",
       "  <tbody>\n",
       "    <tr>\n",
       "      <td rowspan=\"2\" valign=\"top\">LINEA_C</td>\n",
       "      <td>CONSTITUCION</td>\n",
       "      <td>3579094</td>\n",
       "    </tr>\n",
       "    <tr>\n",
       "      <td>RETIRO</td>\n",
       "      <td>1840136</td>\n",
       "    </tr>\n",
       "    <tr>\n",
       "      <td>LINEA_B</td>\n",
       "      <td>FEDERICO LACROZE</td>\n",
       "      <td>1371481</td>\n",
       "    </tr>\n",
       "    <tr>\n",
       "      <td rowspan=\"2\" valign=\"top\">LINEA_D</td>\n",
       "      <td>CATEDRAL</td>\n",
       "      <td>1333319</td>\n",
       "    </tr>\n",
       "    <tr>\n",
       "      <td>CONGRESO DE TUCUMAN</td>\n",
       "      <td>1298988</td>\n",
       "    </tr>\n",
       "    <tr>\n",
       "      <td>LINEA_A</td>\n",
       "      <td>SAN PEDRITO</td>\n",
       "      <td>1144383</td>\n",
       "    </tr>\n",
       "    <tr>\n",
       "      <td rowspan=\"4\" valign=\"top\">LINEA_B</td>\n",
       "      <td>ROSAS</td>\n",
       "      <td>1136160</td>\n",
       "    </tr>\n",
       "    <tr>\n",
       "      <td>LEANDRO N. ALEM</td>\n",
       "      <td>1105401</td>\n",
       "    </tr>\n",
       "    <tr>\n",
       "      <td>FLORIDA</td>\n",
       "      <td>945432</td>\n",
       "    </tr>\n",
       "    <tr>\n",
       "      <td>CARLOS PELLEGRINI</td>\n",
       "      <td>938292</td>\n",
       "    </tr>\n",
       "  </tbody>\n",
       "</table>\n",
       "</div>"
      ],
      "text/plain": [
       "                               TOTAL\n",
       "LINEA   ESTACION                    \n",
       "LINEA_C CONSTITUCION         3579094\n",
       "        RETIRO               1840136\n",
       "LINEA_B FEDERICO LACROZE     1371481\n",
       "LINEA_D CATEDRAL             1333319\n",
       "        CONGRESO DE TUCUMAN  1298988\n",
       "LINEA_A SAN PEDRITO          1144383\n",
       "LINEA_B ROSAS                1136160\n",
       "        LEANDRO N. ALEM      1105401\n",
       "        FLORIDA               945432\n",
       "        CARLOS PELLEGRINI     938292"
      ]
     },
     "execution_count": 78,
     "metadata": {},
     "output_type": "execute_result"
    }
   ],
   "source": [
    "#o 3\n",
    "trx_por_linea_estacion = db.loc[:,['LINEA','ESTACION','TOTAL']].groupby(['LINEA','ESTACION']).sum()\n",
    "trx_por_linea_estacion.sort_values(by='TOTAL',ascending=False).head(10)"
   ]
  },
  {
   "cell_type": "markdown",
   "metadata": {},
   "source": [
    "Supongamos que queremos ver solamente las estaciones de la linea B para ver cuales son las que tienen la mayor cantidad de pasajeros. Vamos a encontrarnos con una dificultad.  "
   ]
  },
  {
   "cell_type": "code",
   "execution_count": 79,
   "metadata": {},
   "outputs": [
    {
     "data": {
      "text/plain": [
       "Index(['TOTAL'], dtype='object')"
      ]
     },
     "execution_count": 79,
     "metadata": {},
     "output_type": "execute_result"
    }
   ],
   "source": [
    "#si observamos las columnas vemos que no es ningun problema\n",
    "trx_por_linea_estacion.columns"
   ]
  },
  {
   "cell_type": "code",
   "execution_count": 80,
   "metadata": {},
   "outputs": [
    {
     "data": {
      "text/plain": [
       "MultiIndex([('LINEA_A',               'ACOYTE'),\n",
       "            ('LINEA_A',              'ALBERTI'),\n",
       "            ('LINEA_A',             'CARABOBO'),\n",
       "            ('LINEA_A',        'CASTRO BARROS'),\n",
       "            ('LINEA_A',             'CONGRESO'),\n",
       "            ('LINEA_A',               'FLORES'),\n",
       "            ('LINEA_A',                 'LIMA'),\n",
       "            ('LINEA_A',                'LORIA'),\n",
       "            ('LINEA_A',                'PASCO'),\n",
       "            ('LINEA_A',                 'PERU'),\n",
       "            ('LINEA_A',              'PIEDRAS'),\n",
       "            ('LINEA_A',        'PLAZA DE MAYO'),\n",
       "            ('LINEA_A',       'PLAZA MISERERE'),\n",
       "            ('LINEA_A',        'PRIMERA JUNTA'),\n",
       "            ('LINEA_A',                 'PUAN'),\n",
       "            ('LINEA_A',       'RIO DE JANEIRO'),\n",
       "            ('LINEA_A',           'SAENZ PEÑA'),\n",
       "            ('LINEA_A',          'SAN PEDRITO'),\n",
       "            ('LINEA_B',       'ANGEL GALLARDO'),\n",
       "            ('LINEA_B',             'CALLAO.B'),\n",
       "            ('LINEA_B',        'CARLOS GARDEL'),\n",
       "            ('LINEA_B',    'CARLOS PELLEGRINI'),\n",
       "            ('LINEA_B',              'DORREGO'),\n",
       "            ('LINEA_B',           'ECHEVERRIA'),\n",
       "            ('LINEA_B',     'FEDERICO LACROZE'),\n",
       "            ('LINEA_B',              'FLORIDA'),\n",
       "            ('LINEA_B',      'LEANDRO N. ALEM'),\n",
       "            ('LINEA_B',            'LOS INCAS'),\n",
       "            ('LINEA_B',              'MALABIA'),\n",
       "            ('LINEA_B',              'MEDRANO'),\n",
       "            ('LINEA_B',              'PASTEUR'),\n",
       "            ('LINEA_B',           'PUEYRREDON'),\n",
       "            ('LINEA_B',                'ROSAS'),\n",
       "            ('LINEA_B',             'TRONADOR'),\n",
       "            ('LINEA_B',              'URUGUAY'),\n",
       "            ('LINEA_C',      'AVENIDA DE MAYO'),\n",
       "            ('LINEA_C',         'CONSTITUCION'),\n",
       "            ('LINEA_C',       'DIAGONAL NORTE'),\n",
       "            ('LINEA_C',   'GENERAL SAN MARTIN'),\n",
       "            ('LINEA_C',        'INDEPENDENCIA'),\n",
       "            ('LINEA_C',              'LAVALLE'),\n",
       "            ('LINEA_C',       'MARIANO MORENO'),\n",
       "            ('LINEA_C',               'RETIRO'),\n",
       "            ('LINEA_C',             'SAN JUAN'),\n",
       "            ('LINEA_D',           '9 DE JULIO'),\n",
       "            ('LINEA_D',               'AGUERO'),\n",
       "            ('LINEA_D',               'BULNES'),\n",
       "            ('LINEA_D',               'CALLAO'),\n",
       "            ('LINEA_D',             'CATEDRAL'),\n",
       "            ('LINEA_D',  'CONGRESO DE TUCUMAN'),\n",
       "            ('LINEA_D', 'FACULTAD DE MEDICINA'),\n",
       "            ('LINEA_D',       'JOSE HERNANDEZ'),\n",
       "            ('LINEA_D',            'JURAMENTO'),\n",
       "            ('LINEA_D',    'MINISTRO CARRANZA'),\n",
       "            ('LINEA_D',              'OLLEROS'),\n",
       "            ('LINEA_D',              'PALERMO'),\n",
       "            ('LINEA_D',         'PLAZA ITALIA'),\n",
       "            ('LINEA_D',         'PUEYRREDON.D'),\n",
       "            ('LINEA_D',     'SCALABRINI ORTIZ'),\n",
       "            ('LINEA_D',           'TRIBUNALES'),\n",
       "            ('LINEA_E',     'AVENIDA LA PLATA'),\n",
       "            ('LINEA_E',                'BOEDO'),\n",
       "            ('LINEA_E',              'BOLIVAR'),\n",
       "            ('LINEA_E',         'EMILIO MITRE'),\n",
       "            ('LINEA_E',           'ENTRE RIOS'),\n",
       "            ('LINEA_E',     'GENERAL BELGRANO'),\n",
       "            ('LINEA_E',      'INDEPENDENCIA.H'),\n",
       "            ('LINEA_E',    'JOSE MARIA MORENO'),\n",
       "            ('LINEA_E',                'JUJUY'),\n",
       "            ('LINEA_E',    'MEDALLA MILAGROSA'),\n",
       "            ('LINEA_E',            'PICHINCHA'),\n",
       "            ('LINEA_E', 'PZA. DE LOS VIRREYES'),\n",
       "            ('LINEA_E',             'SAN JOSE'),\n",
       "            ('LINEA_E',              'URQUIZA'),\n",
       "            ('LINEA_E',               'VARELA'),\n",
       "            ('LINEA_H',              'CASEROS'),\n",
       "            ('LINEA_H',              'CORDOBA'),\n",
       "            ('LINEA_H',           'CORRIENTES'),\n",
       "            ('LINEA_H',           'HOSPITALES'),\n",
       "            ('LINEA_H',           'HUMBERTO I'),\n",
       "            ('LINEA_H',               'INCLAN'),\n",
       "            ('LINEA_H',            'LAS HERAS'),\n",
       "            ('LINEA_H',                 'ONCE'),\n",
       "            ('LINEA_H',            'PATRICIOS'),\n",
       "            ('LINEA_H',             'SANTA FE'),\n",
       "            ('LINEA_H',            'VENEZUELA')],\n",
       "           names=['LINEA', 'ESTACION'])"
      ]
     },
     "execution_count": 80,
     "metadata": {},
     "output_type": "execute_result"
    }
   ],
   "source": [
    "#pero cuando vemos el indice vemos que es diferente, es de tipo MultiIndex\n",
    "trx_por_linea_estacion.index"
   ]
  },
  {
   "cell_type": "markdown",
   "metadata": {},
   "source": [
    "Todas las operaciones de tipo *groupby* devuelven tablas con indices multi-nivel. Si bien introduce una complejidad que enriquece para ciertas operaciones, en lo cotidiano puede resultar algo molesto. Para eso existe un modo sencillo de resolver el problema.  "
   ]
  },
  {
   "cell_type": "code",
   "execution_count": 81,
   "metadata": {},
   "outputs": [
    {
     "data": {
      "text/html": [
       "<div>\n",
       "<style scoped>\n",
       "    .dataframe tbody tr th:only-of-type {\n",
       "        vertical-align: middle;\n",
       "    }\n",
       "\n",
       "    .dataframe tbody tr th {\n",
       "        vertical-align: top;\n",
       "    }\n",
       "\n",
       "    .dataframe thead th {\n",
       "        text-align: right;\n",
       "    }\n",
       "</style>\n",
       "<table border=\"1\" class=\"dataframe\">\n",
       "  <thead>\n",
       "    <tr style=\"text-align: right;\">\n",
       "      <th></th>\n",
       "      <th>LINEA</th>\n",
       "      <th>ESTACION</th>\n",
       "      <th>TOTAL</th>\n",
       "    </tr>\n",
       "  </thead>\n",
       "  <tbody>\n",
       "    <tr>\n",
       "      <td>0</td>\n",
       "      <td>LINEA_A</td>\n",
       "      <td>ACOYTE</td>\n",
       "      <td>589391</td>\n",
       "    </tr>\n",
       "    <tr>\n",
       "      <td>1</td>\n",
       "      <td>LINEA_A</td>\n",
       "      <td>ALBERTI</td>\n",
       "      <td>199236</td>\n",
       "    </tr>\n",
       "    <tr>\n",
       "      <td>2</td>\n",
       "      <td>LINEA_A</td>\n",
       "      <td>CARABOBO</td>\n",
       "      <td>486652</td>\n",
       "    </tr>\n",
       "    <tr>\n",
       "      <td>3</td>\n",
       "      <td>LINEA_A</td>\n",
       "      <td>CASTRO BARROS</td>\n",
       "      <td>380766</td>\n",
       "    </tr>\n",
       "    <tr>\n",
       "      <td>4</td>\n",
       "      <td>LINEA_A</td>\n",
       "      <td>CONGRESO</td>\n",
       "      <td>544381</td>\n",
       "    </tr>\n",
       "  </tbody>\n",
       "</table>\n",
       "</div>"
      ],
      "text/plain": [
       "     LINEA       ESTACION   TOTAL\n",
       "0  LINEA_A         ACOYTE  589391\n",
       "1  LINEA_A        ALBERTI  199236\n",
       "2  LINEA_A       CARABOBO  486652\n",
       "3  LINEA_A  CASTRO BARROS  380766\n",
       "4  LINEA_A       CONGRESO  544381"
      ]
     },
     "execution_count": 81,
     "metadata": {},
     "output_type": "execute_result"
    }
   ],
   "source": [
    "tabla_simple = trx_por_linea_estacion.reset_index()\n",
    "tabla_simple.head()"
   ]
  },
  {
   "cell_type": "code",
   "execution_count": 85,
   "metadata": {},
   "outputs": [
    {
     "data": {
      "text/html": [
       "<div>\n",
       "<style scoped>\n",
       "    .dataframe tbody tr th:only-of-type {\n",
       "        vertical-align: middle;\n",
       "    }\n",
       "\n",
       "    .dataframe tbody tr th {\n",
       "        vertical-align: top;\n",
       "    }\n",
       "\n",
       "    .dataframe thead th {\n",
       "        text-align: right;\n",
       "    }\n",
       "</style>\n",
       "<table border=\"1\" class=\"dataframe\">\n",
       "  <thead>\n",
       "    <tr style=\"text-align: right;\">\n",
       "      <th></th>\n",
       "      <th>LINEA</th>\n",
       "      <th>ESTACION</th>\n",
       "      <th>TOTAL</th>\n",
       "    </tr>\n",
       "  </thead>\n",
       "  <tbody>\n",
       "    <tr>\n",
       "      <td>0</td>\n",
       "      <td>LINEA_A</td>\n",
       "      <td>ACOYTE</td>\n",
       "      <td>589391</td>\n",
       "    </tr>\n",
       "    <tr>\n",
       "      <td>1</td>\n",
       "      <td>LINEA_A</td>\n",
       "      <td>ALBERTI</td>\n",
       "      <td>199236</td>\n",
       "    </tr>\n",
       "    <tr>\n",
       "      <td>2</td>\n",
       "      <td>LINEA_A</td>\n",
       "      <td>CARABOBO</td>\n",
       "      <td>486652</td>\n",
       "    </tr>\n",
       "    <tr>\n",
       "      <td>3</td>\n",
       "      <td>LINEA_A</td>\n",
       "      <td>CASTRO BARROS</td>\n",
       "      <td>380766</td>\n",
       "    </tr>\n",
       "    <tr>\n",
       "      <td>4</td>\n",
       "      <td>LINEA_A</td>\n",
       "      <td>CONGRESO</td>\n",
       "      <td>544381</td>\n",
       "    </tr>\n",
       "    <tr>\n",
       "      <td>5</td>\n",
       "      <td>LINEA_A</td>\n",
       "      <td>FLORES</td>\n",
       "      <td>509561</td>\n",
       "    </tr>\n",
       "    <tr>\n",
       "      <td>6</td>\n",
       "      <td>LINEA_A</td>\n",
       "      <td>LIMA</td>\n",
       "      <td>333810</td>\n",
       "    </tr>\n",
       "    <tr>\n",
       "      <td>7</td>\n",
       "      <td>LINEA_A</td>\n",
       "      <td>LORIA</td>\n",
       "      <td>320843</td>\n",
       "    </tr>\n",
       "    <tr>\n",
       "      <td>8</td>\n",
       "      <td>LINEA_A</td>\n",
       "      <td>PASCO</td>\n",
       "      <td>167009</td>\n",
       "    </tr>\n",
       "    <tr>\n",
       "      <td>9</td>\n",
       "      <td>LINEA_A</td>\n",
       "      <td>PERU</td>\n",
       "      <td>614791</td>\n",
       "    </tr>\n",
       "    <tr>\n",
       "      <td>10</td>\n",
       "      <td>LINEA_A</td>\n",
       "      <td>PIEDRAS</td>\n",
       "      <td>312786</td>\n",
       "    </tr>\n",
       "    <tr>\n",
       "      <td>11</td>\n",
       "      <td>LINEA_A</td>\n",
       "      <td>PLAZA DE MAYO</td>\n",
       "      <td>815901</td>\n",
       "    </tr>\n",
       "    <tr>\n",
       "      <td>12</td>\n",
       "      <td>LINEA_A</td>\n",
       "      <td>PLAZA MISERERE</td>\n",
       "      <td>600975</td>\n",
       "    </tr>\n",
       "    <tr>\n",
       "      <td>13</td>\n",
       "      <td>LINEA_A</td>\n",
       "      <td>PRIMERA JUNTA</td>\n",
       "      <td>563682</td>\n",
       "    </tr>\n",
       "    <tr>\n",
       "      <td>14</td>\n",
       "      <td>LINEA_A</td>\n",
       "      <td>PUAN</td>\n",
       "      <td>258525</td>\n",
       "    </tr>\n",
       "    <tr>\n",
       "      <td>15</td>\n",
       "      <td>LINEA_A</td>\n",
       "      <td>RIO DE JANEIRO</td>\n",
       "      <td>427559</td>\n",
       "    </tr>\n",
       "    <tr>\n",
       "      <td>16</td>\n",
       "      <td>LINEA_A</td>\n",
       "      <td>SAENZ PEÑA</td>\n",
       "      <td>401841</td>\n",
       "    </tr>\n",
       "    <tr>\n",
       "      <td>17</td>\n",
       "      <td>LINEA_A</td>\n",
       "      <td>SAN PEDRITO</td>\n",
       "      <td>1144383</td>\n",
       "    </tr>\n",
       "  </tbody>\n",
       "</table>\n",
       "</div>"
      ],
      "text/plain": [
       "      LINEA        ESTACION    TOTAL\n",
       "0   LINEA_A          ACOYTE   589391\n",
       "1   LINEA_A         ALBERTI   199236\n",
       "2   LINEA_A        CARABOBO   486652\n",
       "3   LINEA_A   CASTRO BARROS   380766\n",
       "4   LINEA_A        CONGRESO   544381\n",
       "5   LINEA_A          FLORES   509561\n",
       "6   LINEA_A            LIMA   333810\n",
       "7   LINEA_A           LORIA   320843\n",
       "8   LINEA_A           PASCO   167009\n",
       "9   LINEA_A            PERU   614791\n",
       "10  LINEA_A         PIEDRAS   312786\n",
       "11  LINEA_A   PLAZA DE MAYO   815901\n",
       "12  LINEA_A  PLAZA MISERERE   600975\n",
       "13  LINEA_A   PRIMERA JUNTA   563682\n",
       "14  LINEA_A            PUAN   258525\n",
       "15  LINEA_A  RIO DE JANEIRO   427559\n",
       "16  LINEA_A      SAENZ PEÑA   401841\n",
       "17  LINEA_A     SAN PEDRITO  1144383"
      ]
     },
     "execution_count": 85,
     "metadata": {},
     "output_type": "execute_result"
    }
   ],
   "source": [
    "tabla_simple.loc[tabla_simple.LINEA=='LINEA_A',:]"
   ]
  },
  {
   "cell_type": "markdown",
   "metadata": {},
   "source": [
    "Ese comando resetea el index, alojando el index anterior como columnas. Lo que nos devuelve un dataframe \"tradicional\" manipulable de manera más intuitiva. Aunque eso es relativo, si les interesa profundizar, a continuación hay una pequeña disgresión donde profundiza aún más y se relativiza lo \"intuitivo\". "
   ]
  },
  {
   "cell_type": "code",
   "execution_count": 86,
   "metadata": {},
   "outputs": [
    {
     "data": {
      "text/plain": [
       "RangeIndex(start=0, stop=86, step=1)"
      ]
     },
     "execution_count": 86,
     "metadata": {},
     "output_type": "execute_result"
    }
   ],
   "source": [
    "tabla_simple.index"
   ]
  },
  {
   "cell_type": "code",
   "execution_count": 87,
   "metadata": {},
   "outputs": [
    {
     "data": {
      "text/html": [
       "<div>\n",
       "<style scoped>\n",
       "    .dataframe tbody tr th:only-of-type {\n",
       "        vertical-align: middle;\n",
       "    }\n",
       "\n",
       "    .dataframe tbody tr th {\n",
       "        vertical-align: top;\n",
       "    }\n",
       "\n",
       "    .dataframe thead th {\n",
       "        text-align: right;\n",
       "    }\n",
       "</style>\n",
       "<table border=\"1\" class=\"dataframe\">\n",
       "  <thead>\n",
       "    <tr style=\"text-align: right;\">\n",
       "      <th></th>\n",
       "      <th>LINEA</th>\n",
       "      <th>ESTACION</th>\n",
       "      <th>TOTAL</th>\n",
       "    </tr>\n",
       "  </thead>\n",
       "  <tbody>\n",
       "    <tr>\n",
       "      <td>24</td>\n",
       "      <td>LINEA_B</td>\n",
       "      <td>FEDERICO LACROZE</td>\n",
       "      <td>1371481</td>\n",
       "    </tr>\n",
       "    <tr>\n",
       "      <td>32</td>\n",
       "      <td>LINEA_B</td>\n",
       "      <td>ROSAS</td>\n",
       "      <td>1136160</td>\n",
       "    </tr>\n",
       "    <tr>\n",
       "      <td>26</td>\n",
       "      <td>LINEA_B</td>\n",
       "      <td>LEANDRO N. ALEM</td>\n",
       "      <td>1105401</td>\n",
       "    </tr>\n",
       "    <tr>\n",
       "      <td>25</td>\n",
       "      <td>LINEA_B</td>\n",
       "      <td>FLORIDA</td>\n",
       "      <td>945432</td>\n",
       "    </tr>\n",
       "    <tr>\n",
       "      <td>21</td>\n",
       "      <td>LINEA_B</td>\n",
       "      <td>CARLOS PELLEGRINI</td>\n",
       "      <td>938292</td>\n",
       "    </tr>\n",
       "  </tbody>\n",
       "</table>\n",
       "</div>"
      ],
      "text/plain": [
       "      LINEA           ESTACION    TOTAL\n",
       "24  LINEA_B   FEDERICO LACROZE  1371481\n",
       "32  LINEA_B              ROSAS  1136160\n",
       "26  LINEA_B    LEANDRO N. ALEM  1105401\n",
       "25  LINEA_B            FLORIDA   945432\n",
       "21  LINEA_B  CARLOS PELLEGRINI   938292"
      ]
     },
     "execution_count": 87,
     "metadata": {},
     "output_type": "execute_result"
    }
   ],
   "source": [
    "tabla_simple.loc[tabla_simple.LINEA == 'LINEA_B',:].sort_values(by='TOTAL',ascending=False).head()"
   ]
  },
  {
   "cell_type": "markdown",
   "metadata": {},
   "source": [
    "### Disgresión con más detalles sobre MultiIndex \n",
    "\n",
    "Los índices múltiples en realidad no son más tanto complejos, sólo que tienen un tratamiento algo diferente. Veamos como seleccionar datos en tablas con indices múltiples. En la tabla original, uno puede buscar primero por columna y luego por el indice de esa columna (recordemos que los **Dataframe** son **Series** ordenadas, esto sería buscar una **Serie** primero al nombrarla por el nombre de la columna y luego un indice dentro de la **Serie**) "
   ]
  },
  {
   "cell_type": "code",
   "execution_count": null,
   "metadata": {},
   "outputs": [],
   "source": [
    "#asi buscamos un valor puntal en los dataframes. Pero en un dataframe con un indice simple, \"dentro\" de esta muñeca rusa,\n",
    "# para una columna y una fila, hay una sola celda\n",
    "db['FECHA'][1025451]"
   ]
  },
  {
   "cell_type": "code",
   "execution_count": 88,
   "metadata": {},
   "outputs": [
    {
     "data": {
      "text/plain": [
       "ESTACION\n",
       "ANGEL GALLARDO        634704\n",
       "CALLAO.B              688736\n",
       "CARLOS GARDEL         750002\n",
       "CARLOS PELLEGRINI     938292\n",
       "DORREGO               508257\n",
       "ECHEVERRIA            292023\n",
       "FEDERICO LACROZE     1371481\n",
       "FLORIDA               945432\n",
       "LEANDRO N. ALEM      1105401\n",
       "LOS INCAS             453328\n",
       "MALABIA               837948\n",
       "MEDRANO               714772\n",
       "PASTEUR               534782\n",
       "PUEYRREDON            553037\n",
       "ROSAS                1136160\n",
       "TRONADOR              254179\n",
       "URUGUAY               653638\n",
       "Name: TOTAL, dtype: int64"
      ]
     },
     "execution_count": 88,
     "metadata": {},
     "output_type": "execute_result"
    }
   ],
   "source": [
    "# podemos hacerlo mismo primero por columna y luego por fila. Solo que al ser un indice doble para las filas, \n",
    "# dentro de esa fila no hay una celda, sino una Serie\n",
    "trx_por_linea_estacion['TOTAL']['LINEA_B']"
   ]
  },
  {
   "cell_type": "code",
   "execution_count": null,
   "metadata": {},
   "outputs": [],
   "source": [
    "#loc nos permitia hacer una operacion similar\n",
    "db.loc[1025451,'FECHA']"
   ]
  },
  {
   "cell_type": "code",
   "execution_count": null,
   "metadata": {},
   "outputs": [],
   "source": [
    "db.loc[[1025451,1025452],'FECHA']"
   ]
  },
  {
   "cell_type": "code",
   "execution_count": null,
   "metadata": {},
   "outputs": [],
   "source": [
    "#buscamos con loc para un indice multiple\n",
    "trx_por_linea_estacion.loc[['LINEA_B'],'TOTAL']"
   ]
  },
  {
   "cell_type": "code",
   "execution_count": null,
   "metadata": {},
   "outputs": [],
   "source": [
    "#buscamos mas de una linea\n",
    "trx_por_linea_estacion.loc[['LINEA_B','LINEA_C'],'TOTAL']"
   ]
  },
  {
   "cell_type": "code",
   "execution_count": 89,
   "metadata": {},
   "outputs": [
    {
     "data": {
      "text/plain": [
       "LINEA    ESTACION    \n",
       "LINEA_B  CALLAO.B         688736\n",
       "LINEA_C  CONSTITUCION    3579094\n",
       "Name: TOTAL, dtype: int64"
      ]
     },
     "execution_count": 89,
     "metadata": {},
     "output_type": "execute_result"
    }
   ],
   "source": [
    "#buscamos estaciones puntuales dentro de esas lineas\n",
    "trx_por_linea_estacion.loc[[('LINEA_B','CALLAO.B'),('LINEA_C','CONSTITUCION')],'TOTAL']"
   ]
  },
  {
   "cell_type": "markdown",
   "metadata": {},
   "source": [
    "Cuando usamos agg (corto para *aggregate*) nos queda una tabla con multiindice en las columnas. Los datos en estas tablas también pueden accederse con el mismo criterio."
   ]
  },
  {
   "cell_type": "code",
   "execution_count": null,
   "metadata": {},
   "outputs": [],
   "source": [
    "resumen = db.loc[:,['LINEA','TOTAL','PAX_PASES_PAGOS']].groupby(['LINEA']).describe()\n",
    "resumen"
   ]
  },
  {
   "cell_type": "code",
   "execution_count": null,
   "metadata": {},
   "outputs": [],
   "source": [
    "resumen.index"
   ]
  },
  {
   "cell_type": "code",
   "execution_count": null,
   "metadata": {},
   "outputs": [],
   "source": [
    "db.columns"
   ]
  },
  {
   "cell_type": "code",
   "execution_count": null,
   "metadata": {},
   "outputs": [],
   "source": [
    "resumen.loc['LINEA_A',['TOTAL','PAX_PASES_PAGOS']]"
   ]
  },
  {
   "cell_type": "code",
   "execution_count": null,
   "metadata": {},
   "outputs": [],
   "source": [
    "resumen.loc['LINEA_A',('TOTAL','count')]"
   ]
  },
  {
   "cell_type": "code",
   "execution_count": null,
   "metadata": {},
   "outputs": [],
   "source": [
    "resumen.loc[['LINEA_A','LINEA_B'],('TOTAL','count')]"
   ]
  },
  {
   "cell_type": "code",
   "execution_count": null,
   "metadata": {},
   "outputs": [],
   "source": [
    "resumen.loc[['LINEA_A','LINEA_B'],('TOTAL',['count','mean'])]"
   ]
  },
  {
   "cell_type": "code",
   "execution_count": null,
   "metadata": {},
   "outputs": [],
   "source": [
    "resumen.loc[['LINEA_A','LINEA_B'],[('TOTAL','count'),('TOTAL','mean')]]"
   ]
  },
  {
   "cell_type": "markdown",
   "metadata": {},
   "source": [
    "Sin embargo, la solución sencilla este caso que es resetar los indices, no arroja un resultado satisfactorio"
   ]
  },
  {
   "cell_type": "code",
   "execution_count": null,
   "metadata": {},
   "outputs": [],
   "source": [
    "resumen = db.loc[:,['LINEA','TOTAL']].groupby(['LINEA']).describe()\n"
   ]
  },
  {
   "cell_type": "code",
   "execution_count": null,
   "metadata": {},
   "outputs": [],
   "source": [
    "resumen.reset_index()"
   ]
  },
  {
   "cell_type": "code",
   "execution_count": null,
   "metadata": {},
   "outputs": [],
   "source": [
    "#vemos que tenemos un indice multiple a nivel de COLUMNAS \n",
    "resumen.reset_index().columns"
   ]
  },
  {
   "cell_type": "code",
   "execution_count": null,
   "metadata": {},
   "outputs": [],
   "source": [
    "#en este caso, cuando el indice multiple esta en las columnas, siempre podemos modificar eliminano un nivel\n",
    "resumen.columns = resumen.columns.droplevel(0)\n",
    "resumen"
   ]
  },
  {
   "cell_type": "code",
   "execution_count": null,
   "metadata": {},
   "outputs": [],
   "source": [
    "#si desean que la linea este en las columnas, pueden resetear el index de nuevo\n",
    "resumen_reset = resumen.reset_index()\n",
    "resumen_reset"
   ]
  },
  {
   "cell_type": "markdown",
   "metadata": {},
   "source": [
    "Pero en esto se puede ver la ventaja de usar indices que no sean simplemente números, si no que podemos indexar por algo significativo como la línea. De esta manera es más sencillo acceder a los datos"
   ]
  },
  {
   "cell_type": "code",
   "execution_count": null,
   "metadata": {},
   "outputs": [],
   "source": [
    "resumen.loc[['LINEA_A'],:]"
   ]
  },
  {
   "cell_type": "code",
   "execution_count": null,
   "metadata": {},
   "outputs": [],
   "source": [
    "#en lugar de:\n",
    "resumen_reset.loc[resumen_reset.LINEA == 'LINEA_A',:]"
   ]
  },
  {
   "cell_type": "markdown",
   "metadata": {},
   "source": [
    "Esta forma de indexar genera formas mas complejas y más potentes de acceder y organizar los datos. Como siempre, se trata de juzgar en qué medida esa complejidad es necesaria.\n",
    "\n",
    "### Fin de disgresión con más detalles sobre MultiIndex "
   ]
  },
  {
   "cell_type": "markdown",
   "metadata": {},
   "source": [
    "## 7 Formatos largos y anchos\n",
    "\n",
    "Volvamos a nuestra dataframe que venimos trabajando para ver una cuestion de estructura de los datos. Los llamados formatos *anchos* y *largos*"
   ]
  },
  {
   "cell_type": "code",
   "execution_count": 90,
   "metadata": {},
   "outputs": [
    {
     "data": {
      "text/html": [
       "<div>\n",
       "<style scoped>\n",
       "    .dataframe tbody tr th:only-of-type {\n",
       "        vertical-align: middle;\n",
       "    }\n",
       "\n",
       "    .dataframe tbody tr th {\n",
       "        vertical-align: top;\n",
       "    }\n",
       "\n",
       "    .dataframe thead th {\n",
       "        text-align: right;\n",
       "    }\n",
       "</style>\n",
       "<table border=\"1\" class=\"dataframe\">\n",
       "  <thead>\n",
       "    <tr style=\"text-align: right;\">\n",
       "      <th></th>\n",
       "      <th>FECHA</th>\n",
       "      <th>DESDE</th>\n",
       "      <th>HASTA</th>\n",
       "      <th>LINEA</th>\n",
       "      <th>ESTACION</th>\n",
       "      <th>PAX_PAGOS</th>\n",
       "      <th>PAX_PASES_PAGOS</th>\n",
       "      <th>PAX_FRANQ</th>\n",
       "      <th>TOTAL</th>\n",
       "      <th>ID</th>\n",
       "      <th>dia</th>\n",
       "      <th>dia_semana</th>\n",
       "    </tr>\n",
       "  </thead>\n",
       "  <tbody>\n",
       "    <tr>\n",
       "      <td>0</td>\n",
       "      <td>01/01/2018</td>\n",
       "      <td>08:00:00</td>\n",
       "      <td>08:15:00</td>\n",
       "      <td>LINEA_A</td>\n",
       "      <td>CASTRO BARROS</td>\n",
       "      <td>1</td>\n",
       "      <td>0</td>\n",
       "      <td>0</td>\n",
       "      <td>1</td>\n",
       "      <td>40</td>\n",
       "      <td>1</td>\n",
       "      <td>lunes</td>\n",
       "    </tr>\n",
       "    <tr>\n",
       "      <td>1</td>\n",
       "      <td>01/01/2018</td>\n",
       "      <td>08:00:00</td>\n",
       "      <td>08:15:00</td>\n",
       "      <td>LINEA_A</td>\n",
       "      <td>LIMA</td>\n",
       "      <td>4</td>\n",
       "      <td>0</td>\n",
       "      <td>0</td>\n",
       "      <td>4</td>\n",
       "      <td>33</td>\n",
       "      <td>1</td>\n",
       "      <td>lunes</td>\n",
       "    </tr>\n",
       "    <tr>\n",
       "      <td>2</td>\n",
       "      <td>01/01/2018</td>\n",
       "      <td>08:00:00</td>\n",
       "      <td>08:15:00</td>\n",
       "      <td>LINEA_A</td>\n",
       "      <td>PASCO</td>\n",
       "      <td>1</td>\n",
       "      <td>0</td>\n",
       "      <td>0</td>\n",
       "      <td>1</td>\n",
       "      <td>36</td>\n",
       "      <td>1</td>\n",
       "      <td>lunes</td>\n",
       "    </tr>\n",
       "    <tr>\n",
       "      <td>3</td>\n",
       "      <td>01/01/2018</td>\n",
       "      <td>08:00:00</td>\n",
       "      <td>08:15:00</td>\n",
       "      <td>LINEA_A</td>\n",
       "      <td>PERU</td>\n",
       "      <td>4</td>\n",
       "      <td>0</td>\n",
       "      <td>0</td>\n",
       "      <td>4</td>\n",
       "      <td>31</td>\n",
       "      <td>1</td>\n",
       "      <td>lunes</td>\n",
       "    </tr>\n",
       "    <tr>\n",
       "      <td>4</td>\n",
       "      <td>01/01/2018</td>\n",
       "      <td>08:00:00</td>\n",
       "      <td>08:15:00</td>\n",
       "      <td>LINEA_A</td>\n",
       "      <td>PRIMERA JUNTA</td>\n",
       "      <td>2</td>\n",
       "      <td>0</td>\n",
       "      <td>0</td>\n",
       "      <td>2</td>\n",
       "      <td>43</td>\n",
       "      <td>1</td>\n",
       "      <td>lunes</td>\n",
       "    </tr>\n",
       "  </tbody>\n",
       "</table>\n",
       "</div>"
      ],
      "text/plain": [
       "        FECHA     DESDE     HASTA    LINEA       ESTACION  PAX_PAGOS  \\\n",
       "0  01/01/2018  08:00:00  08:15:00  LINEA_A  CASTRO BARROS          1   \n",
       "1  01/01/2018  08:00:00  08:15:00  LINEA_A           LIMA          4   \n",
       "2  01/01/2018  08:00:00  08:15:00  LINEA_A          PASCO          1   \n",
       "3  01/01/2018  08:00:00  08:15:00  LINEA_A           PERU          4   \n",
       "4  01/01/2018  08:00:00  08:15:00  LINEA_A  PRIMERA JUNTA          2   \n",
       "\n",
       "   PAX_PASES_PAGOS  PAX_FRANQ  TOTAL  ID  dia dia_semana  \n",
       "0                0          0      1  40    1      lunes  \n",
       "1                0          0      4  33    1      lunes  \n",
       "2                0          0      1  36    1      lunes  \n",
       "3                0          0      4  31    1      lunes  \n",
       "4                0          0      2  43    1      lunes  "
      ]
     },
     "execution_count": 90,
     "metadata": {},
     "output_type": "execute_result"
    }
   ],
   "source": [
    "db.head()"
   ]
  },
  {
   "cell_type": "code",
   "execution_count": 91,
   "metadata": {},
   "outputs": [
    {
     "data": {
      "text/html": [
       "<div>\n",
       "<style scoped>\n",
       "    .dataframe tbody tr th:only-of-type {\n",
       "        vertical-align: middle;\n",
       "    }\n",
       "\n",
       "    .dataframe tbody tr th {\n",
       "        vertical-align: top;\n",
       "    }\n",
       "\n",
       "    .dataframe thead th {\n",
       "        text-align: right;\n",
       "    }\n",
       "</style>\n",
       "<table border=\"1\" class=\"dataframe\">\n",
       "  <thead>\n",
       "    <tr style=\"text-align: right;\">\n",
       "      <th></th>\n",
       "      <th>LINEA</th>\n",
       "      <th>ESTACION</th>\n",
       "      <th>PAX_PAGOS</th>\n",
       "      <th>PAX_PASES_PAGOS</th>\n",
       "      <th>PAX_FRANQ</th>\n",
       "    </tr>\n",
       "  </thead>\n",
       "  <tbody>\n",
       "    <tr>\n",
       "      <td>0</td>\n",
       "      <td>LINEA_A</td>\n",
       "      <td>ACOYTE</td>\n",
       "      <td>563107</td>\n",
       "      <td>346</td>\n",
       "      <td>25938</td>\n",
       "    </tr>\n",
       "    <tr>\n",
       "      <td>1</td>\n",
       "      <td>LINEA_A</td>\n",
       "      <td>ALBERTI</td>\n",
       "      <td>188828</td>\n",
       "      <td>150</td>\n",
       "      <td>10258</td>\n",
       "    </tr>\n",
       "    <tr>\n",
       "      <td>2</td>\n",
       "      <td>LINEA_A</td>\n",
       "      <td>CARABOBO</td>\n",
       "      <td>467108</td>\n",
       "      <td>396</td>\n",
       "      <td>19148</td>\n",
       "    </tr>\n",
       "    <tr>\n",
       "      <td>3</td>\n",
       "      <td>LINEA_A</td>\n",
       "      <td>CASTRO BARROS</td>\n",
       "      <td>365089</td>\n",
       "      <td>261</td>\n",
       "      <td>15416</td>\n",
       "    </tr>\n",
       "    <tr>\n",
       "      <td>4</td>\n",
       "      <td>LINEA_A</td>\n",
       "      <td>CONGRESO</td>\n",
       "      <td>524168</td>\n",
       "      <td>254</td>\n",
       "      <td>19959</td>\n",
       "    </tr>\n",
       "  </tbody>\n",
       "</table>\n",
       "</div>"
      ],
      "text/plain": [
       "     LINEA       ESTACION  PAX_PAGOS  PAX_PASES_PAGOS  PAX_FRANQ\n",
       "0  LINEA_A         ACOYTE     563107              346      25938\n",
       "1  LINEA_A        ALBERTI     188828              150      10258\n",
       "2  LINEA_A       CARABOBO     467108              396      19148\n",
       "3  LINEA_A  CASTRO BARROS     365089              261      15416\n",
       "4  LINEA_A       CONGRESO     524168              254      19959"
      ]
     },
     "execution_count": 91,
     "metadata": {},
     "output_type": "execute_result"
    }
   ],
   "source": [
    "#generamos primero un agregado por linea y estacion para obtener una suma por estacion para todo el mes\n",
    "subset = db.loc[:,['LINEA','ESTACION','PAX_PAGOS','PAX_PASES_PAGOS','PAX_FRANQ']]\n",
    "subset = subset.groupby(['LINEA','ESTACION']).sum().reset_index()\n",
    "subset.head()\n"
   ]
  },
  {
   "cell_type": "code",
   "execution_count": 92,
   "metadata": {},
   "outputs": [
    {
     "data": {
      "text/html": [
       "<div>\n",
       "<style scoped>\n",
       "    .dataframe tbody tr th:only-of-type {\n",
       "        vertical-align: middle;\n",
       "    }\n",
       "\n",
       "    .dataframe tbody tr th {\n",
       "        vertical-align: top;\n",
       "    }\n",
       "\n",
       "    .dataframe thead th {\n",
       "        text-align: right;\n",
       "    }\n",
       "</style>\n",
       "<table border=\"1\" class=\"dataframe\">\n",
       "  <thead>\n",
       "    <tr style=\"text-align: right;\">\n",
       "      <th></th>\n",
       "      <th>LINEA</th>\n",
       "      <th>ESTACION</th>\n",
       "      <th>tipo</th>\n",
       "      <th>PAX_</th>\n",
       "    </tr>\n",
       "  </thead>\n",
       "  <tbody>\n",
       "    <tr>\n",
       "      <td>0</td>\n",
       "      <td>LINEA_A</td>\n",
       "      <td>ACOYTE</td>\n",
       "      <td>PAGOS</td>\n",
       "      <td>563107</td>\n",
       "    </tr>\n",
       "    <tr>\n",
       "      <td>1</td>\n",
       "      <td>LINEA_A</td>\n",
       "      <td>ACOYTE</td>\n",
       "      <td>PASES_PAGOS</td>\n",
       "      <td>346</td>\n",
       "    </tr>\n",
       "    <tr>\n",
       "      <td>2</td>\n",
       "      <td>LINEA_A</td>\n",
       "      <td>ACOYTE</td>\n",
       "      <td>FRANQ</td>\n",
       "      <td>25938</td>\n",
       "    </tr>\n",
       "    <tr>\n",
       "      <td>3</td>\n",
       "      <td>LINEA_A</td>\n",
       "      <td>ALBERTI</td>\n",
       "      <td>PAGOS</td>\n",
       "      <td>188828</td>\n",
       "    </tr>\n",
       "    <tr>\n",
       "      <td>4</td>\n",
       "      <td>LINEA_A</td>\n",
       "      <td>ALBERTI</td>\n",
       "      <td>PASES_PAGOS</td>\n",
       "      <td>150</td>\n",
       "    </tr>\n",
       "  </tbody>\n",
       "</table>\n",
       "</div>"
      ],
      "text/plain": [
       "     LINEA ESTACION         tipo    PAX_\n",
       "0  LINEA_A   ACOYTE        PAGOS  563107\n",
       "1  LINEA_A   ACOYTE  PASES_PAGOS     346\n",
       "2  LINEA_A   ACOYTE        FRANQ   25938\n",
       "3  LINEA_A  ALBERTI        PAGOS  188828\n",
       "4  LINEA_A  ALBERTI  PASES_PAGOS     150"
      ]
     },
     "execution_count": 92,
     "metadata": {},
     "output_type": "execute_result"
    }
   ],
   "source": [
    "#podemos convertir este formato \"ancho\" en \"largo\"\n",
    "subset = pd.wide_to_long(df = subset,\n",
    "                         stubnames = 'PAX_',\n",
    "                         i=['LINEA','ESTACION'],\n",
    "                         j=\"tipo\",suffix='\\w+')\n",
    "subset = subset.reset_index()\n",
    "subset.head()"
   ]
  },
  {
   "cell_type": "code",
   "execution_count": null,
   "metadata": {},
   "outputs": [],
   "source": [
    "#podemos hacer lo contrario y pasar de largo a ancho\n",
    "subset.pivot_table(index=['LINEA','ESTACION'], columns='tipo', values='PAX_')"
   ]
  },
  {
   "cell_type": "markdown",
   "metadata": {},
   "source": [
    "## Procesamiento para la clase siguiente\n",
    "\n",
    "Nuestro objetivo es ver como se comporta el subte de acuerdo al dia y al tipo de hora. Tenemos que obtener entonces la hora del dia"
   ]
  },
  {
   "cell_type": "code",
   "execution_count": 93,
   "metadata": {},
   "outputs": [
    {
     "data": {
      "text/html": [
       "<div>\n",
       "<style scoped>\n",
       "    .dataframe tbody tr th:only-of-type {\n",
       "        vertical-align: middle;\n",
       "    }\n",
       "\n",
       "    .dataframe tbody tr th {\n",
       "        vertical-align: top;\n",
       "    }\n",
       "\n",
       "    .dataframe thead th {\n",
       "        text-align: right;\n",
       "    }\n",
       "</style>\n",
       "<table border=\"1\" class=\"dataframe\">\n",
       "  <thead>\n",
       "    <tr style=\"text-align: right;\">\n",
       "      <th></th>\n",
       "      <th>FECHA</th>\n",
       "      <th>DESDE</th>\n",
       "      <th>HASTA</th>\n",
       "      <th>LINEA</th>\n",
       "      <th>ESTACION</th>\n",
       "      <th>PAX_PAGOS</th>\n",
       "      <th>PAX_PASES_PAGOS</th>\n",
       "      <th>PAX_FRANQ</th>\n",
       "      <th>TOTAL</th>\n",
       "      <th>ID</th>\n",
       "      <th>dia</th>\n",
       "      <th>dia_semana</th>\n",
       "      <th>hora</th>\n",
       "    </tr>\n",
       "  </thead>\n",
       "  <tbody>\n",
       "    <tr>\n",
       "      <td>0</td>\n",
       "      <td>01/01/2018</td>\n",
       "      <td>08:00:00</td>\n",
       "      <td>08:15:00</td>\n",
       "      <td>LINEA_A</td>\n",
       "      <td>CASTRO BARROS</td>\n",
       "      <td>1</td>\n",
       "      <td>0</td>\n",
       "      <td>0</td>\n",
       "      <td>1</td>\n",
       "      <td>40</td>\n",
       "      <td>1</td>\n",
       "      <td>lunes</td>\n",
       "      <td>8</td>\n",
       "    </tr>\n",
       "    <tr>\n",
       "      <td>1</td>\n",
       "      <td>01/01/2018</td>\n",
       "      <td>08:00:00</td>\n",
       "      <td>08:15:00</td>\n",
       "      <td>LINEA_A</td>\n",
       "      <td>LIMA</td>\n",
       "      <td>4</td>\n",
       "      <td>0</td>\n",
       "      <td>0</td>\n",
       "      <td>4</td>\n",
       "      <td>33</td>\n",
       "      <td>1</td>\n",
       "      <td>lunes</td>\n",
       "      <td>8</td>\n",
       "    </tr>\n",
       "    <tr>\n",
       "      <td>2</td>\n",
       "      <td>01/01/2018</td>\n",
       "      <td>08:00:00</td>\n",
       "      <td>08:15:00</td>\n",
       "      <td>LINEA_A</td>\n",
       "      <td>PASCO</td>\n",
       "      <td>1</td>\n",
       "      <td>0</td>\n",
       "      <td>0</td>\n",
       "      <td>1</td>\n",
       "      <td>36</td>\n",
       "      <td>1</td>\n",
       "      <td>lunes</td>\n",
       "      <td>8</td>\n",
       "    </tr>\n",
       "    <tr>\n",
       "      <td>3</td>\n",
       "      <td>01/01/2018</td>\n",
       "      <td>08:00:00</td>\n",
       "      <td>08:15:00</td>\n",
       "      <td>LINEA_A</td>\n",
       "      <td>PERU</td>\n",
       "      <td>4</td>\n",
       "      <td>0</td>\n",
       "      <td>0</td>\n",
       "      <td>4</td>\n",
       "      <td>31</td>\n",
       "      <td>1</td>\n",
       "      <td>lunes</td>\n",
       "      <td>8</td>\n",
       "    </tr>\n",
       "    <tr>\n",
       "      <td>4</td>\n",
       "      <td>01/01/2018</td>\n",
       "      <td>08:00:00</td>\n",
       "      <td>08:15:00</td>\n",
       "      <td>LINEA_A</td>\n",
       "      <td>PRIMERA JUNTA</td>\n",
       "      <td>2</td>\n",
       "      <td>0</td>\n",
       "      <td>0</td>\n",
       "      <td>2</td>\n",
       "      <td>43</td>\n",
       "      <td>1</td>\n",
       "      <td>lunes</td>\n",
       "      <td>8</td>\n",
       "    </tr>\n",
       "  </tbody>\n",
       "</table>\n",
       "</div>"
      ],
      "text/plain": [
       "        FECHA     DESDE     HASTA    LINEA       ESTACION  PAX_PAGOS  \\\n",
       "0  01/01/2018  08:00:00  08:15:00  LINEA_A  CASTRO BARROS          1   \n",
       "1  01/01/2018  08:00:00  08:15:00  LINEA_A           LIMA          4   \n",
       "2  01/01/2018  08:00:00  08:15:00  LINEA_A          PASCO          1   \n",
       "3  01/01/2018  08:00:00  08:15:00  LINEA_A           PERU          4   \n",
       "4  01/01/2018  08:00:00  08:15:00  LINEA_A  PRIMERA JUNTA          2   \n",
       "\n",
       "   PAX_PASES_PAGOS  PAX_FRANQ  TOTAL  ID  dia dia_semana  hora  \n",
       "0                0          0      1  40    1      lunes     8  \n",
       "1                0          0      4  33    1      lunes     8  \n",
       "2                0          0      1  36    1      lunes     8  \n",
       "3                0          0      4  31    1      lunes     8  \n",
       "4                0          0      2  43    1      lunes     8  "
      ]
     },
     "execution_count": 93,
     "metadata": {},
     "output_type": "execute_result"
    }
   ],
   "source": [
    "#que estamos haciendo con esta operación??\n",
    "db['hora'] = db.DESDE.map(lambda x: int(x[:2])) \n",
    "db.head()"
   ]
  },
  {
   "cell_type": "markdown",
   "metadata": {},
   "source": [
    "### Otra, pero la ultima, disgresion\n",
    "\n",
    "Podríamos haber utilizado las funciones (o métodos) de los objetos del tipo datetime y así como extrajimos el tipo de día, extraer la hora. Pero repasemos lo que hicimos previamente. Primero utilizamos una funcion \n",
    "\n",
    "`\n",
    "def obtener_dia_semana(fecha):\n",
    "    return datetime.strptime(fecha,'%d/%m/%Y').weekday()\n",
    "`\n",
    "\n",
    "y la aplicamos con `map()` a la columna FECHA, que era un *string*.\n",
    "\n",
    "`db.loc[:,'dia_semana'] = db.FECHA.map(obtener_dia_semana)`\n",
    "\n",
    "La función que creamos, toma cada elemento de la fecha, cada string que hay en la **Serie** *FECHA*, lo transforma en tipo **datetime** y obtiene el día de la semana *DEJANDO COMO STRING LOS DATOS ORIGINALES*.\n",
    "\n",
    "Podríamos obtener la hora del siguiente modo:"
   ]
  },
  {
   "cell_type": "code",
   "execution_count": null,
   "metadata": {},
   "outputs": [],
   "source": [
    "datetime.strptime(db.FECHA.iloc[0],'%d/%m/%Y').hour"
   ]
  },
  {
   "cell_type": "markdown",
   "metadata": {},
   "source": [
    "Parecería que es la hora 0, pero si observamos bien, no es así:"
   ]
  },
  {
   "cell_type": "code",
   "execution_count": null,
   "metadata": {},
   "outputs": [],
   "source": [
    "db.iloc[100]"
   ]
  },
  {
   "cell_type": "markdown",
   "metadata": {},
   "source": [
    "En el campo fecha, no hay información sobre la hora. Esto se encuentra en los campos DESDE y HASTA"
   ]
  },
  {
   "cell_type": "code",
   "execution_count": null,
   "metadata": {},
   "outputs": [],
   "source": [
    "db.head()"
   ]
  },
  {
   "cell_type": "markdown",
   "metadata": {},
   "source": [
    "Pero aún si conteniese dicha información, nuestra función tomaba el texto, lo convertía en un objeto del tipo **datetime** y nos devolvía la hora como número entero. Podríamos tomar el campo DESDE y hacer el mismo proceso de convertisión. Sin embargo, estaríamos haciendo dos veces el mismo trabajo (tomar un **string**, convertirlo a **datetime** y luego extraer la hora y el día). \n",
    "\n",
    "Entonces podemos introducir dos consejos del pensamiento computacional:\n",
    "\n",
    "* Saber de antemano qué vamos a hacer, planificar claramente y luego ejecutar\n",
    "* Cuando un proceso se repite varias veces, es una señal de que algo mal estamos haciendo\n",
    "\n",
    "Si sabemos de antemano que queremos obtener el tipo de día y hora, podemos crear una columna que contenga toda la información que deseamos (fecha y hora), luego convertir esta nueva columna UNA SOLA VEZ en objeto **datetime** y ahi sí extraer la información que deseamos\n"
   ]
  },
  {
   "cell_type": "code",
   "execution_count": null,
   "metadata": {},
   "outputs": [],
   "source": [
    "db['fecha_hora'] = pd.to_datetime(db.FECHA + ' ' + db.DESDE,format = '%d/%m/%Y %H:%M:%S')\n",
    "db['hora_date'] = db.fecha_hora.map(lambda x: x.hour) \n",
    "db['dia_semana_date'] = db.fecha_hora.map(lambda x: x.weekday())"
   ]
  },
  {
   "cell_type": "code",
   "execution_count": null,
   "metadata": {},
   "outputs": [],
   "source": [
    "db.head()"
   ]
  },
  {
   "cell_type": "markdown",
   "metadata": {},
   "source": [
    "¿Por qué utilizamos `()` en `weekday()` mientras que no lo usamos en `hour`?\n",
    "\n",
    "Esta diferencia responde a temas más profundos de lenguajes de programación orientados a objetos (Python es uno de ellos). La diferencia fundamental es que uno puede decidir cambiarle la hora, el día, el mes a un objeto. Podemos obligar a los datos a cambiar y que sean otros (supongamos que algún molinete tiene un error que suma 1 hora, entonces podríamos cambiarle la hora a todos los molinetes de esa estación). Pero el 9 de Octubre de 2018 es martes, si o si (por lo menos en el mundo occidental donde rige el [calendario gregoriano](https://en.wikipedia.org/wiki/List_of_calendars)).\n",
    "\n",
    "Algo más en este [link](https://stackoverflow.com/questions/41617547/why-is-datetime-minute-an-attribute-while-datetime-weekday-is-a-function)"
   ]
  },
  {
   "cell_type": "markdown",
   "metadata": {},
   "source": [
    "Sin embargo, el método que utilizamos de recortar los primeros 2 caracteres, también nos da la información que necesitamos. Nunca hay una solución única para un problema. Si encuentran una función efectiva, que resuelve el problema, aún cuando tarde más tiempo, es la solución correcta. "
   ]
  },
  {
   "cell_type": "markdown",
   "metadata": {},
   "source": [
    "### Fin de la ultima disgresión (de la clase)\n"
   ]
  },
  {
   "cell_type": "markdown",
   "metadata": {
    "collapsed": true
   },
   "source": [
    "Para concluir, queremos agrupar tipo de día de la semana, hora y estacion (vamos a usar el campo ID, que veremos en la clase 3 el por qué de usar ID y no el nombre ESTACION). Pero más que si un día es lunes o sábado, queremos saber si es día de semana o día hábil ya que esperamos que el comportamiento sea diferente en ambos casos. Podríamos repetir un `replace()` donde reemplacemos *lunes* por *no*, *domingo* por *si* y así sucesivamente. O podemos usar una `list compehension` con clausulas `if - else` que ademas deje como resultado directamente True or False para luego usar como filtros"
   ]
  },
  {
   "cell_type": "code",
   "execution_count": 94,
   "metadata": {},
   "outputs": [],
   "source": [
    "db['fin_de_semana'] = [True if ((dia == 'domingo') | (dia == 'sabado')) else False for dia in db.dia_semana]"
   ]
  },
  {
   "cell_type": "code",
   "execution_count": 95,
   "metadata": {},
   "outputs": [
    {
     "data": {
      "text/plain": [
       "miercoles    323695\n",
       "martes       309729\n",
       "lunes        294745\n",
       "viernes      288548\n",
       "jueves       285973\n",
       "sabado       251181\n",
       "domingo      193770\n",
       "Name: dia_semana, dtype: int64"
      ]
     },
     "execution_count": 95,
     "metadata": {},
     "output_type": "execute_result"
    }
   ],
   "source": [
    "db.dia_semana.value_counts()"
   ]
  },
  {
   "cell_type": "code",
   "execution_count": 96,
   "metadata": {},
   "outputs": [
    {
     "data": {
      "text/plain": [
       "False    1502690\n",
       "True      444951\n",
       "Name: fin_de_semana, dtype: int64"
      ]
     },
     "execution_count": 96,
     "metadata": {},
     "output_type": "execute_result"
    }
   ],
   "source": [
    "#chequeamos que hayamos hecho bien el trabajo\n",
    "db.fin_de_semana.value_counts()"
   ]
  },
  {
   "cell_type": "code",
   "execution_count": 98,
   "metadata": {},
   "outputs": [
    {
     "data": {
      "text/plain": [
       "444951"
      ]
     },
     "execution_count": 98,
     "metadata": {},
     "output_type": "execute_result"
    }
   ],
   "source": [
    " 251181+193770"
   ]
  },
  {
   "cell_type": "code",
   "execution_count": 99,
   "metadata": {},
   "outputs": [
    {
     "data": {
      "text/plain": [
       "444951"
      ]
     },
     "execution_count": 99,
     "metadata": {},
     "output_type": "execute_result"
    }
   ],
   "source": [
    "db.fin_de_semana.sum()"
   ]
  },
  {
   "cell_type": "code",
   "execution_count": 100,
   "metadata": {},
   "outputs": [
    {
     "data": {
      "text/plain": [
       "miercoles    323695\n",
       "martes       309729\n",
       "lunes        294745\n",
       "viernes      288548\n",
       "jueves       285973\n",
       "Name: dia_semana, dtype: int64"
      ]
     },
     "execution_count": 100,
     "metadata": {},
     "output_type": "execute_result"
    }
   ],
   "source": [
    "db.loc[~db.fin_de_semana,'dia_semana'].value_counts()"
   ]
  },
  {
   "cell_type": "code",
   "execution_count": 101,
   "metadata": {},
   "outputs": [
    {
     "data": {
      "text/html": [
       "<div>\n",
       "<style scoped>\n",
       "    .dataframe tbody tr th:only-of-type {\n",
       "        vertical-align: middle;\n",
       "    }\n",
       "\n",
       "    .dataframe tbody tr th {\n",
       "        vertical-align: top;\n",
       "    }\n",
       "\n",
       "    .dataframe thead th {\n",
       "        text-align: right;\n",
       "    }\n",
       "</style>\n",
       "<table border=\"1\" class=\"dataframe\">\n",
       "  <thead>\n",
       "    <tr style=\"text-align: right;\">\n",
       "      <th></th>\n",
       "      <th>fin_de_semana</th>\n",
       "      <th>hora</th>\n",
       "      <th>LINEA</th>\n",
       "      <th>ID</th>\n",
       "      <th>promedio</th>\n",
       "    </tr>\n",
       "  </thead>\n",
       "  <tbody>\n",
       "    <tr>\n",
       "      <td>0</td>\n",
       "      <td>False</td>\n",
       "      <td>5</td>\n",
       "      <td>LINEA_A</td>\n",
       "      <td>31</td>\n",
       "      <td>1.807531</td>\n",
       "    </tr>\n",
       "    <tr>\n",
       "      <td>1</td>\n",
       "      <td>False</td>\n",
       "      <td>5</td>\n",
       "      <td>LINEA_A</td>\n",
       "      <td>32</td>\n",
       "      <td>1.729282</td>\n",
       "    </tr>\n",
       "    <tr>\n",
       "      <td>2</td>\n",
       "      <td>False</td>\n",
       "      <td>5</td>\n",
       "      <td>LINEA_A</td>\n",
       "      <td>33</td>\n",
       "      <td>2.037791</td>\n",
       "    </tr>\n",
       "    <tr>\n",
       "      <td>3</td>\n",
       "      <td>False</td>\n",
       "      <td>5</td>\n",
       "      <td>LINEA_A</td>\n",
       "      <td>34</td>\n",
       "      <td>1.874525</td>\n",
       "    </tr>\n",
       "    <tr>\n",
       "      <td>4</td>\n",
       "      <td>False</td>\n",
       "      <td>5</td>\n",
       "      <td>LINEA_A</td>\n",
       "      <td>35</td>\n",
       "      <td>2.972561</td>\n",
       "    </tr>\n",
       "  </tbody>\n",
       "</table>\n",
       "</div>"
      ],
      "text/plain": [
       "   fin_de_semana  hora    LINEA  ID  promedio\n",
       "0          False     5  LINEA_A  31  1.807531\n",
       "1          False     5  LINEA_A  32  1.729282\n",
       "2          False     5  LINEA_A  33  2.037791\n",
       "3          False     5  LINEA_A  34  1.874525\n",
       "4          False     5  LINEA_A  35  2.972561"
      ]
     },
     "execution_count": 101,
     "metadata": {},
     "output_type": "execute_result"
    }
   ],
   "source": [
    "#finalmente podemos procesar los datos\n",
    "dataInsumo = db.loc[:,['fin_de_semana','hora','LINEA','ID','TOTAL']].groupby(['fin_de_semana','hora','LINEA','ID',]).mean().reset_index()\n",
    "#cambiamos la ultima columnad de nombre a promedio, sumando la palabra promedio a los nombres hasta el ultimo exclusive  \n",
    "dataInsumo.columns = dataInsumo.columns[:-1].tolist() + ['promedio']\n",
    "dataInsumo.head()"
   ]
  },
  {
   "cell_type": "code",
   "execution_count": 102,
   "metadata": {},
   "outputs": [
    {
     "data": {
      "text/html": [
       "<div>\n",
       "<style scoped>\n",
       "    .dataframe tbody tr th:only-of-type {\n",
       "        vertical-align: middle;\n",
       "    }\n",
       "\n",
       "    .dataframe tbody tr th {\n",
       "        vertical-align: top;\n",
       "    }\n",
       "\n",
       "    .dataframe thead th {\n",
       "        text-align: right;\n",
       "    }\n",
       "</style>\n",
       "<table border=\"1\" class=\"dataframe\">\n",
       "  <thead>\n",
       "    <tr style=\"text-align: right;\">\n",
       "      <th></th>\n",
       "      <th>fin_de_semana</th>\n",
       "      <th>hora</th>\n",
       "      <th>LINEA</th>\n",
       "      <th>ID</th>\n",
       "      <th>promedio</th>\n",
       "      <th>q</th>\n",
       "    </tr>\n",
       "  </thead>\n",
       "  <tbody>\n",
       "    <tr>\n",
       "      <td>0</td>\n",
       "      <td>False</td>\n",
       "      <td>5</td>\n",
       "      <td>LINEA_A</td>\n",
       "      <td>31</td>\n",
       "      <td>1.807531</td>\n",
       "      <td>1</td>\n",
       "    </tr>\n",
       "    <tr>\n",
       "      <td>1</td>\n",
       "      <td>False</td>\n",
       "      <td>5</td>\n",
       "      <td>LINEA_A</td>\n",
       "      <td>32</td>\n",
       "      <td>1.729282</td>\n",
       "      <td>1</td>\n",
       "    </tr>\n",
       "    <tr>\n",
       "      <td>2</td>\n",
       "      <td>False</td>\n",
       "      <td>5</td>\n",
       "      <td>LINEA_A</td>\n",
       "      <td>33</td>\n",
       "      <td>2.037791</td>\n",
       "      <td>1</td>\n",
       "    </tr>\n",
       "    <tr>\n",
       "      <td>3</td>\n",
       "      <td>False</td>\n",
       "      <td>5</td>\n",
       "      <td>LINEA_A</td>\n",
       "      <td>34</td>\n",
       "      <td>1.874525</td>\n",
       "      <td>1</td>\n",
       "    </tr>\n",
       "    <tr>\n",
       "      <td>4</td>\n",
       "      <td>False</td>\n",
       "      <td>5</td>\n",
       "      <td>LINEA_A</td>\n",
       "      <td>35</td>\n",
       "      <td>2.972561</td>\n",
       "      <td>1</td>\n",
       "    </tr>\n",
       "  </tbody>\n",
       "</table>\n",
       "</div>"
      ],
      "text/plain": [
       "   fin_de_semana  hora    LINEA  ID  promedio  q\n",
       "0          False     5  LINEA_A  31  1.807531  1\n",
       "1          False     5  LINEA_A  32  1.729282  1\n",
       "2          False     5  LINEA_A  33  2.037791  1\n",
       "3          False     5  LINEA_A  34  1.874525  1\n",
       "4          False     5  LINEA_A  35  2.972561  1"
      ]
     },
     "execution_count": 102,
     "metadata": {},
     "output_type": "execute_result"
    }
   ],
   "source": [
    "#luego agregamos los quintiles, pero queremos que comiencen desde 1 no desde 0\n",
    "#(la convención en estadística es diferente a Python)\n",
    "dataInsumo['q'] = pd.qcut(dataInsumo.promedio,5,labels=False) + 1\n",
    "dataInsumo.head()"
   ]
  },
  {
   "cell_type": "code",
   "execution_count": null,
   "metadata": {},
   "outputs": [],
   "source": [
    "dataInsumo.to_csv('../data/dataInsumo.csv',index=False)"
   ]
  },
  {
   "cell_type": "code",
   "execution_count": null,
   "metadata": {},
   "outputs": [],
   "source": [
    "#tambien se puede guardar en excel\n",
    "dataInsumo.to_excel('../data/dataInsumo.xlsx',index=False)"
   ]
  },
  {
   "cell_type": "markdown",
   "metadata": {},
   "source": [
    "### En la proxima clase: Gráficos y mapas"
   ]
  },
  {
   "cell_type": "code",
   "execution_count": null,
   "metadata": {},
   "outputs": [],
   "source": [
    "import matplotlib.pyplot as plt\n",
    "%matplotlib inline"
   ]
  },
  {
   "cell_type": "code",
   "execution_count": null,
   "metadata": {},
   "outputs": [],
   "source": [
    "dataInsumo.promedio.plot(kind = 'kde')"
   ]
  },
  {
   "cell_type": "code",
   "execution_count": null,
   "metadata": {},
   "outputs": [],
   "source": [
    "dataInsumo.loc[dataInsumo.fin_de_semana,'promedio'].plot(kind = 'kde')"
   ]
  },
  {
   "cell_type": "code",
   "execution_count": null,
   "metadata": {},
   "outputs": [],
   "source": [
    "dataInsumo.loc[dataInsumo.LINEA == 'LINEA_A','promedio'].plot(kind = 'kde')"
   ]
  },
  {
   "cell_type": "code",
   "execution_count": null,
   "metadata": {},
   "outputs": [],
   "source": [
    "dataInsumo.loc[dataInsumo.LINEA == 'LINEA_B','promedio'].plot(kind = 'kde',color='red')"
   ]
  },
  {
   "cell_type": "markdown",
   "metadata": {},
   "source": [
    "\n",
    "---\n",
    "\n",
    "Basado en :\n",
    "\n",
    "<a rel=\"license\" href=\"http://creativecommons.org/licenses/by-nc-sa/4.0/\"><img alt=\"Creative Commons License\" style=\"border-width:0\" src=\"https://i.creativecommons.org/l/by-nc-sa/4.0/88x31.png\" /></a><br /><span xmlns:dct=\"http://purl.org/dc/terms/\" property=\"dct:title\">Geographic Data Science'17 - Lab 1, part I</span> by <a xmlns:cc=\"http://creativecommons.org/ns#\" href=\"http://darribas.org\" property=\"cc:attributionName\" rel=\"cc:attributionURL\">Dani Arribas-Bel</a> is licensed under a <a rel=\"license\" href=\"http://creativecommons.org/licenses/by-nc-sa/4.0/\">Creative Commons Attribution-NonCommercial-ShareAlike 4.0 International License</a>.\n",
    "\n"
   ]
  },
  {
   "cell_type": "code",
   "execution_count": null,
   "metadata": {},
   "outputs": [],
   "source": []
  }
 ],
 "metadata": {
  "kernelspec": {
   "display_name": "Python 3",
   "language": "python",
   "name": "python3"
  },
  "language_info": {
   "codemirror_mode": {
    "name": "ipython",
    "version": 3
   },
   "file_extension": ".py",
   "mimetype": "text/x-python",
   "name": "python",
   "nbconvert_exporter": "python",
   "pygments_lexer": "ipython3",
   "version": "3.7.4"
  }
 },
 "nbformat": 4,
 "nbformat_minor": 1
}
