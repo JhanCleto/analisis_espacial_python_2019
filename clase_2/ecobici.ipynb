{
 "cells": [
  {
   "cell_type": "code",
   "execution_count": 3,
   "metadata": {},
   "outputs": [],
   "source": [
    "# Descargamos los datos de Ecobici para el 2019 desde\n",
    "# https://data.buenosaires.gob.ar/dataset/bicicletas-publicas/archivo/97819ab4-412c-492d-bca1-6106f3a60bf7"
   ]
  },
  {
   "cell_type": "code",
   "execution_count": 4,
   "metadata": {},
   "outputs": [],
   "source": [
    "import pandas as pd"
   ]
  },
  {
   "cell_type": "code",
   "execution_count": 5,
   "metadata": {},
   "outputs": [
    {
     "name": "stderr",
     "output_type": "stream",
     "text": [
      "/home/pipe/anaconda3/lib/python3.7/site-packages/IPython/core/interactiveshell.py:3058: DtypeWarning: Columns (0,4,6,7) have mixed types. Specify dtype option on import or set low_memory=False.\n",
      "  interactivity=interactivity, compiler=compiler, result=result)\n"
     ]
    },
    {
     "data": {
      "text/html": [
       "<div>\n",
       "<style scoped>\n",
       "    .dataframe tbody tr th:only-of-type {\n",
       "        vertical-align: middle;\n",
       "    }\n",
       "\n",
       "    .dataframe tbody tr th {\n",
       "        vertical-align: top;\n",
       "    }\n",
       "\n",
       "    .dataframe thead th {\n",
       "        text-align: right;\n",
       "    }\n",
       "</style>\n",
       "<table border=\"1\" class=\"dataframe\">\n",
       "  <thead>\n",
       "    <tr style=\"text-align: right;\">\n",
       "      <th></th>\n",
       "      <th>id_usuario</th>\n",
       "      <th>fecha_origen_recorrido</th>\n",
       "      <th>duracion_recorrido</th>\n",
       "      <th>nombre_estacion_origen</th>\n",
       "      <th>id_estacion_origen</th>\n",
       "      <th>nombre_estacion_destino</th>\n",
       "      <th>id_estacion_destino</th>\n",
       "      <th>genero_usuario</th>\n",
       "      <th>edad_usuario</th>\n",
       "      <th>fecha_destino_recorrido</th>\n",
       "    </tr>\n",
       "  </thead>\n",
       "  <tbody>\n",
       "    <tr>\n",
       "      <td>0</td>\n",
       "      <td>115783_0</td>\n",
       "      <td>2019-01-01 00:01:16</td>\n",
       "      <td>0 days 00:07:02.000000000</td>\n",
       "      <td>Estados Unidos</td>\n",
       "      <td>168_0</td>\n",
       "      <td>9 de Julio</td>\n",
       "      <td>112_0</td>\n",
       "      <td>FEMENINO</td>\n",
       "      <td>36.0</td>\n",
       "      <td>2019-01-01 00:08:18</td>\n",
       "    </tr>\n",
       "    <tr>\n",
       "      <td>1</td>\n",
       "      <td>345364_0</td>\n",
       "      <td>2019-01-01 00:04:32</td>\n",
       "      <td>0 days 00:05:33.000000000</td>\n",
       "      <td>Colegio Nacional Buenos Aires</td>\n",
       "      <td>47_0</td>\n",
       "      <td>Colegio Nacional Buenos Aires</td>\n",
       "      <td>47_0</td>\n",
       "      <td>MASCULINO</td>\n",
       "      <td>40.0</td>\n",
       "      <td>2019-01-01 00:10:05</td>\n",
       "    </tr>\n",
       "    <tr>\n",
       "      <td>2</td>\n",
       "      <td>570578_0</td>\n",
       "      <td>2019-01-01 00:09:15</td>\n",
       "      <td>0 days 00:19:45.000000000</td>\n",
       "      <td>Pueyrredón</td>\n",
       "      <td>144_0</td>\n",
       "      <td>Ecoparque</td>\n",
       "      <td>44_0</td>\n",
       "      <td>FEMENINO</td>\n",
       "      <td>41.0</td>\n",
       "      <td>2019-01-01 00:29:00</td>\n",
       "    </tr>\n",
       "    <tr>\n",
       "      <td>3</td>\n",
       "      <td>588687_0</td>\n",
       "      <td>2019-01-01 00:09:28</td>\n",
       "      <td>0 days 00:19:34.000000000</td>\n",
       "      <td>Pueyrredón</td>\n",
       "      <td>144_0</td>\n",
       "      <td>Ecoparque</td>\n",
       "      <td>44_0</td>\n",
       "      <td>MASCULINO</td>\n",
       "      <td>43.0</td>\n",
       "      <td>2019-01-01 00:29:02</td>\n",
       "    </tr>\n",
       "    <tr>\n",
       "      <td>4</td>\n",
       "      <td>127201_0</td>\n",
       "      <td>2019-01-01 00:11:17</td>\n",
       "      <td>0 days 00:21:32.000000000</td>\n",
       "      <td>Legislatura</td>\n",
       "      <td>16_0</td>\n",
       "      <td>EEUU y Boedo</td>\n",
       "      <td>199_0</td>\n",
       "      <td>MASCULINO</td>\n",
       "      <td>33.0</td>\n",
       "      <td>2019-01-01 00:32:49</td>\n",
       "    </tr>\n",
       "  </tbody>\n",
       "</table>\n",
       "</div>"
      ],
      "text/plain": [
       "  id_usuario fecha_origen_recorrido         duracion_recorrido  \\\n",
       "0   115783_0    2019-01-01 00:01:16  0 days 00:07:02.000000000   \n",
       "1   345364_0    2019-01-01 00:04:32  0 days 00:05:33.000000000   \n",
       "2   570578_0    2019-01-01 00:09:15  0 days 00:19:45.000000000   \n",
       "3   588687_0    2019-01-01 00:09:28  0 days 00:19:34.000000000   \n",
       "4   127201_0    2019-01-01 00:11:17  0 days 00:21:32.000000000   \n",
       "\n",
       "          nombre_estacion_origen id_estacion_origen  \\\n",
       "0                 Estados Unidos              168_0   \n",
       "1  Colegio Nacional Buenos Aires               47_0   \n",
       "2                     Pueyrredón              144_0   \n",
       "3                     Pueyrredón              144_0   \n",
       "4                    Legislatura               16_0   \n",
       "\n",
       "         nombre_estacion_destino id_estacion_destino genero_usuario  \\\n",
       "0                     9 de Julio               112_0       FEMENINO   \n",
       "1  Colegio Nacional Buenos Aires                47_0      MASCULINO   \n",
       "2                      Ecoparque                44_0       FEMENINO   \n",
       "3                      Ecoparque                44_0      MASCULINO   \n",
       "4                   EEUU y Boedo               199_0      MASCULINO   \n",
       "\n",
       "   edad_usuario fecha_destino_recorrido  \n",
       "0          36.0     2019-01-01 00:08:18  \n",
       "1          40.0     2019-01-01 00:10:05  \n",
       "2          41.0     2019-01-01 00:29:00  \n",
       "3          43.0     2019-01-01 00:29:02  \n",
       "4          33.0     2019-01-01 00:32:49  "
      ]
     },
     "execution_count": 5,
     "metadata": {},
     "output_type": "execute_result"
    }
   ],
   "source": [
    "#leemos los datos\n",
    "dt = pd.read_csv('../data/recorridos-realizados-2019.csv')\n",
    "dt.head()"
   ]
  },
  {
   "cell_type": "code",
   "execution_count": 6,
   "metadata": {},
   "outputs": [],
   "source": [
    "#convertimos en tipo fecha la columna del tiempo de origen\n",
    "dt['FECHA'] = pd.to_datetime(dt.fecha_origen_recorrido,format = '%Y-%m-%d %H:%M:%S')"
   ]
  },
  {
   "cell_type": "code",
   "execution_count": 7,
   "metadata": {},
   "outputs": [
    {
     "data": {
      "text/plain": [
       "count                 2850451\n",
       "unique                2394773\n",
       "top       2019-07-17 13:47:51\n",
       "freq                       16\n",
       "first     2019-01-01 00:01:16\n",
       "last      2019-07-31 23:59:56\n",
       "Name: FECHA, dtype: object"
      ]
     },
     "execution_count": 7,
     "metadata": {},
     "output_type": "execute_result"
    }
   ],
   "source": [
    "dt.FECHA.describe()"
   ]
  },
  {
   "cell_type": "markdown",
   "metadata": {},
   "source": [
    "Podemos observar que el plazo de tiempo observado en el data set comprende los dias que van desde el 1 de enero de 2019 al 31 de julio de 2019."
   ]
  },
  {
   "cell_type": "code",
   "execution_count": 12,
   "metadata": {},
   "outputs": [
    {
     "data": {
      "text/html": [
       "<div>\n",
       "<style scoped>\n",
       "    .dataframe tbody tr th:only-of-type {\n",
       "        vertical-align: middle;\n",
       "    }\n",
       "\n",
       "    .dataframe tbody tr th {\n",
       "        vertical-align: top;\n",
       "    }\n",
       "\n",
       "    .dataframe thead th {\n",
       "        text-align: right;\n",
       "    }\n",
       "</style>\n",
       "<table border=\"1\" class=\"dataframe\">\n",
       "  <thead>\n",
       "    <tr style=\"text-align: right;\">\n",
       "      <th></th>\n",
       "      <th>n_viajes</th>\n",
       "    </tr>\n",
       "  </thead>\n",
       "  <tbody>\n",
       "    <tr>\n",
       "      <td>count</td>\n",
       "      <td>325495.000000</td>\n",
       "    </tr>\n",
       "    <tr>\n",
       "      <td>mean</td>\n",
       "      <td>8.756835</td>\n",
       "    </tr>\n",
       "    <tr>\n",
       "      <td>std</td>\n",
       "      <td>14.828292</td>\n",
       "    </tr>\n",
       "    <tr>\n",
       "      <td>min</td>\n",
       "      <td>0.000000</td>\n",
       "    </tr>\n",
       "    <tr>\n",
       "      <td>25%</td>\n",
       "      <td>1.000000</td>\n",
       "    </tr>\n",
       "    <tr>\n",
       "      <td>50%</td>\n",
       "      <td>4.000000</td>\n",
       "    </tr>\n",
       "    <tr>\n",
       "      <td>75%</td>\n",
       "      <td>9.000000</td>\n",
       "    </tr>\n",
       "    <tr>\n",
       "      <td>max</td>\n",
       "      <td>645.000000</td>\n",
       "    </tr>\n",
       "  </tbody>\n",
       "</table>\n",
       "</div>"
      ],
      "text/plain": [
       "            n_viajes\n",
       "count  325495.000000\n",
       "mean        8.756835\n",
       "std        14.828292\n",
       "min         0.000000\n",
       "25%         1.000000\n",
       "50%         4.000000\n",
       "75%         9.000000\n",
       "max       645.000000"
      ]
     },
     "execution_count": 12,
     "metadata": {},
     "output_type": "execute_result"
    }
   ],
   "source": [
    "#obtenemos una tabla de cantidad de recorridos por usuario\n",
    "rec_por_usuario = dt.reindex(columns=['id_usuario','duracion_recorrido'])\\\n",
    "                    .groupby('id_usuario').count()\n",
    "rec_por_usuario.columns = ['n_viajes']\n",
    "\n",
    "rec_por_usuario.describe()"
   ]
  },
  {
   "cell_type": "code",
   "execution_count": 13,
   "metadata": {},
   "outputs": [
    {
     "data": {
      "text/plain": [
       "n_viajes    8.756835\n",
       "dtype: float64"
      ]
     },
     "execution_count": 13,
     "metadata": {},
     "output_type": "execute_result"
    }
   ],
   "source": [
    "rec_por_usuario.mean()"
   ]
  },
  {
   "cell_type": "code",
   "execution_count": 14,
   "metadata": {},
   "outputs": [
    {
     "data": {
      "text/plain": [
       "n_viajes    4.0\n",
       "dtype: float64"
      ]
     },
     "execution_count": 14,
     "metadata": {},
     "output_type": "execute_result"
    }
   ],
   "source": [
    "rec_por_usuario.median()"
   ]
  },
  {
   "cell_type": "markdown",
   "metadata": {},
   "source": [
    "Observamos que la cantidad de recorridos por usuario promedio para estos 7 meses es de 8.75 viajes por usuario y una mediana de 4 viajes por usuario."
   ]
  },
  {
   "cell_type": "code",
   "execution_count": 16,
   "metadata": {},
   "outputs": [
    {
     "data": {
      "text/html": [
       "<div>\n",
       "<style scoped>\n",
       "    .dataframe tbody tr th:only-of-type {\n",
       "        vertical-align: middle;\n",
       "    }\n",
       "\n",
       "    .dataframe tbody tr th {\n",
       "        vertical-align: top;\n",
       "    }\n",
       "\n",
       "    .dataframe thead th {\n",
       "        text-align: right;\n",
       "    }\n",
       "</style>\n",
       "<table border=\"1\" class=\"dataframe\">\n",
       "  <thead>\n",
       "    <tr style=\"text-align: right;\">\n",
       "      <th></th>\n",
       "      <th>n_viajes</th>\n",
       "    </tr>\n",
       "    <tr>\n",
       "      <th>id_usuario</th>\n",
       "      <th></th>\n",
       "    </tr>\n",
       "  </thead>\n",
       "  <tbody>\n",
       "    <tr>\n",
       "      <td>13700</td>\n",
       "      <td>645</td>\n",
       "    </tr>\n",
       "    <tr>\n",
       "      <td>18663</td>\n",
       "      <td>557</td>\n",
       "    </tr>\n",
       "    <tr>\n",
       "      <td>18296</td>\n",
       "      <td>549</td>\n",
       "    </tr>\n",
       "    <tr>\n",
       "      <td>12434</td>\n",
       "      <td>405</td>\n",
       "    </tr>\n",
       "    <tr>\n",
       "      <td>62316</td>\n",
       "      <td>383</td>\n",
       "    </tr>\n",
       "  </tbody>\n",
       "</table>\n",
       "</div>"
      ],
      "text/plain": [
       "            n_viajes\n",
       "id_usuario          \n",
       "13700            645\n",
       "18663            557\n",
       "18296            549\n",
       "12434            405\n",
       "62316            383"
      ]
     },
     "execution_count": 16,
     "metadata": {},
     "output_type": "execute_result"
    }
   ],
   "source": [
    "#podemos observar al usuario que mas recorridos realizo\n",
    "rec_por_usuario.sort_values('n_viajes',ascending=False).head()"
   ]
  },
  {
   "cell_type": "markdown",
   "metadata": {},
   "source": [
    "El usuario que mas viajes realizo es el identificado con el ID 13700 que realizo 645 viajes en 7 meses"
   ]
  },
  {
   "cell_type": "code",
   "execution_count": 23,
   "metadata": {},
   "outputs": [
    {
     "data": {
      "text/html": [
       "<div>\n",
       "<style scoped>\n",
       "    .dataframe tbody tr th:only-of-type {\n",
       "        vertical-align: middle;\n",
       "    }\n",
       "\n",
       "    .dataframe tbody tr th {\n",
       "        vertical-align: top;\n",
       "    }\n",
       "\n",
       "    .dataframe thead th {\n",
       "        text-align: right;\n",
       "    }\n",
       "</style>\n",
       "<table border=\"1\" class=\"dataframe\">\n",
       "  <thead>\n",
       "    <tr style=\"text-align: right;\">\n",
       "      <th></th>\n",
       "      <th>nombre_estacion_destino</th>\n",
       "      <th>n_viajes</th>\n",
       "    </tr>\n",
       "  </thead>\n",
       "  <tbody>\n",
       "    <tr>\n",
       "      <td>0</td>\n",
       "      <td>147 - Constitución</td>\n",
       "      <td>40926</td>\n",
       "    </tr>\n",
       "    <tr>\n",
       "      <td>1</td>\n",
       "      <td>009 - Parque Las Heras</td>\n",
       "      <td>34207</td>\n",
       "    </tr>\n",
       "    <tr>\n",
       "      <td>2</td>\n",
       "      <td>014 - Pacifico</td>\n",
       "      <td>32532</td>\n",
       "    </tr>\n",
       "    <tr>\n",
       "      <td>3</td>\n",
       "      <td>069 - Ecuador</td>\n",
       "      <td>30292</td>\n",
       "    </tr>\n",
       "    <tr>\n",
       "      <td>4</td>\n",
       "      <td>008 - Congreso</td>\n",
       "      <td>28367</td>\n",
       "    </tr>\n",
       "  </tbody>\n",
       "</table>\n",
       "</div>"
      ],
      "text/plain": [
       "  nombre_estacion_destino  n_viajes\n",
       "0      147 - Constitución     40926\n",
       "1  009 - Parque Las Heras     34207\n",
       "2          014 - Pacifico     32532\n",
       "3           069 - Ecuador     30292\n",
       "4          008 - Congreso     28367"
      ]
     },
     "execution_count": 23,
     "metadata": {},
     "output_type": "execute_result"
    }
   ],
   "source": [
    "#observamos datos AGRUPADOS POR ESTACION\n",
    "rec_por_estacion = dt.reindex(columns=['nombre_estacion_destino','duracion_recorrido'])\\\n",
    "                    .groupby('nombre_estacion_destino').count()\n",
    "rec_por_estacion.columns = ['n_viajes']\n",
    "\n",
    "rec_por_estacion = rec_por_estacion.sort_values(by='n_viajes',ascending=False)\n",
    "\n",
    "rec_por_estacion = rec_por_estacion.reset_index()\n",
    "rec_por_estacion.head()"
   ]
  },
  {
   "cell_type": "markdown",
   "metadata": {},
   "source": [
    "La estacion mas utilizada del sistema Ecobici para este plazo de tiempo fue Constitución."
   ]
  },
  {
   "cell_type": "code",
   "execution_count": 25,
   "metadata": {},
   "outputs": [
    {
     "data": {
      "text/plain": [
       "NO INFORMADO    92.840712\n",
       "MASCULINO        5.255449\n",
       "FEMENINO         1.903839\n",
       "Name: genero_usuario, dtype: float64"
      ]
     },
     "execution_count": 25,
     "metadata": {},
     "output_type": "execute_result"
    }
   ],
   "source": [
    "#Realizamos un analisis por genero\n",
    "#llenamos los missing con NO INFORMADO\n",
    "dt.genero_usuario = dt.genero_usuario.fillna('NO INFORMADO')\n",
    "dt.genero_usuario.value_counts() / len(dt) * 100"
   ]
  },
  {
   "cell_type": "markdown",
   "metadata": {},
   "source": [
    "Se observa que la mayoria de los usuarios no informa su genero. Solo un 5.2 % es masculino y 1.9 % femenino"
   ]
  },
  {
   "cell_type": "code",
   "execution_count": 90,
   "metadata": {},
   "outputs": [],
   "source": [
    "import matplotlib.pyplot as plt\n",
    "%matplotlib inline"
   ]
  },
  {
   "cell_type": "code",
   "execution_count": 94,
   "metadata": {},
   "outputs": [
    {
     "data": {
      "text/plain": [
       "<matplotlib.axes._subplots.AxesSubplot at 0x7f5c95ed6f90>"
      ]
     },
     "execution_count": 94,
     "metadata": {},
     "output_type": "execute_result"
    },
    {
     "data": {
      "image/png": "[encoded data removed]",
      "text/plain": [
       "<Figure size 432x288 with 1 Axes>"
      ]
     },
     "metadata": {
      "needs_background": "light"
     },
     "output_type": "display_data"
    }
   ],
   "source": [
    "rec_por_usuario.plot(kind='box')"
   ]
  },
  {
   "cell_type": "code",
   "execution_count": 95,
   "metadata": {},
   "outputs": [
    {
     "data": {
      "text/plain": [
       "<matplotlib.axes._subplots.AxesSubplot at 0x7f5c95e853d0>"
      ]
     },
     "execution_count": 95,
     "metadata": {},
     "output_type": "execute_result"
    },
    {
     "data": {
      "image/png": "[encoded data removed]",
      "text/plain": [
       "<Figure size 432x288 with 1 Axes>"
      ]
     },
     "metadata": {
      "needs_background": "light"
     },
     "output_type": "display_data"
    }
   ],
   "source": [
    "rec_por_usuario.plot(kind='box',showfliers=False)"
   ]
  },
  {
   "cell_type": "code",
   "execution_count": 106,
   "metadata": {},
   "outputs": [
    {
     "name": "stdout",
     "output_type": "stream",
     "text": [
      "\n"
     ]
    },
    {
     "data": {
      "image/png": "[encoded data removed]",
      "text/plain": [
       "<Figure size 432x288 with 1 Axes>"
      ]
     },
     "metadata": {
      "needs_background": "light"
     },
     "output_type": "display_data"
    }
   ],
   "source": [
    "plt.boxplot(rec_por_usuario.values,showfliers=False)\n",
    "print()"
   ]
  }
 ],
 "metadata": {
  "kernelspec": {
   "display_name": "Python 3",
   "language": "python",
   "name": "python3"
  },
  "language_info": {
   "codemirror_mode": {
    "name": "ipython",
    "version": 3
   },
   "file_extension": ".py",
   "mimetype": "text/x-python",
   "name": "python",
   "nbconvert_exporter": "python",
   "pygments_lexer": "ipython3",
   "version": "3.7.4"
  }
 },
 "nbformat": 4,
 "nbformat_minor": 2
}
