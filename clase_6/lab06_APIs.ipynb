{
 "cells": [
  {
   "cell_type": "code",
   "execution_count": 1,
   "metadata": {},
   "outputs": [],
   "source": [
    "import geopandas as gpd\n",
    "import pandas as pd\n",
    "from shapely.geometry import Point, LineString\n",
    "import numpy as np\n",
    "\n",
    "import matplotlib.pyplot as plt\n",
    "%matplotlib inline"
   ]
  },
  {
   "cell_type": "code",
   "execution_count": 2,
   "metadata": {},
   "outputs": [],
   "source": [
    "#dos librerias nuevas que usamos en APIs\n",
    "import urllib\n",
    "import json\n",
    "\n"
   ]
  },
  {
   "cell_type": "markdown",
   "metadata": {},
   "source": [
    "# GCBA api"
   ]
  },
  {
   "cell_type": "code",
   "execution_count": null,
   "metadata": {},
   "outputs": [],
   "source": [
    "#una forma elemental de consultar una api es usando el navegador\n",
    "'https://apitransporte.buenosaires.gob.ar/ecobici/gbfs/stationInformation?client_id=02f9fb1291ef41f6bfa93b0d99779291&client_secret=F7e10670D41343E1bf0D3DFFc7aa1e7D'"
   ]
  },
  {
   "cell_type": "code",
   "execution_count": null,
   "metadata": {},
   "outputs": [],
   "source": [
    "url = 'https://apitransporte.buenosaires.gob.ar/ecobici/gbfs/stationInformation?client_id=02f9fb1291ef41f6bfa93b0d99779291&client_secret=F7e10670D41343E1bf0D3DFFc7aa1e7D'"
   ]
  },
  {
   "cell_type": "code",
   "execution_count": null,
   "metadata": {},
   "outputs": [],
   "source": [
    "#esto se descompone en varios elementos\n",
    "url_base = 'https://apitransporte.buenosaires.gob.ar/ecobici/gbfs/stationInformation?'\n",
    "client_id = 'client_id=02f9fb1291ef41f6bfa93b0d99779291'\n",
    "client_secret = 'client_secret=F7e10670D41343E1bf0D3DFFc7aa1e7D'"
   ]
  },
  {
   "cell_type": "code",
   "execution_count": null,
   "metadata": {},
   "outputs": [],
   "source": [
    "#cada API puede ser diferente y debemos chequear su documentación, pero los diferentes parametros\n",
    "#se separan en general con &\n",
    "url_computesta = url_base + client_id + '&' + client_secret\n",
    "url_computesta"
   ]
  },
  {
   "cell_type": "code",
   "execution_count": null,
   "metadata": {},
   "outputs": [],
   "source": [
    "url_computesta == url"
   ]
  },
  {
   "cell_type": "markdown",
   "metadata": {},
   "source": [
    "En este caso los unicos dos parametros son `client_id` y `client_secret`. Normalmente las APIs piden algun tipo de _token_ o clave secreta **que debemos evitar compartir (como estoy haciendo yo aca)**. En los casos siguientes vamos a ver otros ejemplos con consultas mas complejas"
   ]
  },
  {
   "cell_type": "code",
   "execution_count": null,
   "metadata": {},
   "outputs": [],
   "source": [
    "#realizamos el request a esa url\n",
    "response = urllib.request.urlopen(url)\n",
    "response"
   ]
  },
  {
   "cell_type": "code",
   "execution_count": null,
   "metadata": {},
   "outputs": [],
   "source": [
    "#la libreria json nos permite leer esta informacion como un diccionario de Python\n",
    "datos = json.loads(response.read())\n"
   ]
  },
  {
   "cell_type": "code",
   "execution_count": null,
   "metadata": {},
   "outputs": [],
   "source": [
    "#inspeccionemos nuestros datos\n",
    "type(datos)"
   ]
  },
  {
   "cell_type": "code",
   "execution_count": null,
   "metadata": {},
   "outputs": [],
   "source": [
    "datos['data']['stations'][0]"
   ]
  },
  {
   "cell_type": "code",
   "execution_count": null,
   "metadata": {},
   "outputs": [],
   "source": [
    "pd.DataFrame({'nombres':['felipe','diego'],\n",
    "             'edades':[15,22]})"
   ]
  },
  {
   "cell_type": "code",
   "execution_count": null,
   "metadata": {},
   "outputs": [],
   "source": [
    "pd.DataFrame(datos['data']['stations'])"
   ]
  },
  {
   "cell_type": "code",
   "execution_count": null,
   "metadata": {},
   "outputs": [],
   "source": [
    "#dado el formato en el que se \n",
    "estaciones = pd.DataFrame(datos['data']['stations'])\n",
    "estaciones = estaciones.reindex(columns=['station_id', 'name', 'capacity', 'lat', 'lon'])\n",
    "estaciones.head()"
   ]
  },
  {
   "cell_type": "code",
   "execution_count": null,
   "metadata": {},
   "outputs": [],
   "source": [
    "url_base = 'https://apitransporte.buenosaires.gob.ar/ecobici/gbfs/stationStatus?'\n",
    "url_computesta = url_base + client_id + '&' + client_secret\n",
    "url_computesta"
   ]
  },
  {
   "cell_type": "code",
   "execution_count": null,
   "metadata": {},
   "outputs": [],
   "source": [
    "#conusltamos el status de las estaciones\n",
    "response = urllib.request.urlopen(url_computesta)\n",
    "status = json.loads(response.read())\n",
    "status = pd.DataFrame(status['data']['stations'])\n"
   ]
  },
  {
   "cell_type": "code",
   "execution_count": null,
   "metadata": {},
   "outputs": [],
   "source": [
    "status"
   ]
  },
  {
   "cell_type": "code",
   "execution_count": null,
   "metadata": {},
   "outputs": [],
   "source": [
    "datetime.now()"
   ]
  },
  {
   "cell_type": "code",
   "execution_count": null,
   "metadata": {},
   "outputs": [],
   "source": [
    "#extraemos el momento en que consultamos los datos, especificando que nuestro timezone es el de Argentina\n",
    "from datetime import datetime\n",
    "import pytz\n",
    "\n",
    "argentina_tz = pytz.timezone('America/Argentina/Buenos_Aires')\n",
    "tiempo_consulta = datetime.now(tz=argentina_tz)\n",
    "\n",
    "#conusltamos el status de las estaciones\n",
    "response = urllib.request.urlopen(url_computesta)\n",
    "status = json.loads(response.read())\n",
    "status = pd.DataFrame(status['data']['stations'])\n",
    "\n",
    "#mergeamos ambos datasets para tener para cada status, la informacion de la estacion\n",
    "status = status.merge(estaciones, how='inner', on='station_id')\n",
    "status['timestamp_consulta'] = tiempo_consulta\n",
    "status.to_csv('../data/' + str(tiempo_consulta)[:16] + '.csv', index=False)\n"
   ]
  },
  {
   "cell_type": "code",
   "execution_count": null,
   "metadata": {},
   "outputs": [],
   "source": [
    "status.head()"
   ]
  },
  {
   "cell_type": "markdown",
   "metadata": {},
   "source": [
    "Aca pueden ver una funcion que hace esto y se se deja corriendo consulta y guarda cada media hora"
   ]
  },
  {
   "cell_type": "code",
   "execution_count": null,
   "metadata": {},
   "outputs": [],
   "source": [
    "#https://github.com/alephcero/ecobici_un_dia\n",
    "import os\n",
    "import urllib.request as urllib\n",
    "import json\n",
    "import pandas as pd\n",
    "from datetime import datetime\n",
    "from time import sleep\n",
    "import pytz\n",
    "\n",
    "\n",
    "argentina_tz = pytz.timezone('America/Argentina/Buenos_Aires')\n",
    "\n",
    "\n",
    "def consultar_y_persistir():\n",
    "    url_datos = 'https://apitransporte.buenosaires.gob.ar/ecobici/gbfs/stationInformation?client_id=' + \\\n",
    "        os.environ['ECOBICIID'] + '&client_secret=' + \\\n",
    "        os.environ['ECOBICISECRET']\n",
    "    response = urllib.urlopen(url_datos)\n",
    "    datos = json.loads(response.read())\n",
    "    estaciones = pd.DataFrame(datos['data']['stations'])\n",
    "    estaciones = estaciones.reindex(\n",
    "        columns=['station_id', 'name', 'capacity', 'lat', 'lon'])\n",
    "\n",
    "    url_consulta = 'https://apitransporte.buenosaires.gob.ar/ecobici/gbfs/stationStatus?client_id=' + \\\n",
    "        os.environ['ECOBICIID'] + '&client_secret=' + \\\n",
    "        os.environ['ECOBICISECRET']\n",
    "    argentina_tz = pytz.timezone('America/Argentina/Buenos_Aires')\n",
    "    tiempo_consulta = datetime.now(tz=argentina_tz)\n",
    "    response = urllib.urlopen(url_consulta)\n",
    "    status = json.loads(response.read())\n",
    "    dt = pd.DataFrame(status['data']['stations'])\n",
    "    dt = dt.merge(estaciones, how='inner', on='station_id')\n",
    "    dt['timestamp_consulta'] = tiempo_consulta\n",
    "    dt.to_csv('data/' + str(tiempo_consulta)[:16] + '.csv', index=False)\n",
    "\n",
    "\n",
    "no_es_medianoche = True\n",
    "while no_es_medianoche:\n",
    "    if (datetime.now(tz=argentina_tz).hour == 0) and (datetime.now(tz=argentina_tz).minute == 0):\n",
    "        no_es_medianoche = False\n",
    "    print(\"waiting\", datetime.now(tz=argentina_tz))\n",
    "    sleep(60 * 1)\n",
    "\n",
    "for i in range(48):\n",
    "    sleep(60 * 30)\n",
    "    print(i)\n",
    "    consultar_y_persistir()"
   ]
  },
  {
   "cell_type": "markdown",
   "metadata": {},
   "source": [
    "# Google"
   ]
  },
  {
   "cell_type": "code",
   "execution_count": 3,
   "metadata": {},
   "outputs": [
    {
     "data": {
      "text/html": [
       "<div>\n",
       "<style scoped>\n",
       "    .dataframe tbody tr th:only-of-type {\n",
       "        vertical-align: middle;\n",
       "    }\n",
       "\n",
       "    .dataframe tbody tr th {\n",
       "        vertical-align: top;\n",
       "    }\n",
       "\n",
       "    .dataframe thead th {\n",
       "        text-align: right;\n",
       "    }\n",
       "</style>\n",
       "<table border=\"1\" class=\"dataframe\">\n",
       "  <thead>\n",
       "    <tr style=\"text-align: right;\">\n",
       "      <th></th>\n",
       "      <th>geometry</th>\n",
       "      <th>nombre</th>\n",
       "    </tr>\n",
       "    <tr>\n",
       "      <th>nombre</th>\n",
       "      <th></th>\n",
       "      <th></th>\n",
       "    </tr>\n",
       "  </thead>\n",
       "  <tbody>\n",
       "    <tr>\n",
       "      <td>obelisco</td>\n",
       "      <td>POINT (-58.38161 -34.60377)</td>\n",
       "      <td>obelisco</td>\n",
       "    </tr>\n",
       "    <tr>\n",
       "      <td>retiro</td>\n",
       "      <td>POINT (-58.37426 -34.59137)</td>\n",
       "      <td>retiro</td>\n",
       "    </tr>\n",
       "    <tr>\n",
       "      <td>once</td>\n",
       "      <td>POINT (-58.40617 -34.60831)</td>\n",
       "      <td>once</td>\n",
       "    </tr>\n",
       "    <tr>\n",
       "      <td>constitucion</td>\n",
       "      <td>POINT (-58.38069 -34.62755)</td>\n",
       "      <td>constitucion</td>\n",
       "    </tr>\n",
       "  </tbody>\n",
       "</table>\n",
       "</div>"
      ],
      "text/plain": [
       "                                 geometry        nombre\n",
       "nombre                                                 \n",
       "obelisco      POINT (-58.38161 -34.60377)      obelisco\n",
       "retiro        POINT (-58.37426 -34.59137)        retiro\n",
       "once          POINT (-58.40617 -34.60831)          once\n",
       "constitucion  POINT (-58.38069 -34.62755)  constitucion"
      ]
     },
     "execution_count": 3,
     "metadata": {},
     "output_type": "execute_result"
    }
   ],
   "source": [
    "#Primero creamos un dataset para testear\n",
    "#formato google maps latlong, yx\n",
    "obelisco = (-34.60377,-58.38161)\n",
    "retiro = (-34.591372, -58.374261)\n",
    "once = (-34.608315, -58.406169)\n",
    "constitucion = (-34.627554, -58.380690)\n",
    "\n",
    "def construir_dict(nombre,tupla_latlong):\n",
    "    return {\n",
    "        'nombre':nombre,\n",
    "        'coordenadas':{\n",
    "            'long':tupla_latlong[1],\n",
    "            'lat':tupla_latlong[0],\n",
    "            'x':tupla_latlong[1],\n",
    "            'y':tupla_latlong[0]\n",
    "        }\n",
    "}\n",
    "    \n",
    "puntos = [construir_dict('obelisco',(-34.60377,-58.38161)),\n",
    "         construir_dict('retiro',(-34.591372, -58.374261)),\n",
    "         construir_dict('once',(-34.608315, -58.406169)),\n",
    "         construir_dict('constitucion',(-34.627554, -58.380690))]\n",
    "crs = \"+proj=longlat +ellps=WGS84 +datum=WGS84 +no_defs\"\n",
    "geoserie = gpd.GeoSeries([Point(punto['coordenadas']['x'],punto['coordenadas']['y']) for punto in puntos],crs=crs) \n",
    "geodt = gpd.GeoDataFrame({'geometry': geoserie, 'nombre':[punto['nombre'] for punto in puntos]})\n",
    "geodt.index=geodt.nombre\n",
    "geodt"
   ]
  },
  {
   "cell_type": "code",
   "execution_count": 4,
   "metadata": {},
   "outputs": [],
   "source": [
    "# veamos la documentacion para obtener un token \n",
    "# https://developers.google.com/maps/documentation/distance-matrix/get-api-key\n",
    "# a esta documentacion le falta el paso de habilitar ENABLE\n",
    "api_token = ''"
   ]
  },
  {
   "cell_type": "markdown",
   "metadata": {},
   "source": [
    "Nuestra intencion es obtener tiempos de viaje por eso usaremos Distance Matrix API. Para ello podemos leer la [documentacion](https://developers.google.com/maps/documentation/distance-matrix/intro#DistanceMatrixRequests).\n"
   ]
  },
  {
   "cell_type": "code",
   "execution_count": null,
   "metadata": {},
   "outputs": [],
   "source": [
    "#creamos nuestras coordenadas en el formato requerido por la API de google\n",
    "origen_lat = geodt.loc['obelisco','geometry'].y\n",
    "origen_long = geodt.loc['obelisco','geometry'].x\n",
    "destino_lat = geodt.loc['retiro','geometry'].y\n",
    "destino_long = geodt.loc['retiro','geometry'].x"
   ]
  },
  {
   "cell_type": "code",
   "execution_count": null,
   "metadata": {},
   "outputs": [],
   "source": [
    "origen_lat"
   ]
  },
  {
   "cell_type": "code",
   "execution_count": null,
   "metadata": {},
   "outputs": [],
   "source": [
    "#construimos la consulta con el mismo metodo que vimos antes\n",
    "url_base = 'https://maps.googleapis.com/maps/api/distancematrix/json?'\n",
    "units = 'units=metric' \n",
    "origins = 'origins=' + str(origen_lat) + ',' + str(origen_long)\n",
    "destinations = 'destinations=%f,%f' % (destino_lat,destino_long)\n",
    "key = 'key={0}'.format(api_token)\n",
    "\n",
    "url = url_base + '&' + units + '&' + origins + '&' + destinations + '&' + key\n",
    "url"
   ]
  },
  {
   "cell_type": "code",
   "execution_count": null,
   "metadata": {},
   "outputs": [],
   "source": [
    "#volvemos a realizar la consulta y leerla como diccionario de python\n",
    "response = urllib.request.urlopen(url)\n",
    "diccio = json.loads(response.read())\n",
    "diccio"
   ]
  },
  {
   "cell_type": "code",
   "execution_count": null,
   "metadata": {},
   "outputs": [],
   "source": [
    "#podemos agregar un nuevo parametro, el modo de transporte y agregarlo a lo que ya veniamos consultando\n",
    "mode = 'mode=bicycling'\n",
    "\n",
    "url = url_base + '&' + units + '&' + origins + '&' + destinations + '&'+ mode + '&' + key\n",
    "url"
   ]
  },
  {
   "cell_type": "code",
   "execution_count": null,
   "metadata": {},
   "outputs": [],
   "source": [
    "#repetimos el proceso de consulta\n",
    "response = urllib.request.urlopen(url)\n",
    "diccio_bici = json.loads(response.read())\n",
    "diccio_bici"
   ]
  },
  {
   "cell_type": "code",
   "execution_count": 5,
   "metadata": {},
   "outputs": [],
   "source": [
    "#afortunadamente la gente de google creo una libreria que hace todo esto por nosotros\n",
    "#https://github.com/googlemaps/google-maps-services-python\n",
    "import googlemaps"
   ]
  },
  {
   "cell_type": "code",
   "execution_count": 6,
   "metadata": {},
   "outputs": [],
   "source": [
    "#documentacion\n",
    "#https://github.com/googlemaps/google-maps-services-python\n",
    "gmaps = googlemaps.Client(key=api_token)"
   ]
  },
  {
   "cell_type": "code",
   "execution_count": 7,
   "metadata": {},
   "outputs": [],
   "source": [
    "#realizamos una consulta con la liberia\n",
    "travel = gmaps.distance_matrix(\n",
    "    origins = once,\n",
    "    destinations = obelisco,\n",
    "    mode='transit', traffic_model='best_guess',\n",
    "    transit_routing_preference = 'fewer_transfers')"
   ]
  },
  {
   "cell_type": "code",
   "execution_count": 8,
   "metadata": {},
   "outputs": [
    {
     "data": {
      "text/plain": [
       "{'destination_addresses': ['Av. Corrientes 1031, C1010 CABA, Argentina'],\n",
       " 'origin_addresses': ['Av. Pueyrredón 143, C1032ABB CABA, Argentina'],\n",
       " 'rows': [{'elements': [{'distance': {'text': '2.8 km', 'value': 2762},\n",
       "     'duration': {'text': '13 mins', 'value': 762},\n",
       "     'fare': {'currency': 'ARS', 'text': 'ARS\\xa019.00', 'value': 19},\n",
       "     'status': 'OK'}]}],\n",
       " 'status': 'OK'}"
      ]
     },
     "execution_count": 8,
     "metadata": {},
     "output_type": "execute_result"
    }
   ],
   "source": [
    "#vemos el resultado de nuestro consulta\n",
    "travel"
   ]
  },
  {
   "cell_type": "code",
   "execution_count": 9,
   "metadata": {},
   "outputs": [
    {
     "data": {
      "text/plain": [
       "dict"
      ]
     },
     "execution_count": 9,
     "metadata": {},
     "output_type": "execute_result"
    }
   ],
   "source": [
    "#vemos que es un diccionario\n",
    "type(travel)"
   ]
  },
  {
   "cell_type": "code",
   "execution_count": 10,
   "metadata": {},
   "outputs": [
    {
     "data": {
      "text/html": [
       "<div>\n",
       "<style scoped>\n",
       "    .dataframe tbody tr th:only-of-type {\n",
       "        vertical-align: middle;\n",
       "    }\n",
       "\n",
       "    .dataframe tbody tr th {\n",
       "        vertical-align: top;\n",
       "    }\n",
       "\n",
       "    .dataframe thead th {\n",
       "        text-align: right;\n",
       "    }\n",
       "</style>\n",
       "<table border=\"1\" class=\"dataframe\">\n",
       "  <thead>\n",
       "    <tr style=\"text-align: right;\">\n",
       "      <th></th>\n",
       "      <th>destination_addresses</th>\n",
       "      <th>origin_addresses</th>\n",
       "      <th>rows</th>\n",
       "      <th>status</th>\n",
       "    </tr>\n",
       "  </thead>\n",
       "  <tbody>\n",
       "    <tr>\n",
       "      <td>0</td>\n",
       "      <td>Av. Corrientes 1031, C1010 CABA, Argentina</td>\n",
       "      <td>Av. Pueyrredón 143, C1032ABB CABA, Argentina</td>\n",
       "      <td>{'elements': [{'distance': {'text': '2.8 km', ...</td>\n",
       "      <td>OK</td>\n",
       "    </tr>\n",
       "  </tbody>\n",
       "</table>\n",
       "</div>"
      ],
      "text/plain": [
       "                        destination_addresses  \\\n",
       "0  Av. Corrientes 1031, C1010 CABA, Argentina   \n",
       "\n",
       "                               origin_addresses  \\\n",
       "0  Av. Pueyrredón 143, C1032ABB CABA, Argentina   \n",
       "\n",
       "                                                rows status  \n",
       "0  {'elements': [{'distance': {'text': '2.8 km', ...     OK  "
      ]
     },
     "execution_count": 10,
     "metadata": {},
     "output_type": "execute_result"
    }
   ],
   "source": [
    "#podemos convertirlo en un pandas data frame a partir de la estructura de diccionario\n",
    "data = pd.DataFrame(travel)\n",
    "data"
   ]
  },
  {
   "cell_type": "code",
   "execution_count": 11,
   "metadata": {},
   "outputs": [
    {
     "data": {
      "text/plain": [
       "12.7"
      ]
     },
     "execution_count": 11,
     "metadata": {},
     "output_type": "execute_result"
    }
   ],
   "source": [
    "#como extraer la informacion que deseamos?\n",
    "travel['rows'][0]['elements'][0]['duration']['value'] / 60"
   ]
  },
  {
   "cell_type": "code",
   "execution_count": 12,
   "metadata": {},
   "outputs": [],
   "source": [
    "#modulizamos esta accion en una funcion\n",
    "def extraer_duracion(consulta):\n",
    "    return consulta['rows'][0]['elements'][0]['duration']['value'] / 60"
   ]
  },
  {
   "cell_type": "code",
   "execution_count": 13,
   "metadata": {},
   "outputs": [
    {
     "data": {
      "text/plain": [
       "12.7"
      ]
     },
     "execution_count": 13,
     "metadata": {},
     "output_type": "execute_result"
    }
   ],
   "source": [
    "extraer_duracion(travel)"
   ]
  },
  {
   "cell_type": "code",
   "execution_count": 15,
   "metadata": {},
   "outputs": [],
   "source": [
    "#creamos una copia de nuestor dataset de prueba y vamos a fijar el destino\n",
    "geodt_destino = geodt.copy()"
   ]
  },
  {
   "cell_type": "code",
   "execution_count": 16,
   "metadata": {},
   "outputs": [
    {
     "data": {
      "text/plain": [
       "[-34.60377, -58.38161]"
      ]
     },
     "execution_count": 16,
     "metadata": {},
     "output_type": "execute_result"
    }
   ],
   "source": [
    "destino = [geodt_destino.loc['obelisco','geometry'].y,geodt_destino.loc['obelisco','geometry'].x]\n",
    "destino"
   ]
  },
  {
   "cell_type": "code",
   "execution_count": 17,
   "metadata": {},
   "outputs": [],
   "source": [
    "#modularizamos nuestras tareas en dos funciones\n",
    "def extraer_duracion(consulta):\n",
    "    return consulta['rows'][0]['elements'][0]['duration']['value'] / 60\n",
    "\n",
    "def consultar_od(orig_x,orig_y,dest_x,dest_y):\n",
    "    #consulto a API google maps el origen y destino \n",
    "    travel = gmaps.distance_matrix(\n",
    "        origins = (orig_y,orig_x),\n",
    "        destinations = (dest_y,dest_x),\n",
    "        mode='transit', traffic_model='best_guess',\n",
    "        transit_routing_preference = 'fewer_transfers')\n",
    "    #extraigo la duracion\n",
    "    output = extraer_duracion(travel)\n",
    "    return output"
   ]
  },
  {
   "cell_type": "code",
   "execution_count": 18,
   "metadata": {},
   "outputs": [],
   "source": [
    "#inicializamos una lista vacia donde iremos guardando los tiempos de viaje al obelisco\n",
    "tiempos = []\n",
    "for i in geodt.index:\n",
    "    #en caso de que coincida origen y destino, le imputamos como tiempo 0 minutos\n",
    "    if i == 'obelisco':\n",
    "        tiempo = 0\n",
    "    else:\n",
    "    #caso contario consultamos a google y guardamos el resultado en tiempo\n",
    "        tiempo = consultar_od(orig_x = geodt_destino.loc[i,'geometry'].x,\n",
    "                         orig_y = geodt_destino.loc[i,'geometry'].y,\n",
    "                         dest_x = geodt_destino.loc['obelisco','geometry'].x,\n",
    "                         dest_y = geodt_destino.loc['obelisco','geometry'].y)\n",
    "    #guardamos los resultados en la lista\n",
    "    tiempos.append(tiempo)\n",
    "#creamos una columna a partir de la lista\n",
    "geodt_destino['tiempos_al_obelisco'] = tiempos"
   ]
  },
  {
   "cell_type": "code",
   "execution_count": 19,
   "metadata": {},
   "outputs": [
    {
     "data": {
      "text/html": [
       "<div>\n",
       "<style scoped>\n",
       "    .dataframe tbody tr th:only-of-type {\n",
       "        vertical-align: middle;\n",
       "    }\n",
       "\n",
       "    .dataframe tbody tr th {\n",
       "        vertical-align: top;\n",
       "    }\n",
       "\n",
       "    .dataframe thead th {\n",
       "        text-align: right;\n",
       "    }\n",
       "</style>\n",
       "<table border=\"1\" class=\"dataframe\">\n",
       "  <thead>\n",
       "    <tr style=\"text-align: right;\">\n",
       "      <th></th>\n",
       "      <th>geometry</th>\n",
       "      <th>nombre</th>\n",
       "      <th>tiempos_al_obelisco</th>\n",
       "    </tr>\n",
       "    <tr>\n",
       "      <th>nombre</th>\n",
       "      <th></th>\n",
       "      <th></th>\n",
       "      <th></th>\n",
       "    </tr>\n",
       "  </thead>\n",
       "  <tbody>\n",
       "    <tr>\n",
       "      <td>obelisco</td>\n",
       "      <td>POINT (-58.38161 -34.60377)</td>\n",
       "      <td>obelisco</td>\n",
       "      <td>0.000000</td>\n",
       "    </tr>\n",
       "    <tr>\n",
       "      <td>retiro</td>\n",
       "      <td>POINT (-58.37426 -34.59137)</td>\n",
       "      <td>retiro</td>\n",
       "      <td>11.316667</td>\n",
       "    </tr>\n",
       "    <tr>\n",
       "      <td>once</td>\n",
       "      <td>POINT (-58.40617 -34.60831)</td>\n",
       "      <td>once</td>\n",
       "      <td>12.700000</td>\n",
       "    </tr>\n",
       "    <tr>\n",
       "      <td>constitucion</td>\n",
       "      <td>POINT (-58.38069 -34.62755)</td>\n",
       "      <td>constitucion</td>\n",
       "      <td>14.616667</td>\n",
       "    </tr>\n",
       "  </tbody>\n",
       "</table>\n",
       "</div>"
      ],
      "text/plain": [
       "                                 geometry        nombre  tiempos_al_obelisco\n",
       "nombre                                                                      \n",
       "obelisco      POINT (-58.38161 -34.60377)      obelisco             0.000000\n",
       "retiro        POINT (-58.37426 -34.59137)        retiro            11.316667\n",
       "once          POINT (-58.40617 -34.60831)          once            12.700000\n",
       "constitucion  POINT (-58.38069 -34.62755)  constitucion            14.616667"
      ]
     },
     "execution_count": 19,
     "metadata": {},
     "output_type": "execute_result"
    }
   ],
   "source": [
    "#vemos el resultado\n",
    "geodt_destino"
   ]
  },
  {
   "cell_type": "code",
   "execution_count": 20,
   "metadata": {},
   "outputs": [],
   "source": [
    "#volvemos a realizar la misma tarea, solamente que hacemos un loop doble,\n",
    "#para cada destino\n",
    "#y dentro de cada destino, para cada origen\n",
    "for destino in geodt.index:\n",
    "    tiempos = []\n",
    "    for origen in geodt.index:\n",
    "        if origen == destino:\n",
    "            tiempo = 0\n",
    "        else:\n",
    "            tiempo = consultar_od(orig_x = geodt.loc[origen,'geometry'].x,\n",
    "                         orig_y = geodt.loc[origen,'geometry'].y,\n",
    "                         dest_x = geodt.loc[destino,'geometry'].x,\n",
    "                         dest_y = geodt.loc[destino,'geometry'].y)\n",
    "        tiempos.append(tiempo)\n",
    "    geodt['tiempos_al_' + destino] = tiempos"
   ]
  },
  {
   "cell_type": "code",
   "execution_count": 21,
   "metadata": {},
   "outputs": [
    {
     "data": {
      "text/html": [
       "<div>\n",
       "<style scoped>\n",
       "    .dataframe tbody tr th:only-of-type {\n",
       "        vertical-align: middle;\n",
       "    }\n",
       "\n",
       "    .dataframe tbody tr th {\n",
       "        vertical-align: top;\n",
       "    }\n",
       "\n",
       "    .dataframe thead th {\n",
       "        text-align: right;\n",
       "    }\n",
       "</style>\n",
       "<table border=\"1\" class=\"dataframe\">\n",
       "  <thead>\n",
       "    <tr style=\"text-align: right;\">\n",
       "      <th></th>\n",
       "      <th>geometry</th>\n",
       "      <th>nombre</th>\n",
       "      <th>tiempos_al_obelisco</th>\n",
       "      <th>tiempos_al_retiro</th>\n",
       "      <th>tiempos_al_once</th>\n",
       "      <th>tiempos_al_constitucion</th>\n",
       "    </tr>\n",
       "    <tr>\n",
       "      <th>nombre</th>\n",
       "      <th></th>\n",
       "      <th></th>\n",
       "      <th></th>\n",
       "      <th></th>\n",
       "      <th></th>\n",
       "      <th></th>\n",
       "    </tr>\n",
       "  </thead>\n",
       "  <tbody>\n",
       "    <tr>\n",
       "      <td>obelisco</td>\n",
       "      <td>POINT (-58.38161 -34.60377)</td>\n",
       "      <td>obelisco</td>\n",
       "      <td>0.000000</td>\n",
       "      <td>10.133333</td>\n",
       "      <td>13.366667</td>\n",
       "      <td>14.033333</td>\n",
       "    </tr>\n",
       "    <tr>\n",
       "      <td>retiro</td>\n",
       "      <td>POINT (-58.37426 -34.59137)</td>\n",
       "      <td>retiro</td>\n",
       "      <td>11.316667</td>\n",
       "      <td>0.000000</td>\n",
       "      <td>38.733333</td>\n",
       "      <td>17.166667</td>\n",
       "    </tr>\n",
       "    <tr>\n",
       "      <td>once</td>\n",
       "      <td>POINT (-58.40617 -34.60831)</td>\n",
       "      <td>once</td>\n",
       "      <td>12.700000</td>\n",
       "      <td>18.366667</td>\n",
       "      <td>0.000000</td>\n",
       "      <td>32.616667</td>\n",
       "    </tr>\n",
       "    <tr>\n",
       "      <td>constitucion</td>\n",
       "      <td>POINT (-58.38069 -34.62755)</td>\n",
       "      <td>constitucion</td>\n",
       "      <td>14.616667</td>\n",
       "      <td>17.166667</td>\n",
       "      <td>38.066667</td>\n",
       "      <td>0.000000</td>\n",
       "    </tr>\n",
       "  </tbody>\n",
       "</table>\n",
       "</div>"
      ],
      "text/plain": [
       "                                 geometry        nombre  tiempos_al_obelisco  \\\n",
       "nombre                                                                         \n",
       "obelisco      POINT (-58.38161 -34.60377)      obelisco             0.000000   \n",
       "retiro        POINT (-58.37426 -34.59137)        retiro            11.316667   \n",
       "once          POINT (-58.40617 -34.60831)          once            12.700000   \n",
       "constitucion  POINT (-58.38069 -34.62755)  constitucion            14.616667   \n",
       "\n",
       "              tiempos_al_retiro  tiempos_al_once  tiempos_al_constitucion  \n",
       "nombre                                                                     \n",
       "obelisco              10.133333        13.366667                14.033333  \n",
       "retiro                 0.000000        38.733333                17.166667  \n",
       "once                  18.366667         0.000000                32.616667  \n",
       "constitucion          17.166667        38.066667                 0.000000  "
      ]
     },
     "execution_count": 21,
     "metadata": {},
     "output_type": "execute_result"
    }
   ],
   "source": [
    "#observamos el resultado\n",
    "geodt"
   ]
  },
  {
   "cell_type": "code",
   "execution_count": null,
   "metadata": {},
   "outputs": [],
   "source": []
  },
  {
   "cell_type": "code",
   "execution_count": null,
   "metadata": {},
   "outputs": [],
   "source": []
  },
  {
   "cell_type": "code",
   "execution_count": null,
   "metadata": {},
   "outputs": [],
   "source": []
  }
 ],
 "metadata": {
  "kernelspec": {
   "display_name": "Python 3",
   "language": "python",
   "name": "python3"
  },
  "language_info": {
   "codemirror_mode": {
    "name": "ipython",
    "version": 3
   },
   "file_extension": ".py",
   "mimetype": "text/x-python",
   "name": "python",
   "nbconvert_exporter": "python",
   "pygments_lexer": "ipython3",
   "version": "3.7.4"
  }
 },
 "nbformat": 4,
 "nbformat_minor": 2
}
