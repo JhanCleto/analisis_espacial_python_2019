{
 "cells": [
  {
   "cell_type": "code",
   "execution_count": null,
   "metadata": {},
   "outputs": [],
   "source": [
    "import geopandas as gpd\n",
    "import pandas as pd\n",
    "from shapely.geometry import Point, LineString\n",
    "import numpy as np\n",
    "\n",
    "import matplotlib.pyplot as plt\n",
    "%matplotlib inline"
   ]
  },
  {
   "cell_type": "code",
   "execution_count": null,
   "metadata": {},
   "outputs": [],
   "source": [
    "#dos librerias nuevas que usamos en APIs\n",
    "import urllib\n",
    "import json\n",
    "\n"
   ]
  },
  {
   "cell_type": "markdown",
   "metadata": {},
   "source": [
    "# GCBA api"
   ]
  },
  {
   "cell_type": "code",
   "execution_count": null,
   "metadata": {},
   "outputs": [],
   "source": [
    "#una forma elemental de consultar una api es usando el navegador\n",
    "'https://apitransporte.buenosaires.gob.ar/ecobici/gbfs/stationInformation?client_id=02f9fb1291ef41f6bfa93b0d99779291&client_secret=F7e10670D41343E1bf0D3DFFc7aa1e7D'"
   ]
  },
  {
   "cell_type": "code",
   "execution_count": null,
   "metadata": {},
   "outputs": [],
   "source": [
    "url = 'https://apitransporte.buenosaires.gob.ar/ecobici/gbfs/stationInformation?client_id=02f9fb1291ef41f6bfa93b0d99779291&client_secret=F7e10670D41343E1bf0D3DFFc7aa1e7D'"
   ]
  },
  {
   "cell_type": "code",
   "execution_count": null,
   "metadata": {},
   "outputs": [],
   "source": [
    "#esto se descompone en varios elementos\n",
    "url_base = 'https://apitransporte.buenosaires.gob.ar/ecobici/gbfs/stationInformation?'\n",
    "client_id = 'client_id=02f9fb1291ef41f6bfa93b0d99779291'\n",
    "client_secret = 'client_secret=F7e10670D41343E1bf0D3DFFc7aa1e7D'"
   ]
  },
  {
   "cell_type": "code",
   "execution_count": null,
   "metadata": {},
   "outputs": [],
   "source": [
    "#cada API puede ser diferente y debemos chequear su documentación, pero los diferentes parametros\n",
    "#se separan en general con &\n",
    "url_computesta = url_base + client_id + '&' + client_secret\n",
    "url_computesta"
   ]
  },
  {
   "cell_type": "code",
   "execution_count": null,
   "metadata": {},
   "outputs": [],
   "source": [
    "url_computesta == url"
   ]
  },
  {
   "cell_type": "markdown",
   "metadata": {},
   "source": [
    "En este caso los unicos dos parametros son `client_id` y `client_secret`. Normalmente las APIs piden algun tipo de _token_ o clave secreta **que debemos evitar compartir (como estoy haciendo yo aca)**. En los casos siguientes vamos a ver otros ejemplos con consultas mas complejas"
   ]
  },
  {
   "cell_type": "code",
   "execution_count": null,
   "metadata": {},
   "outputs": [],
   "source": [
    "response = urllib.request.urlopen(url)\n"
   ]
  },
  {
   "cell_type": "code",
   "execution_count": null,
   "metadata": {},
   "outputs": [],
   "source": [
    "#la libreria json nos permite leer esta informacion como un diccionario de Python\n",
    "datos = json.loads(response.read())\n"
   ]
  },
  {
   "cell_type": "code",
   "execution_count": null,
   "metadata": {},
   "outputs": [],
   "source": [
    "#inspeccionemos nuestros datos\n",
    "datos"
   ]
  },
  {
   "cell_type": "code",
   "execution_count": null,
   "metadata": {},
   "outputs": [],
   "source": [
    "#dado el formato en el que se \n",
    "estaciones = pd.DataFrame(datos['data']['stations'])\n",
    "estaciones = estaciones.reindex(columns=['station_id', 'name', 'capacity', 'lat', 'lon'])\n"
   ]
  },
  {
   "cell_type": "code",
   "execution_count": null,
   "metadata": {},
   "outputs": [],
   "source": [
    "url_consulta = 'https://apitransporte.buenosaires.gob.ar/ecobici/gbfs/stationStatus?client_id=' + \\\n",
    "        os.environ['ECOBICIID'] + '&client_secret=' + \\\n",
    "        os.environ['ECOBICISECRET']\n",
    "\n",
    "#extraemos el momento en que consultamos los datos, especificando que nuestro timezone es el de Argentina\n",
    "from datetime import datetime\n",
    "import pytz\n",
    "\n",
    "argentina_tz = pytz.timezone('America/Argentina/Buenos_Aires')\n",
    "tiempo_consulta = datetime.now(tz=argentina_tz)\n",
    "\n",
    "#conusltamos el status de las estaciones\n",
    "response = urllib.urlopen(url_consulta)\n",
    "status = json.loads(response.read())\n",
    "status = pd.DataFrame(status['data']['stations'])\n",
    "\n",
    "#mergeamos ambos datasets para tener para cada status, la informacion de la estacion\n",
    "status = status.merge(estaciones, how='inner', on='station_id')\n",
    "status['timestamp_consulta'] = tiempo_consulta\n",
    "status.to_csv('data/' + str(tiempo_consulta)[:16] + '.csv', index=False)\n"
   ]
  },
  {
   "cell_type": "markdown",
   "metadata": {},
   "source": [
    "Aca pueden ver una funcion que hace esto y se se deja corriendo consulta y guarda cada media hora"
   ]
  },
  {
   "cell_type": "code",
   "execution_count": null,
   "metadata": {},
   "outputs": [],
   "source": [
    "#https://github.com/alephcero/ecobici_un_dia\n",
    "import os\n",
    "import urllib.request as urllib\n",
    "import json\n",
    "import pandas as pd\n",
    "from datetime import datetime\n",
    "from time import sleep\n",
    "import pytz\n",
    "\n",
    "\n",
    "argentina_tz = pytz.timezone('America/Argentina/Buenos_Aires')\n",
    "\n",
    "\n",
    "def consultar_y_persistir():\n",
    "    url_datos = 'https://apitransporte.buenosaires.gob.ar/ecobici/gbfs/stationInformation?client_id=' + \\\n",
    "        os.environ['ECOBICIID'] + '&client_secret=' + \\\n",
    "        os.environ['ECOBICISECRET']\n",
    "    response = urllib.urlopen(url_datos)\n",
    "    datos = json.loads(response.read())\n",
    "    estaciones = pd.DataFrame(datos['data']['stations'])\n",
    "    estaciones = estaciones.reindex(\n",
    "        columns=['station_id', 'name', 'capacity', 'lat', 'lon'])\n",
    "\n",
    "    url_consulta = 'https://apitransporte.buenosaires.gob.ar/ecobici/gbfs/stationStatus?client_id=' + \\\n",
    "        os.environ['ECOBICIID'] + '&client_secret=' + \\\n",
    "        os.environ['ECOBICISECRET']\n",
    "    argentina_tz = pytz.timezone('America/Argentina/Buenos_Aires')\n",
    "    tiempo_consulta = datetime.now(tz=argentina_tz)\n",
    "    response = urllib.urlopen(url_consulta)\n",
    "    status = json.loads(response.read())\n",
    "    dt = pd.DataFrame(status['data']['stations'])\n",
    "    dt = dt.merge(estaciones, how='inner', on='station_id')\n",
    "    dt['timestamp_consulta'] = tiempo_consulta\n",
    "    dt.to_csv('data/' + str(tiempo_consulta)[:16] + '.csv', index=False)\n",
    "\n",
    "\n",
    "no_es_medianoche = True\n",
    "while no_es_medianoche:\n",
    "    if (datetime.now(tz=argentina_tz).hour == 0) and (datetime.now(tz=argentina_tz).minute == 0):\n",
    "        no_es_medianoche = False\n",
    "    print(\"waiting\", datetime.now(tz=argentina_tz))\n",
    "    sleep(60 * 1)\n",
    "\n",
    "for i in range(48):\n",
    "    sleep(60 * 30)\n",
    "    print(i)\n",
    "    consultar_y_persistir()"
   ]
  },
  {
   "cell_type": "code",
   "execution_count": null,
   "metadata": {},
   "outputs": [],
   "source": [
    "def inverseGeocode(x,y):\n",
    "    url = 'http://ws.usig.buenosaires.gob.ar/geocoder/2.2/reversegeocoding?x={0}&y={1}'.format(x,y)\n",
    "    response = urllib.request.urlopen(url)\n",
    "    data = json.loads(response.read()[1:-1])\n",
    "    return (data['puerta_x'],data['puerta_y'])\n",
    "    #return data['esquina']\n",
    "\n"
   ]
  },
  {
   "cell_type": "code",
   "execution_count": null,
   "metadata": {},
   "outputs": [],
   "source": [
    "#formato google maps latlong, yx\n",
    "obelisco = (-34.60377,-58.38161)\n",
    "retiro = (-34.591372, -58.374261)\n",
    "once = (-34.608315, -58.406169)\n",
    "constitucion = (-34.627554, -58.380690)"
   ]
  },
  {
   "cell_type": "code",
   "execution_count": null,
   "metadata": {},
   "outputs": [],
   "source": [
    "geodt  = gpd.read_file('../carto/geodt/geodt.shp')\n",
    "geodt = geodt.to_crs(epsg=4326)\n",
    "geodt.index=geodt.nombre\n",
    "\n",
    "geodt"
   ]
  },
  {
   "cell_type": "code",
   "execution_count": null,
   "metadata": {},
   "outputs": [],
   "source": [
    "#esta funcion toma cordenadas en wgs84 y devuelve en coordenadas que necesita la API de GCBA\n",
    "inverseGeocode(x = once[1], y = once[0])"
   ]
  },
  {
   "cell_type": "code",
   "execution_count": null,
   "metadata": {},
   "outputs": [],
   "source": [
    "#obtenemos los origines y los destinos\n",
    "d_x,d_y = inverseGeocode(x = geodt.loc['obelisco'].geometry.x, y = geodt.loc['obelisco'].geometry.y)\n",
    "d_x"
   ]
  },
  {
   "cell_type": "code",
   "execution_count": null,
   "metadata": {},
   "outputs": [],
   "source": [
    "#origenes\n",
    "o_x,o_y = inverseGeocode(x = retiro[1], y = retiro[0])\n",
    "o_x"
   ]
  },
  {
   "cell_type": "markdown",
   "metadata": {},
   "source": [
    "# Google"
   ]
  },
  {
   "cell_type": "code",
   "execution_count": null,
   "metadata": {},
   "outputs": [],
   "source": [
    "#Primero creamos un dataset para testear\n",
    "#formato google maps latlong, yx\n",
    "obelisco = (-34.60377,-58.38161)\n",
    "retiro = (-34.591372, -58.374261)\n",
    "once = (-34.608315, -58.406169)\n",
    "constitucion = (-34.627554, -58.380690)\n",
    "\n",
    "def construir_dict(nombre,tupla_latlong):\n",
    "    return {\n",
    "        'nombre':nombre,\n",
    "        'coordenadas':{\n",
    "            'long':tupla_latlong[1],\n",
    "            'lat':tupla_latlong[0],\n",
    "            'x':tupla_latlong[1],\n",
    "            'y':tupla_latlong[0]\n",
    "        }\n",
    "}\n",
    "    \n",
    "puntos = [construir_dict('obelisco',(-34.60377,-58.38161)),\n",
    "         construir_dict('retiro',(-34.591372, -58.374261)),\n",
    "         construir_dict('once',(-34.608315, -58.406169)),\n",
    "         construir_dict('constitucion',(-34.627554, -58.380690))]\n",
    "crs = \"+proj=longlat +ellps=WGS84 +datum=WGS84 +no_defs\"\n",
    "geoserie = gpd.GeoSeries([Point(punto['coordenadas']['x'],punto['coordenadas']['y']) for punto in puntos],crs=crs) \n",
    "geodt = gpd.GeoDataFrame({'geometry': geoserie, 'nombre':[punto['nombre'] for punto in puntos]})\n",
    "geodt.index=geodt.nombre\n",
    "geodt"
   ]
  },
  {
   "cell_type": "code",
   "execution_count": null,
   "metadata": {},
   "outputs": [],
   "source": [
    "# veamos la documentacion para obtener un token \n",
    "# https://developers.google.com/maps/documentation/distance-matrix/get-api-key\n",
    "# a esta documentacion le falta el paso de habilitar ENABLE\n",
    "api = ''"
   ]
  },
  {
   "cell_type": "markdown",
   "metadata": {},
   "source": [
    "Nuestra itencion es obtener tiempos de viaje por eso usaremos Distance Matrix API.\n"
   ]
  },
  {
   "cell_type": "code",
   "execution_count": null,
   "metadata": {},
   "outputs": [],
   "source": [
    "# leamos la documentacion"
   ]
  },
  {
   "cell_type": "code",
   "execution_count": null,
   "metadata": {},
   "outputs": [],
   "source": [
    "#https://developers.google.com/maps/documentation/distance-matrix/intro#DistanceMatrixRequests"
   ]
  },
  {
   "cell_type": "code",
   "execution_count": null,
   "metadata": {},
   "outputs": [],
   "source": [
    "origen_lat = geodt.loc['obelisco','geometry'].y\n",
    "origen_long = geodt.loc['obelisco','geometry'].x\n",
    "destino_lat = geodt.loc['retiro','geometry'].y\n",
    "destino_long = geodt.loc['retiro','geometry'].x"
   ]
  },
  {
   "cell_type": "code",
   "execution_count": null,
   "metadata": {},
   "outputs": [],
   "source": [
    "url_base = 'https://maps.googleapis.com/maps/api/distancematrix/json?'\n",
    "units = 'units=metric' \n",
    "origins = 'origins=' + str(origen_lat) + ',' + str(origen_long)\n",
    "destinations = 'destinations=%f,%f' % (destino_lat,destino_long)\n",
    "key = 'key={0}'.format(api)\n",
    "\n",
    "url = url_base + '&' + units + '&' + origins + '&' + destinations + '&' + key\n",
    "url"
   ]
  },
  {
   "cell_type": "code",
   "execution_count": null,
   "metadata": {},
   "outputs": [],
   "source": [
    "response = urllib.request.urlopen(url)\n"
   ]
  },
  {
   "cell_type": "code",
   "execution_count": null,
   "metadata": {},
   "outputs": [],
   "source": [
    "diccio = json.loads(response.read())\n",
    "diccio"
   ]
  },
  {
   "cell_type": "code",
   "execution_count": null,
   "metadata": {},
   "outputs": [],
   "source": [
    "mode = 'mode=bicycling'\n",
    "\n",
    "url = url_base + '&' + units + '&' + origins + '&' + destinations + '&'+ mode + '&' + key\n",
    "url"
   ]
  },
  {
   "cell_type": "code",
   "execution_count": null,
   "metadata": {},
   "outputs": [],
   "source": [
    "response = urllib.request.urlopen(url)\n",
    "diccio_bici = json.loads(response.read())\n",
    "diccio_bici"
   ]
  },
  {
   "cell_type": "code",
   "execution_count": null,
   "metadata": {},
   "outputs": [],
   "source": [
    "#afortunadamente la gente de google creo una libreria que hace todo esto por nosotros\n",
    "#https://github.com/googlemaps/google-maps-services-python\n",
    "import googlemaps"
   ]
  },
  {
   "cell_type": "code",
   "execution_count": null,
   "metadata": {},
   "outputs": [],
   "source": [
    "#documentacion\n",
    "#https://github.com/googlemaps/google-maps-services-python\n",
    "gmaps = googlemaps.Client(key=api)"
   ]
  },
  {
   "cell_type": "code",
   "execution_count": null,
   "metadata": {},
   "outputs": [],
   "source": [
    "travel = gmaps.distance_matrix(\n",
    "    origins = once,\n",
    "    destinations = obelisco,\n",
    "    mode='transit', traffic_model='best_guess',\n",
    "    transit_routing_preference = 'fewer_transfers')"
   ]
  },
  {
   "cell_type": "code",
   "execution_count": null,
   "metadata": {},
   "outputs": [],
   "source": [
    "travel"
   ]
  },
  {
   "cell_type": "code",
   "execution_count": null,
   "metadata": {},
   "outputs": [],
   "source": [
    "data = pd.DataFrame(travel)\n",
    "data"
   ]
  },
  {
   "cell_type": "code",
   "execution_count": null,
   "metadata": {},
   "outputs": [],
   "source": []
  }
 ],
 "metadata": {
  "kernelspec": {
   "display_name": "Python 3",
   "language": "python",
   "name": "python3"
  },
  "language_info": {
   "codemirror_mode": {
    "name": "ipython",
    "version": 3
   },
   "file_extension": ".py",
   "mimetype": "text/x-python",
   "name": "python",
   "nbconvert_exporter": "python",
   "pygments_lexer": "ipython3",
   "version": "3.7.4"
  }
 },
 "nbformat": 4,
 "nbformat_minor": 2
}
